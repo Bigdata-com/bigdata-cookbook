{
 "cells": [
  {
   "cell_type": "markdown",
   "metadata": {},
   "source": [
    " # Trending Topics: Daily Digest for Central Banks Announcements\n",
    "\n",
    "\n",
    "\n",
    " ## Automated Analysis of Central Bank Communications and Market Impact"
   ]
  },
  {
   "cell_type": "markdown",
   "metadata": {},
   "source": [
    "\n",
    "\n",
    " ## Why It Matters\n",
    "\n",
    "\n",
    "\n",
    " Central bank announcements are among the most market-moving events in global finance, capable of triggering significant volatility across currency, bond, and equity markets within minutes. A single Fed chair comment or ECB policy shift can move trillions in asset values, making timely identification of emerging monetary policy narratives critical for success. However, manually tracking the flood of central bank communications, policy speeches, and market reactions across multiple time zones is both resource-intensive and prone to delays that can cost traders and analysts critical market positioning opportunities.\n",
    "\n",
    "\n",
    "\n",
    " ## What It Does\n",
    "\n",
    "\n",
    "\n",
    " Using the functions available in the `bigdata-research-tools` package, this workflow creates a comprehensive central bank communications monitoring system that automatically identifies, verifies, and ranks trending topics from monetary policy announcements. Built for traders, analysts, portfolio managers, and policy researchers, it transforms scattered central bank news into structured daily intelligence reports with quantified market impact scores, enabling rapid response to policy shifts and enhanced decision-making in volatile market conditions.\n",
    "\n",
    "\n",
    "\n",
    " ## How It Works\n",
    "\n",
    "\n",
    "\n",
    " This workflow combines:\n",
    "\n",
    "\n",
    "\n",
    " - **Specialized Lexicon Generation** creating monetary policy and central bank-specific terminology to maximize recall in news retrieval and capture nuanced policy language\n",
    "\n",
    "\n",
    "\n",
    " - **Multi-threaded Content Retrieval** via the Bigdata API, splitting searches into daily windows and parallelizing keyword lookups for comprehensive speed and coverage\n",
    "\n",
    "\n",
    "\n",
    " - **AI-powered Topic Clustering & Verification** to filter noise, group related news into coherent themes, and summarize key narratives with scoring for trendiness, novelty, impact direction, and magnitude\n",
    "\n",
    "\n",
    "to deliver **customizable daily market digests** with **configurable ranking** systems, allowing users to prioritize by volume, novelty, or market impact, supported by granular news sources for verification\n",
    "\n",
    "\n",
    "\n",
    " ## A Real-World Use Case\n",
    "\n",
    "\n",
    " This cookbook demonstrates the complete workflow through analyzing central bank communications during the week of the ECB Forum in Sintra (June 30 - July 6, 2025), a period when high-profile speeches from global central bankers including Christine Lagarde, Jerome Powell, and other key policymakers coincided with Donald Trump's remarks on Federal Reserve monetary policy. You'll learn how to transform unstructured policy-related news into structured, ranked insights that reveal market-moving announcements before they fully impact asset prices."
   ]
  },
  {
   "cell_type": "markdown",
   "metadata": {},
   "source": [
    " ## Setup and Imports"
   ]
  },
  {
   "cell_type": "markdown",
   "metadata": {},
   "source": [
    " ## Async Compatibility Setup\n",
    "\n",
    "\n",
    "\n",
    " **Run this cell first** - Required for Google Colab, Jupyter Notebooks, and VS Code with Jupyter extension:\n",
    "\n",
    "\n",
    "\n",
    " ### Why is this needed?\n",
    "\n",
    "\n",
    "\n",
    " Interactive environments (Colab, Jupyter) already have an asyncio event loop running. When bigdata-research-tools makes async API calls (like to OpenAI), you'll get this error without nest_asyncio:\n",
    "\n",
    "\n",
    "\n",
    " ```\n",
    "\n",
    " RuntimeError: asyncio.run() cannot be called from a running event loop\n",
    "\n",
    " ```\n",
    "\n",
    "\n",
    "\n",
    " The `nest_asyncio.apply()` command patches this to allow nested event loops.\n",
    "\n",
    "\n",
    "\n",
    " 💡 **Tip**: If you're unsure which environment you're in, just run the cell below - it won't hurt in any environment!"
   ]
  },
  {
   "cell_type": "code",
   "execution_count": 1,
   "metadata": {},
   "outputs": [
    {
     "name": "stdout",
     "output_type": "stream",
     "text": [
      "✅ nest_asyncio applied\n"
     ]
    }
   ],
   "source": [
    "import datetime\n",
    "start = datetime.datetime.now()\n",
    "\n",
    "try:\n",
    "    import asyncio\n",
    "    asyncio.get_running_loop()\n",
    "    import nest_asyncio; nest_asyncio.apply()\n",
    "    print(\"✅ nest_asyncio applied\")\n",
    "except (RuntimeError, ImportError):\n",
    "    print(\"✅ nest_asyncio not needed or not available\")\n"
   ]
  },
  {
   "cell_type": "markdown",
   "metadata": {},
   "source": [
    " ## Environment Setup\n",
    "\n",
    "\n",
    "\n",
    " The following cell configures the necessary path for the analysis"
   ]
  },
  {
   "cell_type": "code",
   "execution_count": 2,
   "metadata": {},
   "outputs": [
    {
     "name": "stdout",
     "output_type": "stream",
     "text": [
      "✅ Local environment setup complete\n"
     ]
    }
   ],
   "source": [
    "import os\n",
    "import sys\n",
    "\n",
    "\n",
    "current_dir = os.getcwd()\n",
    "if current_dir not in sys.path:\n",
    "    sys.path.append(current_dir)\n",
    "print(f\"✅ Local environment setup complete\")\n"
   ]
  },
  {
   "cell_type": "markdown",
   "metadata": {},
   "source": [
    " ## Import Required Libraries\n",
    "\n",
    "\n",
    "\n",
    " Import the core libraries needed for trending topics analysis, including the lexicon generation classes and data processing tools."
   ]
  },
  {
   "cell_type": "code",
   "execution_count": 3,
   "metadata": {},
   "outputs": [],
   "source": [
    "from bigdata_client import Bigdata\n",
    "from bigdata_client.models.search import DocumentType\n",
    "from src.lexicon_generator import LexiconGenerator\n",
    "from src.search_topics import search_by_keywords\n",
    "from src.topics_extractor import (process_all_reports,\n",
    "                                run_process_all_trending_topics,\n",
    "                                run_add_advanced_novelty_scores,\n",
    "                                add_market_impact_to_df,\n",
    "                                prepare_data_for_report,\n",
    "                                generate_html_report)\n",
    "from IPython.display import display\n",
    "from IPython.core.display import HTML\n"
   ]
  },
  {
   "cell_type": "markdown",
   "metadata": {},
   "source": [
    " ## Define Output Paths\n",
    "\n",
    "\n",
    "\n",
    " Define the output paths for trending topics analysis results."
   ]
  },
  {
   "cell_type": "code",
   "execution_count": 4,
   "metadata": {},
   "outputs": [],
   "source": [
    "# Define output file paths for our report\n",
    "output_dir = \"output\"\n",
    "os.makedirs(output_dir, exist_ok=True)\n",
    "\n",
    "export_path = f\"{output_dir}/trending_topics_central_banks_results.xlsx\"\n"
   ]
  },
  {
   "cell_type": "markdown",
   "metadata": {},
   "source": [
    " ## Load Credentials"
   ]
  },
  {
   "cell_type": "code",
   "execution_count": 5,
   "metadata": {},
   "outputs": [
    {
     "name": "stdout",
     "output_type": "stream",
     "text": [
      "✅ Credentials loaded from .env file\n"
     ]
    }
   ],
   "source": [
    "from dotenv import load_dotenv\n",
    "from pathlib import Path\n",
    "\n",
    "script_dir = Path(__file__).parent if '__file__' in globals() else Path.cwd()\n",
    "#load_dotenv(script_dir / '.env')\n",
    "load_dotenv(os.path.abspath(\"/home/abouchs/.python_env_var/.env\"))\n",
    "\n",
    "BIGDATA_USERNAME = os.getenv('BIGDATA_USERNAME')\n",
    "BIGDATA_PASSWORD = os.getenv('BIGDATA_PASSWORD')\n",
    "OPENAI_API_KEY = os.getenv('OPENAI_API_KEY')\n",
    "\n",
    "if not all([BIGDATA_USERNAME, BIGDATA_PASSWORD, OPENAI_API_KEY]):\n",
    "    print(\"❌ Missing required environment variables\")\n",
    "    raise ValueError(\"Missing required environment variables. Check your .env file.\")\n",
    "else:\n",
    "    print(\"✅ Credentials loaded from .env file\")\n"
   ]
  },
  {
   "cell_type": "markdown",
   "metadata": {},
   "source": [
    " ## Connecting to Bigdata\n",
    "\n",
    "\n",
    "\n",
    " Create a Bigdata object with your credentials."
   ]
  },
  {
   "cell_type": "code",
   "execution_count": 6,
   "metadata": {},
   "outputs": [],
   "source": [
    "bigdata = Bigdata(BIGDATA_USERNAME, BIGDATA_PASSWORD)\n"
   ]
  },
  {
   "cell_type": "markdown",
   "metadata": {},
   "source": [
    " ## Defining Your Trending Topics Analysis Parameters\n",
    "\n",
    "\n",
    "\n",
    "\n",
    "\n",
    " ### Core Parameters\n",
    "\n",
    " -  **Main Theme** (`main_theme`): The central concept to explore for trending topics analysis (e.g., Central Bank Announcements, Monetary Policy, Interest Rate Decisions)\n",
    "\n",
    " -  **Time Period** (`start_date` and `end_date`): The date range over which to run the analysis. For optimal results, use windows of 1-2 weeks for trending topics analysis\n",
    "\n",
    " -  **Document Type** (`document_type`): Specify which documents to search over (transcripts, filings, news). News is recommended for trending topics due to timely coverage\n",
    "\n",
    " -  **Model Selection** (`llm_model`): The LLM model used for semantic analysis, topic clustering, and impact scoring\n",
    "\n",
    "\n",
    " ### Customizable Parameters\n",
    "\n",
    " -  **Frequency** (`freq`): The frequency of the date ranges to search over. Should match your reporting frequency.\n",
    "\n",
    "    Supported values:\n",
    "\n",
    "\n",
    "\n",
    "    -  `Y`: Yearly intervals.\n",
    "\n",
    "    -  `M`: Monthly intervals.\n",
    "\n",
    "    -  `W`: Weekly intervals.\n",
    "\n",
    "    -  `D`: Daily intervals. Defaults to `D` for trending topics.\n",
    "\n",
    "\n",
    "\n",
    " -  **Document Limit** (`document_limit`): The maximum number of documents to return per query to Bigdata API. Higher limits provide more comprehensive coverage but increase processing time\n",
    "\n",
    "\n",
    "\n",
    " -  **Semaphore Size** (`semaphore_size`): Controls the maximum number of concurrent requests to OpenAI API for processing efficiency\n",
    "\n",
    "\n",
    "\n",
    " -  **Batches** (`batches`): Number of batches to process the reports in parallel (adjust based on your system's capabilities and rate limits)"
   ]
  },
  {
   "cell_type": "code",
   "execution_count": 7,
   "metadata": {},
   "outputs": [],
   "source": [
    "# ===== Context Definition =====\n",
    "main_theme = \"Central Bank Announcements\"\n",
    "\n",
    "# ===== Specify Time Range =====\n",
    "start_query = '2025-06-30'\n",
    "end_query = '2025-07-06'\n",
    "\n",
    "# ===== Query Configuration =====\n",
    "document_type = DocumentType.NEWS\n",
    "\n",
    "# ===== LLM Specification =====\n",
    "llm_model = \"gpt-4o-mini\"\n"
   ]
  },
  {
   "cell_type": "markdown",
   "metadata": {},
   "source": [
    " ## Instantiate the Lexicon Generator"
   ]
  },
  {
   "cell_type": "code",
   "execution_count": 8,
   "metadata": {},
   "outputs": [],
   "source": [
    "LexiconGenerator = LexiconGenerator(openai_key=OPENAI_API_KEY, model=\"gpt-4o\", seeds=[123, 123456, 123456789, 456789, 789])"
   ]
  },
  {
   "cell_type": "code",
   "execution_count": 9,
   "metadata": {},
   "outputs": [],
   "source": [
    "keywords = LexiconGenerator.generate(theme=main_theme)"
   ]
  },
  {
   "cell_type": "markdown",
   "metadata": {},
   "source": [
    " ## Retrieve Content using Bigdata's Search Capabilities\n",
    "\n",
    "\n",
    "\n",
    " With the generated keywords, you can leverage the multithreaded Search functionalities in `bigdata-research-tools` to run search at scale against news documents."
   ]
  },
  {
   "cell_type": "code",
   "execution_count": 10,
   "metadata": {},
   "outputs": [],
   "source": [
    "# ===== Query Configuration =====\n",
    "document_limit = 10 # Maximum number of documents to retrieve per query\n",
    "frequency = 'D'  # Query frequency"
   ]
  },
  {
   "cell_type": "code",
   "execution_count": 11,
   "metadata": {},
   "outputs": [
    {
     "name": "stdout",
     "output_type": "stream",
     "text": [
      "About to run 364 queries\n",
      "Example Query: Keyword('Monetary Policy') over date range: AbsoluteDateRange('2025-06-30T00:00:00', '2025-06-30T23:59:59')\n"
     ]
    },
    {
     "name": "stderr",
     "output_type": "stream",
     "text": [
      "Querying Bigdata...: 100%|██████████| 364/364 [01:16<00:00,  4.78it/s]\n"
     ]
    }
   ],
   "source": [
    "results, daily_keyword_count = search_by_keywords(\n",
    "    keywords=keywords,\n",
    "    start_date=start_query,\n",
    "    end_date=end_query,\n",
    "    freq=frequency,\n",
    "    scope=document_type,\n",
    "    document_limit=document_limit)\n"
   ]
  },
  {
   "cell_type": "markdown",
   "metadata": {},
   "source": [
    " ## Topic Clustering and Summarization\n",
    "\n",
    "\n",
    "\n",
    " Apply a verification layer to remove the news that are not relevant to our `main_theme`."
   ]
  },
  {
   "cell_type": "code",
   "execution_count": 12,
   "metadata": {},
   "outputs": [
    {
     "data": {
      "application/vnd.jupyter.widget-view+json": {
       "model_id": "c26601af73ad49fab3aad316e83dcf98",
       "version_major": 2,
       "version_minor": 0
      },
      "text/plain": [
       "Filtering News:   0%|          | 0/4947 [00:00<?, ?it/s]"
      ]
     },
     "metadata": {},
     "output_type": "display_data"
    }
   ],
   "source": [
    "semaphore_size = 1000 # Maximum number of concurrent requests to Openai API\n",
    " \n",
    "# Filter reports to remove news not related to Central Bank announcements\n",
    "filtered_reports = process_all_reports(results, llm_model, OPENAI_API_KEY, main_theme, semaphore_size)\n"
   ]
  },
  {
   "cell_type": "markdown",
   "metadata": {},
   "source": [
    "Perform topic clustering using a large language model to label and cluster the news. Then, summarize each topic and generate a daily summary, identifying the top trending news for Central Banks Announcements."
   ]
  },
  {
   "cell_type": "code",
   "execution_count": 13,
   "metadata": {},
   "outputs": [
    {
     "data": {
      "application/vnd.jupyter.widget-view+json": {
       "model_id": "66c94671c2b64a4f910f6bce27ad9f1b",
       "version_major": 2,
       "version_minor": 0
      },
      "text/plain": [
       "Extracting Topics for 2025-06-30:   0%|          | 0/20 [00:00<?, ?it/s]"
      ]
     },
     "metadata": {},
     "output_type": "display_data"
    },
    {
     "data": {
      "application/vnd.jupyter.widget-view+json": {
       "model_id": "b8b03d27a7c7468d8528d51977b11042",
       "version_major": 2,
       "version_minor": 0
      },
      "text/plain": [
       "Extracting Topics for 2025-07-01:   0%|          | 0/20 [00:00<?, ?it/s]"
      ]
     },
     "metadata": {},
     "output_type": "display_data"
    },
    {
     "data": {
      "application/vnd.jupyter.widget-view+json": {
       "model_id": "4f8150fa2d76451c9d7dee7fb4fe8a74",
       "version_major": 2,
       "version_minor": 0
      },
      "text/plain": [
       "Extracting Topics for 2025-07-02:   0%|          | 0/20 [00:00<?, ?it/s]"
      ]
     },
     "metadata": {},
     "output_type": "display_data"
    },
    {
     "data": {
      "application/vnd.jupyter.widget-view+json": {
       "model_id": "981b53a9e6e049a4bc14c181c99423e2",
       "version_major": 2,
       "version_minor": 0
      },
      "text/plain": [
       "Extracting Topics for 2025-07-03:   0%|          | 0/20 [00:00<?, ?it/s]"
      ]
     },
     "metadata": {},
     "output_type": "display_data"
    },
    {
     "data": {
      "application/vnd.jupyter.widget-view+json": {
       "model_id": "e499a6fdb31040f0b83d2582ba59ed4e",
       "version_major": 2,
       "version_minor": 0
      },
      "text/plain": [
       "Extracting Topics for 2025-07-04:   0%|          | 0/19 [00:00<?, ?it/s]"
      ]
     },
     "metadata": {},
     "output_type": "display_data"
    },
    {
     "data": {
      "application/vnd.jupyter.widget-view+json": {
       "model_id": "aa04e5ff508543f3a9f6320e04faf0a1",
       "version_major": 2,
       "version_minor": 0
      },
      "text/plain": [
       "Extracting Topics for 2025-07-05:   0%|          | 0/19 [00:00<?, ?it/s]"
      ]
     },
     "metadata": {},
     "output_type": "display_data"
    },
    {
     "data": {
      "application/vnd.jupyter.widget-view+json": {
       "model_id": "170955615b614b72836662311a6bb36d",
       "version_major": 2,
       "version_minor": 0
      },
      "text/plain": [
       "Extracting Topics for 2025-07-06:   0%|          | 0/20 [00:00<?, ?it/s]"
      ]
     },
     "metadata": {},
     "output_type": "display_data"
    },
    {
     "name": "stdout",
     "output_type": "stream",
     "text": [
      "Consolidating topics...\n"
     ]
    },
    {
     "name": "stderr",
     "output_type": "stream",
     "text": [
      "Consolidating topic batches: 100%|██████████| 8/8 [00:20<00:00,  2.55s/it]\n"
     ]
    },
    {
     "name": "stdout",
     "output_type": "stream",
     "text": [
      "Summarizing text for each topic...\n"
     ]
    },
    {
     "name": "stderr",
     "output_type": "stream",
     "text": [
      "Summarizing topics: 100%|██████████| 37/37 [00:05<00:00,  6.33it/s]\n",
      "Generating titles: 100%|██████████| 38/38 [00:06<00:00,  5.99it/s]\n"
     ]
    },
    {
     "name": "stdout",
     "output_type": "stream",
     "text": [
      "Generating Day in Review summaries...\n",
      "Adding one-line summaries to DataFrame...\n"
     ]
    },
    {
     "name": "stderr",
     "output_type": "stream",
     "text": [
      "Generating text summaries: 100%|██████████| 1517/1517 [01:03<00:00, 23.84it/s] \n"
     ]
    }
   ],
   "source": [
    "# Perform topic modeling and clustering to identify key trending topics\n",
    "flattened_trending_topics_df = run_process_all_trending_topics(\n",
    "    unique_reports=filtered_reports,\n",
    "    model=llm_model,\n",
    "    start_query=start_query,\n",
    "    end_query=end_query,\n",
    "    api_key=OPENAI_API_KEY,\n",
    "    main_theme=main_theme,\n",
    "    batches=20 #number of batches to process the reports in parallel (adjust based on your system's capabilities)\n",
    ")\n"
   ]
  },
  {
   "cell_type": "markdown",
   "metadata": {},
   "source": [
    " ## Topic Scoring"
   ]
  },
  {
   "cell_type": "markdown",
   "metadata": {},
   "source": [
    " **Trendiness and Novelty Scores**: Derive analytics related to the trendiness of the topic based on the news volume, and the novelty of the topic based on the changes in daily summaries, evaluating the uniqueness and freshness of each topic."
   ]
  },
  {
   "cell_type": "code",
   "execution_count": 14,
   "metadata": {},
   "outputs": [
    {
     "data": {
      "application/vnd.jupyter.widget-view+json": {
       "model_id": "75833f492d824db991ad34468eb0bc16",
       "version_major": 2,
       "version_minor": 0
      },
      "text/plain": [
       "Calculating Novelty Scores:   0%|          | 0/74 [00:00<?, ?it/s]"
      ]
     },
     "metadata": {},
     "output_type": "display_data"
    }
   ],
   "source": [
    "# Calculate trendiness and novelty scores, assessing the uniqueness and freshness of each topic\n",
    "flattened_trending_topics_df = run_add_advanced_novelty_scores(flattened_trending_topics_df, api_key = os.environ['OPENAI_API_KEY'], main_theme = main_theme)\n"
   ]
  },
  {
   "cell_type": "markdown",
   "metadata": {},
   "source": [
    " **Price Impact**: Derive analytics related to the impact (Positive, Negative) and magnitude (High, Medium, Low) of the topics. To customize the analysis, set an additional parameter:\n",
    " \n",
    "-  **Point of View** (`point_of_view`): The context and additional instructions for a better interpretation of the trending topics and their likely impact.\n",
    "\n",
    "The price impact inference is based on the price mechanisms and the perceived sentiment and market reaction of the news on the market.. Setting `point_of_view` to `Domestic Equity Market`  will lead the LLM to infer the topics' market impact on equity prices. "
   ]
  },
  {
   "cell_type": "code",
   "execution_count": 15,
   "metadata": {},
   "outputs": [],
   "source": [
    "# Assess the market impact for each topic, evaluating how each topic influences Equity market\n",
    "point_of_view = 'Domestic Equity market'\n",
    "flattened_trending_topics_df = add_market_impact_to_df(flattened_trending_topics_df, api_key = os.environ['OPENAI_API_KEY'], main_theme = main_theme, point_of_view = point_of_view)\n"
   ]
  },
  {
   "cell_type": "markdown",
   "metadata": {},
   "source": [
    " For verification purpose, this actionable timestamped dataframe contains the granular news clustered into relevant topics, and also the advanced analytics of trendiness, novelty, impact, and magnitude scores to be used for backtesting."
   ]
  },
  {
   "cell_type": "code",
   "execution_count": 16,
   "metadata": {},
   "outputs": [
    {
     "data": {
      "text/html": [
       "<div>\n",
       "<style scoped>\n",
       "    .dataframe tbody tr th:only-of-type {\n",
       "        vertical-align: middle;\n",
       "    }\n",
       "\n",
       "    .dataframe tbody tr th {\n",
       "        vertical-align: top;\n",
       "    }\n",
       "\n",
       "    .dataframe thead th {\n",
       "        text-align: right;\n",
       "    }\n",
       "</style>\n",
       "<table border=\"1\" class=\"dataframe\">\n",
       "  <thead>\n",
       "    <tr style=\"text-align: right;\">\n",
       "      <th></th>\n",
       "      <th>Date</th>\n",
       "      <th>Day_in_Review</th>\n",
       "      <th>Topic</th>\n",
       "      <th>Summary</th>\n",
       "      <th>Source</th>\n",
       "      <th>Headline</th>\n",
       "      <th>Text</th>\n",
       "      <th>Volume_Score</th>\n",
       "      <th>Text_Summary</th>\n",
       "      <th>Volume_Score</th>\n",
       "      <th>Novelty_Score</th>\n",
       "      <th>Impact_Score</th>\n",
       "      <th>Magnitude_Score</th>\n",
       "    </tr>\n",
       "  </thead>\n",
       "  <tbody>\n",
       "    <tr>\n",
       "      <th>0</th>\n",
       "      <td>2025-06-30</td>\n",
       "      <td>- **PBoC's Policy**: Implementing a cautiously...</td>\n",
       "      <td>PBoC's Cautiously Accommodative Policy Aims to...</td>\n",
       "      <td>The People's Bank of China (PBoC) is implement...</td>\n",
       "      <td>Central Banking</td>\n",
       "      <td>PBoC to increase 'intensity' of policy adjustm...</td>\n",
       "      <td>Bank to retain \"moderately loose\" stance while...</td>\n",
       "      <td>2</td>\n",
       "      <td>The People's Bank of China plans to maintain a...</td>\n",
       "      <td>2</td>\n",
       "      <td>Moderate</td>\n",
       "      <td>Positive</td>\n",
       "      <td>Medium</td>\n",
       "    </tr>\n",
       "    <tr>\n",
       "      <th>25</th>\n",
       "      <td>2025-06-30</td>\n",
       "      <td>- **PBoC's Policy**: Implementing a cautiously...</td>\n",
       "      <td>Divergent Central Bank Policies Drive Global I...</td>\n",
       "      <td>Interest rate expectations and decisions are c...</td>\n",
       "      <td>Yahoo! Finance</td>\n",
       "      <td>House sales keep increasing but price inflatio...</td>\n",
       "      <td>Interest rates are expected to continue to fal...</td>\n",
       "      <td>6</td>\n",
       "      <td>The Bank of England's cautious stance amid hig...</td>\n",
       "      <td>6</td>\n",
       "      <td>New</td>\n",
       "      <td>Negative</td>\n",
       "      <td>High</td>\n",
       "    </tr>\n",
       "    <tr>\n",
       "      <th>3</th>\n",
       "      <td>2025-06-30</td>\n",
       "      <td>- **PBoC's Policy**: Implementing a cautiously...</td>\n",
       "      <td>Divergent Central Bank Policies Drive Global I...</td>\n",
       "      <td>Interest rate expectations and decisions are c...</td>\n",
       "      <td>ABC Online</td>\n",
       "      <td>Stocks climbed a 'wall of worry' to gain 10pc ...</td>\n",
       "      <td>Any major oil price surge had the potential to...</td>\n",
       "      <td>2</td>\n",
       "      <td>A significant rise in oil prices could trigger...</td>\n",
       "      <td>2</td>\n",
       "      <td>New</td>\n",
       "      <td>Negative</td>\n",
       "      <td>High</td>\n",
       "    </tr>\n",
       "    <tr>\n",
       "      <th>4</th>\n",
       "      <td>2025-06-30</td>\n",
       "      <td>- **PBoC's Policy**: Implementing a cautiously...</td>\n",
       "      <td>Bank of England Cuts Rates to Boost Housing Ma...</td>\n",
       "      <td>The Bank of England (BoE) is currently navigat...</td>\n",
       "      <td>ShareCast via Web</td>\n",
       "      <td>Mortgage approvals push higher in May - BoE</td>\n",
       "      <td>The BoE has trimmed the cost of borrowing twic...</td>\n",
       "      <td>5</td>\n",
       "      <td>The Bank of England has reduced borrowing cost...</td>\n",
       "      <td>5</td>\n",
       "      <td>New</td>\n",
       "      <td>Positive</td>\n",
       "      <td>Medium</td>\n",
       "    </tr>\n",
       "    <tr>\n",
       "      <th>5</th>\n",
       "      <td>2025-06-30</td>\n",
       "      <td>- **PBoC's Policy**: Implementing a cautiously...</td>\n",
       "      <td>Bank of England Cuts Rates to Boost Housing Ma...</td>\n",
       "      <td>The Bank of England (BoE) is currently navigat...</td>\n",
       "      <td>Money Age</td>\n",
       "      <td>Monthly net mortgage approvals rise for first ...</td>\n",
       "      <td>Net mortgage approvals for house purchases inc...</td>\n",
       "      <td>5</td>\n",
       "      <td>In May, net mortgage approvals rose to 63,000,...</td>\n",
       "      <td>5</td>\n",
       "      <td>New</td>\n",
       "      <td>Positive</td>\n",
       "      <td>Medium</td>\n",
       "    </tr>\n",
       "  </tbody>\n",
       "</table>\n",
       "</div>"
      ],
      "text/plain": [
       "          Date                                      Day_in_Review  \\\n",
       "0   2025-06-30  - **PBoC's Policy**: Implementing a cautiously...   \n",
       "25  2025-06-30  - **PBoC's Policy**: Implementing a cautiously...   \n",
       "3   2025-06-30  - **PBoC's Policy**: Implementing a cautiously...   \n",
       "4   2025-06-30  - **PBoC's Policy**: Implementing a cautiously...   \n",
       "5   2025-06-30  - **PBoC's Policy**: Implementing a cautiously...   \n",
       "\n",
       "                                                Topic  \\\n",
       "0   PBoC's Cautiously Accommodative Policy Aims to...   \n",
       "25  Divergent Central Bank Policies Drive Global I...   \n",
       "3   Divergent Central Bank Policies Drive Global I...   \n",
       "4   Bank of England Cuts Rates to Boost Housing Ma...   \n",
       "5   Bank of England Cuts Rates to Boost Housing Ma...   \n",
       "\n",
       "                                              Summary             Source  \\\n",
       "0   The People's Bank of China (PBoC) is implement...    Central Banking   \n",
       "25  Interest rate expectations and decisions are c...     Yahoo! Finance   \n",
       "3   Interest rate expectations and decisions are c...         ABC Online   \n",
       "4   The Bank of England (BoE) is currently navigat...  ShareCast via Web   \n",
       "5   The Bank of England (BoE) is currently navigat...          Money Age   \n",
       "\n",
       "                                             Headline  \\\n",
       "0   PBoC to increase 'intensity' of policy adjustm...   \n",
       "25  House sales keep increasing but price inflatio...   \n",
       "3   Stocks climbed a 'wall of worry' to gain 10pc ...   \n",
       "4         Mortgage approvals push higher in May - BoE   \n",
       "5   Monthly net mortgage approvals rise for first ...   \n",
       "\n",
       "                                                 Text  Volume_Score  \\\n",
       "0   Bank to retain \"moderately loose\" stance while...             2   \n",
       "25  Interest rates are expected to continue to fal...             6   \n",
       "3   Any major oil price surge had the potential to...             2   \n",
       "4   The BoE has trimmed the cost of borrowing twic...             5   \n",
       "5   Net mortgage approvals for house purchases inc...             5   \n",
       "\n",
       "                                         Text_Summary  Volume_Score  \\\n",
       "0   The People's Bank of China plans to maintain a...             2   \n",
       "25  The Bank of England's cautious stance amid hig...             6   \n",
       "3   A significant rise in oil prices could trigger...             2   \n",
       "4   The Bank of England has reduced borrowing cost...             5   \n",
       "5   In May, net mortgage approvals rose to 63,000,...             5   \n",
       "\n",
       "   Novelty_Score Impact_Score Magnitude_Score  \n",
       "0       Moderate     Positive          Medium  \n",
       "25           New     Negative            High  \n",
       "3            New     Negative            High  \n",
       "4            New     Positive          Medium  \n",
       "5            New     Positive          Medium  "
      ]
     },
     "execution_count": 16,
     "metadata": {},
     "output_type": "execute_result"
    }
   ],
   "source": [
    "flattened_trending_topics_df.head()"
   ]
  },
  {
   "cell_type": "markdown",
   "metadata": {},
   "source": [
    " ## Generate a Custom Daily Digest"
   ]
  },
  {
   "cell_type": "markdown",
   "metadata": {},
   "source": [
    " Finally, produce a customizable report in the form of a Daily Digest, displaying the top trending topics and their summaries according to your custom ranking. \n",
    " \n",
    " The following parameters are needed to prepare the data for the report:\n",
    "\n",
    " - **Specific Date** (`specific_date`): The selected date for the report.\n",
    "\n",
    " - **User Selected Ranking** (`user_selected_ranking`): The list of features to prioritize when ranking, such as `volume` (trendiness and media attention), `novelty` (based on the emergence of new daily news), `impact` direction (positive or negative) and `magnitude`.\n",
    " \n",
    " - **Impact Filter** (`impact_filter`): Whether to filter the report for only positive or negative news. Default `None`.\n",
    "\n",
    " The ranking system prioritizes the criteria in the order specified, allowing for a tailored focus on the most relevant aspects of the data.\n"
   ]
  },
  {
   "cell_type": "code",
   "execution_count": 17,
   "metadata": {},
   "outputs": [],
   "source": [
    "specific_date = '2025-07-01'  # Example date, can be modified as needed\n",
    "user_selected_ranking = ['novelty', 'volume', 'magnitude']  # User can modify this list to change the ranking order\n",
    "#impact_filter = 'positive_impact' #User can use the impact_filter to filter out the report\n"
   ]
  },
  {
   "cell_type": "code",
   "execution_count": 18,
   "metadata": {},
   "outputs": [],
   "source": [
    "prepared_reports = prepare_data_for_report(flattened_trending_topics_df, user_selected_ranking, impact_filter = None, report_date = specific_date)\n"
   ]
  },
  {
   "cell_type": "markdown",
   "metadata": {},
   "source": [
    "Finally display a daily market update."
   ]
  },
  {
   "cell_type": "code",
   "execution_count": 19,
   "metadata": {},
   "outputs": [
    {
     "data": {
      "text/html": [
       "<!DOCTYPE html>\n",
       "<html lang=\"en\">\n",
       "<head>\n",
       "    <meta charset=\"UTF-8\">\n",
       "    <title>Central Bank Announcements - 2025-07-01</title>\n",
       "    <style>\n",
       "        body {\n",
       "            font-family: Arial, sans-serif;\n",
       "            background-color: #121212;\n",
       "            color: #E0E0E0;\n",
       "            margin: 20px;\n",
       "            padding: 0;\n",
       "            line-height: 1.6;\n",
       "        }\n",
       "        .container {\n",
       "            max-width: 1200px;\n",
       "            margin: 0 auto;\n",
       "            padding: 20px;\n",
       "            background-color: #1E1E1E;\n",
       "            border-radius: 10px;\n",
       "            box-shadow: 0px 4px 8px rgba(0, 0, 0, 0.4);\n",
       "            position: relative;  /* For positioning the logo */\n",
       "        }\n",
       "        .container h1, .container h2, .container h3 {\n",
       "            color: #0080BF;\n",
       "        }\n",
       "        .title {\n",
       "            text-align: center;\n",
       "            font-size: 2em;\n",
       "            margin-bottom: 20px;\n",
       "            color: #00BFFF; /* Dynamic blue color for the title */\n",
       "            text-transform: uppercase;\n",
       "            letter-spacing: 2px;\n",
       "            white-space: nowrap; /* Prevent text wrapping */\n",
       "        }\n",
       "        .logo {\n",
       "            position: absolute;\n",
       "            top: 20px;\n",
       "            left: 20px; /* Positioned to the left */\n",
       "            width: 180px;  /* Adjust the size as needed */\n",
       "            height: auto;\n",
       "        }\n",
       "        .content {\n",
       "            display: flex;\n",
       "        }\n",
       "        .left-column {\n",
       "            flex: 1;\n",
       "            max-width: 300px;\n",
       "            margin-right: 20px;\n",
       "        }\n",
       "        .right-column {\n",
       "            flex: 3;\n",
       "        }\n",
       "        .separator {\n",
       "            width: 2px;\n",
       "            background-color: #00BFFF; /* Dynamic blue color for the separator */\n",
       "            margin-right: 20px;\n",
       "        }\n",
       "        .section-title {\n",
       "            font-size: 1.5em;\n",
       "            margin-bottom: 15px;\n",
       "            color: #0080BF; /* Darker blue color for section titles */\n",
       "            text-transform: uppercase;\n",
       "        }\n",
       "        .bullet-points {\n",
       "            list-style-type: disc;\n",
       "            margin-left: 20px;\n",
       "            color: #E0E0E0; /* White color for bullet points */\n",
       "        }\n",
       "        .topic-section {\n",
       "            margin-bottom: 40px;  /* Increased space between updates */\n",
       "            padding: 20px;\n",
       "            background-color: #2A2A2A;\n",
       "            border-radius: 10px;\n",
       "            box-shadow: 0px 4px 6px rgba(0, 0, 0, 0.3);\n",
       "            position: relative;  /* To position the counters */\n",
       "        }\n",
       "        .topic-title {\n",
       "            font-size: 1.7em;\n",
       "            padding-top: 40px; /* Increase space above the title */\n",
       "            color: #0080BF; /* Darker blue color for topic titles */\n",
       "            text-transform: uppercase;\n",
       "        }\n",
       "        .counter-container {\n",
       "            position: absolute;\n",
       "            top: 20px;\n",
       "            right: 20px;\n",
       "            display: flex;\n",
       "            align-items: center;\n",
       "            justify-content: flex-start; /* Align content to the left */\n",
       "            gap: 20px; /* Space between each counter */\n",
       "            margin-bottom: 60px; /* Increased space between the title and counters */\n",
       "        }\n",
       "        .news-counter, .novelty-counter, .impact-counter, .magnitude-counter {\n",
       "            background-color: #00BFFF; /* Dynamic blue color for counters */\n",
       "            color: #121212; /* Black text color for counters */\n",
       "            padding: 5px 10px;\n",
       "            border-radius: 15px;\n",
       "            font-weight: bold;\n",
       "            font-size: 1em;\n",
       "            box-shadow: 0px 2px 4px rgba(0, 0, 0, 0.2);\n",
       "            display: flex;\n",
       "            align-items: center;  /* Align text and icon vertically */\n",
       "        }\n",
       "        .novelty-counter {\n",
       "            background-color: transparent;\n",
       "            color: #FFA500;  /* Orange color for the flame icon and text */\n",
       "        }\n",
       "        .flame-icon {\n",
       "            vertical-align: middle;\n",
       "            margin-right: 5px;\n",
       "            width: 24px;  /* Adjusted width of the flame icon */\n",
       "            height: 24px; /* Adjusted height of the flame icon */\n",
       "        }\n",
       "        .impact-counter {\n",
       "            color: #121212; /* Black text color for impact */\n",
       "        }\n",
       "        .impact-counter.positive {\n",
       "            background-color: #4CAF50; /* Green for positive impact */\n",
       "        }\n",
       "        .impact-counter.negative {\n",
       "            background-color: #F44336; /* Red for negative impact */\n",
       "        }\n",
       "        .impact-counter.neutral {\n",
       "            background-color: transparent; /* Transparent for neutral impact */\n",
       "            color: #00BFFF; /* Dynamic blue for neutral impact text */\n",
       "        }\n",
       "        .magnitude-counter {\n",
       "            background-color: transparent; /* Transparent for the magnitude box */\n",
       "            color: #00BFFF; /* Dynamic blue for magnitude text */\n",
       "        }\n",
       "        .magnitude-counter.high {\n",
       "            color: #F44336; /* Red for high magnitude */\n",
       "        }\n",
       "        .magnitude-counter.medium {\n",
       "            color: #FFD700; /* Yellow for medium magnitude */\n",
       "        }\n",
       "        .magnitude-counter.low {\n",
       "            color: #FFFFFF; /* White for low magnitude */\n",
       "        }\n",
       "        .impact-icon, .intensity-arrow {\n",
       "            vertical-align: middle;\n",
       "            margin-right: 5px;\n",
       "            width: 24px;  /* Adjusted width of the icons */\n",
       "            height: 24px; /* Adjusted height of the icons */\n",
       "        }\n",
       "        .counter-label {\n",
       "            font-size: 0.8em;\n",
       "            color: #E0E0E0; /* White color for the counter labels */\n",
       "            margin-right: 5px;\n",
       "            text-transform: uppercase;\n",
       "            letter-spacing: 1px;\n",
       "        }\n",
       "        .description {\n",
       "            font-size: 1.1em;\n",
       "            margin-bottom: 15px;\n",
       "            color: #E0E0E0; /* White color for description */\n",
       "        }\n",
       "    </style>\n",
       "</head>\n",
       "<body>\n",
       "    <div class=\"container\">\n",
       "        <!-- Logo Section -->\n",
       "        <img src=\"assets/bigdata-logo-white.svg\" alt=\"Big Data Logo\" class=\"logo\">\n",
       "        \n",
       "        <!-- Title Section -->\n",
       "        <div class=\"title\">Central Bank Announcements - 2025-07-01</div>\n",
       "        \n",
       "        <!-- Content Section -->\n",
       "        <div class=\"content\">\n",
       "            <!-- Left Column -->\n",
       "            <div class=\"left-column\">\n",
       "                <h2 class=\"section-title\">The Day in Review</h2>\n",
       "                <ul class=\"bullet-points\">\n",
       "                    \n",
       "                    <li><b>Federal Reserve Actions</b>: Lowered Stress Capital Buffer (SCB) to 2.5%, indicating strong banking resilience; CCAR results show major U.S. banks can increase dividends and buybacks, boosting investor confidence.</li>\n",
       "                    \n",
       "                    <li><b>U.S. Dollar Movement</b>: Decline attributed to central bank policies and tariff tensions, benefiting major Asian currencies; market adjusts expectations for Fed rate cuts amid tariff-related inflation concerns.</li>\n",
       "                    \n",
       "                    <li><b>Interest Rate Strategy</b>: Fed's cautious approach to rate cuts influenced by tariff uncertainties; potential for prolonged inflation complicates monetary policy decisions.</li>\n",
       "                    \n",
       "                    <li><b>Bank of Japan Policy Shift</b>: Signals possible normalization of ultra-loose monetary policy amid inflation pressures; discussions of a rate hike in March 2024 could impact global markets.</li>\n",
       "                    \n",
       "                    <li><b>Ethiopia's Monetary Policy</b>: Maintains 15% interest rate to combat persistent inflation, crucial for stabilizing the economy and sustaining investor confidence.</li>\n",
       "                    \n",
       "                    <li><b>South African Reserve Bank Considerations</b>: Debating lower inflation target to enhance competitiveness; current inflation at 2.8% prompts discussions on potential interest rate cuts to stimulate growth.</li>\n",
       "                    \n",
       "                    <li><b>Geopolitical Influences</b>: Trade tensions and military conflicts complicate monetary policy for central banks, including the BoJ and Norges Bank, affecting economic growth and stability.</li>\n",
       "                    \n",
       "                    <li><b>Mixed Inflation Outlook</b>: Central banks face challenges with inflation dynamics influenced by tariffs and geopolitical events, complicating future monetary policy adjustments.</li>\n",
       "                    \n",
       "                </ul>\n",
       "            </div>\n",
       "\n",
       "            <!-- Separator -->\n",
       "            <div class=\"separator\"></div>\n",
       "\n",
       "            <!-- Right Column -->\n",
       "            <div class=\"right-column\">\n",
       "                \n",
       "                <div class=\"topic-section\">\n",
       "                    <div class=\"counter-container\">\n",
       "                        <div class=\"news-counter\">\n",
       "                            <span class=\"counter-label\">Volume Score</span>\n",
       "                            10 News\n",
       "                        </div>\n",
       "                        <div class=\"novelty-counter\">\n",
       "                            <span class=\"counter-label\">Novelty Score</span>\n",
       "                            <img src=\"assets/flame-icon.png\" alt=\"Flame Icon\" class=\"flame-icon\">\n",
       "                            Novel\n",
       "                        </div>\n",
       "                        <div class=\"impact-counter negative\">\n",
       "                            <span class=\"counter-label\">Price Impact</span>\n",
       "                            Negative\n",
       "                        </div>\n",
       "                        <div class=\"magnitude-counter high\">\n",
       "                            <span class=\"counter-label\">Intensity</span>\n",
       "                            <img src=\"assets/arrow_up.png\" alt=\"Intensity Arrow\" class=\"intensity-arrow\">\n",
       "                            High\n",
       "                        </div>\n",
       "                    </div>\n",
       "                    <h2 class=\"topic-title\">Tariff Uncertainty Forces Fed to Curb Interest Rate Cuts Amid Inflation Concerns</h2>\n",
       "                    <p class=\"description\">The imposition of tariffs, particularly those enacted by the Trump administration, has significantly impacted monetary policy decisions by the Federal Reserve and other central banks. Federal Reserve Chair Jerome Powell has indicated that the uncertainty surrounding these tariffs has influenced the Fed's decision to refrain from cutting interest rates, as higher tariffs have led to increased inflation forecasts. This complicates the Fed's monetary policy strategy, as the potential for prolonged inflationary pressures necessitates a cautious approach to rate adjustments. Officials like Bostic and Barkin have echoed these sentiments, highlighting that the current economic climate, marked by tariff-related uncertainty, affects the Fed's ability to manage economic stability. The Bank of England is also facing similar challenges, with Governor Andrew Bailey noting potential second-round inflation effects. Overall, the interplay between tariff policies and monetary policy is a critical factor shaping the central bank's decisions, as the Fed must navigate the complexities of inflation and economic growth in response to trade policies.</p>\n",
       "                </div>\n",
       "                \n",
       "                <div class=\"topic-section\">\n",
       "                    <div class=\"counter-container\">\n",
       "                        <div class=\"news-counter\">\n",
       "                            <span class=\"counter-label\">Volume Score</span>\n",
       "                            4 News\n",
       "                        </div>\n",
       "                        <div class=\"novelty-counter\">\n",
       "                            <span class=\"counter-label\">Novelty Score</span>\n",
       "                            <img src=\"assets/flame-icon.png\" alt=\"Flame Icon\" class=\"flame-icon\">\n",
       "                            Novel\n",
       "                        </div>\n",
       "                        <div class=\"impact-counter positive\">\n",
       "                            <span class=\"counter-label\">Price Impact</span>\n",
       "                            Positive\n",
       "                        </div>\n",
       "                        <div class=\"magnitude-counter high\">\n",
       "                            <span class=\"counter-label\">Intensity</span>\n",
       "                            <img src=\"assets/arrow_up.png\" alt=\"Intensity Arrow\" class=\"intensity-arrow\">\n",
       "                            High\n",
       "                        </div>\n",
       "                    </div>\n",
       "                    <h2 class=\"topic-title\">Fed's CCAR Results Boost U.S. Banks' Capital Strength, Paving Way for Higher Dividends and Buybacks</h2>\n",
       "                    <p class=\"description\">The Federal Reserve's Comprehensive Capital Analysis and Review (CCAR) results have revealed strong capital positions among major U.S. banks, such as JPMorgan Chase and Bank of America, prompting them to announce plans for increased dividends and share buybacks. The Fed's decision to lower the stress capital buffer requirement to 2.5% underscores the resilience of these banks to economic shocks. This positive assessment not only enhances investor confidence but also influences future monetary policy decisions, reflecting the overall health of the banking sector.</p>\n",
       "                </div>\n",
       "                \n",
       "                <div class=\"topic-section\">\n",
       "                    <div class=\"counter-container\">\n",
       "                        <div class=\"news-counter\">\n",
       "                            <span class=\"counter-label\">Volume Score</span>\n",
       "                            2 News\n",
       "                        </div>\n",
       "                        <div class=\"novelty-counter\">\n",
       "                            <span class=\"counter-label\">Novelty Score</span>\n",
       "                            <img src=\"assets/flame-icon.png\" alt=\"Flame Icon\" class=\"flame-icon\">\n",
       "                            Novel\n",
       "                        </div>\n",
       "                        <div class=\"impact-counter positive\">\n",
       "                            <span class=\"counter-label\">Price Impact</span>\n",
       "                            Positive\n",
       "                        </div>\n",
       "                        <div class=\"magnitude-counter high\">\n",
       "                            <span class=\"counter-label\">Intensity</span>\n",
       "                            <img src=\"assets/arrow_up.png\" alt=\"Intensity Arrow\" class=\"intensity-arrow\">\n",
       "                            High\n",
       "                        </div>\n",
       "                    </div>\n",
       "                    <h2 class=\"topic-title\">Federal Reserve Lowers Stress Capital Buffer, Signaling Stronger Banking Resilience</h2>\n",
       "                    <p class=\"description\">The Federal Reserve's adjustments to the Stress Capital Buffer (SCB) for financial institutions, such as the reduction of M&T Bank's SCB from 3.8% to 2.7%, reflect the central bank's assessment of the banking sector's resilience and capital adequacy. These changes are part of the Fed's regulatory framework designed to ensure that banks can withstand economic shocks, which in turn influences their lending capabilities and overall economic activity. The SCB adjustments indicate a more favorable outlook for banks like M&T and American Express, contributing to the stability of the financial system.</p>\n",
       "                </div>\n",
       "                \n",
       "                <div class=\"topic-section\">\n",
       "                    <div class=\"counter-container\">\n",
       "                        <div class=\"news-counter\">\n",
       "                            <span class=\"counter-label\">Volume Score</span>\n",
       "                            5 News\n",
       "                        </div>\n",
       "                        <div class=\"novelty-counter\">\n",
       "                            <span class=\"counter-label\">Novelty Score</span>\n",
       "                            <img src=\"assets/flame-icon.png\" alt=\"Flame Icon\" class=\"flame-icon\">\n",
       "                            Moderate\n",
       "                        </div>\n",
       "                        <div class=\"impact-counter negative\">\n",
       "                            <span class=\"counter-label\">Price Impact</span>\n",
       "                            Negative\n",
       "                        </div>\n",
       "                        <div class=\"magnitude-counter high\">\n",
       "                            <span class=\"counter-label\">Intensity</span>\n",
       "                            <img src=\"assets/arrow_up.png\" alt=\"Intensity Arrow\" class=\"intensity-arrow\">\n",
       "                            High\n",
       "                        </div>\n",
       "                    </div>\n",
       "                    <h2 class=\"topic-title\">Inflation Dynamics Drive Central Banks' Policy Dilemmas Amid Economic Uncertainty</h2>\n",
       "                    <p class=\"description\">Recent economic reports highlight a mixed inflation outlook, with Norges Bank noting a decline in inflation rates driven by domestic price pressures and wage growth, while imported goods inflation remains low. In the US, inflation dynamics are affected by tariff-induced price changes, prompting the Federal Reserve to closely monitor these trends as they contemplate future monetary policy adjustments. Central banks, including the Bank of England and the Federal Reserve, face concerns about inflation and economic risks, complicating their monetary policy decisions. The interplay between inflation rates, government policies, and market expectations creates a challenging environment for central banks, particularly as they consider rate cuts to stimulate growth amidst the potential for inflation to exceed target levels. This dynamic is crucial for understanding the future trajectory of interest rates and overall economic stability.</p>\n",
       "                </div>\n",
       "                \n",
       "                <div class=\"topic-section\">\n",
       "                    <div class=\"counter-container\">\n",
       "                        <div class=\"news-counter\">\n",
       "                            <span class=\"counter-label\">Volume Score</span>\n",
       "                            4 News\n",
       "                        </div>\n",
       "                        <div class=\"novelty-counter\">\n",
       "                            <span class=\"counter-label\">Novelty Score</span>\n",
       "                            <img src=\"assets/flame-icon.png\" alt=\"Flame Icon\" class=\"flame-icon\">\n",
       "                            Moderate\n",
       "                        </div>\n",
       "                        <div class=\"impact-counter negative\">\n",
       "                            <span class=\"counter-label\">Price Impact</span>\n",
       "                            Negative\n",
       "                        </div>\n",
       "                        <div class=\"magnitude-counter high\">\n",
       "                            <span class=\"counter-label\">Intensity</span>\n",
       "                            <img src=\"assets/arrow_up.png\" alt=\"Intensity Arrow\" class=\"intensity-arrow\">\n",
       "                            High\n",
       "                        </div>\n",
       "                    </div>\n",
       "                    <h2 class=\"topic-title\">Geopolitical Tensions Drive Central Banks' Monetary Policy Challenges</h2>\n",
       "                    <p class=\"description\">Geopolitical influences, particularly trade relations and military conflicts, significantly shape monetary policy decisions across various central banks. In Japan, ongoing U.S.-Japan trade tensions complicate the Bank of Japan's ability to adjust interest rates, as weak economic data and uncertainties hinder growth prospects. Similarly, Norges Bank has acknowledged that geopolitical events, including conflicts in the Middle East and shifts in U.S. trade policy, introduce substantial uncertainties that could destabilize financial markets and impact economic growth in Norway. These scenarios underscore the interconnectedness of global trade dynamics and domestic monetary strategies, highlighting the necessity for central banks to incorporate international relations into their policy frameworks while striving to maintain inflation targets and economic stability.</p>\n",
       "                </div>\n",
       "                \n",
       "                <div class=\"topic-section\">\n",
       "                    <div class=\"counter-container\">\n",
       "                        <div class=\"news-counter\">\n",
       "                            <span class=\"counter-label\">Volume Score</span>\n",
       "                            4 News\n",
       "                        </div>\n",
       "                        <div class=\"novelty-counter\">\n",
       "                            <span class=\"counter-label\">Novelty Score</span>\n",
       "                            <img src=\"assets/flame-icon.png\" alt=\"Flame Icon\" class=\"flame-icon\">\n",
       "                            Moderate\n",
       "                        </div>\n",
       "                        <div class=\"impact-counter positive\">\n",
       "                            <span class=\"counter-label\">Price Impact</span>\n",
       "                            Positive\n",
       "                        </div>\n",
       "                        <div class=\"magnitude-counter medium\">\n",
       "                            <span class=\"counter-label\">Intensity</span>\n",
       "                            <img src=\"assets/arrow_mid.png\" alt=\"Intensity Arrow\" class=\"intensity-arrow\">\n",
       "                            Medium\n",
       "                        </div>\n",
       "                    </div>\n",
       "                    <h2 class=\"topic-title\">SARB Considers Lower Inflation Target to Boost Competitiveness and Stabilize Rand</h2>\n",
       "                    <p class=\"description\">The South African Reserve Bank (SARB) is currently debating its inflation target, with Governor Lesetja Kganyago advocating for a lower target to enhance economic competitiveness and stabilize the rand amidst rising prices. The current inflation rate stands at 2.8%, below the target range of 3% to 6%, prompting discussions on potential adjustments to the target. This dialogue reflects the complexities of monetary policy in South Africa, as the SARB seeks to balance inflation control with economic growth. Recent data shows that inflation expectations have dropped to a near four-year low, providing the SARB with a rationale to continue its easing cycle, which could lead to lower interest rates and stimulate growth. The SARB's future policy decisions will be crucial in shaping the economic landscape and influencing the value of the rand.</p>\n",
       "                </div>\n",
       "                \n",
       "                <div class=\"topic-section\">\n",
       "                    <div class=\"counter-container\">\n",
       "                        <div class=\"news-counter\">\n",
       "                            <span class=\"counter-label\">Volume Score</span>\n",
       "                            3 News\n",
       "                        </div>\n",
       "                        <div class=\"novelty-counter\">\n",
       "                            <span class=\"counter-label\">Novelty Score</span>\n",
       "                            <img src=\"assets/flame-icon.png\" alt=\"Flame Icon\" class=\"flame-icon\">\n",
       "                            Moderate\n",
       "                        </div>\n",
       "                        <div class=\"impact-counter negative\">\n",
       "                            <span class=\"counter-label\">Price Impact</span>\n",
       "                            Negative\n",
       "                        </div>\n",
       "                        <div class=\"magnitude-counter high\">\n",
       "                            <span class=\"counter-label\">Intensity</span>\n",
       "                            <img src=\"assets/arrow_up.png\" alt=\"Intensity Arrow\" class=\"intensity-arrow\">\n",
       "                            High\n",
       "                        </div>\n",
       "                    </div>\n",
       "                    <h2 class=\"topic-title\">U.S. Dollar Decline Driven by Central Bank Policies and Tariff Tensions</h2>\n",
       "                    <p class=\"description\">Recent market trends reveal significant reactions to central bank policies, particularly impacting the U.S. dollar, which has seen a decline due to tariff tensions and changing monetary policy expectations. This shift is anticipated to benefit major Asian currencies. The market's response to announcements from the Federal Reserve and the European Central Bank (ECB) highlights the interconnectedness of global financial systems and the critical role of central bank communications in shaping investor sentiment. Additionally, inflation reports and central bank decisions are influencing the cryptocurrency market, with potential lower interest rates or a less aggressive monetary stance likely to boost risk assets like Ethereum. Traders are adjusting their expectations for Fed rate cuts, particularly following tariff announcements, as evidenced by the performance of U.S. Treasuries and stock indices. Upcoming events, such as the FOMC meeting minutes and bond auctions, are expected to further influence market expectations and reactions, underscoring the complex relationship between monetary policy, fiscal measures, and investor sentiment.</p>\n",
       "                </div>\n",
       "                \n",
       "                <div class=\"topic-section\">\n",
       "                    <div class=\"counter-container\">\n",
       "                        <div class=\"news-counter\">\n",
       "                            <span class=\"counter-label\">Volume Score</span>\n",
       "                            2 News\n",
       "                        </div>\n",
       "                        <div class=\"novelty-counter\">\n",
       "                            <span class=\"counter-label\">Novelty Score</span>\n",
       "                            <img src=\"assets/flame-icon.png\" alt=\"Flame Icon\" class=\"flame-icon\">\n",
       "                            Moderate\n",
       "                        </div>\n",
       "                        <div class=\"impact-counter negative\">\n",
       "                            <span class=\"counter-label\">Price Impact</span>\n",
       "                            Negative\n",
       "                        </div>\n",
       "                        <div class=\"magnitude-counter high\">\n",
       "                            <span class=\"counter-label\">Intensity</span>\n",
       "                            <img src=\"assets/arrow_up.png\" alt=\"Intensity Arrow\" class=\"intensity-arrow\">\n",
       "                            High\n",
       "                        </div>\n",
       "                    </div>\n",
       "                    <h2 class=\"topic-title\">Fed's Interest Rate Strategy: A Balancing Act Amid Global Economic Pressures</h2>\n",
       "                    <p class=\"description\">The U.S. Federal Reserve's interest rate policy plays a crucial role in shaping global financial markets, particularly impacting emerging economies like Nigeria. The Fed's slower pace of interest rate cuts has constrained liquidity and investment in these markets, which are already facing inflationary pressures. Goldman Sachs anticipates three rate cuts of 25 basis points each in late 2025, driven by muted tariff effects and a weakening labor market, indicating a shift towards a more accommodative monetary policy. Fed Chair Powell's emphasis on data dependence suggests that disappointing manufacturing reports could lead to a cautious approach in future meetings. The upcoming semiannual Monetary Policy Report to Congress will provide insights into inflation and growth trends, influencing market sentiment, especially in the housing sector. Additionally, political pressures, exemplified by President Trump's criticism of Powell regarding interest rates, highlight the challenges the Fed faces in maintaining its independence while responding to economic indicators and public sentiment. Overall, the interplay between economic data, market expectations, and political influences is critical in shaping the Fed's interest rate decisions.</p>\n",
       "                </div>\n",
       "                \n",
       "                <div class=\"topic-section\">\n",
       "                    <div class=\"counter-container\">\n",
       "                        <div class=\"news-counter\">\n",
       "                            <span class=\"counter-label\">Volume Score</span>\n",
       "                            8 News\n",
       "                        </div>\n",
       "                        <div class=\"novelty-counter\">\n",
       "                            <span class=\"counter-label\">Novelty Score</span>\n",
       "                            <img src=\"assets/flame-icon.png\" alt=\"Flame Icon\" class=\"flame-icon\">\n",
       "                            Repeat\n",
       "                        </div>\n",
       "                        <div class=\"impact-counter negative\">\n",
       "                            <span class=\"counter-label\">Price Impact</span>\n",
       "                            Negative\n",
       "                        </div>\n",
       "                        <div class=\"magnitude-counter high\">\n",
       "                            <span class=\"counter-label\">Intensity</span>\n",
       "                            <img src=\"assets/arrow_up.png\" alt=\"Intensity Arrow\" class=\"intensity-arrow\">\n",
       "                            High\n",
       "                        </div>\n",
       "                    </div>\n",
       "                    <h2 class=\"topic-title\">Bank of Japan Signals Shift in Monetary Policy Amid Inflation Pressures and Yen Depreciation</h2>\n",
       "                    <p class=\"description\">The Bank of Japan (BoJ) has maintained an ultra-loose monetary policy since 2013, significantly influencing the value of the Japanese Yen, particularly against the US Dollar. This policy has led to a depreciation of the Yen, exacerbated by a divergence in monetary policy with the US Federal Reserve. Recent discussions around policy normalization, including a potential rate hike in March 2024, indicate a cautious shift in strategy as the BoJ grapples with persistent inflationary pressures and external economic challenges, such as US tariffs. New board member Kazuyuki Masu advocates for a careful approach to interest rate adjustments, emphasizing the need to balance economic growth with inflation control. Governor Kazuo Ueda's focus on data-driven decisions highlights the BoJ's commitment to achieving its 2% inflation target while navigating a complex economic landscape. The BoJ's future policy decisions are critical not only for Japan's economy but also for global markets, as they will impact currency valuations and investor sentiment.</p>\n",
       "                </div>\n",
       "                \n",
       "                <div class=\"topic-section\">\n",
       "                    <div class=\"counter-container\">\n",
       "                        <div class=\"news-counter\">\n",
       "                            <span class=\"counter-label\">Volume Score</span>\n",
       "                            3 News\n",
       "                        </div>\n",
       "                        <div class=\"novelty-counter\">\n",
       "                            <span class=\"counter-label\">Novelty Score</span>\n",
       "                            <img src=\"assets/flame-icon.png\" alt=\"Flame Icon\" class=\"flame-icon\">\n",
       "                            Repeat\n",
       "                        </div>\n",
       "                        <div class=\"impact-counter negative\">\n",
       "                            <span class=\"counter-label\">Price Impact</span>\n",
       "                            Negative\n",
       "                        </div>\n",
       "                        <div class=\"magnitude-counter medium\">\n",
       "                            <span class=\"counter-label\">Intensity</span>\n",
       "                            <img src=\"assets/arrow_mid.png\" alt=\"Intensity Arrow\" class=\"intensity-arrow\">\n",
       "                            Medium\n",
       "                        </div>\n",
       "                    </div>\n",
       "                    <h2 class=\"topic-title\">Ethiopia's National Bank Maintains 15% Rate to Combat Persistent Inflation</h2>\n",
       "                    <p class=\"description\">The National Bank of Ethiopia is implementing a tight monetary policy to address persistent inflation, maintaining its policy rate at 15%. While there has been a slight decrease in food inflation, non-food inflation remains a significant challenge. The central bank's focus on controlling inflation is crucial for stabilizing the economy, particularly in light of liquidity issues faced by some banks. These measures are essential for sustaining investor confidence and promoting economic growth in Ethiopia amidst ongoing inflationary pressures.</p>\n",
       "                </div>\n",
       "                \n",
       "            </div>\n",
       "        </div>\n",
       "    </div>\n",
       "</body>\n",
       "</html>"
      ],
      "text/plain": [
       "<IPython.core.display.HTML object>"
      ]
     },
     "metadata": {},
     "output_type": "display_data"
    },
    {
     "name": "stdout",
     "output_type": "stream",
     "text": [
      "\n",
      "\n",
      "\n"
     ]
    }
   ],
   "source": [
    "# Generate and display the HTML report for each date\n",
    "for report in prepared_reports:\n",
    "    html_content = generate_html_report(\n",
    "        report['date'],\n",
    "        report['day_in_review'],\n",
    "        report['topics'],\n",
    "        main_theme  # Pass the main theme to dynamically generate the title\n",
    "    )\n",
    "    display(HTML(html_content))\n",
    "    print(\"\")\n",
    "    print(\"\")\n",
    "    print(\"\")\n"
   ]
  },
  {
   "cell_type": "markdown",
   "metadata": {},
   "source": [
    "## Key Insights and Analysis\n",
    " The trending topics analysis reveals distinct patterns in central bank communications and market impact:\n",
    "\n",
    "**Political Pressure Dominance**: The Fed-RBA topic emerges as the most significant story with 30 news articles, reflecting intense political scrutiny on Federal Reserve independence amid Trump's criticism of Powell's rate decisions. This represents the highest volume topic, indicating sustained market attention on central bank autonomy.\n",
    "\n",
    "**Geographic Policy Divergence**: Analysis reveals a clear split between developed and emerging market approaches, with the Fed, ECB, and BoJ facing restrictive policy challenges while emerging central banks (RBI, CBN) pursue more accommodative stances to support growth, highlighting divergent global monetary policy cycles.\n",
    "\n",
    "**Novel vs. Recurring Narrative Mix**: 5 topics scored as \"Novel\" (33%), 3 as \"Moderate\" (20%), and 7 as \"Repeat\" (47%), suggesting that while half the coverage focuses on ongoing themes like inflation management, a significant portion represents genuinely new policy developments requiring immediate attention.\n",
    "\n",
    "**Negative Impact Bias**: 10 out of 15 topics (67%) show negative market impact, with only 4 positive impacts, indicating that central bank communications during this period primarily reflected economic challenges and policy uncertainties rather than growth-supportive narratives."
   ]
  },
  {
   "cell_type": "markdown",
   "metadata": {},
   "source": [
    " ## Export the Results\n",
    "\n",
    "\n",
    "\n",
    " Export the data as Excel files for further analysis or to share with the team."
   ]
  },
  {
   "cell_type": "code",
   "execution_count": null,
   "metadata": {},
   "outputs": [],
   "source": [
    "try:\n",
    "    from bigdata_research_tools.excel import ExcelManager\n",
    "    \n",
    "    # Create the Excel manager\n",
    "    excel_manager = ExcelManager()\n",
    "\n",
    "    # Define the dataframes and their sheet configurations\n",
    "    df_args = [\n",
    "        (flattened_trending_topics_df, \"Trending Topics Analysis\", (0, 0)),\n",
    "    ]\n",
    "\n",
    "    # Save the workbook\n",
    "    excel_manager.save_workbook(df_args, export_path)\n",
    "    print(f\"✅ Results exported to {export_path}\")\n",
    "\n",
    "except Exception as e:\n",
    "    print(f\"Warning while exporting to excel: {e}\")\n",
    "    # Fallback to CSV export\n",
    "    flattened_trending_topics_df.to_csv(f\"{output_dir}/trending_topics_central_banks_analysis.csv\", index=False)\n",
    "    print(f\"✅ Results exported to CSV as fallback\")\n"
   ]
  },
  {
   "cell_type": "code",
   "execution_count": null,
   "metadata": {},
   "outputs": [],
   "source": [
    "print(\"Runtime:\", datetime.datetime.now() - start)\n"
   ]
  }
 ],
 "metadata": {
  "kernelspec": {
   "display_name": "cookbook",
   "language": "python",
   "name": "python3"
  },
  "language_info": {
   "codemirror_mode": {
    "name": "ipython",
    "version": 3
   },
   "file_extension": ".py",
   "mimetype": "text/x-python",
   "name": "python",
   "nbconvert_exporter": "python",
   "pygments_lexer": "ipython3",
   "version": "3.13.5"
  }
 },
 "nbformat": 4,
 "nbformat_minor": 2
}
