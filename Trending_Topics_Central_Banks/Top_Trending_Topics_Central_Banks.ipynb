{
 "cells": [
  {
   "cell_type": "markdown",
   "id": "3cfab42e",
   "metadata": {},
   "source": [
    "# Daily Digest: Top Trending Topics for Central Banks Announcements"
   ]
  },
  {
   "cell_type": "markdown",
   "id": "d4fefb70-daa9-4ca4-ad5a-106a787e5816",
   "metadata": {},
   "source": [
    "\n",
    "## Why It Matters\n",
    "Central bank announcements can trigger significant movements in currency, bond, and equity markets. Timely identification of emerging narratives around monetary policy, rate decisions, and economic outlooks is critical for traders, analysts, and policymakers seeking to anticipate market reactions and adjust strategies accordingly.\n",
    "\n",
    "## What It Does\n",
    "This workflow identifies, verifies, clusters, and summarizes the most relevant and impactful news trends related to central bank announcements. It uses the Bigdata API for content retrieval and large language models for topic analysis, producing daily market reports and structured datasets for monitoring or backtesting.\n",
    "\n",
    "## How It Works\n",
    "The notebook implements a four-step agentic workflow built on Bigdata API:\n",
    "\n",
    "- **Lexicon Generation** of monetary policy and central bank–specific terminology to maximize recall in news retrieval.\n",
    "\n",
    "- **Content Retrieval** via the Bigdata API, splitting searches into daily windows and parallelizing keyword lookups for speed.\n",
    "\n",
    "- **Topic Clustering & Selection** to verify, group, and summarize news into ranked trending topics, scoring each for trendiness, novelty, impact, and magnitude.\n",
    "\n",
    "- **Custom Report Generation** in the form of a daily digest with a configurable ranking system, supported by granular news sources for verification.\n",
    "\n",
    "## A Real-World Use Case\n",
    "\n",
    "This cookbook illustrates the full workflow through a practical example: tracking top trending topics in central bank communications during the week of the ECB Forum in Sintra, when remarks from Donald Trump on Federal Reserve monetary policy coincided with high-profile speeches from global central bankers. You'll learn how to transform unstructured policy-related news into structured, ranked insights on market-moving announcements."
   ]
  },
  {
   "cell_type": "markdown",
   "id": "b9a44b28",
   "metadata": {},
   "source": [
    "## Setup and Imports"
   ]
  },
  {
   "cell_type": "markdown",
   "id": "748d8de4",
   "metadata": {},
   "source": [
    "## Async Compatibility Setup\n",
    "\n",
    "**Run this cell first** - Required for Google Colab, Jupyter Notebooks, and VS Code with Jupyter extension:\n",
    "\n",
    "### Why is this needed?\n",
    "\n",
    "Interactive environments (Colab, Jupyter) already have an asyncio event loop running. When bigdata-research-tools makes async API calls (like to OpenAI), you'll get this error without nest_asyncio:\n",
    "\n",
    "```\n",
    "RuntimeError: asyncio.run() cannot be called from a running event loop\n",
    "```\n",
    "\n",
    "The `nest_asyncio.apply()` command patches this to allow nested event loops.\n",
    "\n",
    "💡 **Tip**: If you're unsure which environment you're in, just run the cell below - it won't hurt in any environment!"
   ]
  },
  {
   "cell_type": "code",
   "execution_count": 1,
   "id": "2d6d994a",
   "metadata": {},
   "outputs": [
    {
     "name": "stdout",
     "output_type": "stream",
     "text": [
      "✅ nest_asyncio applied\n"
     ]
    }
   ],
   "source": [
    "import datetime\n",
    "start = datetime.datetime.now()\n",
    "\n",
    "try:\n",
    "    import asyncio\n",
    "    asyncio.get_running_loop()\n",
    "    import nest_asyncio; nest_asyncio.apply()\n",
    "    print(\"✅ nest_asyncio applied\")\n",
    "except (RuntimeError, ImportError):\n",
    "    print(\"✅ nest_asyncio not needed or not available\")"
   ]
  },
  {
   "cell_type": "markdown",
   "id": "f7e190d2",
   "metadata": {},
   "source": [
    "## Environment Setup\n",
    "\n",
    "The following cell configures the necessary path for the analysis"
   ]
  },
  {
   "cell_type": "code",
   "execution_count": 2,
   "id": "8ec5a99c",
   "metadata": {},
   "outputs": [
    {
     "name": "stdout",
     "output_type": "stream",
     "text": [
      "✅ Local environment setup complete\n"
     ]
    }
   ],
   "source": [
    "import os\n",
    "import sys\n",
    "\n",
    "\n",
    "current_dir = os.getcwd()\n",
    "if current_dir not in sys.path:\n",
    "    sys.path.append(current_dir)\n",
    "print(f\"✅ Local environment setup complete\")"
   ]
  },
  {
   "cell_type": "markdown",
   "id": "f5c12ca0",
   "metadata": {},
   "source": [
    "## Import Required Libraries\n",
    "\n",
    "Import the core libraries needed for trending topics analysis, including the lexicon generation classes and data processing tools."
   ]
  },
  {
   "cell_type": "code",
   "execution_count": 3,
   "id": "92fa9831",
   "metadata": {},
   "outputs": [],
   "source": [
    "from bigdata_client import Bigdata\n",
    "from bigdata_client.models.search import DocumentType\n",
    "from src.lexicon_generator import LexiconGenerator\n",
    "from src.search_topics import search_by_keywords\n",
    "from src.topics_extractor import (process_all_reports,\n",
    "                                run_process_all_trending_topics,\n",
    "                                run_add_advanced_novelty_scores,\n",
    "                                add_market_impact_to_df,\n",
    "                                prepare_data_for_report,\n",
    "                                generate_html_report)\n",
    "from IPython.display import display\n",
    "from IPython.core.display import HTML"
   ]
  },
  {
   "cell_type": "markdown",
   "id": "d84470ea",
   "metadata": {},
   "source": [
    "## Define Output Paths\n",
    "\n",
    "We define the output paths for our thematic screening results."
   ]
  },
  {
   "cell_type": "code",
   "execution_count": 4,
   "id": "2fb35999",
   "metadata": {},
   "outputs": [],
   "source": [
    "# Define output file paths for our report\n",
    "output_dir = \"output\"\n",
    "os.makedirs(output_dir, exist_ok=True)\n",
    "\n",
    "export_path = f\"{output_dir}/trending_topics_central_banks_results.xlsx\""
   ]
  },
  {
   "cell_type": "markdown",
   "id": "6710c91c",
   "metadata": {},
   "source": [
    "## Load Credentials"
   ]
  },
  {
   "cell_type": "code",
   "execution_count": 5,
   "id": "86381fa7",
   "metadata": {},
   "outputs": [
    {
     "name": "stdout",
     "output_type": "stream",
     "text": [
      "✅ Credentials loaded from .env file\n"
     ]
    }
   ],
   "source": [
    "\n",
    "from dotenv import load_dotenv\n",
    "from pathlib import Path\n",
    "\n",
    "script_dir = Path(__file__).parent if '__file__' in globals() else Path.cwd()\n",
    "#load_dotenv(script_dir / '.env')\n",
    "load_dotenv(os.path.abspath(\"/home/abouchs/.python_env_var/.env\"))\n",
    "\n",
    "BIGDATA_USERNAME = os.getenv('BIGDATA_USERNAME')\n",
    "BIGDATA_PASSWORD = os.getenv('BIGDATA_PASSWORD')\n",
    "OPENAI_API_KEY = os.getenv('OPENAI_API_KEY')\n",
    "\n",
    "if not all([BIGDATA_USERNAME, BIGDATA_PASSWORD, OPENAI_API_KEY]):\n",
    "    print(\"❌ Missing required environment variables\")\n",
    "    raise ValueError(\"Missing required environment variables. Check your .env file.\")\n",
    "else:\n",
    "    print(\"✅ Credentials loaded from .env file\")"
   ]
  },
  {
   "cell_type": "markdown",
   "id": "cedc1edb",
   "metadata": {},
   "source": [
    "## Connecting to Bigdata\n",
    "\n",
    "Create a Bigdata object with your credentials."
   ]
  },
  {
   "cell_type": "code",
   "execution_count": 6,
   "id": "2777b6f8",
   "metadata": {},
   "outputs": [],
   "source": [
    "bigdata = Bigdata(BIGDATA_USERNAME, BIGDATA_PASSWORD)"
   ]
  },
  {
   "cell_type": "markdown",
   "id": "1e034fca",
   "metadata": {},
   "source": [
    "## Defining Your Trending Topics Context and Parameters"
   ]
  },
  {
   "cell_type": "markdown",
   "id": "8da20c01",
   "metadata": {},
   "source": [
    "To perform a trending topics analysis, we need to define a few key parameters:\n",
    "\n",
    "- **Main Theme** (`main_theme`): The main topic, asset class, or context to analyze (e.g. Central Bank Announcements)\n",
    "\n",
    "- **Time Period** (`start_date` and `end_date`): The date range over which to run the search\n",
    "\n",
    "- **Frequency** (`freq`): The frequency at which you want to produce a daily digest\n",
    "\n",
    "- **Document Type** (`document_type`): Specify which documents to search over (transcripts, filings, news)\n",
    "\n",
    "- **Model Selection** (`llm_model`): The AI model used for semantic analysis and topic classification"
   ]
  },
  {
   "cell_type": "code",
   "execution_count": 7,
   "id": "bb472c00",
   "metadata": {},
   "outputs": [],
   "source": [
    "# ===== Context Definition =====\n",
    "main_theme = \"Central Bank Announcements\"\n",
    "\n",
    "# ===== Specify Time Range =====\n",
    "start_query = '2025-06-30'\n",
    "end_query = '2025-07-06'\n",
    "\n",
    "# ===== Query Configuration =====\n",
    "document_type = DocumentType.NEWS\n",
    "\n",
    "# ===== LLM Specification =====\n",
    "llm_model = \"gpt-4o-mini\""
   ]
  },
  {
   "cell_type": "markdown",
   "id": "e3f6264d",
   "metadata": {},
   "source": [
    "## Instantiating the Lexicon Generator"
   ]
  },
  {
   "cell_type": "markdown",
   "id": "d0c60e14-191f-4e86-84f9-17b376f43a1b",
   "metadata": {},
   "source": [
    "In this step, we identify the specialized industry-specific jargon relevant to the Central Banks Announcements to ensure a high recall in the content retrieval."
   ]
  },
  {
   "cell_type": "code",
   "execution_count": 8,
   "id": "3ab6fdaa",
   "metadata": {},
   "outputs": [],
   "source": [
    "LexiconGenerator = LexiconGenerator(openai_key=OPENAI_API_KEY, model=\"gpt-4o\", seeds=[123, 123456, 123456789, 456789, 789])"
   ]
  },
  {
   "cell_type": "code",
   "execution_count": 9,
   "id": "8d2cb29b-6c7c-4a16-ab56-c705e3b68f2b",
   "metadata": {
    "tags": []
   },
   "outputs": [],
   "source": [
    "keywords = LexiconGenerator.generate(theme=main_theme)"
   ]
  },
  {
   "cell_type": "markdown",
   "id": "29881280",
   "metadata": {},
   "source": [
    "## Content Retrieval from Bigdata Search API"
   ]
  },
  {
   "cell_type": "markdown",
   "id": "2d858006",
   "metadata": {},
   "source": [
    "In this section, we perform a keyword search on the news content with the Bigdata API to retrieve documents, splitting the search over daily timeframes and multi-threading the content search on the individual keywords for speed purpose. The user can define the time range below to generate daily reports between the start and end dates."
   ]
  },
  {
   "cell_type": "markdown",
   "id": "ebaaefaa",
   "metadata": {},
   "source": [
    "With the list of market-specific keywords parameters, you can leverage the Search functionalities in bigdata-research-tools, built with Bigdata API, to run search at scale against news documents. We need to define 2 more parameters for search:\n",
    "\n",
    "- **Frequency** (`freq`): The frequency of the date ranges to search over. It should at least match the frequency of your daily digest. Supported values:\n",
    "    - `Y`: Yearly intervals.\n",
    "    - `M`: Monthly intervals.\n",
    "    - `W`: Weekly intervals.\n",
    "    - `D`: Daily intervals. Defaults to `D`.\n",
    "- **Document Limit** (`document_limit`): The maximum number of documents to return per query to Bigdata API."
   ]
  },
  {
   "cell_type": "code",
   "execution_count": 10,
   "id": "6037fb3e",
   "metadata": {},
   "outputs": [],
   "source": [
    "# ===== Query Configuration =====\n",
    "document_limit = 10 # Maximum number of documents to retrieve per query\n",
    "frequency = 'D'  # Query frequency"
   ]
  },
  {
   "cell_type": "code",
   "execution_count": 11,
   "id": "add7be3b",
   "metadata": {},
   "outputs": [
    {
     "name": "stdout",
     "output_type": "stream",
     "text": [
      "About to run 385 queries\n",
      "Example Query: Keyword('Central Bank Announcements') over date range: AbsoluteDateRange('2025-06-30T00:00:00', '2025-06-30T23:59:59')\n"
     ]
    },
    {
     "name": "stderr",
     "output_type": "stream",
     "text": [
      "Querying Bigdata...: 100%|██████████| 385/385 [01:21<00:00,  4.72it/s]\n"
     ]
    }
   ],
   "source": [
    "results, daily_keyword_count = search_by_keywords(\n",
    "    keywords=keywords,\n",
    "    start_date=start_query,\n",
    "    end_date=end_query,\n",
    "    freq=frequency,\n",
    "    scope=document_type,\n",
    "    document_limit=document_limit)"
   ]
  },
  {
   "cell_type": "markdown",
   "id": "0fc44aa5-c056-4163-8dea-d204f8b1307b",
   "metadata": {},
   "source": [
    "## Topic Clustering and Summarization"
   ]
  },
  {
   "cell_type": "markdown",
   "id": "8bcf7b34-71cd-4631-a220-754be8118aaa",
   "metadata": {},
   "source": [
    "In this step, we perform topic modelling using a large language model to verify and cluster the news. Then, the summarization ensures topic selection identifying the top trending news for Central Banks Announcements, while deriving advanced analytics to quantify the trendiness (based on news volume), novelty (based on daily changes in summaries), impact and magnitude (based on the impact on Equity prices) of the trending topics."
   ]
  },
  {
   "cell_type": "markdown",
   "id": "0ef0fb0c-bc04-4024-b194-aa15b50b986f",
   "metadata": {},
   "source": [
    "Before performing the topic clustering, we apply a verification layer to remove the news that are not relative to the Central Banks announcements"
   ]
  },
  {
   "cell_type": "code",
   "execution_count": 12,
   "id": "aa9249ab-cb3f-4621-872e-437e5e6e7667",
   "metadata": {
    "tags": []
   },
   "outputs": [
    {
     "data": {
      "application/vnd.jupyter.widget-view+json": {
       "model_id": "4b6867cc24de45f393cf0e26447046e5",
       "version_major": 2,
       "version_minor": 0
      },
      "text/plain": [
       "Filtering News:   0%|          | 0/5775 [00:00<?, ?it/s]"
      ]
     },
     "metadata": {},
     "output_type": "display_data"
    }
   ],
   "source": [
    "semaphore_size = 1000 # Maximum number of concurrent requests to Openai API\n",
    " \n",
    "# Assuming unique_reports is your DataFrame\n",
    "filtered_reports = process_all_reports(results, llm_model, OPENAI_API_KEY, main_theme, semaphore_size)"
   ]
  },
  {
   "cell_type": "markdown",
   "id": "e7d982ff-751c-42fc-a704-4cf576035e35",
   "metadata": {},
   "source": [
    "In this cell, we leverage a LLM to perform topic modeling, identifying and clustering the key topics from the news reports."
   ]
  },
  {
   "cell_type": "code",
   "execution_count": 13,
   "id": "a989a1aa-e758-489b-98a6-0ba259ea976c",
   "metadata": {},
   "outputs": [
    {
     "data": {
      "application/vnd.jupyter.widget-view+json": {
       "model_id": "db05fd8a51b44e3190f83137dcdd23c5",
       "version_major": 2,
       "version_minor": 0
      },
      "text/plain": [
       "Extracting Topics for 2025-06-30:   0%|          | 0/20 [00:00<?, ?it/s]"
      ]
     },
     "metadata": {},
     "output_type": "display_data"
    },
    {
     "data": {
      "application/vnd.jupyter.widget-view+json": {
       "model_id": "b9389ab35ff54cd49e4555a3179a043e",
       "version_major": 2,
       "version_minor": 0
      },
      "text/plain": [
       "Extracting Topics for 2025-07-01:   0%|          | 0/20 [00:00<?, ?it/s]"
      ]
     },
     "metadata": {},
     "output_type": "display_data"
    },
    {
     "data": {
      "application/vnd.jupyter.widget-view+json": {
       "model_id": "5b07e26c8962433293e0803a6b53b420",
       "version_major": 2,
       "version_minor": 0
      },
      "text/plain": [
       "Extracting Topics for 2025-07-02:   0%|          | 0/20 [00:00<?, ?it/s]"
      ]
     },
     "metadata": {},
     "output_type": "display_data"
    },
    {
     "data": {
      "application/vnd.jupyter.widget-view+json": {
       "model_id": "5e959090ca3b448981e0f57d3570e944",
       "version_major": 2,
       "version_minor": 0
      },
      "text/plain": [
       "Extracting Topics for 2025-07-03:   0%|          | 0/20 [00:00<?, ?it/s]"
      ]
     },
     "metadata": {},
     "output_type": "display_data"
    },
    {
     "data": {
      "application/vnd.jupyter.widget-view+json": {
       "model_id": "a44a6849423540dd975d3e3712faccb0",
       "version_major": 2,
       "version_minor": 0
      },
      "text/plain": [
       "Extracting Topics for 2025-07-04:   0%|          | 0/20 [00:00<?, ?it/s]"
      ]
     },
     "metadata": {},
     "output_type": "display_data"
    },
    {
     "data": {
      "application/vnd.jupyter.widget-view+json": {
       "model_id": "e627328f93014162a9ff9ac892cbf90e",
       "version_major": 2,
       "version_minor": 0
      },
      "text/plain": [
       "Extracting Topics for 2025-07-05:   0%|          | 0/19 [00:00<?, ?it/s]"
      ]
     },
     "metadata": {},
     "output_type": "display_data"
    },
    {
     "data": {
      "application/vnd.jupyter.widget-view+json": {
       "model_id": "d37f3d448f57433bafe0cc93d279c562",
       "version_major": 2,
       "version_minor": 0
      },
      "text/plain": [
       "Extracting Topics for 2025-07-06:   0%|          | 0/19 [00:00<?, ?it/s]"
      ]
     },
     "metadata": {},
     "output_type": "display_data"
    },
    {
     "name": "stdout",
     "output_type": "stream",
     "text": [
      "Consolidating topics...\n"
     ]
    },
    {
     "name": "stderr",
     "output_type": "stream",
     "text": [
      "Consolidating topic batches: 100%|██████████| 8/8 [00:16<00:00,  2.09s/it]\n"
     ]
    },
    {
     "name": "stdout",
     "output_type": "stream",
     "text": [
      "Summarizing text for each topic...\n"
     ]
    },
    {
     "name": "stderr",
     "output_type": "stream",
     "text": [
      "Summarizing topics: 100%|██████████| 33/33 [00:20<00:00,  1.63it/s]\n",
      "Generating titles: 100%|██████████| 34/34 [00:15<00:00,  2.15it/s]\n"
     ]
    },
    {
     "name": "stdout",
     "output_type": "stream",
     "text": [
      "Generating Day in Review summaries...\n",
      "Adding one-line summaries to DataFrame...\n"
     ]
    },
    {
     "name": "stderr",
     "output_type": "stream",
     "text": [
      "Generating text summaries: 100%|██████████| 1424/1424 [00:45<00:00, 31.40it/s] \n"
     ]
    }
   ],
   "source": [
    "flattened_trending_topics_df = run_process_all_trending_topics(\n",
    "    unique_reports=filtered_reports,\n",
    "    model=llm_model,\n",
    "    start_query=start_query,\n",
    "    end_query=end_query,\n",
    "    api_key=OPENAI_API_KEY,\n",
    "    main_theme=main_theme,\n",
    "    batches=20 #number of batches to process the reports in parallel (adjust based on your system's capabilities)\n",
    ")"
   ]
  },
  {
   "cell_type": "markdown",
   "id": "f2dd1fd6",
   "metadata": {},
   "source": [
    "## Topic Scoring"
   ]
  },
  {
   "cell_type": "markdown",
   "id": "dc7f18a8-f5a2-4bf2-b713-e525197fad29",
   "metadata": {},
   "source": [
    "**Trendiness and Novelty Scores**: We derive analytics related to the trendiness of the topic based on the news volume, and the novelty of the topic based on the changes in daily summaries, evaluating the uniqueness and freshness of each topic. "
   ]
  },
  {
   "cell_type": "code",
   "execution_count": 14,
   "id": "9344c4cf-847c-49c4-a5bc-23cf1b542369",
   "metadata": {},
   "outputs": [
    {
     "data": {
      "application/vnd.jupyter.widget-view+json": {
       "model_id": "0870e2b726bb4cc68385900e10f0f7f5",
       "version_major": 2,
       "version_minor": 0
      },
      "text/plain": [
       "Calculating Novelty Scores:   0%|          | 0/60 [00:00<?, ?it/s]"
      ]
     },
     "metadata": {},
     "output_type": "display_data"
    }
   ],
   "source": [
    "# Calculate trendiness and novelty scores, assessing the uniqueness and freshness of each topic\n",
    "flattened_trending_topics_df = run_add_advanced_novelty_scores(flattened_trending_topics_df, api_key = os.environ['OPENAI_API_KEY'], main_theme = main_theme)"
   ]
  },
  {
   "cell_type": "markdown",
   "id": "8dad5fdd-ec65-49ad-a706-2f125f730621",
   "metadata": {},
   "source": [
    "**Price impact**: We derive analytics related to the impact (Positive, Negative) and magnitude (High, Medium, Low) of the topics, inferring their  market impact on equity prices. The prince impact inference is based on the price mechanisms and the perceived sentiment and market reaction of the news on the market."
   ]
  },
  {
   "cell_type": "code",
   "execution_count": 15,
   "id": "a4ee2bfa-7bc4-4a38-a43f-dc3bc285a78a",
   "metadata": {},
   "outputs": [],
   "source": [
    "# Assess the market impact for each topic, evaluating how each topic influences Equity market\n",
    "point_of_view = 'Domestic Equity market'\n",
    "flattened_trending_topics_df = add_market_impact_to_df(flattened_trending_topics_df, api_key = os.environ['OPENAI_API_KEY'], main_theme = main_theme, point_of_view = point_of_view)"
   ]
  },
  {
   "cell_type": "markdown",
   "id": "5b1c59ba-8f79-42e5-8e6f-7d342284c8f5",
   "metadata": {},
   "source": [
    "We display the results of topic modeling and summarization. The **Topic** column represents the themes inferred through topic clustering using a LLM, which groups the news articles based on their content and underlying themes. The **Summary** provides a synthesized overview of all news articles within the same topic, offering a high-level view of the key messages for each cluster. The **Topic** is then rephrased into a concise form based on the summary. The **Text_Summary** provides a detailed summary of each individual chunk, capturing its core message."
   ]
  },
  {
   "cell_type": "markdown",
   "id": "a6d5c43a-0d83-4621-8e5e-ad064d0b6190",
   "metadata": {},
   "source": [
    "For verification purpose, this actionable timestamped dataframe contains the granular news clustered into relevant topics, and also the advanced analytics of trendiness, novelty, impact, and magnitude scores to be potentially used for backtesting. "
   ]
  },
  {
   "cell_type": "markdown",
   "id": "e04f408a-7ba2-4157-b5cd-9e580ff4e12c",
   "metadata": {},
   "source": [
    "## Generate a Custom Daily Digest"
   ]
  },
  {
   "cell_type": "markdown",
   "id": "acbc5f20-ec30-4669-99f1-5ff1c2eca389",
   "metadata": {},
   "source": [
    "In this step, we rank the topics, allowing the user to customize the ranking system to reindex the news, based on their trendiness, novelty, and impact on equity prices. We finally display a daily market update, supported by the corresponding granular news and sources for verification purpose."
   ]
  },
  {
   "cell_type": "markdown",
   "id": "2088103e-9984-4951-96c8-f8723e8cfad8",
   "metadata": {},
   "source": [
    "The user selects the date for the report summarizing the top trending topics, and customizes the ranking system to prioritize the topics based on volume (trendiness and media attention), novelty (based on the emergence of new daily news), impact direction (positive or negative), and magnitude. The ranking system prioritizes the criteria in the order specified by the user, allowing for a tailored focus on the most relevant aspects of the data."
   ]
  },
  {
   "cell_type": "markdown",
   "id": "5cbf4275-da44-4ead-972a-d16f00ea7c5c",
   "metadata": {},
   "source": [
    "The order in which the criteria are listed in user_selected_ranking determines their priority for ranking the topics within the report. The first criterion in the list has the highest priority, followed by the second, and then the third. The user can customize the ranking by choosing to prioritize impact direction (positive or negative), novelty, magnitude, or volume, and has the flexibility to select 1, 2, or all 3 criteria based on their specific needs."
   ]
  },
  {
   "cell_type": "code",
   "execution_count": 22,
   "id": "4f650c38",
   "metadata": {},
   "outputs": [],
   "source": [
    "specific_date = '2025-07-01'  # Example date, can be modified as needed\n",
    "user_selected_ranking = ['novelty', 'volume', 'magnitude']  # User can modify this list to change the ranking order\n",
    "#impact_filter = 'positive_impact' #User can use the impact_filter to filter out the report"
   ]
  },
  {
   "cell_type": "code",
   "execution_count": 23,
   "id": "9908de34",
   "metadata": {},
   "outputs": [],
   "source": [
    "prepared_reports = prepare_data_for_report(flattened_trending_topics_df, user_selected_ranking, impact_filter = None, report_date = specific_date)"
   ]
  },
  {
   "cell_type": "code",
   "execution_count": 24,
   "id": "a9e22ce4-ee81-4a20-89cf-879bedcf878f",
   "metadata": {
    "tags": []
   },
   "outputs": [
    {
     "data": {
      "text/html": [
       "<!DOCTYPE html>\n",
       "<html lang=\"en\">\n",
       "<head>\n",
       "    <meta charset=\"UTF-8\">\n",
       "    <title>Central Bank Announcements - 2025-07-01</title>\n",
       "    <style>\n",
       "        body {\n",
       "            font-family: Arial, sans-serif;\n",
       "            background-color: #121212;\n",
       "            color: #E0E0E0;\n",
       "            margin: 20px;\n",
       "            padding: 0;\n",
       "            line-height: 1.6;\n",
       "        }\n",
       "        h1, h2, h3 {\n",
       "            color: #0080BF; /* Darker blue color for headings */\n",
       "        }\n",
       "        .container {\n",
       "            max-width: 1200px;\n",
       "            margin: 0 auto;\n",
       "            padding: 20px;\n",
       "            background-color: #1E1E1E;\n",
       "            border-radius: 10px;\n",
       "            box-shadow: 0px 4px 8px rgba(0, 0, 0, 0.4);\n",
       "            position: relative;  /* For positioning the logo */\n",
       "        }\n",
       "        .title {\n",
       "            text-align: center;\n",
       "            font-size: 2em;\n",
       "            margin-bottom: 20px;\n",
       "            color: #00BFFF; /* Dynamic blue color for the title */\n",
       "            text-transform: uppercase;\n",
       "            letter-spacing: 2px;\n",
       "            white-space: nowrap; /* Prevent text wrapping */\n",
       "        }\n",
       "        .logo {\n",
       "            position: absolute;\n",
       "            top: 20px;\n",
       "            left: 20px; /* Positioned to the left */\n",
       "            width: 180px;  /* Adjust the size as needed */\n",
       "            height: auto;\n",
       "        }\n",
       "        .content {\n",
       "            display: flex;\n",
       "        }\n",
       "        .left-column {\n",
       "            flex: 1;\n",
       "            max-width: 300px;\n",
       "            margin-right: 20px;\n",
       "        }\n",
       "        .right-column {\n",
       "            flex: 3;\n",
       "        }\n",
       "        .separator {\n",
       "            width: 2px;\n",
       "            background-color: #00BFFF; /* Dynamic blue color for the separator */\n",
       "            margin-right: 20px;\n",
       "        }\n",
       "        .section-title {\n",
       "            font-size: 1.5em;\n",
       "            margin-bottom: 15px;\n",
       "            color: #0080BF; /* Darker blue color for section titles */\n",
       "            text-transform: uppercase;\n",
       "        }\n",
       "        .bullet-points {\n",
       "            list-style-type: disc;\n",
       "            margin-left: 20px;\n",
       "            color: #E0E0E0; /* White color for bullet points */\n",
       "        }\n",
       "        .topic-section {\n",
       "            margin-bottom: 40px;  /* Increased space between updates */\n",
       "            padding: 20px;\n",
       "            background-color: #2A2A2A;\n",
       "            border-radius: 10px;\n",
       "            box-shadow: 0px 4px 6px rgba(0, 0, 0, 0.3);\n",
       "            position: relative;  /* To position the counters */\n",
       "        }\n",
       "        .topic-title {\n",
       "            font-size: 1.7em;\n",
       "            padding-top: 40px; /* Increase space above the title */\n",
       "            color: #0080BF; /* Darker blue color for topic titles */\n",
       "            text-transform: uppercase;\n",
       "        }\n",
       "        .counter-container {\n",
       "            position: absolute;\n",
       "            top: 20px;\n",
       "            right: 20px;\n",
       "            display: flex;\n",
       "            align-items: center;\n",
       "            justify-content: flex-start; /* Align content to the left */\n",
       "            gap: 20px; /* Space between each counter */\n",
       "            margin-bottom: 60px; /* Increased space between the title and counters */\n",
       "        }\n",
       "        .news-counter, .novelty-counter, .impact-counter, .magnitude-counter {\n",
       "            background-color: #00BFFF; /* Dynamic blue color for counters */\n",
       "            color: #121212; /* Black text color for counters */\n",
       "            padding: 5px 10px;\n",
       "            border-radius: 15px;\n",
       "            font-weight: bold;\n",
       "            font-size: 1em;\n",
       "            box-shadow: 0px 2px 4px rgba(0, 0, 0, 0.2);\n",
       "            display: flex;\n",
       "            align-items: center;  /* Align text and icon vertically */\n",
       "        }\n",
       "        .novelty-counter {\n",
       "            background-color: transparent;\n",
       "            color: #FFA500;  /* Orange color for the flame icon and text */\n",
       "        }\n",
       "        .flame-icon {\n",
       "            vertical-align: middle;\n",
       "            margin-right: 5px;\n",
       "            width: 24px;  /* Adjusted width of the flame icon */\n",
       "            height: 24px; /* Adjusted height of the flame icon */\n",
       "        }\n",
       "        .impact-counter {\n",
       "            color: #121212; /* Black text color for impact */\n",
       "        }\n",
       "        .impact-counter.positive {\n",
       "            background-color: #4CAF50; /* Green for positive impact */\n",
       "        }\n",
       "        .impact-counter.negative {\n",
       "            background-color: #F44336; /* Red for negative impact */\n",
       "        }\n",
       "        .impact-counter.neutral {\n",
       "            background-color: transparent; /* Transparent for neutral impact */\n",
       "            color: #00BFFF; /* Dynamic blue for neutral impact text */\n",
       "        }\n",
       "        .magnitude-counter {\n",
       "            background-color: transparent; /* Transparent for the magnitude box */\n",
       "            color: #00BFFF; /* Dynamic blue for magnitude text */\n",
       "        }\n",
       "        .magnitude-counter.high {\n",
       "            color: #F44336; /* Red for high magnitude */\n",
       "        }\n",
       "        .magnitude-counter.medium {\n",
       "            color: #FFD700; /* Yellow for medium magnitude */\n",
       "        }\n",
       "        .magnitude-counter.low {\n",
       "            color: #FFFFFF; /* White for low magnitude */\n",
       "        }\n",
       "        .impact-icon, .intensity-arrow {\n",
       "            vertical-align: middle;\n",
       "            margin-right: 5px;\n",
       "            width: 24px;  /* Adjusted width of the icons */\n",
       "            height: 24px; /* Adjusted height of the icons */\n",
       "        }\n",
       "        .counter-label {\n",
       "            font-size: 0.8em;\n",
       "            color: #E0E0E0; /* White color for the counter labels */\n",
       "            margin-right: 5px;\n",
       "            text-transform: uppercase;\n",
       "            letter-spacing: 1px;\n",
       "        }\n",
       "        .description {\n",
       "            font-size: 1.1em;\n",
       "            margin-bottom: 15px;\n",
       "            color: #E0E0E0; /* White color for description */\n",
       "        }\n",
       "    </style>\n",
       "</head>\n",
       "<body>\n",
       "    <div class=\"container\">\n",
       "        <!-- Logo Section -->\n",
       "        <img src=\"assets/bigdata-logo-white.svg\" alt=\"Big Data Logo\" class=\"logo\">\n",
       "        \n",
       "        <!-- Title Section -->\n",
       "        <div class=\"title\">Central Bank Announcements - 2025-07-01</div>\n",
       "        \n",
       "        <!-- Content Section -->\n",
       "        <div class=\"content\">\n",
       "            <!-- Left Column -->\n",
       "            <div class=\"left-column\">\n",
       "                <h2 class=\"section-title\">The Day in Review</h2>\n",
       "                <ul class=\"bullet-points\">\n",
       "                    \n",
       "                    <li><b>Fed and RBA Policies</b>: Fed's interest rate decisions influenced by strong labor market data (7.769 million job openings) and political pressures; RBA focuses on stable inflation and AUD support.</li>\n",
       "                    \n",
       "                    <li><b>Central Bank Leaders Meeting</b>: Key central bank leaders to discuss divergent policies and digital currencies, emphasizing coordinated messaging for global economic stability.</li>\n",
       "                    \n",
       "                    <li><b>U.S. Tariffs Impact</b>: 10% tariff on European goods threatens Eurozone exports, complicating ECB's monetary policy and limiting interest rate cuts.</li>\n",
       "                    \n",
       "                    <li><b>Geopolitical Oil Tensions</b>: Oil supply disruptions could exacerbate inflation in the Eurozone, complicating ECB's interest rate decisions amid economic growth concerns.</li>\n",
       "                    \n",
       "                    <li><b>CBDC Initiatives</b>: Central banks push for CBDCs to maintain monetary sovereignty and adapt to digital finance, potentially transforming global currency mechanisms.</li>\n",
       "                    \n",
       "                    <li><b>Norway's Inflation Outlook</b>: Falling commodity prices may lead Norges Bank to consider a rate decrease, reflecting cautious economic growth expectations.</li>\n",
       "                    \n",
       "                    <li><b>Political Pressures on Fed</b>: Increased scrutiny on Fed's independence amid calls for rate cuts, complicating its ability to manage inflation effectively.</li>\n",
       "                    \n",
       "                    <li><b>RBI's Focus on MSMEs</b>: RBI targets MSME growth and inflation control through repo rate cuts and liquidity measures to stimulate economic recovery.</li>\n",
       "                    \n",
       "                    <li><b>Inflation Management</b>: Central banks globally, including ECB and BoE, face challenges in controlling inflation while fostering economic growth amid geopolitical uncertainties.</li>\n",
       "                    \n",
       "                    <li><b>Quantitative Easing Reevaluation</b>: ECB reassesses QE effectiveness amid rising inflation; potential for new liquidity measures from the Fed could impact asset prices.</li>\n",
       "                    \n",
       "                    <li><b>BoJ's Cautious Stance</b>: BoJ remains cautious on interest rates due to persistent inflation and external pressures, focusing on data-driven indicators for policy decisions.</li>\n",
       "                    \n",
       "                    <li><b>CBN's Forex Stabilization</b>: CBN implements measures to stabilize the naira, addressing a $7 billion forex backlog to enhance market liquidity.</li>\n",
       "                    \n",
       "                    <li><b>PBoC's Cautious Policy</b>: PBoC adopts a cautious monetary policy amid economic challenges, focusing on stability and potential reforms without immediate rate cuts.</li>\n",
       "                    \n",
       "                </ul>\n",
       "            </div>\n",
       "\n",
       "            <!-- Separator -->\n",
       "            <div class=\"separator\"></div>\n",
       "\n",
       "            <!-- Right Column -->\n",
       "            <div class=\"right-column\">\n",
       "                \n",
       "                <div class=\"topic-section\">\n",
       "                    <div class=\"counter-container\">\n",
       "                        <div class=\"news-counter\">\n",
       "                            <span class=\"counter-label\">Volume Score</span>\n",
       "                            30 News\n",
       "                        </div>\n",
       "                        <div class=\"novelty-counter\">\n",
       "                            <span class=\"counter-label\">Novelty Score</span>\n",
       "                            <img src=\"assets/flame-icon.png\" alt=\"Flame Icon\" class=\"flame-icon\">\n",
       "                            Novel\n",
       "                        </div>\n",
       "                        <div class=\"impact-counter negative\">\n",
       "                            <span class=\"counter-label\">Price Impact</span>\n",
       "                            Negative\n",
       "                        </div>\n",
       "                        <div class=\"magnitude-counter high\">\n",
       "                            <span class=\"counter-label\">Intensity</span>\n",
       "                            <img src=\"assets/arrow_up.png\" alt=\"Intensity Arrow\" class=\"intensity-arrow\">\n",
       "                            High\n",
       "                        </div>\n",
       "                    </div>\n",
       "                    <h2 class=\"topic-title\">Fed and RBA Interest Rate Policies Driven by Economic Data and Political Pressures</h2>\n",
       "                    <p class=\"description\">Central Bank interest rate policies, particularly those of the Federal Reserve (Fed) and the Reserve Bank of Australia (RBA), are significantly influenced by economic indicators, political pressures, and external factors such as tariffs. The Fed's decisions are shaped by labor market data, inflation expectations, and comments from political figures, including former President Trump, who has criticized the Fed for not lowering rates. Recent economic data, including a robust jobs report, has reduced the likelihood of immediate rate cuts, with markets pricing in only a 21% chance of a cut at the upcoming Federal Open Market Committee (FOMC) meeting. Fed Chair Jerome Powell has indicated a cautious approach, emphasizing the need to assess the impact of tariffs on inflation before making any decisions. The RBA's interest rate adjustments aim to maintain a stable inflation rate and influence the Australian Dollar (AUD), with high rates supporting the currency. Overall, the interplay between economic conditions, political influence, and central bank policies remains critical in shaping monetary policy and its implications for economic growth and market dynamics.</p>\n",
       "                </div>\n",
       "                \n",
       "                <div class=\"topic-section\">\n",
       "                    <div class=\"counter-container\">\n",
       "                        <div class=\"news-counter\">\n",
       "                            <span class=\"counter-label\">Volume Score</span>\n",
       "                            4 News\n",
       "                        </div>\n",
       "                        <div class=\"novelty-counter\">\n",
       "                            <span class=\"counter-label\">Novelty Score</span>\n",
       "                            <img src=\"assets/flame-icon.png\" alt=\"Flame Icon\" class=\"flame-icon\">\n",
       "                            Novel\n",
       "                        </div>\n",
       "                        <div class=\"impact-counter negative\">\n",
       "                            <span class=\"counter-label\">Price Impact</span>\n",
       "                            Negative\n",
       "                        </div>\n",
       "                        <div class=\"magnitude-counter high\">\n",
       "                            <span class=\"counter-label\">Intensity</span>\n",
       "                            <img src=\"assets/arrow_up.png\" alt=\"Intensity Arrow\" class=\"intensity-arrow\">\n",
       "                            High\n",
       "                        </div>\n",
       "                    </div>\n",
       "                    <h2 class=\"topic-title\">Bank of England Faces Inflation Challenges Amid Economic Uncertainty</h2>\n",
       "                    <p class=\"description\">The Bank of England (BoE), under Governor Andrew Bailey, is navigating a complex economic landscape characterized by signs of softening in the UK economy and labor market. Bailey emphasized the importance of maintaining vigilance to achieve the inflation target of 2%, especially in light of recent declines in energy prices due to geopolitical events. However, uncertainties surrounding global economic conditions and domestic investment decisions raise concerns that further tightening of monetary policy could be counterproductive. The BoE is considering potential shifts in its monetary policy, including adjustments to its bond portfolio and interest rates, as it responds to inflationary pressures exacerbated by geopolitical developments. Additionally, there is increasing political pressure on central banks regarding interest rate decisions, reminiscent of past instances where such interventions undermined central bank independence. Policymaker Alan Taylor highlighted that the current monetary policy remains restrictive, indicating a cautious approach to rate cuts to avoid falling below inflation targets and increasing economic slack. Overall, the BoE's strategy reflects a careful balance between controlling inflation and fostering economic growth amid prevailing uncertainties.</p>\n",
       "                </div>\n",
       "                \n",
       "                <div class=\"topic-section\">\n",
       "                    <div class=\"counter-container\">\n",
       "                        <div class=\"news-counter\">\n",
       "                            <span class=\"counter-label\">Volume Score</span>\n",
       "                            3 News\n",
       "                        </div>\n",
       "                        <div class=\"novelty-counter\">\n",
       "                            <span class=\"counter-label\">Novelty Score</span>\n",
       "                            <img src=\"assets/flame-icon.png\" alt=\"Flame Icon\" class=\"flame-icon\">\n",
       "                            Novel\n",
       "                        </div>\n",
       "                        <div class=\"impact-counter positive\">\n",
       "                            <span class=\"counter-label\">Price Impact</span>\n",
       "                            Positive\n",
       "                        </div>\n",
       "                        <div class=\"magnitude-counter medium\">\n",
       "                            <span class=\"counter-label\">Intensity</span>\n",
       "                            <img src=\"assets/arrow_mid.png\" alt=\"Intensity Arrow\" class=\"intensity-arrow\">\n",
       "                            Medium\n",
       "                        </div>\n",
       "                    </div>\n",
       "                    <h2 class=\"topic-title\">Central Bank Leaders Unite to Address Divergent Policies and Digital Currency Initiatives</h2>\n",
       "                    <p class=\"description\">The upcoming joint appearance of key central bank leaders, including ECB President Christine Lagarde, Bank of Japan Governor Kazuo Ueda, and Federal Reserve Chair Jerome Powell, underscores the significance of coordinated messaging among major financial institutions. This event is poised to address divergent policy outlooks and their implications for global economic stability, making it a critical focus for investors and policymakers. The collaboration among central banks is increasingly relevant, particularly regarding digital currencies and international trade, as evidenced by discussions on developing a digital trade and investment platform. Such initiatives aim to facilitate the creation of central bank digital currencies (CBDCs), potentially transforming the global finance landscape by reducing transaction costs and enhancing economic efficiency, thereby influencing the monetary policies of central banks worldwide.</p>\n",
       "                </div>\n",
       "                \n",
       "                <div class=\"topic-section\">\n",
       "                    <div class=\"counter-container\">\n",
       "                        <div class=\"news-counter\">\n",
       "                            <span class=\"counter-label\">Volume Score</span>\n",
       "                            3 News\n",
       "                        </div>\n",
       "                        <div class=\"novelty-counter\">\n",
       "                            <span class=\"counter-label\">Novelty Score</span>\n",
       "                            <img src=\"assets/flame-icon.png\" alt=\"Flame Icon\" class=\"flame-icon\">\n",
       "                            Novel\n",
       "                        </div>\n",
       "                        <div class=\"impact-counter positive\">\n",
       "                            <span class=\"counter-label\">Price Impact</span>\n",
       "                            Positive\n",
       "                        </div>\n",
       "                        <div class=\"magnitude-counter medium\">\n",
       "                            <span class=\"counter-label\">Intensity</span>\n",
       "                            <img src=\"assets/arrow_mid.png\" alt=\"Intensity Arrow\" class=\"intensity-arrow\">\n",
       "                            Medium\n",
       "                        </div>\n",
       "                    </div>\n",
       "                    <h2 class=\"topic-title\">RBI's Monetary Policy Shift: Targeting MSME Growth and Inflation Control</h2>\n",
       "                    <p class=\"description\">The Reserve Bank of India (RBI) is actively shaping its monetary policy to support economic recovery, particularly focusing on the micro, small, and medium enterprises (MSME) sector, which has seen significant credit growth. This trend reflects the RBI's commitment to enhancing liquidity and stimulating economic activity, especially in the aftermath of the pandemic. Key measures include a reduction in the repo rate and the cash reserve ratio (CRR), alongside ongoing open market operations aimed at injecting funds into the banking system. Additionally, the RBI is reviewing its inflation targeting framework, which has been in place since 2016, with a focus on food inflation as a critical component of the Consumer Price Index (CPI). This review is expected to influence monetary policy decisions for the next five years. The RBI's proactive management of system liquidity, including repo auctions, is designed to facilitate smoother transmission of policy changes and support economic growth amid global trade uncertainties. Overall, the RBI's strategies are crucial for stabilizing the financial system and guiding market expectations in a challenging economic environment.</p>\n",
       "                </div>\n",
       "                \n",
       "                <div class=\"topic-section\">\n",
       "                    <div class=\"counter-container\">\n",
       "                        <div class=\"news-counter\">\n",
       "                            <span class=\"counter-label\">Volume Score</span>\n",
       "                            1 News\n",
       "                        </div>\n",
       "                        <div class=\"novelty-counter\">\n",
       "                            <span class=\"counter-label\">Novelty Score</span>\n",
       "                            <img src=\"assets/flame-icon.png\" alt=\"Flame Icon\" class=\"flame-icon\">\n",
       "                            Novel\n",
       "                        </div>\n",
       "                        <div class=\"impact-counter positive\">\n",
       "                            <span class=\"counter-label\">Price Impact</span>\n",
       "                            Positive\n",
       "                        </div>\n",
       "                        <div class=\"magnitude-counter high\">\n",
       "                            <span class=\"counter-label\">Intensity</span>\n",
       "                            <img src=\"assets/arrow_up.png\" alt=\"Intensity Arrow\" class=\"intensity-arrow\">\n",
       "                            High\n",
       "                        </div>\n",
       "                    </div>\n",
       "                    <h2 class=\"topic-title\">CBN's Strategic Moves to Stabilize Naira Amid \\$7 Billion Forex Backlog</h2>\n",
       "                    <p class=\"description\">Nigeria's inflation and economic policy are currently influenced by the Central Bank of Nigeria's (CBN) strategic measures aimed at stabilizing the naira against the US dollar. Key initiatives include addressing a \\$7 billion foreign exchange backlog and resuming Open Market Operations (OMO) sales to Foreign Portfolio Investors (FPIs) at market-reflective rates. These policies are designed to enhance liquidity in the foreign exchange market, which is essential for fostering economic stability and boosting investor confidence.</p>\n",
       "                </div>\n",
       "                \n",
       "                <div class=\"topic-section\">\n",
       "                    <div class=\"counter-container\">\n",
       "                        <div class=\"news-counter\">\n",
       "                            <span class=\"counter-label\">Volume Score</span>\n",
       "                            16 News\n",
       "                        </div>\n",
       "                        <div class=\"novelty-counter\">\n",
       "                            <span class=\"counter-label\">Novelty Score</span>\n",
       "                            <img src=\"assets/flame-icon.png\" alt=\"Flame Icon\" class=\"flame-icon\">\n",
       "                            Moderate\n",
       "                        </div>\n",
       "                        <div class=\"impact-counter negative\">\n",
       "                            <span class=\"counter-label\">Price Impact</span>\n",
       "                            Negative\n",
       "                        </div>\n",
       "                        <div class=\"magnitude-counter medium\">\n",
       "                            <span class=\"counter-label\">Intensity</span>\n",
       "                            <img src=\"assets/arrow_mid.png\" alt=\"Intensity Arrow\" class=\"intensity-arrow\">\n",
       "                            Medium\n",
       "                        </div>\n",
       "                    </div>\n",
       "                    <h2 class=\"topic-title\">Bank of Japan's Cautious Stance on Interest Rates Amid Persistent Inflation and Trade Pressures</h2>\n",
       "                    <p class=\"description\">The Bank of Japan (BoJ) is navigating a complex economic landscape as it approaches its policy meeting on July 30-31, with Governor Kazuo Ueda's comments significantly influencing market expectations. Recent improvements in business sentiment among large manufacturers may impact discussions on potential interest rate hikes, yet the BoJ remains cautious due to persistent inflation above its 2% target and external pressures, particularly from U.S. tariffs. The recent appointment of board member Kazuyuki Masu, who advocates for a careful approach to monetary policy, adds to the evolving dynamics within the BoJ. The central bank's focus on data-driven indicators, such as wage growth and inflation expectations, underscores its commitment to maintaining economic stability amid global trade tensions and domestic challenges. The BoJ's decision to pause its monetary policy normalization reflects the ongoing struggle to stimulate growth, particularly as private consumption remains a key GDP driver. Overall, the BoJ's cautious stance is critical for shaping market sentiment and influencing the Japanese Yen, as it balances the need for policy adjustments against economic uncertainties.</p>\n",
       "                </div>\n",
       "                \n",
       "                <div class=\"topic-section\">\n",
       "                    <div class=\"counter-container\">\n",
       "                        <div class=\"news-counter\">\n",
       "                            <span class=\"counter-label\">Volume Score</span>\n",
       "                            4 News\n",
       "                        </div>\n",
       "                        <div class=\"novelty-counter\">\n",
       "                            <span class=\"counter-label\">Novelty Score</span>\n",
       "                            <img src=\"assets/flame-icon.png\" alt=\"Flame Icon\" class=\"flame-icon\">\n",
       "                            Moderate\n",
       "                        </div>\n",
       "                        <div class=\"impact-counter negative\">\n",
       "                            <span class=\"counter-label\">Price Impact</span>\n",
       "                            Negative\n",
       "                        </div>\n",
       "                        <div class=\"magnitude-counter high\">\n",
       "                            <span class=\"counter-label\">Intensity</span>\n",
       "                            <img src=\"assets/arrow_up.png\" alt=\"Intensity Arrow\" class=\"intensity-arrow\">\n",
       "                            High\n",
       "                        </div>\n",
       "                    </div>\n",
       "                    <h2 class=\"topic-title\">Geopolitical Tensions Over Oil Supply Threaten Eurozone Inflation and Economic Growth</h2>\n",
       "                    <p class=\"description\">Geopolitical tensions, particularly those affecting oil supply routes, are significant drivers of inflationary pressures in the eurozone. KfW Research economist Stephanie Schoenwald noted that while oil prices have recently decreased, the potential for future increases remains a concern. European Central Bank (ECB) Vice President Luis de Guindos emphasized that rising oil prices could initially elevate inflation but may ultimately hinder economic activity, creating a complex relationship between inflation and growth. This uncertainty complicates the ECB's interest rate decisions, as it must navigate the risks of inflation against the necessity of supporting economic growth. ECB President Christine Lagarde warned of potential oil price spikes due to disruptions in critical areas like the Strait of Hormuz, which could exacerbate inflationary pressures and hinder the ECB's ability to implement monetary easing. Overall, geopolitical tensions present significant risks to inflation and monetary policy in Europe, necessitating a careful balance by central banks amid external shocks.</p>\n",
       "                </div>\n",
       "                \n",
       "                <div class=\"topic-section\">\n",
       "                    <div class=\"counter-container\">\n",
       "                        <div class=\"news-counter\">\n",
       "                            <span class=\"counter-label\">Volume Score</span>\n",
       "                            2 News\n",
       "                        </div>\n",
       "                        <div class=\"novelty-counter\">\n",
       "                            <span class=\"counter-label\">Novelty Score</span>\n",
       "                            <img src=\"assets/flame-icon.png\" alt=\"Flame Icon\" class=\"flame-icon\">\n",
       "                            Moderate\n",
       "                        </div>\n",
       "                        <div class=\"impact-counter negative\">\n",
       "                            <span class=\"counter-label\">Price Impact</span>\n",
       "                            Negative\n",
       "                        </div>\n",
       "                        <div class=\"magnitude-counter high\">\n",
       "                            <span class=\"counter-label\">Intensity</span>\n",
       "                            <img src=\"assets/arrow_up.png\" alt=\"Intensity Arrow\" class=\"intensity-arrow\">\n",
       "                            High\n",
       "                        </div>\n",
       "                    </div>\n",
       "                    <h2 class=\"topic-title\">Central Banks Reevaluate Quantitative Easing as Inflation Rises and Market Dynamics Shift</h2>\n",
       "                    <p class=\"description\">The viability of quantitative easing (QE) is under scrutiny as central banks like the European Central Bank (ECB) reassess its effectiveness amid rising inflation and significant losses from extensive bond purchases. The ECB's cautious approach suggests a more selective use of QE in the future, reflecting the need for adaptive monetary policy tools in a shifting economic environment. Concurrently, discussions surrounding the Federal Reserve's monetary policy hint at the potential for a new wave of liquidity in the Treasury market, reminiscent of QE, which could lead to increased asset prices, particularly in equities and cryptocurrencies such as Bitcoin. These developments underscore the critical implications of QE's role in shaping market dynamics and investor behavior amidst ongoing economic uncertainties.</p>\n",
       "                </div>\n",
       "                \n",
       "                <div class=\"topic-section\">\n",
       "                    <div class=\"counter-container\">\n",
       "                        <div class=\"news-counter\">\n",
       "                            <span class=\"counter-label\">Volume Score</span>\n",
       "                            9 News\n",
       "                        </div>\n",
       "                        <div class=\"novelty-counter\">\n",
       "                            <span class=\"counter-label\">Novelty Score</span>\n",
       "                            <img src=\"assets/flame-icon.png\" alt=\"Flame Icon\" class=\"flame-icon\">\n",
       "                            Repeat\n",
       "                        </div>\n",
       "                        <div class=\"impact-counter negative\">\n",
       "                            <span class=\"counter-label\">Price Impact</span>\n",
       "                            Negative\n",
       "                        </div>\n",
       "                        <div class=\"magnitude-counter high\">\n",
       "                            <span class=\"counter-label\">Intensity</span>\n",
       "                            <img src=\"assets/arrow_up.png\" alt=\"Intensity Arrow\" class=\"intensity-arrow\">\n",
       "                            High\n",
       "                        </div>\n",
       "                    </div>\n",
       "                    <h2 class=\"topic-title\">Central Banks Tackle Inflation Challenges Amid Economic Uncertainty</h2>\n",
       "                    <p class=\"description\">Inflation management remains a critical focus for central banks globally, with the European Central Bank (ECB) under President Christine Lagarde grappling with inflation targets amid economic uncertainty and a strengthening Euro. The ECB's vigilance is essential as it navigates the balance between fostering growth and controlling inflation, particularly with energy prices influencing recent trends. In South Africa, the South African Reserve Bank (SARB) is making strides towards lower inflation, positively impacting market sentiment and indicating potential monetary policy adjustments. Meanwhile, the Bank of Japan and the Bank of England face persistent inflation challenges, complicating their policy decisions. The Federal Reserve is also closely monitoring inflation expectations, which significantly influence interest rate strategies. In the Philippines, the Bangko Sentral ng Pilipinas (BSP) continues to support economic growth despite fluctuating inflation rates. Overall, the interplay between inflation trends and monetary policy decisions is crucial for maintaining economic stability and investor confidence across various regions.</p>\n",
       "                </div>\n",
       "                \n",
       "                <div class=\"topic-section\">\n",
       "                    <div class=\"counter-container\">\n",
       "                        <div class=\"news-counter\">\n",
       "                            <span class=\"counter-label\">Volume Score</span>\n",
       "                            6 News\n",
       "                        </div>\n",
       "                        <div class=\"novelty-counter\">\n",
       "                            <span class=\"counter-label\">Novelty Score</span>\n",
       "                            <img src=\"assets/flame-icon.png\" alt=\"Flame Icon\" class=\"flame-icon\">\n",
       "                            Repeat\n",
       "                        </div>\n",
       "                        <div class=\"impact-counter negative\">\n",
       "                            <span class=\"counter-label\">Price Impact</span>\n",
       "                            Negative\n",
       "                        </div>\n",
       "                        <div class=\"magnitude-counter high\">\n",
       "                            <span class=\"counter-label\">Intensity</span>\n",
       "                            <img src=\"assets/arrow_up.png\" alt=\"Intensity Arrow\" class=\"intensity-arrow\">\n",
       "                            High\n",
       "                        </div>\n",
       "                    </div>\n",
       "                    <h2 class=\"topic-title\">U.S. 10% Tariff on European Goods Threatens Eurozone Exports and Complicates ECB Policy</h2>\n",
       "                    <p class=\"description\">The imposition of a 10% tariff on European goods by the U.S. poses a significant threat to eurozone exports, particularly as the euro has appreciated considerably. European Central Bank (ECB) policymakers, including Martins Kazaks, have noted that these tariffs increase costs for exporters, potentially dampening demand and leading to lower inflation. This complex scenario complicates the ECB's monetary policy decisions, limiting the scope for interest rate cuts amidst external pressures. Additionally, the uncertainty surrounding U.S.-EU trade negotiations further challenges the ECB's ability to formulate effective strategies. The interconnectedness of global economies is underscored by the influence of U.S. tariffs on other regions, such as Japan, where similar concerns about inflation and economic growth are prompting cautious evaluations of monetary policy adjustments.</p>\n",
       "                </div>\n",
       "                \n",
       "                <div class=\"topic-section\">\n",
       "                    <div class=\"counter-container\">\n",
       "                        <div class=\"news-counter\">\n",
       "                            <span class=\"counter-label\">Volume Score</span>\n",
       "                            6 News\n",
       "                        </div>\n",
       "                        <div class=\"novelty-counter\">\n",
       "                            <span class=\"counter-label\">Novelty Score</span>\n",
       "                            <img src=\"assets/flame-icon.png\" alt=\"Flame Icon\" class=\"flame-icon\">\n",
       "                            Repeat\n",
       "                        </div>\n",
       "                        <div class=\"impact-counter positive\">\n",
       "                            <span class=\"counter-label\">Price Impact</span>\n",
       "                            Positive\n",
       "                        </div>\n",
       "                        <div class=\"magnitude-counter medium\">\n",
       "                            <span class=\"counter-label\">Intensity</span>\n",
       "                            <img src=\"assets/arrow_mid.png\" alt=\"Intensity Arrow\" class=\"intensity-arrow\">\n",
       "                            Medium\n",
       "                        </div>\n",
       "                    </div>\n",
       "                    <h2 class=\"topic-title\">Central Banks Push for CBDCs to Safeguard Monetary Sovereignty in Digital Era</h2>\n",
       "                    <p class=\"description\">Central Bank Digital Currencies (CBDCs) are gaining prominence as central banks strive to uphold monetary sovereignty in an increasingly digital financial environment. The discourse surrounding CBDCs emphasizes the necessity for international collaboration to create frameworks that address the risks posed by digital currencies and stablecoins. As central banks, including the European Central Bank (ECB), explore the intricacies of CBDC design and implementation, the potential ramifications for the international monetary system are significant, possibly transforming the mechanisms of currency issuance and regulation. This evolution is crucial for central banks as they adapt to a future where digital currencies may play a central role.</p>\n",
       "                </div>\n",
       "                \n",
       "                <div class=\"topic-section\">\n",
       "                    <div class=\"counter-container\">\n",
       "                        <div class=\"news-counter\">\n",
       "                            <span class=\"counter-label\">Volume Score</span>\n",
       "                            4 News\n",
       "                        </div>\n",
       "                        <div class=\"novelty-counter\">\n",
       "                            <span class=\"counter-label\">Novelty Score</span>\n",
       "                            <img src=\"assets/flame-icon.png\" alt=\"Flame Icon\" class=\"flame-icon\">\n",
       "                            Repeat\n",
       "                        </div>\n",
       "                        <div class=\"impact-counter negative\">\n",
       "                            <span class=\"counter-label\">Price Impact</span>\n",
       "                            Negative\n",
       "                        </div>\n",
       "                        <div class=\"magnitude-counter high\">\n",
       "                            <span class=\"counter-label\">Intensity</span>\n",
       "                            <img src=\"assets/arrow_up.png\" alt=\"Intensity Arrow\" class=\"intensity-arrow\">\n",
       "                            High\n",
       "                        </div>\n",
       "                    </div>\n",
       "                    <h2 class=\"topic-title\">Political Pressures Threaten Federal Reserve's Independence Amid Calls for Rate Cuts</h2>\n",
       "                    <p class=\"description\">The legitimacy of central banks, particularly the Federal Reserve, is increasingly challenged by political pressures, notably from figures like President Trump, which raises concerns about the independence of monetary policy. Fed Chair Jerome Powell has stressed that the central bank's effectiveness in controlling inflation and ensuring financial stability is vital for maintaining its mandate. However, public demands for rate cuts complicate this relationship, highlighting the tension between political influence and the autonomy necessary for independent monetary policy. This balance is essential for sustaining trust and achieving economic stability.</p>\n",
       "                </div>\n",
       "                \n",
       "                <div class=\"topic-section\">\n",
       "                    <div class=\"counter-container\">\n",
       "                        <div class=\"news-counter\">\n",
       "                            <span class=\"counter-label\">Volume Score</span>\n",
       "                            4 News\n",
       "                        </div>\n",
       "                        <div class=\"novelty-counter\">\n",
       "                            <span class=\"counter-label\">Novelty Score</span>\n",
       "                            <img src=\"assets/flame-icon.png\" alt=\"Flame Icon\" class=\"flame-icon\">\n",
       "                            Repeat\n",
       "                        </div>\n",
       "                        <div class=\"impact-counter positive\">\n",
       "                            <span class=\"counter-label\">Price Impact</span>\n",
       "                            Positive\n",
       "                        </div>\n",
       "                        <div class=\"magnitude-counter medium\">\n",
       "                            <span class=\"counter-label\">Intensity</span>\n",
       "                            <img src=\"assets/arrow_mid.png\" alt=\"Intensity Arrow\" class=\"intensity-arrow\">\n",
       "                            Medium\n",
       "                        </div>\n",
       "                    </div>\n",
       "                    <h2 class=\"topic-title\">Norway's Inflation Outlook: Falling Commodity Prices Signal Potential Rate Decrease</h2>\n",
       "                    <p class=\"description\">Recent trends in inflation in Norway indicate a potential decrease in rates, influenced by falling commodity prices and rising tariff rates. The Norges Bank has acknowledged the uncertainty brought about by trade conflicts and tariff increases, yet the direct effects on Norway's economic growth seem limited. The central bank's cautious approach is reflected in its policy rate forecast, which anticipates a slight decrease in the near term, followed by stability in the long run. This perspective on inflation is crucial for guiding the central bank's decisions on interest rates and monetary policy, as it seeks to uphold price stability in the face of external challenges.</p>\n",
       "                </div>\n",
       "                \n",
       "                <div class=\"topic-section\">\n",
       "                    <div class=\"counter-container\">\n",
       "                        <div class=\"news-counter\">\n",
       "                            <span class=\"counter-label\">Volume Score</span>\n",
       "                            2 News\n",
       "                        </div>\n",
       "                        <div class=\"novelty-counter\">\n",
       "                            <span class=\"counter-label\">Novelty Score</span>\n",
       "                            <img src=\"assets/flame-icon.png\" alt=\"Flame Icon\" class=\"flame-icon\">\n",
       "                            Repeat\n",
       "                        </div>\n",
       "                        <div class=\"impact-counter negative\">\n",
       "                            <span class=\"counter-label\">Price Impact</span>\n",
       "                            Negative\n",
       "                        </div>\n",
       "                        <div class=\"magnitude-counter high\">\n",
       "                            <span class=\"counter-label\">Intensity</span>\n",
       "                            <img src=\"assets/arrow_up.png\" alt=\"Intensity Arrow\" class=\"intensity-arrow\">\n",
       "                            High\n",
       "                        </div>\n",
       "                    </div>\n",
       "                    <h2 class=\"topic-title\">PBoC's Cautious Monetary Policy Amid China's Economic Challenges</h2>\n",
       "                    <p class=\"description\">China's economic landscape is currently marked by significant challenges, including a faltering post-pandemic recovery, concerns over deflation, and insufficient domestic demand. In response, the People's Bank of China (PBoC) has adopted a cautious approach to monetary policy, as evidenced by its recent quarterly policy statement that refrained from indicating any intentions to cut interest rates or lower the reserve requirement ratio. This cautious stance reflects the PBoC's concerns about economic stability amid mixed manufacturing data and diverging PMI results. The central bank is actively managing its monetary policy to ensure price stability and promote growth, utilizing tools such as the Loan Prime Rate (LPR) to influence borrowing costs. Additionally, the PBoC is seeking guidance from European financial institutions on navigating low interest rates, highlighting its focus on financial reforms and a broader set of monetary policy instruments compared to Western counterparts. The PBoC's decisions will be pivotal in shaping both domestic economic conditions and global market expectations, particularly in light of external pressures facing the Chinese economy.</p>\n",
       "                </div>\n",
       "                \n",
       "                <div class=\"topic-section\">\n",
       "                    <div class=\"counter-container\">\n",
       "                        <div class=\"news-counter\">\n",
       "                            <span class=\"counter-label\">Volume Score</span>\n",
       "                            1 News\n",
       "                        </div>\n",
       "                        <div class=\"novelty-counter\">\n",
       "                            <span class=\"counter-label\">Novelty Score</span>\n",
       "                            <img src=\"assets/flame-icon.png\" alt=\"Flame Icon\" class=\"flame-icon\">\n",
       "                            Repeat\n",
       "                        </div>\n",
       "                        <div class=\"impact-counter negative\">\n",
       "                            <span class=\"counter-label\">Price Impact</span>\n",
       "                            Negative\n",
       "                        </div>\n",
       "                        <div class=\"magnitude-counter high\">\n",
       "                            <span class=\"counter-label\">Intensity</span>\n",
       "                            <img src=\"assets/arrow_up.png\" alt=\"Intensity Arrow\" class=\"intensity-arrow\">\n",
       "                            High\n",
       "                        </div>\n",
       "                    </div>\n",
       "                    <h2 class=\"topic-title\">Surge in US Job Openings to 7.769 Million Signals Strong Labor Market, Pressuring Fed on Interest Rates</h2>\n",
       "                    <p class=\"description\">The recent increase in US job openings to 7.769 million indicates a strong labor market, a key factor in economic growth. This surge, surpassing expectations, may prompt the Federal Reserve to reassess its monetary policy, particularly regarding interest rates. However, the relationship between job growth and inflation is crucial, as the Fed must navigate these dynamics to foster sustainable economic expansion.</p>\n",
       "                </div>\n",
       "                \n",
       "            </div>\n",
       "        </div>\n",
       "    </div>\n",
       "</body>\n",
       "</html>"
      ],
      "text/plain": [
       "<IPython.core.display.HTML object>"
      ]
     },
     "metadata": {},
     "output_type": "display_data"
    },
    {
     "name": "stdout",
     "output_type": "stream",
     "text": [
      "\n",
      "\n",
      "\n"
     ]
    }
   ],
   "source": [
    "# Generate and display the HTML report for each date\n",
    "for report in prepared_reports:\n",
    "    html_content = generate_html_report(\n",
    "        report['date'],\n",
    "        report['day_in_review'],\n",
    "        report['topics'],\n",
    "        'Central Bank Announcements'  # Pass the main theme to dynamically generate the title\n",
    "    )\n",
    "    display(HTML(html_content))\n",
    "    print(\"\")\n",
    "    print(\"\")\n",
    "    print(\"\")"
   ]
  },
  {
   "cell_type": "code",
   "execution_count": null,
   "id": "4ae0a5ed",
   "metadata": {},
   "outputs": [],
   "source": []
  }
 ],
 "metadata": {
  "kernelspec": {
   "display_name": "cookbook",
   "language": "python",
   "name": "python3"
  },
  "language_info": {
   "codemirror_mode": {
    "name": "ipython",
    "version": 3
   },
   "file_extension": ".py",
   "mimetype": "text/x-python",
   "name": "python",
   "nbconvert_exporter": "python",
   "pygments_lexer": "ipython3",
   "version": "3.13.5"
  }
 },
 "nbformat": 4,
 "nbformat_minor": 5
}
