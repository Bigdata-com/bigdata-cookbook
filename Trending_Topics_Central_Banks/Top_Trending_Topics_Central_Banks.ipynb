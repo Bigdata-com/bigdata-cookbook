{
 "cells": [
  {
   "cell_type": "markdown",
   "id": "d4fefb70-daa9-4ca4-ad5a-106a787e5816",
   "metadata": {},
   "source": [
    "<img src=\"https://bigdata.com/assets/notebooks/bigdata-by-ravenpack-logo.png\" width=\"300\" align=\"center\">\n",
    "<br>\n",
    "<br>\n",
    "\n",
    "# **Daily Top Trending Topics for Central Banks Announcements**\n",
    "\n",
    "This Jupyter notebook implements an **agentic workflow** based on the content retrieval from BigData API to **identify, verifiy, reindex, and summarize** the specialized news that are **trending topics** for the Central Banks Announcements. \n",
    "\n",
    "The workflow is structured as follows:\n",
    "\n",
    "**Step 1- Generation of the Lexicon**: Identify the specialized industry-specific jargon relevant to the Central Banks Announcements to ensure a high recall in the content retrieval.\n",
    "\n",
    "**Step 2- Content Retrieval Based on BigData**: Perform a keyword search on the news content with the Bigdata API to retrieve documents, splitting the search over daily timeframes and multi-threading the content search on the individual keywords for speed purpose.\n",
    "\n",
    "**Step 3- Topic Clustering and Selection**: Perform topic modelling using a large language model to verify and cluster the news. Then, the summarization ensures topic selection identifying the top trending news for Central Banks Announcements, while deriving advanced analytics to quantify the trendiness (based on news volume), novelty (based on daily changes in summaries), impact and magnitude (based on the impact on equity prices) of the trending topics.\n",
    "\n",
    "**Step 4- Customized Report Generation**: Customize the ranking system of the summarized topics based on their trendiness, novelty, and impact on equity prices, and display a daily market update. For verification purpose, the reports are supported by the granular news and sources.\n",
    "\n",
    "**Output**\n",
    "\n",
    "1. **Daily Market Reports**: A detailed and visually appealing report summarizing the top trending topics for Central Banks Announcements, with a customizable ranking system to reindex the news.\n",
    "2. **Actionable Dataframe**: A timestamped dataframe containing the granular news clustered into relevant topics, and the advanced analytics of trendiness, novelty, impact, and magnitude scores to be potentially used for backtesting purpose.\n",
    "\n",
    "**Requirements**\n",
    "\n",
    "- Credentials for the Bigdata API to perform keyword and document searches on news content.\n",
    "- Credentials for the OpenAI API used in the notebook, this could be substituted with any other LLM.\n",
    "- A `tools` folder in the same directory as this notebook, containing a Python file named `utils_reports.py` with all required functionalities.\n",
    "- A `requirements.txt` file listing all the necessary Python libraries and dependencies. We recommend installing these packages in a virtual environment."
   ]
  },
  {
   "cell_type": "markdown",
   "id": "18b41fa6-affa-4729-bbfc-9b14025bbe3b",
   "metadata": {},
   "source": [
    "# Set-Up"
   ]
  },
  {
   "cell_type": "code",
   "execution_count": 1,
   "id": "7346a680-6158-4eee-acc8-7cc4f9e4140e",
   "metadata": {},
   "outputs": [],
   "source": [
    "%load_ext autoreload\n",
    "%autoreload 2"
   ]
  },
  {
   "cell_type": "code",
   "execution_count": 2,
   "id": "6e3d1449-71c5-4d85-9027-3242f60bc3e4",
   "metadata": {},
   "outputs": [
    {
     "data": {
      "text/plain": [
       "True"
      ]
     },
     "execution_count": 2,
     "metadata": {},
     "output_type": "execute_result"
    }
   ],
   "source": [
    "import os\n",
    "from dotenv import load_dotenv\n",
    "\n",
    "load_dotenv(os.path.abspath(\"/home/abouchs/.python_env_var/.env\"))"
   ]
  },
  {
   "cell_type": "code",
   "execution_count": 3,
   "id": "a99ea983-f879-4b73-8d12-4ffd5b0d1247",
   "metadata": {},
   "outputs": [],
   "source": [
    "BIGDATA_USERNAME = os.getenv(\"BIGDATA_USERNAME\")\n",
    "BIGDATA_PASSWORD = os.getenv(\"BIGDATA_PASSWORD\")"
   ]
  },
  {
   "cell_type": "code",
   "execution_count": 4,
   "id": "00100898-131f-43e6-8ecb-b2e4edac8931",
   "metadata": {},
   "outputs": [],
   "source": [
    "from bigdata_client import Bigdata\n",
    "bigdata_cred = Bigdata(BIGDATA_USERNAME, BIGDATA_PASSWORD)"
   ]
  },
  {
   "cell_type": "code",
   "execution_count": 5,
   "id": "b938f809",
   "metadata": {},
   "outputs": [],
   "source": [
    "from src.lexicon_generator import LexiconGenerator\n",
    "from src.search_topics import search_by_keywords\n",
    "from src.topics_extractor import (process_all_reports,\n",
    "                                run_process_all_trending_topics,\n",
    "                                run_add_advanced_novelty_scores,\n",
    "                                add_market_impact_to_df,\n",
    "                                prepare_data_for_report,\n",
    "                                generate_html_report)\n",
    "from IPython.display import display\n",
    "from IPython.core.display import HTML"
   ]
  },
  {
   "cell_type": "code",
   "execution_count": 6,
   "id": "5a6cee2a",
   "metadata": {},
   "outputs": [],
   "source": [
    "output_dir = f\"//home/abouchs/shared/OutputData/abouchs/Bigdata_cookbook/trending_topics/\""
   ]
  },
  {
   "cell_type": "code",
   "execution_count": 7,
   "id": "65a172cc",
   "metadata": {},
   "outputs": [
    {
     "name": "stdout",
     "output_type": "stream",
     "text": [
      "✅ nest_asyncio applied\n"
     ]
    }
   ],
   "source": [
    "try:\n",
    "    import asyncio\n",
    "    asyncio.get_running_loop()\n",
    "    import nest_asyncio; nest_asyncio.apply()\n",
    "    print(\"✅ nest_asyncio applied\")\n",
    "except (RuntimeError, ImportError):\n",
    "    print(\"✅ nest_asyncio not needed\")"
   ]
  },
  {
   "cell_type": "markdown",
   "id": "bd340d97-b9b5-48d2-b41f-b27301652d61",
   "metadata": {
    "tags": []
   },
   "source": [
    "# Step 1- Generation of the Lexicon"
   ]
  },
  {
   "cell_type": "markdown",
   "id": "d0c60e14-191f-4e86-84f9-17b376f43a1b",
   "metadata": {},
   "source": [
    "In this step, we identify the specialized industry-specific jargon relevant to the Central Banks Announcements to ensure a high recall in the content retrieval."
   ]
  },
  {
   "cell_type": "code",
   "execution_count": 9,
   "id": "0ff52d5b-3f4c-484b-9ef6-59c99f824f84",
   "metadata": {},
   "outputs": [],
   "source": [
    "main_theme = \"Central Bank Announcements\"\n",
    "system_prompt = (\n",
    "    f\"\"\"You are an expert tasked with generating a lexicon of the most important and relevant keywords specific to the {main_theme}.\n",
    "\n",
    "    Your goal is to compile a list of terms that are critical for understanding and analyzing the {main_theme}. This lexicon should include only the most essential keywords, phrases, and abbreviations that are directly associated with {main_theme} topics, analysis, logistics, and industry reporting.\n",
    "\n",
    "    Guidelines:\n",
    "\n",
    "    1. **Focus on relevance:** Include only the most important and commonly used keywords that are uniquely tied to the {main_theme}. These should reflect key concepts, industry-specific mechanisms, benchmarks, logistical aspects, and terminology that are central to the theme.\n",
    "    2. **Avoid redundancy:** Do not repeat the primary terms of the theme in multiple phrases. Include the main term (e.g., \"{main_theme}\") only as a standalone term, and focus on other specific terms without redundant repetition.\n",
    "    3. **Strict exclusion of generic terms:** Exclude any terms that are generic or broadly used across different fields, such as \"Arbitrage,\" \"Hedge,\" \"Liquidity,\" or \"Futures Contract,\" even if they have a specific meaning within the context of {main_theme}. Only include terms that are uniquely relevant to {main_theme} and cannot be applied broadly.\n",
    "    4. **Include specific variations:** Where applicable, provide both the full form and common abbreviations relevant to the {main_theme}. **Present the full term and its abbreviation as separate entries.** For example, instead of \"Zero Lower Bound (ZLB)\", list \"Zero Lower Bound\" and \"ZLB\" as separate keywords.\n",
    "    5. **Ensure clarity:** Each keyword should be concise, clear, and directly relevant to the {main_theme}, avoiding any ambiguity.\n",
    "    6. **Select only the most critical:** There is no need to reach a specific number of keywords. Focus solely on the most crucial terms without padding the list. If fewer keywords meet the criteria, that is acceptable.\n",
    "\n",
    "    The output should be a lexicon of only the most critical and uniquely relevant keywords related to the {main_theme}, formatted as a JSON list, with full terms and abbreviations listed separately.\n",
    "    \"\"\"\n",
    ")"
   ]
  },
  {
   "cell_type": "code",
   "execution_count": 8,
   "id": "3ab6fdaa",
   "metadata": {},
   "outputs": [],
   "source": [
    "LexiconGenerator = LexiconGenerator(openai_key=os.getenv(\"OPENAI_API_KEY\"), model=\"gpt-4o\", seeds=[123, 123456, 123456789, 456789, 789])"
   ]
  },
  {
   "cell_type": "code",
   "execution_count": 10,
   "id": "8d2cb29b-6c7c-4a16-ab56-c705e3b68f2b",
   "metadata": {
    "tags": []
   },
   "outputs": [],
   "source": [
    "keywords_lex = LexiconGenerator.generate(theme=main_theme, system_prompt=system_prompt)"
   ]
  },
  {
   "cell_type": "markdown",
   "id": "a230635a-b3e9-468b-9681-ac06b453f20b",
   "metadata": {},
   "source": [
    "# Step 2- Content Retrieval Based on Bigdata"
   ]
  },
  {
   "cell_type": "markdown",
   "id": "d439d1c4-865e-4d70-8fe9-5d2492f90541",
   "metadata": {},
   "source": [
    "In this section, we perform a keyword search on the news content with the Bigdata API to retrieve documents, splitting the search over daily timeframes and multi-threading the content search on the individual keywords for speed purpose. The user can define the time range below to generate daily reports between the start and end dates."
   ]
  },
  {
   "cell_type": "code",
   "execution_count": 11,
   "id": "94e93f7f-c1fe-42ca-9d3b-cbe0b5c9768e",
   "metadata": {},
   "outputs": [],
   "source": [
    "start_query = '2025-05-18'\n",
    "end_query = '2025-05-20'"
   ]
  },
  {
   "cell_type": "code",
   "execution_count": 12,
   "id": "add7be3b",
   "metadata": {},
   "outputs": [
    {
     "name": "stdout",
     "output_type": "stream",
     "text": [
      "About to run 180 queries\n",
      "Example Query: Keyword('Central Bank Announcements') over date range: AbsoluteDateRange('2025-05-18T00:00:00', '2025-05-18T23:59:59')\n"
     ]
    },
    {
     "name": "stderr",
     "output_type": "stream",
     "text": [
      "Querying Bigdata...: 100%|██████████| 180/180 [00:37<00:00,  4.83it/s]\n"
     ]
    }
   ],
   "source": [
    "results, daily_keyword_count = search_by_keywords(\n",
    "    keywords=keywords_lex,\n",
    "    start_date=start_query,\n",
    "    end_date=end_query,\n",
    "    freq='D',\n",
    "    document_limit=10)"
   ]
  },
  {
   "cell_type": "markdown",
   "id": "0fc44aa5-c056-4163-8dea-d204f8b1307b",
   "metadata": {},
   "source": [
    "# Step 3- Topic Clustering and Selection"
   ]
  },
  {
   "cell_type": "markdown",
   "id": "8bcf7b34-71cd-4631-a220-754be8118aaa",
   "metadata": {},
   "source": [
    "In this step, we perform topic modelling using a large language model to verify and cluster the news. Then, the summarization ensures topic selection identifying the top trending news for Central Banks Announcements, while deriving advanced analytics to quantify the trendiness (based on news volume), novelty (based on daily changes in summaries), impact and magnitude (based on the impact on Equity prices) of the trending topics."
   ]
  },
  {
   "cell_type": "markdown",
   "id": "0ef0fb0c-bc04-4024-b194-aa15b50b986f",
   "metadata": {},
   "source": [
    "Before performing the topic clustering, we apply a verification layer to remove the news that are not relative to the Central Banks announcements"
   ]
  },
  {
   "cell_type": "code",
   "execution_count": 13,
   "id": "ada630fc",
   "metadata": {},
   "outputs": [],
   "source": [
    "model = \"gpt-4o-mini\" \n",
    "api_key = os.getenv(\"OPENAI_API_KEY\")"
   ]
  },
  {
   "cell_type": "code",
   "execution_count": 14,
   "id": "aa9249ab-cb3f-4621-872e-437e5e6e7667",
   "metadata": {
    "tags": []
   },
   "outputs": [
    {
     "data": {
      "application/vnd.jupyter.widget-view+json": {
       "model_id": "68b1839b2c2e4bbe801ed34b63099f93",
       "version_major": 2,
       "version_minor": 0
      },
      "text/plain": [
       "Filtering News:   0%|          | 0/2610 [00:00<?, ?it/s]"
      ]
     },
     "metadata": {},
     "output_type": "display_data"
    }
   ],
   "source": [
    "semaphore_size = 1000\n",
    "\n",
    "# Assuming unique_reports is your DataFrame\n",
    "filtered_reports = process_all_reports(results, model, api_key, main_theme, semaphore_size)"
   ]
  },
  {
   "cell_type": "markdown",
   "id": "e7d982ff-751c-42fc-a704-4cf576035e35",
   "metadata": {},
   "source": [
    "In this cell, we leverage a LLM to perform topic modeling, identifying and clustering the key topics from the news reports."
   ]
  },
  {
   "cell_type": "code",
   "execution_count": 15,
   "id": "a989a1aa-e758-489b-98a6-0ba259ea976c",
   "metadata": {},
   "outputs": [
    {
     "data": {
      "application/vnd.jupyter.widget-view+json": {
       "model_id": "8dc964d977c4413ebc79aeab9b96dcf0",
       "version_major": 2,
       "version_minor": 0
      },
      "text/plain": [
       "Extracting Topics for 2025-05-18:   0%|          | 0/20 [00:00<?, ?it/s]"
      ]
     },
     "metadata": {},
     "output_type": "display_data"
    },
    {
     "data": {
      "application/vnd.jupyter.widget-view+json": {
       "model_id": "4f39c970b2db418298d9dfa991f8ef5e",
       "version_major": 2,
       "version_minor": 0
      },
      "text/plain": [
       "Extracting Topics for 2025-05-19:   0%|          | 0/20 [00:00<?, ?it/s]"
      ]
     },
     "metadata": {},
     "output_type": "display_data"
    },
    {
     "data": {
      "application/vnd.jupyter.widget-view+json": {
       "model_id": "c878a7ee17754433aa79c8321d39a973",
       "version_major": 2,
       "version_minor": 0
      },
      "text/plain": [
       "Extracting Topics for 2025-05-20:   0%|          | 0/20 [00:00<?, ?it/s]"
      ]
     },
     "metadata": {},
     "output_type": "display_data"
    },
    {
     "name": "stdout",
     "output_type": "stream",
     "text": [
      "Consolidating topics...\n"
     ]
    },
    {
     "name": "stderr",
     "output_type": "stream",
     "text": [
      "Consolidating topic batches: 100%|██████████| 4/4 [00:11<00:00,  2.79s/it]\n"
     ]
    },
    {
     "name": "stdout",
     "output_type": "stream",
     "text": [
      "Summarizing text for each topic...\n"
     ]
    },
    {
     "name": "stderr",
     "output_type": "stream",
     "text": [
      "Summarizing topics: 100%|██████████| 18/18 [00:07<00:00,  2.56it/s]\n",
      "Generating titles: 100%|██████████| 19/19 [00:07<00:00,  2.70it/s]\n"
     ]
    },
    {
     "name": "stdout",
     "output_type": "stream",
     "text": [
      "Generating Day in Review summaries...\n",
      "Adding one-line summaries to DataFrame...\n"
     ]
    },
    {
     "name": "stderr",
     "output_type": "stream",
     "text": [
      "Generating text summaries: 100%|██████████| 631/631 [00:33<00:00, 18.69it/s] \n"
     ]
    }
   ],
   "source": [
    "flattened_trending_topics_df = run_process_all_trending_topics(\n",
    "    unique_reports=filtered_reports,\n",
    "    model=model,\n",
    "    start_query=start_query,\n",
    "    end_query=end_query,\n",
    "    api_key=os.environ['OPENAI_API_KEY'],\n",
    "    main_theme = main_theme,\n",
    "    batches = 20\n",
    ")"
   ]
  },
  {
   "cell_type": "markdown",
   "id": "4f9c6266-d673-462e-85e5-ffbe695a6dbd",
   "metadata": {},
   "source": [
    "In this cell, we iterate over each identified topic and enrich the DataFrame by retrieving and adding the full details of the cited news, including source headlines and the news text."
   ]
  },
  {
   "cell_type": "markdown",
   "id": "dc7f18a8-f5a2-4bf2-b713-e525197fad29",
   "metadata": {},
   "source": [
    "**Trendiness and Novelty Scores**: We derive analytics related to the trendiness of the topic based on the news volume, and the novelty of the topic based on the changes in daily summaries, evaluating the uniqueness and freshness of each topic. "
   ]
  },
  {
   "cell_type": "code",
   "execution_count": 16,
   "id": "9344c4cf-847c-49c4-a5bc-23cf1b542369",
   "metadata": {},
   "outputs": [
    {
     "data": {
      "application/vnd.jupyter.widget-view+json": {
       "model_id": "980499f4b8204eb5b63b9531678f36b9",
       "version_major": 2,
       "version_minor": 0
      },
      "text/plain": [
       "Calculating Novelty Scores:   0%|          | 0/27 [00:00<?, ?it/s]"
      ]
     },
     "metadata": {},
     "output_type": "display_data"
    }
   ],
   "source": [
    "# Calculate trendiness and novelty scores, assessing the uniqueness and freshness of each topic\n",
    "flattened_trending_topics_df = run_add_advanced_novelty_scores(flattened_trending_topics_df, api_key = os.environ['OPENAI_API_KEY'], main_theme = main_theme)"
   ]
  },
  {
   "cell_type": "markdown",
   "id": "8dad5fdd-ec65-49ad-a706-2f125f730621",
   "metadata": {},
   "source": [
    "**Price impact**: We derive analytics related to the impact (Positive, Negative) and magnitude (High, Medium, Low) of the topics, inferring their  market impact on equity prices. The prince impact inference is based on the price mechanisms and the perceived sentiment and market reaction of the news on the market."
   ]
  },
  {
   "cell_type": "code",
   "execution_count": 17,
   "id": "a4ee2bfa-7bc4-4a38-a43f-dc3bc285a78a",
   "metadata": {},
   "outputs": [],
   "source": [
    "# Assess the market impact for each topic, evaluating how each topic influences Equity market\n",
    "point_of_view = 'Domestic Equity market'\n",
    "flattened_trending_topics_df = add_market_impact_to_df(flattened_trending_topics_df, api_key = os.environ['OPENAI_API_KEY'], main_theme = main_theme, point_of_view = point_of_view)"
   ]
  },
  {
   "cell_type": "markdown",
   "id": "5b1c59ba-8f79-42e5-8e6f-7d342284c8f5",
   "metadata": {},
   "source": [
    "We display the results of topic modeling and summarization. The **Topic** column represents the themes inferred through topic clustering using a LLM, which groups the news articles based on their content and underlying themes. The **Summary** provides a synthesized overview of all news articles within the same topic, offering a high-level view of the key messages for each cluster. The **Topic** is then rephrased into a concise form based on the summary. The **Text_Summary** provides a detailed summary of each individual chunk, capturing its core message."
   ]
  },
  {
   "cell_type": "markdown",
   "id": "a6d5c43a-0d83-4621-8e5e-ad064d0b6190",
   "metadata": {},
   "source": [
    "For verification purpose, this actionable timestamped dataframe contains the granular news clustered into relevant topics, and also the advanced analytics of trendiness, novelty, impact, and magnitude scores to be potentially used for backtesting. "
   ]
  },
  {
   "cell_type": "markdown",
   "id": "e04f408a-7ba2-4157-b5cd-9e580ff4e12c",
   "metadata": {},
   "source": [
    "# Step 4- Customized Report Generation"
   ]
  },
  {
   "cell_type": "markdown",
   "id": "acbc5f20-ec30-4669-99f1-5ff1c2eca389",
   "metadata": {},
   "source": [
    "In this step, we rank the topics, allowing the user to customize the ranking system to reindex the news, based on their trendiness, novelty, and impact on equity prices. We finally display a daily market update, supported by the corresponding granular news and sources for verification purpose."
   ]
  },
  {
   "cell_type": "markdown",
   "id": "2088103e-9984-4951-96c8-f8723e8cfad8",
   "metadata": {},
   "source": [
    "The user selects the date for the report summarizing the top trending topics, and customizes the ranking system to prioritize the topics based on volume (trendiness and media attention), novelty (based on the emergence of new daily news), impact direction (positive or negative), and magnitude. The ranking system prioritizes the criteria in the order specified by the user, allowing for a tailored focus on the most relevant aspects of the data."
   ]
  },
  {
   "cell_type": "markdown",
   "id": "5cbf4275-da44-4ead-972a-d16f00ea7c5c",
   "metadata": {},
   "source": [
    "The order in which the criteria are listed in user_selected_ranking determines their priority for ranking the topics within the report. The first criterion in the list has the highest priority, followed by the second, and then the third. The user can customize the ranking by choosing to prioritize impact direction (positive or negative), novelty, magnitude, or volume, and has the flexibility to select 1, 2, or all 3 criteria based on their specific needs."
   ]
  },
  {
   "cell_type": "code",
   "execution_count": 18,
   "id": "4f650c38",
   "metadata": {},
   "outputs": [],
   "source": [
    "specific_date = '2025-05-20'  # Example date, can be modified as needed\n",
    "user_selected_ranking = ['novelty', 'volume', 'magnitude']  # User can modify this list to change the ranking order\n",
    "#impact_filter = 'positive_impact' #User can use the impact_filter to filter out the report"
   ]
  },
  {
   "cell_type": "code",
   "execution_count": 19,
   "id": "9908de34",
   "metadata": {},
   "outputs": [],
   "source": [
    "prepared_reports = prepare_data_for_report(flattened_trending_topics_df, user_selected_ranking, impact_filter = None, report_date = specific_date)"
   ]
  },
  {
   "cell_type": "code",
   "execution_count": 20,
   "id": "a9e22ce4-ee81-4a20-89cf-879bedcf878f",
   "metadata": {
    "tags": []
   },
   "outputs": [
    {
     "data": {
      "text/html": [
       "<!DOCTYPE html>\n",
       "<html lang=\"en\">\n",
       "<head>\n",
       "    <meta charset=\"UTF-8\">\n",
       "    <title>Central Bank Announcements - 2025-05-20</title>\n",
       "    <style>\n",
       "        body {\n",
       "            font-family: Arial, sans-serif;\n",
       "            background-color: #121212;\n",
       "            color: #E0E0E0;\n",
       "            margin: 20px;\n",
       "            padding: 0;\n",
       "            line-height: 1.6;\n",
       "        }\n",
       "        h1, h2, h3 {\n",
       "            color: #0080BF; /* Darker blue color for headings */\n",
       "        }\n",
       "        .container {\n",
       "            max-width: 1200px;\n",
       "            margin: 0 auto;\n",
       "            padding: 20px;\n",
       "            background-color: #1E1E1E;\n",
       "            border-radius: 10px;\n",
       "            box-shadow: 0px 4px 8px rgba(0, 0, 0, 0.4);\n",
       "            position: relative;  /* For positioning the logo */\n",
       "        }\n",
       "        .title {\n",
       "            text-align: center;\n",
       "            font-size: 2em;\n",
       "            margin-bottom: 20px;\n",
       "            color: #00BFFF; /* Dynamic blue color for the title */\n",
       "            text-transform: uppercase;\n",
       "            letter-spacing: 2px;\n",
       "            white-space: nowrap; /* Prevent text wrapping */\n",
       "        }\n",
       "        .logo {\n",
       "            position: absolute;\n",
       "            top: 20px;\n",
       "            left: 20px; /* Positioned to the left */\n",
       "            width: 180px;  /* Adjust the size as needed */\n",
       "            height: auto;\n",
       "        }\n",
       "        .content {\n",
       "            display: flex;\n",
       "        }\n",
       "        .left-column {\n",
       "            flex: 1;\n",
       "            max-width: 300px;\n",
       "            margin-right: 20px;\n",
       "        }\n",
       "        .right-column {\n",
       "            flex: 3;\n",
       "        }\n",
       "        .separator {\n",
       "            width: 2px;\n",
       "            background-color: #00BFFF; /* Dynamic blue color for the separator */\n",
       "            margin-right: 20px;\n",
       "        }\n",
       "        .section-title {\n",
       "            font-size: 1.5em;\n",
       "            margin-bottom: 15px;\n",
       "            color: #0080BF; /* Darker blue color for section titles */\n",
       "            text-transform: uppercase;\n",
       "        }\n",
       "        .bullet-points {\n",
       "            list-style-type: disc;\n",
       "            margin-left: 20px;\n",
       "            color: #E0E0E0; /* White color for bullet points */\n",
       "        }\n",
       "        .topic-section {\n",
       "            margin-bottom: 40px;  /* Increased space between updates */\n",
       "            padding: 20px;\n",
       "            background-color: #2A2A2A;\n",
       "            border-radius: 10px;\n",
       "            box-shadow: 0px 4px 6px rgba(0, 0, 0, 0.3);\n",
       "            position: relative;  /* To position the counters */\n",
       "        }\n",
       "        .topic-title {\n",
       "            font-size: 1.7em;\n",
       "            padding-top: 40px; /* Increase space above the title */\n",
       "            color: #0080BF; /* Darker blue color for topic titles */\n",
       "            text-transform: uppercase;\n",
       "        }\n",
       "        .counter-container {\n",
       "            position: absolute;\n",
       "            top: 20px;\n",
       "            right: 20px;\n",
       "            display: flex;\n",
       "            align-items: center;\n",
       "            justify-content: flex-start; /* Align content to the left */\n",
       "            gap: 20px; /* Space between each counter */\n",
       "            margin-bottom: 60px; /* Increased space between the title and counters */\n",
       "        }\n",
       "        .news-counter, .novelty-counter, .impact-counter, .magnitude-counter {\n",
       "            background-color: #00BFFF; /* Dynamic blue color for counters */\n",
       "            color: #121212; /* Black text color for counters */\n",
       "            padding: 5px 10px;\n",
       "            border-radius: 15px;\n",
       "            font-weight: bold;\n",
       "            font-size: 1em;\n",
       "            box-shadow: 0px 2px 4px rgba(0, 0, 0, 0.2);\n",
       "            display: flex;\n",
       "            align-items: center;  /* Align text and icon vertically */\n",
       "        }\n",
       "        .novelty-counter {\n",
       "            background-color: transparent;\n",
       "            color: #FFA500;  /* Orange color for the flame icon and text */\n",
       "        }\n",
       "        .flame-icon {\n",
       "            vertical-align: middle;\n",
       "            margin-right: 5px;\n",
       "            width: 24px;  /* Adjusted width of the flame icon */\n",
       "            height: 24px; /* Adjusted height of the flame icon */\n",
       "        }\n",
       "        .impact-counter {\n",
       "            color: #121212; /* Black text color for impact */\n",
       "        }\n",
       "        .impact-counter.positive {\n",
       "            background-color: #4CAF50; /* Green for positive impact */\n",
       "        }\n",
       "        .impact-counter.negative {\n",
       "            background-color: #F44336; /* Red for negative impact */\n",
       "        }\n",
       "        .impact-counter.neutral {\n",
       "            background-color: transparent; /* Transparent for neutral impact */\n",
       "            color: #00BFFF; /* Dynamic blue for neutral impact text */\n",
       "        }\n",
       "        .magnitude-counter {\n",
       "            background-color: transparent; /* Transparent for the magnitude box */\n",
       "            color: #00BFFF; /* Dynamic blue for magnitude text */\n",
       "        }\n",
       "        .magnitude-counter.high {\n",
       "            color: #F44336; /* Red for high magnitude */\n",
       "        }\n",
       "        .magnitude-counter.medium {\n",
       "            color: #FFD700; /* Yellow for medium magnitude */\n",
       "        }\n",
       "        .magnitude-counter.low {\n",
       "            color: #FFFFFF; /* White for low magnitude */\n",
       "        }\n",
       "        .impact-icon, .intensity-arrow {\n",
       "            vertical-align: middle;\n",
       "            margin-right: 5px;\n",
       "            width: 24px;  /* Adjusted width of the icons */\n",
       "            height: 24px; /* Adjusted height of the icons */\n",
       "        }\n",
       "        .counter-label {\n",
       "            font-size: 0.8em;\n",
       "            color: #E0E0E0; /* White color for the counter labels */\n",
       "            margin-right: 5px;\n",
       "            text-transform: uppercase;\n",
       "            letter-spacing: 1px;\n",
       "        }\n",
       "        .description {\n",
       "            font-size: 1.1em;\n",
       "            margin-bottom: 15px;\n",
       "            color: #E0E0E0; /* White color for description */\n",
       "        }\n",
       "    </style>\n",
       "</head>\n",
       "<body>\n",
       "    <div class=\"container\">\n",
       "        <!-- Logo Section -->\n",
       "        <img src=\"assets/bigdata-logo-white.svg\" alt=\"Big Data Logo\" class=\"logo\">\n",
       "        \n",
       "        <!-- Title Section -->\n",
       "        <div class=\"title\">Central Bank Announcements - 2025-05-20</div>\n",
       "        \n",
       "        <!-- Content Section -->\n",
       "        <div class=\"content\">\n",
       "            <!-- Left Column -->\n",
       "            <div class=\"left-column\">\n",
       "                <h2 class=\"section-title\">The Day in Review</h2>\n",
       "                <ul class=\"bullet-points\">\n",
       "                    \n",
       "                    <li><b>Bank of Indonesia</b>: Cut rates to 5.75% due to economic growth concerns; potential for further cuts to stimulate growth.</li>\n",
       "                    \n",
       "                    <li><b>Reserve Bank of Australia (RBA)</b>: Expected 25-basis-point rate cut amid easing inflation pressures and revised down forecasts for household consumption.</li>\n",
       "                    \n",
       "                    <li><b>Bank of England (BoE)</b>: Cautious monetary policy shift due to UK inflation and business confidence; interest rates held steady but potential dovish shift anticipated.</li>\n",
       "                    \n",
       "                    <li><b>European Central Bank (ECB)</b>: Monitoring inflation risks heightened by U.S. tariff announcements; discussions on possible interest rate adjustments to manage inflation expectations.</li>\n",
       "                    \n",
       "                    <li><b>People's Bank of China (PBOC)</b>: Cut rates to combat declining lending amid trade tensions; measures aimed at stimulating economic activity.</li>\n",
       "                    \n",
       "                    <li><b>Bank of Japan (BoJ)</b>: Facing pressure to normalize policy amid rising bond yields; discussions on potential interest rate increases.</li>\n",
       "                    \n",
       "                    <li><b>U.S. Dollar (USD)</b>: Struggling against major currencies due to central bank rate expectations and risk-averse market sentiment.</li>\n",
       "                    \n",
       "                    <li><b>Moody's Downgrade of U.S. Debt</b>: Raised concerns over fiscal stability and inflation risks, potentially influencing Federal Reserve policy.</li>\n",
       "                    \n",
       "                    <li><b>Central Bank Digital Currencies (CBDCs)</b>: Growing global interest; U.S. risks losing edge without innovation, raising ethical concerns about privacy and government oversight.</li>\n",
       "                    \n",
       "                    <li><b>Federal Reserve</b>: Interest rate decisions under scrutiny; low likelihood of a rate cut amid political pressures and economic assessments.</li>\n",
       "                    \n",
       "                    <li><b>New Zealand's Reserve Bank</b>: Anticipated rate cuts due to economic softening; significant announcements expected to impact market sentiment.</li>\n",
       "                    \n",
       "                    <li><b>Turkish Lira</b>: Hits record low due to erratic monetary policy and political instability; downgraded growth forecast by EBRD amid high inflation.</li>\n",
       "                    \n",
       "                </ul>\n",
       "            </div>\n",
       "\n",
       "            <!-- Separator -->\n",
       "            <div class=\"separator\"></div>\n",
       "\n",
       "            <!-- Right Column -->\n",
       "            <div class=\"right-column\">\n",
       "                \n",
       "                <div class=\"topic-section\">\n",
       "                    <div class=\"counter-container\">\n",
       "                        <div class=\"news-counter\">\n",
       "                            <span class=\"counter-label\">Volume Score</span>\n",
       "                            15 News\n",
       "                        </div>\n",
       "                        <div class=\"novelty-counter\">\n",
       "                            <span class=\"counter-label\">Novelty Score</span>\n",
       "                            <img src=\"assets/flame-icon.png\" alt=\"Flame Icon\" class=\"flame-icon\">\n",
       "                            Novel\n",
       "                        </div>\n",
       "                        <div class=\"impact-counter positive\">\n",
       "                            <span class=\"counter-label\">Price Impact</span>\n",
       "                            Positive\n",
       "                        </div>\n",
       "                        <div class=\"magnitude-counter high\">\n",
       "                            <span class=\"counter-label\">Intensity</span>\n",
       "                            <img src=\"assets/arrow_up.png\" alt=\"Intensity Arrow\" class=\"intensity-arrow\">\n",
       "                            High\n",
       "                        </div>\n",
       "                    </div>\n",
       "                    <h2 class=\"topic-title\">RBA Set to Cut Interest Rates by 25 Basis Points Amid Easing Inflation Pressures</h2>\n",
       "                    <p class=\"description\">The Reserve Bank of Australia (RBA) is expected to implement a 25-basis-point interest rate cut in its upcoming meeting, with a 99% probability of this decision. This anticipated cut follows a previous reduction earlier in 2025, bringing the cash rate down to 3.85%. The RBA's cautious approach is influenced by easing inflation pressures and a temporary pause in US-China trade tensions, despite lingering inflation risks. The central bank's forecasts for household consumption growth have been revised downwards, reflecting a more pessimistic outlook on the domestic economy amid global uncertainties, particularly related to U.S. trade policies. The RBA aims to stimulate economic growth while maintaining inflation within its target range of 2-3%, navigating the delicate balance between fostering labor market gains and controlling inflation.</p>\n",
       "                </div>\n",
       "                \n",
       "                <div class=\"topic-section\">\n",
       "                    <div class=\"counter-container\">\n",
       "                        <div class=\"news-counter\">\n",
       "                            <span class=\"counter-label\">Volume Score</span>\n",
       "                            5 News\n",
       "                        </div>\n",
       "                        <div class=\"novelty-counter\">\n",
       "                            <span class=\"counter-label\">Novelty Score</span>\n",
       "                            <img src=\"assets/flame-icon.png\" alt=\"Flame Icon\" class=\"flame-icon\">\n",
       "                            Novel\n",
       "                        </div>\n",
       "                        <div class=\"impact-counter negative\">\n",
       "                            <span class=\"counter-label\">Price Impact</span>\n",
       "                            Negative\n",
       "                        </div>\n",
       "                        <div class=\"magnitude-counter high\">\n",
       "                            <span class=\"counter-label\">Intensity</span>\n",
       "                            <img src=\"assets/arrow_up.png\" alt=\"Intensity Arrow\" class=\"intensity-arrow\">\n",
       "                            High\n",
       "                        </div>\n",
       "                    </div>\n",
       "                    <h2 class=\"topic-title\">U.S. Trade Tensions Drive Global Central Banks to Adjust Policies Amid Economic Uncertainty</h2>\n",
       "                    <p class=\"description\">Global economic developments, particularly those stemming from U.S. policies, are increasingly influencing central bank policies around the world. The Bank of Japan (BOJ) has adjusted its growth forecasts and interest rate strategies in response to concerns over a potential global slowdown, largely driven by trade tensions initiated by the U.S. administration. Similarly, the Reserve Bank of Australia (RBA) has lowered interest rates, reflecting the broader context of global economic uncertainty and the adverse effects of U.S. tariff policies. These developments highlight the interconnectedness of domestic monetary policies with international economic dynamics, compelling central banks to carefully assess both local and global economic indicators. The prevailing uncertainty in international trade has led to a downgraded global growth outlook, prompting central banks like the RBA to adopt a cautious approach in their monetary policy decisions to maintain domestic economic stability amidst external pressures.</p>\n",
       "                </div>\n",
       "                \n",
       "                <div class=\"topic-section\">\n",
       "                    <div class=\"counter-container\">\n",
       "                        <div class=\"news-counter\">\n",
       "                            <span class=\"counter-label\">Volume Score</span>\n",
       "                            4 News\n",
       "                        </div>\n",
       "                        <div class=\"novelty-counter\">\n",
       "                            <span class=\"counter-label\">Novelty Score</span>\n",
       "                            <img src=\"assets/flame-icon.png\" alt=\"Flame Icon\" class=\"flame-icon\">\n",
       "                            Novel\n",
       "                        </div>\n",
       "                        <div class=\"impact-counter negative\">\n",
       "                            <span class=\"counter-label\">Price Impact</span>\n",
       "                            Negative\n",
       "                        </div>\n",
       "                        <div class=\"magnitude-counter high\">\n",
       "                            <span class=\"counter-label\">Intensity</span>\n",
       "                            <img src=\"assets/arrow_up.png\" alt=\"Intensity Arrow\" class=\"intensity-arrow\">\n",
       "                            High\n",
       "                        </div>\n",
       "                    </div>\n",
       "                    <h2 class=\"topic-title\">US Dollar Struggles Amid Central Bank Rate Expectations and Risk-Averse Market</h2>\n",
       "                    <p class=\"description\">The US Dollar (USD) is currently facing challenges against major currencies, driven by a risk-averse market influenced by central bank decisions and economic data. Its performance is closely linked to expectations regarding interest rate changes from the Federal Reserve and other central banks, such as the Reserve Bank of Australia (RBA) and the People's Bank of China (PBoC). These adjustments in monetary policy significantly affect the USD's relative strength, leading to notable fluctuations in key currency pairs like EUR/USD and USD/JPY. This situation highlights the intricate relationship between global monetary policies and their impact on currency markets.</p>\n",
       "                </div>\n",
       "                \n",
       "                <div class=\"topic-section\">\n",
       "                    <div class=\"counter-container\">\n",
       "                        <div class=\"news-counter\">\n",
       "                            <span class=\"counter-label\">Volume Score</span>\n",
       "                            1 News\n",
       "                        </div>\n",
       "                        <div class=\"novelty-counter\">\n",
       "                            <span class=\"counter-label\">Novelty Score</span>\n",
       "                            <img src=\"assets/flame-icon.png\" alt=\"Flame Icon\" class=\"flame-icon\">\n",
       "                            Novel\n",
       "                        </div>\n",
       "                        <div class=\"impact-counter positive\">\n",
       "                            <span class=\"counter-label\">Price Impact</span>\n",
       "                            Positive\n",
       "                        </div>\n",
       "                        <div class=\"magnitude-counter medium\">\n",
       "                            <span class=\"counter-label\">Intensity</span>\n",
       "                            <img src=\"assets/arrow_mid.png\" alt=\"Intensity Arrow\" class=\"intensity-arrow\">\n",
       "                            Medium\n",
       "                        </div>\n",
       "                    </div>\n",
       "                    <h2 class=\"topic-title\">Bank of Indonesia Cuts Rates to 5.75% Amid Economic Growth Concerns</h2>\n",
       "                    <p class=\"description\">The Bank of Indonesia has recently cut its policy rates, with reductions in September 2024 and January 2025, in response to weaknesses in economic growth. Currently, the rate is held at 5.75%, reflecting a cautious stance as the central bank evaluates the economic environment. Analysts indicate that ongoing economic challenges may lead to further rate cuts aimed at stimulating growth by reducing borrowing costs. This situation underscores the central bank's need to balance promoting economic growth with managing inflationary pressures amid a volatile global economic landscape.</p>\n",
       "                </div>\n",
       "                \n",
       "                <div class=\"topic-section\">\n",
       "                    <div class=\"counter-container\">\n",
       "                        <div class=\"news-counter\">\n",
       "                            <span class=\"counter-label\">Volume Score</span>\n",
       "                            1 News\n",
       "                        </div>\n",
       "                        <div class=\"novelty-counter\">\n",
       "                            <span class=\"counter-label\">Novelty Score</span>\n",
       "                            <img src=\"assets/flame-icon.png\" alt=\"Flame Icon\" class=\"flame-icon\">\n",
       "                            Novel\n",
       "                        </div>\n",
       "                        <div class=\"impact-counter positive\">\n",
       "                            <span class=\"counter-label\">Price Impact</span>\n",
       "                            Positive\n",
       "                        </div>\n",
       "                        <div class=\"magnitude-counter medium\">\n",
       "                            <span class=\"counter-label\">Intensity</span>\n",
       "                            <img src=\"assets/arrow_mid.png\" alt=\"Intensity Arrow\" class=\"intensity-arrow\">\n",
       "                            Medium\n",
       "                        </div>\n",
       "                    </div>\n",
       "                    <h2 class=\"topic-title\">New Zealand's Reserve Bank Set to Announce Rate Cuts Amid Economic Softening</h2>\n",
       "                    <p class=\"description\">New Zealand's economic outlook is currently under scrutiny as the Reserve Bank prepares to release its Monetary Policy Statement (MPS) in conjunction with the government's budget announcement. Analysts anticipate a continued softening of the economy, leading to expectations for rate cuts aimed at alleviating pressure on borrowers. This scenario underscores the challenge central banks face in balancing economic growth stimulation with inflation management. The timing of these significant announcements is expected to impact market sentiment and economic forecasts, marking a crucial period for financial institutions and policymakers in New Zealand.</p>\n",
       "                </div>\n",
       "                \n",
       "                <div class=\"topic-section\">\n",
       "                    <div class=\"counter-container\">\n",
       "                        <div class=\"news-counter\">\n",
       "                            <span class=\"counter-label\">Volume Score</span>\n",
       "                            13 News\n",
       "                        </div>\n",
       "                        <div class=\"novelty-counter\">\n",
       "                            <span class=\"counter-label\">Novelty Score</span>\n",
       "                            <img src=\"assets/flame-icon.png\" alt=\"Flame Icon\" class=\"flame-icon\">\n",
       "                            Moderate\n",
       "                        </div>\n",
       "                        <div class=\"impact-counter negative\">\n",
       "                            <span class=\"counter-label\">Price Impact</span>\n",
       "                            Negative\n",
       "                        </div>\n",
       "                        <div class=\"magnitude-counter medium\">\n",
       "                            <span class=\"counter-label\">Intensity</span>\n",
       "                            <img src=\"assets/arrow_mid.png\" alt=\"Intensity Arrow\" class=\"intensity-arrow\">\n",
       "                            Medium\n",
       "                        </div>\n",
       "                    </div>\n",
       "                    <h2 class=\"topic-title\">UK Inflation and Business Confidence Drive Bank of England's Cautious Monetary Policy Shift</h2>\n",
       "                    <p class=\"description\">Recent developments in UK inflation and business confidence are pivotal for the British Pound (GBP) and the Bank of England's (BoE) monetary policy. Analysts are concerned about a potential dovish shift by the BoE, which may arise from a slowdown in economic growth, impacting investor confidence and the GBP's performance. The BoE is evolving its communication strategy, moving from a singular forecast focus to a broader range of scenarios to enhance transparency and reflect the complexities of monetary policy. The Monetary Policy Committee (MPC) has decided to hold interest rates steady, citing improved exchange rate stability and a slowdown in fuel price increases, although internal debates persist regarding the need for rate cuts due to potential long-term economic damage from high rates. Chief economist Huw Pill advocates for a cautious approach to rate reductions, warning that rapid cuts could worsen inflation, especially with strong wage growth. This situation underscores the delicate balance the BoE must maintain between supporting economic growth and controlling inflation, making its future decisions critical for the economic outlook.</p>\n",
       "                </div>\n",
       "                \n",
       "                <div class=\"topic-section\">\n",
       "                    <div class=\"counter-container\">\n",
       "                        <div class=\"news-counter\">\n",
       "                            <span class=\"counter-label\">Volume Score</span>\n",
       "                            6 News\n",
       "                        </div>\n",
       "                        <div class=\"novelty-counter\">\n",
       "                            <span class=\"counter-label\">Novelty Score</span>\n",
       "                            <img src=\"assets/flame-icon.png\" alt=\"Flame Icon\" class=\"flame-icon\">\n",
       "                            Moderate\n",
       "                        </div>\n",
       "                        <div class=\"impact-counter negative\">\n",
       "                            <span class=\"counter-label\">Price Impact</span>\n",
       "                            Negative\n",
       "                        </div>\n",
       "                        <div class=\"magnitude-counter high\">\n",
       "                            <span class=\"counter-label\">Intensity</span>\n",
       "                            <img src=\"assets/arrow_up.png\" alt=\"Intensity Arrow\" class=\"intensity-arrow\">\n",
       "                            High\n",
       "                        </div>\n",
       "                    </div>\n",
       "                    <h2 class=\"topic-title\">Bank of Japan Faces Pressure to Normalize Monetary Policy Amid Rising Bond Yields</h2>\n",
       "                    <p class=\"description\">Japan's monetary policy is under scrutiny as the Bank of Japan (BoJ) faces rising pressure to adjust its stance amid surging yields on Japanese bonds. This reflects market concerns regarding the central bank's potential retreat from aggressive market interventions. Recent discussions by the BoJ about possibly raising interest rates indicate a shift towards a more normalized monetary policy, coinciding with signs of economic recovery in Japan. However, the challenges posed by rising yields and fiscal sustainability issues complicate the BoJ's decision-making. These developments are significant for both domestic investors and international markets, as they could influence Japan's economic outlook and currency strength.</p>\n",
       "                </div>\n",
       "                \n",
       "                <div class=\"topic-section\">\n",
       "                    <div class=\"counter-container\">\n",
       "                        <div class=\"news-counter\">\n",
       "                            <span class=\"counter-label\">Volume Score</span>\n",
       "                            3 News\n",
       "                        </div>\n",
       "                        <div class=\"novelty-counter\">\n",
       "                            <span class=\"counter-label\">Novelty Score</span>\n",
       "                            <img src=\"assets/flame-icon.png\" alt=\"Flame Icon\" class=\"flame-icon\">\n",
       "                            Moderate\n",
       "                        </div>\n",
       "                        <div class=\"impact-counter negative\">\n",
       "                            <span class=\"counter-label\">Price Impact</span>\n",
       "                            Negative\n",
       "                        </div>\n",
       "                        <div class=\"magnitude-counter high\">\n",
       "                            <span class=\"counter-label\">Intensity</span>\n",
       "                            <img src=\"assets/arrow_up.png\" alt=\"Intensity Arrow\" class=\"intensity-arrow\">\n",
       "                            High\n",
       "                        </div>\n",
       "                    </div>\n",
       "                    <h2 class=\"topic-title\">Federal Reserve's Interest Rate Decisions Under Scrutiny Amid Political Pressures and Market Speculation</h2>\n",
       "                    <p class=\"description\">The Federal Reserve's monetary policy, particularly regarding interest rates, is currently a focal point of market speculation, with a mere 5% likelihood of a -25 basis point rate cut anticipated after the next FOMC meeting. This cautious sentiment among investors and analysts stems from a careful assessment of economic indicators and the Fed's prior communications. Additionally, the independence of the Federal Reserve is being scrutinized amid political pressures, notably from former President Trump, complicating the decision-making landscape. The Fed's interest rate decisions are pivotal as they directly affect borrowing costs, consumer spending, and overall economic growth, making this a critical issue for both market participants and policymakers.</p>\n",
       "                </div>\n",
       "                \n",
       "                <div class=\"topic-section\">\n",
       "                    <div class=\"counter-container\">\n",
       "                        <div class=\"news-counter\">\n",
       "                            <span class=\"counter-label\">Volume Score</span>\n",
       "                            3 News\n",
       "                        </div>\n",
       "                        <div class=\"novelty-counter\">\n",
       "                            <span class=\"counter-label\">Novelty Score</span>\n",
       "                            <img src=\"assets/flame-icon.png\" alt=\"Flame Icon\" class=\"flame-icon\">\n",
       "                            Moderate\n",
       "                        </div>\n",
       "                        <div class=\"impact-counter negative\">\n",
       "                            <span class=\"counter-label\">Price Impact</span>\n",
       "                            Negative\n",
       "                        </div>\n",
       "                        <div class=\"magnitude-counter high\">\n",
       "                            <span class=\"counter-label\">Intensity</span>\n",
       "                            <img src=\"assets/arrow_up.png\" alt=\"Intensity Arrow\" class=\"intensity-arrow\">\n",
       "                            High\n",
       "                        </div>\n",
       "                    </div>\n",
       "                    <h2 class=\"topic-title\">Turkish Lira Hits Record Low Amid Erratic Monetary Policy and Political Instability</h2>\n",
       "                    <p class=\"description\">The Turkish lira has plummeted to an all-time low against major currencies, primarily due to erratic monetary policy and ongoing political instability. Despite the Turkish central bank's implementation of aggressive interest rate hikes, confidence in the government's economic management remains low, contributing to the currency's continued decline. The European Bank for Reconstruction and Development (EBRD) has downgraded Turkey's growth forecast, attributing this adjustment to tighter monetary conditions and persistently high inflation. This scenario highlights the significant challenges faced by central banks in emerging markets like Turkey, as they strive to maintain currency stability while combating inflationary pressures.</p>\n",
       "                </div>\n",
       "                \n",
       "                <div class=\"topic-section\">\n",
       "                    <div class=\"counter-container\">\n",
       "                        <div class=\"news-counter\">\n",
       "                            <span class=\"counter-label\">Volume Score</span>\n",
       "                            3 News\n",
       "                        </div>\n",
       "                        <div class=\"novelty-counter\">\n",
       "                            <span class=\"counter-label\">Novelty Score</span>\n",
       "                            <img src=\"assets/flame-icon.png\" alt=\"Flame Icon\" class=\"flame-icon\">\n",
       "                            Moderate\n",
       "                        </div>\n",
       "                        <div class=\"impact-counter positive\">\n",
       "                            <span class=\"counter-label\">Price Impact</span>\n",
       "                            Positive\n",
       "                        </div>\n",
       "                        <div class=\"magnitude-counter medium\">\n",
       "                            <span class=\"counter-label\">Intensity</span>\n",
       "                            <img src=\"assets/arrow_mid.png\" alt=\"Intensity Arrow\" class=\"intensity-arrow\">\n",
       "                            Medium\n",
       "                        </div>\n",
       "                    </div>\n",
       "                    <h2 class=\"topic-title\">China's PBOC Cuts Rates to Combat Lending Decline Amid Trade Tensions</h2>\n",
       "                    <p class=\"description\">China's economic landscape is currently characterized by significant challenges, particularly in the banking sector, where lending has struggled to increase despite record-low interest rates. The People's Bank of China (PBOC) reported a 7.2% year-on-year growth in outstanding yuan-denominated loans, yet consumer loans, especially mortgages, have declined. This cautious lending environment is influenced by ongoing trade tensions with the U.S. and other economic hurdles. In response, the PBOC has implemented a reduction in the reserve requirement ratio and cut the reverse repo rate, signaling a shift in monetary policy aimed at stimulating economic activity. These measures are designed to alleviate liquidity constraints and support growth amid global uncertainties. The positive market reaction, reflected in rising stock indices, highlights the significance of China's monetary policy decisions, which not only impact domestic economic conditions but also have far-reaching implications for global markets and influence central bank strategies worldwide.</p>\n",
       "                </div>\n",
       "                \n",
       "                <div class=\"topic-section\">\n",
       "                    <div class=\"counter-container\">\n",
       "                        <div class=\"news-counter\">\n",
       "                            <span class=\"counter-label\">Volume Score</span>\n",
       "                            2 News\n",
       "                        </div>\n",
       "                        <div class=\"novelty-counter\">\n",
       "                            <span class=\"counter-label\">Novelty Score</span>\n",
       "                            <img src=\"assets/flame-icon.png\" alt=\"Flame Icon\" class=\"flame-icon\">\n",
       "                            Moderate\n",
       "                        </div>\n",
       "                        <div class=\"impact-counter negative\">\n",
       "                            <span class=\"counter-label\">Price Impact</span>\n",
       "                            Negative\n",
       "                        </div>\n",
       "                        <div class=\"magnitude-counter medium\">\n",
       "                            <span class=\"counter-label\">Intensity</span>\n",
       "                            <img src=\"assets/arrow_mid.png\" alt=\"Intensity Arrow\" class=\"intensity-arrow\">\n",
       "                            Medium\n",
       "                        </div>\n",
       "                    </div>\n",
       "                    <h2 class=\"topic-title\">U.S. Tariff Announcements Heighten Eurozone Inflation Risks as ECB Weighs Interest Rate Adjustments</h2>\n",
       "                    <p class=\"description\">Eurozone inflation risks are currently heightened due to geopolitical events, particularly U.S. tariff announcements, which have created uncertainty and potential downward pressure on inflation and economic growth. The European Central Bank (ECB) is closely monitoring the inflation rate, which was confirmed at 2.2% for April 2025, slightly above its target of 2.0%. This situation has sparked discussions about possible interest rate adjustments to manage inflation expectations. Additionally, recent positive sentiment in equity markets, fueled by a landmark agreement between the UK and the EU, complicates the ECB's decision-making as it seeks to balance stimulating growth with controlling inflation. The interplay of these factors is critical for understanding the ECB's future policy directions.</p>\n",
       "                </div>\n",
       "                \n",
       "                <div class=\"topic-section\">\n",
       "                    <div class=\"counter-container\">\n",
       "                        <div class=\"news-counter\">\n",
       "                            <span class=\"counter-label\">Volume Score</span>\n",
       "                            5 News\n",
       "                        </div>\n",
       "                        <div class=\"novelty-counter\">\n",
       "                            <span class=\"counter-label\">Novelty Score</span>\n",
       "                            <img src=\"assets/flame-icon.png\" alt=\"Flame Icon\" class=\"flame-icon\">\n",
       "                            Repeat\n",
       "                        </div>\n",
       "                        <div class=\"impact-counter positive\">\n",
       "                            <span class=\"counter-label\">Price Impact</span>\n",
       "                            Positive\n",
       "                        </div>\n",
       "                        <div class=\"magnitude-counter high\">\n",
       "                            <span class=\"counter-label\">Intensity</span>\n",
       "                            <img src=\"assets/arrow_up.png\" alt=\"Intensity Arrow\" class=\"intensity-arrow\">\n",
       "                            High\n",
       "                        </div>\n",
       "                    </div>\n",
       "                    <h2 class=\"topic-title\">ECB Faces Pressure to Cut Interest Rates Amid Economic Growth Concerns</h2>\n",
       "                    <p class=\"description\">The European Central Bank (ECB) is under increasing pressure to adjust its monetary policy, particularly to cut interest rates, in response to economic growth concerns and inflation risks in the Eurozone. Central bank governor Pierre Wunsch has suggested that a slight reduction in the deposit rate may be necessary to address potential economic shocks, influenced by global trade tensions and U.S. tariff hikes. With markets anticipating a nearly 90% chance of a rate cut in the near term, these adjustments reflect the ECB's strategy to support economic recovery while managing inflationary pressures. The implications of these monetary policy changes are significant for the eurozone's economic stability and could affect investment strategies and the Euro's value against other currencies.</p>\n",
       "                </div>\n",
       "                \n",
       "                <div class=\"topic-section\">\n",
       "                    <div class=\"counter-container\">\n",
       "                        <div class=\"news-counter\">\n",
       "                            <span class=\"counter-label\">Volume Score</span>\n",
       "                            5 News\n",
       "                        </div>\n",
       "                        <div class=\"novelty-counter\">\n",
       "                            <span class=\"counter-label\">Novelty Score</span>\n",
       "                            <img src=\"assets/flame-icon.png\" alt=\"Flame Icon\" class=\"flame-icon\">\n",
       "                            Repeat\n",
       "                        </div>\n",
       "                        <div class=\"impact-counter negative\">\n",
       "                            <span class=\"counter-label\">Price Impact</span>\n",
       "                            Negative\n",
       "                        </div>\n",
       "                        <div class=\"magnitude-counter high\">\n",
       "                            <span class=\"counter-label\">Intensity</span>\n",
       "                            <img src=\"assets/arrow_up.png\" alt=\"Intensity Arrow\" class=\"intensity-arrow\">\n",
       "                            High\n",
       "                        </div>\n",
       "                    </div>\n",
       "                    <h2 class=\"topic-title\">Surge in Central Bank Digital Currencies: U.S. Risks Losing Edge Without Innovation</h2>\n",
       "                    <p class=\"description\">The global interest in Central Bank Digital Currencies (CBDCs) is surging, with countries like India and entities such as the European Union and Singapore actively pursuing their own digital currencies. The U.S. currently leads in this domain, but experts caution that this advantage may wane without timely innovation. The emergence of CBDCs signifies a transformative shift in monetary policy and financial systems, potentially disrupting traditional banking and payment frameworks. The Bank of Canada has been exploring the implementation of a CBDC since 2017, raising concerns about government oversight of financial transactions and the implications for individual privacy. Critics warn that a CBDC could facilitate increased surveillance and control, prompting ethical debates about the balance between digital currency benefits and personal freedoms. This evolving landscape underscores the urgency for the U.S. and other nations to navigate the competitive and ethical challenges posed by CBDCs to maintain economic leadership and protect individual rights.</p>\n",
       "                </div>\n",
       "                \n",
       "                <div class=\"topic-section\">\n",
       "                    <div class=\"counter-container\">\n",
       "                        <div class=\"news-counter\">\n",
       "                            <span class=\"counter-label\">Volume Score</span>\n",
       "                            4 News\n",
       "                        </div>\n",
       "                        <div class=\"novelty-counter\">\n",
       "                            <span class=\"counter-label\">Novelty Score</span>\n",
       "                            <img src=\"assets/flame-icon.png\" alt=\"Flame Icon\" class=\"flame-icon\">\n",
       "                            Repeat\n",
       "                        </div>\n",
       "                        <div class=\"impact-counter negative\">\n",
       "                            <span class=\"counter-label\">Price Impact</span>\n",
       "                            Negative\n",
       "                        </div>\n",
       "                        <div class=\"magnitude-counter high\">\n",
       "                            <span class=\"counter-label\">Intensity</span>\n",
       "                            <img src=\"assets/arrow_up.png\" alt=\"Intensity Arrow\" class=\"intensity-arrow\">\n",
       "                            High\n",
       "                        </div>\n",
       "                    </div>\n",
       "                    <h2 class=\"topic-title\">Moody's Downgrade of US Debt Sparks Concerns Over Fiscal Stability and Inflation Risks</h2>\n",
       "                    <p class=\"description\">The recent downgrade of US government debt by Moody's and other major rating agencies has raised significant concerns regarding the stability of US fiscal policy and the associated risks for foreign investors holding US debt. This downgrade highlights underlying economic vulnerabilities and may lead to increased borrowing costs for the US government. Economists emphasize that inflation risks should be a primary focus when evaluating sovereign debt ratings, particularly given the rising foreign ownership of US debt, which diminishes political leverage. The implications of this downgrade are crucial for future Central Bank Announcements, as it could influence the Federal Reserve's monetary policy decisions.</p>\n",
       "                </div>\n",
       "                \n",
       "            </div>\n",
       "        </div>\n",
       "    </div>\n",
       "</body>\n",
       "</html>"
      ],
      "text/plain": [
       "<IPython.core.display.HTML object>"
      ]
     },
     "metadata": {},
     "output_type": "display_data"
    },
    {
     "name": "stdout",
     "output_type": "stream",
     "text": [
      "\n",
      "\n",
      "\n"
     ]
    }
   ],
   "source": [
    "# Generate and display the HTML report for each date\n",
    "for report in prepared_reports:\n",
    "    html_content = generate_html_report(\n",
    "        report['date'],\n",
    "        report['day_in_review'],\n",
    "        report['topics'],\n",
    "        'Central Bank Announcements'  # Pass the main theme to dynamically generate the title\n",
    "    )\n",
    "    display(HTML(html_content))\n",
    "    print(\"\")\n",
    "    print(\"\")\n",
    "    print(\"\")"
   ]
  }
 ],
 "metadata": {
  "kernelspec": {
   "display_name": "cookbook",
   "language": "python",
   "name": "python3"
  },
  "language_info": {
   "codemirror_mode": {
    "name": "ipython",
    "version": 3
   },
   "file_extension": ".py",
   "mimetype": "text/x-python",
   "name": "python",
   "nbconvert_exporter": "python",
   "pygments_lexer": "ipython3",
   "version": "3.13.5"
  }
 },
 "nbformat": 4,
 "nbformat_minor": 5
}
