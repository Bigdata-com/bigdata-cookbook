{
 "cells": [
  {
   "cell_type": "markdown",
   "id": "5925d213",
   "metadata": {},
   "source": [
    "## Setup and Imports\n",
    "\n",
    "## Async Compatibility Setup\n",
    "\n",
    "**Run this cell first** - Required for Google Colab, Jupyter Notebooks, and VS Code with Jupyter extension:\n",
    "\n",
    "### Why is this needed?\n",
    "\n",
    "Interactive environments (Colab, Jupyter) already have an asyncio event loop running. When `bigdata-research-tools` makes async API calls (like to OpenAI), you'll get this error without nest_asyncio:\n",
    "\n",
    "```\n",
    "RuntimeError: asyncio.run() cannot be called from a running event loop\n",
    "```\n",
    "\n",
    "The `nest_asyncio.apply()` command patches this to allow nested event loops.\n",
    "\n",
    "💡 **Tip**: If you're unsure which environment you're in, just run the cell below - it won't hurt in any environment!"
   ]
  },
  {
   "cell_type": "code",
   "execution_count": 1,
   "id": "9a6baf21",
   "metadata": {},
   "outputs": [],
   "source": [
    "import datetime\n",
    "start = datetime.datetime.now()"
   ]
  },
  {
   "cell_type": "code",
   "execution_count": 2,
   "id": "0bd17d6a",
   "metadata": {},
   "outputs": [
    {
     "name": "stdout",
     "output_type": "stream",
     "text": [
      "✅ nest_asyncio applied\n"
     ]
    }
   ],
   "source": [
    "try:\n",
    "    import asyncio\n",
    "    asyncio.get_running_loop()\n",
    "    import nest_asyncio; nest_asyncio.apply()\n",
    "    print(\"✅ nest_asyncio applied\")\n",
    "except (RuntimeError, ImportError):\n",
    "    print(\"✅ nest_asyncio not needed\")"
   ]
  },
  {
   "cell_type": "markdown",
   "id": "fcc8e379",
   "metadata": {},
   "source": [
    "## Environment Setup\n",
    "\n",
    "The following cell configures the necessary path for the analysis"
   ]
  },
  {
   "cell_type": "code",
   "execution_count": 3,
   "id": "30264d8c",
   "metadata": {},
   "outputs": [
    {
     "name": "stdout",
     "output_type": "stream",
     "text": [
      "✅ Local environment setup complete\n"
     ]
    }
   ],
   "source": [
    "import os\n",
    "import sys\n",
    "\n",
    "current_dir = os.getcwd()\n",
    "if current_dir not in sys.path:\n",
    "    sys.path.append(current_dir)\n",
    "print(f\"✅ Local environment setup complete\")"
   ]
  },
  {
   "cell_type": "markdown",
   "id": "cd0a6763",
   "metadata": {},
   "source": [
    "## Load Credentials"
   ]
  },
  {
   "cell_type": "code",
   "execution_count": 4,
   "id": "a6673a1e",
   "metadata": {},
   "outputs": [
    {
     "name": "stdout",
     "output_type": "stream",
     "text": [
      "✅ Credentials loaded from .env file\n"
     ]
    }
   ],
   "source": [
    "from dotenv import load_dotenv\n",
    "from pathlib import Path\n",
    "\n",
    "# script_dir = Path(__file__).parent if '__file__' in globals() else Path.cwd()\n",
    "# load_dotenv(script_dir / '.env')\n",
    "\n",
    "load_dotenv('/home/abouchs/.python_env_var/.env')\n",
    "\n",
    "BIGDATA_USERNAME = os.getenv('BIGDATA_USERNAME')\n",
    "BIGDATA_PASSWORD = os.getenv('BIGDATA_PASSWORD')\n",
    "OPENAI_API_KEY = os.getenv('OPENAI_API_KEY')\n",
    "\n",
    "if not all([BIGDATA_USERNAME, BIGDATA_PASSWORD, OPENAI_API_KEY]):\n",
    "    print(\"❌ Missing required environment variables\")\n",
    "    raise ValueError(\"Missing required environment variables. Check your .env file.\")\n",
    "else:\n",
    "    print(\"✅ Credentials loaded from .env file\")"
   ]
  },
  {
   "cell_type": "markdown",
   "id": "d5a93627",
   "metadata": {},
   "source": [
    "## Import Required Libraries\n",
    "\n",
    "Below is the Python code required for setting up our environment and importing necessary libraries."
   ]
  },
  {
   "cell_type": "code",
   "execution_count": 30,
   "id": "e9de6643",
   "metadata": {},
   "outputs": [
    {
     "name": "stdout",
     "output_type": "stream",
     "text": [
      "The autoreload extension is already loaded. To reload it, use:\n",
      "  %reload_ext autoreload\n"
     ]
    }
   ],
   "source": [
    "%load_ext autoreload\n",
    "%autoreload 2\n",
    "\n",
    "import pandas as pd\n",
    "\n",
    "from src.knowledge_graph_manager import *\n",
    "from src.search_enhanced import *\n",
    "from src.visuals import *\n",
    "from src.summary_generator import *\n",
    "from src.feature_extractor import *\n",
    "\n",
    "\n",
    "from bigdata_client import Bigdata\n",
    "from bigdata_client.models.search import DocumentType, SortBy\n",
    "from bigdata_research_tools.search import run_search\n",
    "from bigdata_research_tools.excel import ExcelManager"
   ]
  },
  {
   "cell_type": "markdown",
   "id": "dd111b52",
   "metadata": {},
   "source": [
    "## Optional: Plotly Display Configuration\n",
    "\n",
    "For better visualization rendering, you can also set the Plotly renderer:"
   ]
  },
  {
   "cell_type": "code",
   "execution_count": 19,
   "id": "08b1eca7",
   "metadata": {},
   "outputs": [
    {
     "name": "stdout",
     "output_type": "stream",
     "text": [
      "✅ Plotly configured for Jupyter/VS Code\n"
     ]
    }
   ],
   "source": [
    "import plotly.io as pio\n",
    "import plotly.graph_objects as go\n",
    "\n",
    "try:\n",
    "    import os\n",
    "    if 'JUPYTERHUB_SERVICE_PREFIX' in os.environ or 'JPY_SESSION_NAME' in os.environ:\n",
    "        pio.renderers.default = 'jupyterlab'\n",
    "        print(\"✅ Plotly configured for JupyterLab\")\n",
    "    else:\n",
    "        pio.renderers.default = 'plotly_mimetype+notebook'\n",
    "        print(\"✅ Plotly configured for Jupyter/VS Code\")\n",
    "except:\n",
    "    pio.renderers.default = 'notebook'\n",
    "    print(\"✅ Plotly configured with fallback renderer\")\n",
    "\n",
    "interactive_plots = True  # Set to False to generate static plots"
   ]
  },
  {
   "cell_type": "markdown",
   "id": "385c9b65",
   "metadata": {},
   "source": [
    "## Define Output Paths\n",
    "\n",
    "We define the output paths for our Trump reelection impact analysis results."
   ]
  },
  {
   "cell_type": "code",
   "execution_count": 20,
   "id": "e618c8f2",
   "metadata": {},
   "outputs": [],
   "source": [
    "output_dir = \"output\"\n",
    "os.makedirs(output_dir, exist_ok=True)\n",
    "\n",
    "export_path = f\"{output_dir}/credit_ratings_monitor.xlsx\""
   ]
  },
  {
   "cell_type": "markdown",
   "id": "a549ff08",
   "metadata": {},
   "source": [
    "## Connecting to Bigdata\n",
    "\n",
    "Create a Bigdata object with your credentials."
   ]
  },
  {
   "cell_type": "code",
   "execution_count": 21,
   "id": "f29a9a2a",
   "metadata": {},
   "outputs": [],
   "source": [
    "bigdata = Bigdata(BIGDATA_USERNAME, BIGDATA_PASSWORD)"
   ]
  },
  {
   "cell_type": "markdown",
   "id": "72252eab",
   "metadata": {},
   "source": [
    "## Parameters"
   ]
  },
  {
   "cell_type": "code",
   "execution_count": 35,
   "id": "8a9123f8",
   "metadata": {},
   "outputs": [],
   "source": [
    "company_names = ['Boeing Co', 'Verizon Communications']\n",
    "rating_agencies_names = ['S&P Global', 'Fitch Ratings Inc', \"Moody's Corp\"]\n",
    "\n",
    "## Select query parameters\n",
    "document_limit = 100  # Maximum number of retrieved documents for each day\n",
    "batch_size = 1 #number of companies to process in each batch\n",
    "sortby = SortBy.RELEVANCE # Parameter to rank the search results\n",
    "document_type = DocumentType.NEWS  # Scope of search\n",
    "start_date_query = '2021-10-01' # Start date\n",
    "end_date_query = '2024-11-12' # End date\n",
    "\n",
    "## Select the keyword related to credit ratings\n",
    "keywords = ['credit rating']"
   ]
  },
  {
   "cell_type": "markdown",
   "id": "d9d339ac",
   "metadata": {},
   "source": [
    "## 1. Portfolio Selection"
   ]
  },
  {
   "cell_type": "markdown",
   "id": "0559dc79",
   "metadata": {},
   "source": [
    "Define your watchlist starting from the companies name. For the purpose of this example, we select **Boeing Co.** and **Verizon Communications**. We retrieve their Entity ID by leveraging Bigdata.com's Knowledge Graph."
   ]
  },
  {
   "cell_type": "code",
   "execution_count": 33,
   "id": "ff4a54f3",
   "metadata": {},
   "outputs": [],
   "source": [
    "companies = get_entity_ids(company_names)"
   ]
  },
  {
   "cell_type": "code",
   "execution_count": 34,
   "id": "e9a31e73",
   "metadata": {},
   "outputs": [
    {
     "data": {
      "text/plain": [
       "['55438C', '8A8E41']"
      ]
     },
     "execution_count": 34,
     "metadata": {},
     "output_type": "execute_result"
    }
   ],
   "source": [
    "companies"
   ]
  },
  {
   "cell_type": "markdown",
   "id": "0cb697bb",
   "metadata": {},
   "source": [
    "Select the list of Credit Rating Agencies (CRAs), such as **S&P**, **Moody's**, and **Fitch**."
   ]
  },
  {
   "cell_type": "code",
   "execution_count": 36,
   "id": "fae01ec7",
   "metadata": {},
   "outputs": [],
   "source": [
    "rating_agencies = get_entity_ids(rating_agencies_names)"
   ]
  },
  {
   "cell_type": "markdown",
   "id": "82d69f84",
   "metadata": {},
   "source": [
    "## 2. Hybrid Content Search"
   ]
  },
  {
   "cell_type": "markdown",
   "id": "95aab0a8",
   "metadata": {},
   "source": [
    "Perform content retrieval based on Entity Search and Keyword Search. This process retrieves specific sentences from news data that mention a company from our watchlist, at least one credit rating agency, and the keyword selected, allowing for targeted analysis of relevant content. The resulting data is stored in a DataFrame labeled `df_sentences`, organized to facilitate further exploration and analysis."
   ]
  },
  {
   "cell_type": "code",
   "execution_count": 39,
   "id": "24592328",
   "metadata": {},
   "outputs": [],
   "source": [
    "from src.search_enhanced import search_enhanced"
   ]
  },
  {
   "cell_type": "code",
   "execution_count": null,
   "id": "105195d7",
   "metadata": {},
   "outputs": [
    {
     "name": "stdout",
     "output_type": "stream",
     "text": [
      "About to run 2 queries\n",
      "Example Query: And(Entity('55438C'), Entity('CFF97C', '65A2CE', '3461CF'), Keyword('credit rating')) over date range: AbsoluteDateRange('2021-10-01T00:00:00', '2021-10-01T23:59:59')\n"
     ]
    },
    {
     "name": "stderr",
     "output_type": "stream",
     "text": [
      "Querying Bigdata...:   9%|▊         | 199/2278 [00:35<02:26, 14.21it/s]"
     ]
    }
   ],
   "source": [
    "contextualized_chunks = search_enhanced(\n",
    "    companies=companies,\n",
    "    keywords=keywords,\n",
    "    sentences=None,\n",
    "    control_entities=rating_agencies,\n",
    "    start_date=start_date_query,\n",
    "    end_date=end_date_query,\n",
    "    scope=document_type,\n",
    "    freq='D',\n",
    "    document_limit=100,\n",
    "    batch_size=1,\n",
    "    enhance_search=True,\n",
    ")"
   ]
  },
  {
   "cell_type": "code",
   "execution_count": null,
   "id": "ecf5a076",
   "metadata": {},
   "outputs": [],
   "source": []
  }
 ],
 "metadata": {
  "kernelspec": {
   "display_name": "cookbook",
   "language": "python",
   "name": "python3"
  },
  "language_info": {
   "codemirror_mode": {
    "name": "ipython",
    "version": 3
   },
   "file_extension": ".py",
   "mimetype": "text/x-python",
   "name": "python",
   "nbconvert_exporter": "python",
   "pygments_lexer": "ipython3",
   "version": "3.13.5"
  }
 },
 "nbformat": 4,
 "nbformat_minor": 5
}
