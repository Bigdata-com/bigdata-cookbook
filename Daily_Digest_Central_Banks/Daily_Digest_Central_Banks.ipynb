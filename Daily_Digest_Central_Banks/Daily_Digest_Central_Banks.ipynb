{
 "cells": [
  {
   "cell_type": "markdown",
   "id": "3cfab42e",
   "metadata": {},
   "source": [
    "# Daily Digest for Central Banks Announcements"
   ]
  },
  {
   "cell_type": "markdown",
   "id": "d4fefb70-daa9-4ca4-ad5a-106a787e5816",
   "metadata": {},
   "source": [
    "\n",
    "## Why It Matters\n",
    "Central bank announcements can trigger significant movements in currency, bond, and equity markets. Timely identification of emerging narratives around monetary policy, rate decisions, and economic outlooks is critical for traders, analysts, and policymakers seeking to anticipate market reactions and adjust strategies accordingly.\n",
    "\n",
    "## What It Does\n",
    "This workflow identifies, verifies, clusters, and summarizes the most relevant and impactful news related to central bank announcements. It uses the Bigdata API for content retrieval and large language models for topic analysis, producing daily market reports and structured datasets for monitoring or backtesting.\n",
    "\n",
    "## How It Works\n",
    "The notebook implements a four-step agentic workflow built on Bigdata API:\n",
    "\n",
    "- **Lexicon Generation** of monetary policy and central bank–specific terminology to maximize recall in news retrieval.\n",
    "\n",
    "- **Content Retrieval** via the Bigdata API, splitting searches into daily windows and parallelizing keyword lookups for speed.\n",
    "\n",
    "- **Topic Clustering & Selection** to verify, group, and summarize news into ranked trending topics, scoring each for trendiness, novelty, impact, and magnitude.\n",
    "\n",
    "- **Custom Report Generation** in the form of a daily digest with a configurable ranking system, supported by granular news sources for verification.\n",
    "\n",
    "## A Real-World Use Case\n",
    "\n",
    "This cookbook illustrates the full workflow through a practical example: tracking the most discussed  topics in central bank communications during the week of the 2025 Jackson Hole meeting. You'll learn how to transform unstructured policy-related news into structured, ranked insights on market-moving announcements."
   ]
  },
  {
   "cell_type": "markdown",
   "id": "b9a44b28",
   "metadata": {},
   "source": [
    "## Setup and Imports"
   ]
  },
  {
   "cell_type": "markdown",
   "id": "748d8de4",
   "metadata": {},
   "source": [
    "## Async Compatibility Setup\n",
    "\n",
    "**Run this cell first** - Required for Google Colab, Jupyter Notebooks, and VS Code with Jupyter extension:\n",
    "\n",
    "### Why is this needed?\n",
    "\n",
    "Interactive environments (Colab, Jupyter) already have an asyncio event loop running. When bigdata-research-tools makes async API calls (like to OpenAI), you'll get this error without nest_asyncio:\n",
    "\n",
    "```\n",
    "RuntimeError: asyncio.run() cannot be called from a running event loop\n",
    "```\n",
    "\n",
    "The `nest_asyncio.apply()` command patches this to allow nested event loops.\n",
    "\n",
    "💡 **Tip**: If you're unsure which environment you're in, just run the cell below - it won't hurt in any environment!"
   ]
  },
  {
   "cell_type": "code",
   "execution_count": 1,
   "id": "2d6d994a",
   "metadata": {},
   "outputs": [
    {
     "name": "stdout",
     "output_type": "stream",
     "text": [
      "✅ nest_asyncio applied\n"
     ]
    }
   ],
   "source": [
    "import datetime\n",
    "start = datetime.datetime.now()\n",
    "\n",
    "try:\n",
    "    import asyncio\n",
    "    asyncio.get_running_loop()\n",
    "    import nest_asyncio; nest_asyncio.apply()\n",
    "    print(\"✅ nest_asyncio applied\")\n",
    "except (RuntimeError, ImportError):\n",
    "    print(\"✅ nest_asyncio not needed or not available\")"
   ]
  },
  {
   "cell_type": "markdown",
   "id": "f7e190d2",
   "metadata": {},
   "source": [
    "## Environment Setup\n",
    "\n",
    "The following cell configures the necessary path for the analysis"
   ]
  },
  {
   "cell_type": "code",
   "execution_count": 2,
   "id": "8ec5a99c",
   "metadata": {},
   "outputs": [
    {
     "name": "stdout",
     "output_type": "stream",
     "text": [
      "✅ Local environment setup complete\n"
     ]
    }
   ],
   "source": [
    "import os\n",
    "import sys\n",
    "\n",
    "\n",
    "current_dir = os.getcwd()\n",
    "if current_dir not in sys.path:\n",
    "    sys.path.append(current_dir)\n",
    "print(f\"✅ Local environment setup complete\")"
   ]
  },
  {
   "cell_type": "markdown",
   "id": "f5c12ca0",
   "metadata": {},
   "source": [
    "## Import Required Libraries\n",
    "\n",
    "Import the core libraries needed for trending topics analysis, including the lexicon generation classes and data processing tools."
   ]
  },
  {
   "cell_type": "code",
   "execution_count": 3,
   "id": "92fa9831",
   "metadata": {},
   "outputs": [],
   "source": [
    "from bigdata_client import Bigdata\n",
    "from bigdata_client.models.search import DocumentType\n",
    "from src.lexicon_generator import LexiconGenerator\n",
    "from src.search_topics import search_by_keywords\n",
    "from src.topics_extractor import (process_all_reports,\n",
    "                                run_process_all_trending_topics,\n",
    "                                run_add_advanced_novelty_scores,\n",
    "                                add_market_impact_to_df,\n",
    "                                prepare_data_for_report,\n",
    "                                generate_html_report,\n",
    "                                save_html_report)\n",
    "from IPython.display import display\n",
    "from IPython.core.display import HTML"
   ]
  },
  {
   "cell_type": "markdown",
   "id": "6710c91c",
   "metadata": {},
   "source": [
    "## Load Credentials"
   ]
  },
  {
   "cell_type": "code",
   "execution_count": 4,
   "id": "86381fa7",
   "metadata": {},
   "outputs": [
    {
     "name": "stdout",
     "output_type": "stream",
     "text": [
      "✅ Credentials loaded from .env file\n"
     ]
    }
   ],
   "source": [
    "\n",
    "from dotenv import load_dotenv\n",
    "from pathlib import Path\n",
    "\n",
    "script_dir = Path(__file__).parent if '__file__' in globals() else Path.cwd()\n",
    "#load_dotenv(script_dir / '.env')\n",
    "load_dotenv(os.path.abspath(\"/home/abouchs/.python_env_var/.env\"))\n",
    "\n",
    "BIGDATA_USERNAME = os.getenv('BIGDATA_USERNAME')\n",
    "BIGDATA_PASSWORD = os.getenv('BIGDATA_PASSWORD')\n",
    "OPENAI_API_KEY = os.getenv('OPENAI_API_KEY')\n",
    "\n",
    "if not all([BIGDATA_USERNAME, BIGDATA_PASSWORD, OPENAI_API_KEY]):\n",
    "    print(\"❌ Missing required environment variables\")\n",
    "    raise ValueError(\"Missing required environment variables. Check your .env file.\")\n",
    "else:\n",
    "    print(\"✅ Credentials loaded from .env file\")"
   ]
  },
  {
   "cell_type": "markdown",
   "id": "cedc1edb",
   "metadata": {},
   "source": [
    "## Connecting to Bigdata\n",
    "\n",
    "Create a Bigdata object with your credentials."
   ]
  },
  {
   "cell_type": "code",
   "execution_count": 5,
   "id": "2777b6f8",
   "metadata": {},
   "outputs": [],
   "source": [
    "bigdata = Bigdata(BIGDATA_USERNAME, BIGDATA_PASSWORD)"
   ]
  },
  {
   "cell_type": "markdown",
   "id": "1e034fca",
   "metadata": {},
   "source": [
    "## Defining Your Daily Digest Context and Parameters"
   ]
  },
  {
   "cell_type": "markdown",
   "id": "8da20c01",
   "metadata": {},
   "source": [
    "To perform a trending topics analysis, we need to define a few key parameters:\n",
    "\n",
    "- **Main Theme** (`main_theme`): The main topic, asset class, or context to analyze (e.g. Central Bank Announcements)\n",
    "\n",
    "- **Time Period** (`start_date` and `end_date`): The date range over which to run the search\n",
    "\n",
    "- **Document Type** (`document_type`): Specify which documents to search over (transcripts, filings, news)\n",
    "\n",
    "- **Model Selection** (`llm_model`): The AI model used for semantic analysis and topic classification"
   ]
  },
  {
   "cell_type": "code",
   "execution_count": 6,
   "id": "bb472c00",
   "metadata": {},
   "outputs": [],
   "source": [
    "# ===== Context Definition =====\n",
    "main_theme = \"Central Bank Announcements\"\n",
    "\n",
    "# ===== Specify Time Range =====\n",
    "start_query = '2025-08-18'\n",
    "end_query = '2025-08-25'\n",
    "\n",
    "# ===== Query Configuration =====\n",
    "document_type = DocumentType.NEWS\n",
    "\n",
    "# ===== LLM Specification =====\n",
    "llm_model = \"gpt-4o-mini\""
   ]
  },
  {
   "cell_type": "markdown",
   "id": "b252174a",
   "metadata": {},
   "source": [
    "## Define Output Paths\n",
    "\n",
    "We define the output paths for our results."
   ]
  },
  {
   "cell_type": "code",
   "execution_count": 7,
   "id": "93006911",
   "metadata": {},
   "outputs": [],
   "source": [
    "# Define output file paths for our report\n",
    "output_dir = \"output\"\n",
    "os.makedirs(output_dir, exist_ok=True)\n",
    "\n",
    "export_path = f\"{output_dir}/daily_digest_{main_theme.lower().replace(' ', '_')}.csv\""
   ]
  },
  {
   "cell_type": "markdown",
   "id": "e3f6264d",
   "metadata": {},
   "source": [
    "## Instantiating the Lexicon Generator"
   ]
  },
  {
   "cell_type": "markdown",
   "id": "d0c60e14-191f-4e86-84f9-17b376f43a1b",
   "metadata": {},
   "source": [
    "In this step, we identify the specialized industry-specific jargon relevant to the Central Banks Announcements to ensure a high recall in the content retrieval."
   ]
  },
  {
   "cell_type": "code",
   "execution_count": 8,
   "id": "3ab6fdaa",
   "metadata": {},
   "outputs": [],
   "source": [
    "lexicongenerator = LexiconGenerator(openai_key=OPENAI_API_KEY, model=\"gpt-4o\", seeds=[123, 123456, 123456789, 456789, 789])"
   ]
  },
  {
   "cell_type": "code",
   "execution_count": 9,
   "id": "8d2cb29b-6c7c-4a16-ab56-c705e3b68f2b",
   "metadata": {
    "tags": []
   },
   "outputs": [],
   "source": [
    "keywords = lexicongenerator.generate(theme=main_theme)"
   ]
  },
  {
   "cell_type": "markdown",
   "id": "29881280",
   "metadata": {},
   "source": [
    "## Content Retrieval from Bigdata Search API"
   ]
  },
  {
   "cell_type": "markdown",
   "id": "2d858006",
   "metadata": {},
   "source": [
    "In this section, we perform a keyword search on the news content with the Bigdata API to retrieve documents, splitting the search over daily timeframes and multi-threading the content search on the individual keywords for speed purpose. The user can define the time range below to generate daily reports between the start and end dates."
   ]
  },
  {
   "cell_type": "markdown",
   "id": "ebaaefaa",
   "metadata": {},
   "source": [
    "With the list of market-specific keywords parameters, you can leverage the Search functionalities in bigdata-research-tools, built with Bigdata API, to run search at scale against news documents. We need to define 2 more parameters for search:\n",
    "\n",
    "- **Frequency** (`freq`): The frequency of the date ranges to search over. It should at least match the frequency of your daily digest. Supported values:\n",
    "    - `Y`: Yearly intervals.\n",
    "    - `M`: Monthly intervals.\n",
    "    - `W`: Weekly intervals.\n",
    "    - `D`: Daily intervals. Defaults to `D`.\n",
    "- **Document Limit** (`document_limit`): The maximum number of documents to return per query to Bigdata API."
   ]
  },
  {
   "cell_type": "code",
   "execution_count": 10,
   "id": "6037fb3e",
   "metadata": {},
   "outputs": [],
   "source": [
    "# ===== Query Configuration =====\n",
    "document_limit = 10 # Maximum number of documents to retrieve per query\n",
    "frequency = 'D'  # Query frequency"
   ]
  },
  {
   "cell_type": "code",
   "execution_count": 11,
   "id": "add7be3b",
   "metadata": {},
   "outputs": [
    {
     "name": "stdout",
     "output_type": "stream",
     "text": [
      "About to run 512 queries\n",
      "Example Query: Keyword('Central Bank Announcements') over date range: AbsoluteDateRange('2025-08-18T00:00:00', '2025-08-18T23:59:59')\n"
     ]
    },
    {
     "name": "stderr",
     "output_type": "stream",
     "text": [
      "Querying Bigdata...: 100%|██████████| 512/512 [01:46<00:00,  4.81it/s]\n"
     ]
    }
   ],
   "source": [
    "results, daily_keyword_count = search_by_keywords(\n",
    "    keywords=keywords,\n",
    "    start_date=start_query,\n",
    "    end_date=end_query,\n",
    "    freq=frequency,\n",
    "    scope=document_type,\n",
    "    document_limit=document_limit)"
   ]
  },
  {
   "cell_type": "markdown",
   "id": "0fc44aa5-c056-4163-8dea-d204f8b1307b",
   "metadata": {},
   "source": [
    "## Topic Clustering and Summarization"
   ]
  },
  {
   "cell_type": "markdown",
   "id": "8bcf7b34-71cd-4631-a220-754be8118aaa",
   "metadata": {},
   "source": [
    "In this step, we perform topic modelling using a large language model to verify and cluster the news. Then, the summarization ensures topic selection identifying the top trending news for Central Banks Announcements, while deriving advanced analytics to quantify the trendiness (based on news volume), novelty (based on daily changes in summaries), impact and magnitude (based on the impact on Equity prices) of the trending topics."
   ]
  },
  {
   "cell_type": "markdown",
   "id": "0ef0fb0c-bc04-4024-b194-aa15b50b986f",
   "metadata": {},
   "source": [
    "Before performing the topic clustering, we apply a verification layer to remove the news that are not relative to the Central Banks announcements"
   ]
  },
  {
   "cell_type": "code",
   "execution_count": 12,
   "id": "aa9249ab-cb3f-4621-872e-437e5e6e7667",
   "metadata": {
    "tags": []
   },
   "outputs": [
    {
     "data": {
      "application/vnd.jupyter.widget-view+json": {
       "model_id": "5f9d043eeac0482fb77652eb84a30a86",
       "version_major": 2,
       "version_minor": 0
      },
      "text/plain": [
       "Filtering News:   0%|          | 0/7656 [00:00<?, ?it/s]"
      ]
     },
     "metadata": {},
     "output_type": "display_data"
    }
   ],
   "source": [
    "semaphore_size = 1000 # Maximum number of concurrent requests to Openai API\n",
    " \n",
    "# Assuming unique_reports is your DataFrame\n",
    "filtered_reports = process_all_reports(results, llm_model, OPENAI_API_KEY, main_theme, semaphore_size)"
   ]
  },
  {
   "cell_type": "markdown",
   "id": "e7d982ff-751c-42fc-a704-4cf576035e35",
   "metadata": {},
   "source": [
    "In this cell, we leverage a LLM to perform topic modeling, identifying and clustering the key topics from the news reports."
   ]
  },
  {
   "cell_type": "code",
   "execution_count": 13,
   "id": "a989a1aa-e758-489b-98a6-0ba259ea976c",
   "metadata": {},
   "outputs": [
    {
     "data": {
      "application/vnd.jupyter.widget-view+json": {
       "model_id": "b1e3b3e264b04d8eb414e7180d0765a8",
       "version_major": 2,
       "version_minor": 0
      },
      "text/plain": [
       "Extracting Topics for 2025-08-18:   0%|          | 0/20 [00:00<?, ?it/s]"
      ]
     },
     "metadata": {},
     "output_type": "display_data"
    },
    {
     "data": {
      "application/vnd.jupyter.widget-view+json": {
       "model_id": "609f932dfe68478fb6243a6069e03029",
       "version_major": 2,
       "version_minor": 0
      },
      "text/plain": [
       "Extracting Topics for 2025-08-19:   0%|          | 0/20 [00:00<?, ?it/s]"
      ]
     },
     "metadata": {},
     "output_type": "display_data"
    },
    {
     "data": {
      "application/vnd.jupyter.widget-view+json": {
       "model_id": "f606b172f0094ca78eb25a0acf9152e5",
       "version_major": 2,
       "version_minor": 0
      },
      "text/plain": [
       "Extracting Topics for 2025-08-20:   0%|          | 0/20 [00:00<?, ?it/s]"
      ]
     },
     "metadata": {},
     "output_type": "display_data"
    },
    {
     "data": {
      "application/vnd.jupyter.widget-view+json": {
       "model_id": "e843baa3784e4858880c356c1cf3c2bd",
       "version_major": 2,
       "version_minor": 0
      },
      "text/plain": [
       "Extracting Topics for 2025-08-21:   0%|          | 0/20 [00:00<?, ?it/s]"
      ]
     },
     "metadata": {},
     "output_type": "display_data"
    },
    {
     "data": {
      "application/vnd.jupyter.widget-view+json": {
       "model_id": "fb3647fd8a394ed383fcbe4c3b0d44b9",
       "version_major": 2,
       "version_minor": 0
      },
      "text/plain": [
       "Extracting Topics for 2025-08-22:   0%|          | 0/20 [00:00<?, ?it/s]"
      ]
     },
     "metadata": {},
     "output_type": "display_data"
    },
    {
     "data": {
      "application/vnd.jupyter.widget-view+json": {
       "model_id": "0460de81068d463fa53b456d63a46902",
       "version_major": 2,
       "version_minor": 0
      },
      "text/plain": [
       "Extracting Topics for 2025-08-23:   0%|          | 0/20 [00:00<?, ?it/s]"
      ]
     },
     "metadata": {},
     "output_type": "display_data"
    },
    {
     "data": {
      "application/vnd.jupyter.widget-view+json": {
       "model_id": "80c3927d6e2e40b6b36e3f080f4366b7",
       "version_major": 2,
       "version_minor": 0
      },
      "text/plain": [
       "Extracting Topics for 2025-08-24:   0%|          | 0/20 [00:00<?, ?it/s]"
      ]
     },
     "metadata": {},
     "output_type": "display_data"
    },
    {
     "data": {
      "application/vnd.jupyter.widget-view+json": {
       "model_id": "efda30d2329947ca91bfd07e5a480ee0",
       "version_major": 2,
       "version_minor": 0
      },
      "text/plain": [
       "Extracting Topics for 2025-08-25:   0%|          | 0/20 [00:00<?, ?it/s]"
      ]
     },
     "metadata": {},
     "output_type": "display_data"
    },
    {
     "name": "stdout",
     "output_type": "stream",
     "text": [
      "Consolidating topics...\n"
     ]
    },
    {
     "name": "stderr",
     "output_type": "stream",
     "text": [
      "Consolidating topic batches: 100%|██████████| 9/9 [00:17<00:00,  1.96s/it]\n"
     ]
    },
    {
     "name": "stdout",
     "output_type": "stream",
     "text": [
      "Summarizing text for each topic...\n"
     ]
    },
    {
     "name": "stderr",
     "output_type": "stream",
     "text": [
      "Summarizing topics: 100%|██████████| 8/8 [00:07<00:00,  1.04it/s]\n",
      "Generating titles: 100%|██████████| 9/9 [00:08<00:00,  1.10it/s]\n"
     ]
    },
    {
     "name": "stdout",
     "output_type": "stream",
     "text": [
      "Generating Day in Review summaries...\n",
      "Adding one-line summaries to DataFrame...\n"
     ]
    },
    {
     "name": "stderr",
     "output_type": "stream",
     "text": [
      "Generating text summaries: 100%|██████████| 1921/1921 [00:59<00:00, 32.37it/s] \n"
     ]
    }
   ],
   "source": [
    "flattened_trending_topics_df = run_process_all_trending_topics(\n",
    "    unique_reports=filtered_reports,\n",
    "    model=llm_model,\n",
    "    start_query=start_query,\n",
    "    end_query=end_query,\n",
    "    api_key=OPENAI_API_KEY,\n",
    "    main_theme=main_theme,\n",
    "    batches=20 #number of batches to process the reports in parallel (adjust based on your system's capabilities)\n",
    ")"
   ]
  },
  {
   "cell_type": "markdown",
   "id": "f2dd1fd6",
   "metadata": {},
   "source": [
    "## Topic Scoring"
   ]
  },
  {
   "cell_type": "markdown",
   "id": "dc7f18a8-f5a2-4bf2-b713-e525197fad29",
   "metadata": {},
   "source": [
    "**Trendiness and Novelty Scores**: We derive analytics related to the trendiness of the topic based on the news volume, and the novelty of the topic based on the changes in daily summaries, evaluating the uniqueness and freshness of each topic. "
   ]
  },
  {
   "cell_type": "code",
   "execution_count": 16,
   "id": "9344c4cf-847c-49c4-a5bc-23cf1b542369",
   "metadata": {},
   "outputs": [
    {
     "data": {
      "application/vnd.jupyter.widget-view+json": {
       "model_id": "b77a0e101a13438cb6e28408f69748aa",
       "version_major": 2,
       "version_minor": 0
      },
      "text/plain": [
       "Calculating Novelty Scores:   0%|          | 0/34 [00:00<?, ?it/s]"
      ]
     },
     "metadata": {},
     "output_type": "display_data"
    }
   ],
   "source": [
    "# Calculate trendiness and novelty scores, assessing the uniqueness and freshness of each topic\n",
    "flattened_trending_topics_df = run_add_advanced_novelty_scores(flattened_trending_topics_df, api_key = os.environ['OPENAI_API_KEY'], main_theme = main_theme)"
   ]
  },
  {
   "cell_type": "markdown",
   "id": "8dad5fdd-ec65-49ad-a706-2f125f730621",
   "metadata": {},
   "source": [
    "**Price impact**: We derive analytics related to the impact (Positive, Negative) and magnitude (High, Medium, Low) of the topics, inferring their  market impact on equity prices. The prince impact inference is based on the price mechanisms and the perceived sentiment and market reaction of the news on the market."
   ]
  },
  {
   "cell_type": "code",
   "execution_count": 17,
   "id": "a4ee2bfa-7bc4-4a38-a43f-dc3bc285a78a",
   "metadata": {},
   "outputs": [],
   "source": [
    "# Assess the market impact for each topic, evaluating how each topic influences Equity market\n",
    "point_of_view = 'Domestic Equity market'\n",
    "flattened_trending_topics_df = add_market_impact_to_df(flattened_trending_topics_df, api_key = os.environ['OPENAI_API_KEY'], main_theme = main_theme, point_of_view = point_of_view)"
   ]
  },
  {
   "cell_type": "markdown",
   "id": "5b1c59ba-8f79-42e5-8e6f-7d342284c8f5",
   "metadata": {},
   "source": [
    "We display the results of topic modeling and summarization. The **Topic** column represents the themes inferred through topic clustering using a LLM, which groups the news articles based on their content and underlying themes. The **Summary** provides a synthesized overview of all news articles within the same topic, offering a high-level view of the key messages for each cluster. The **Topic** is then rephrased into a concise form based on the summary. The **Text_Summary** provides a detailed summary of each individual chunk, capturing its core message."
   ]
  },
  {
   "cell_type": "markdown",
   "id": "a6d5c43a-0d83-4621-8e5e-ad064d0b6190",
   "metadata": {},
   "source": [
    "For verification purpose, this actionable timestamped dataframe contains the granular news clustered into relevant topics, and also the advanced analytics of trendiness, novelty, impact, and magnitude scores to be potentially used for backtesting. "
   ]
  },
  {
   "cell_type": "code",
   "execution_count": 18,
   "id": "508c4934",
   "metadata": {},
   "outputs": [
    {
     "data": {
      "text/html": [
       "<div>\n",
       "<style scoped>\n",
       "    .dataframe tbody tr th:only-of-type {\n",
       "        vertical-align: middle;\n",
       "    }\n",
       "\n",
       "    .dataframe tbody tr th {\n",
       "        vertical-align: top;\n",
       "    }\n",
       "\n",
       "    .dataframe thead th {\n",
       "        text-align: right;\n",
       "    }\n",
       "</style>\n",
       "<table border=\"1\" class=\"dataframe\">\n",
       "  <thead>\n",
       "    <tr style=\"text-align: right;\">\n",
       "      <th></th>\n",
       "      <th>Date</th>\n",
       "      <th>Day_in_Review</th>\n",
       "      <th>Topic</th>\n",
       "      <th>Summary</th>\n",
       "      <th>Source</th>\n",
       "      <th>Headline</th>\n",
       "      <th>Text</th>\n",
       "      <th>Volume_Score</th>\n",
       "      <th>Text_Summary</th>\n",
       "      <th>Volume_Score</th>\n",
       "      <th>Novelty_Score</th>\n",
       "      <th>Impact_Score</th>\n",
       "      <th>Magnitude_Score</th>\n",
       "    </tr>\n",
       "  </thead>\n",
       "  <tbody>\n",
       "    <tr>\n",
       "      <th>0</th>\n",
       "      <td>2025-08-18</td>\n",
       "      <td>- **Inflation Pressures**: Central banks globa...</td>\n",
       "      <td>Global Central Banks Tackle Inflation and Grow...</td>\n",
       "      <td>Central Bank Interest Rate Policies are curren...</td>\n",
       "      <td>Independent Online</td>\n",
       "      <td>BER flags economic implications of changing in...</td>\n",
       "      <td>Conversely, in a pessimistic scenario where Tr...</td>\n",
       "      <td>7</td>\n",
       "      <td>Failure to meet the 3% inflation target while ...</td>\n",
       "      <td>7</td>\n",
       "      <td>Old</td>\n",
       "      <td>Negative</td>\n",
       "      <td>High</td>\n",
       "    </tr>\n",
       "    <tr>\n",
       "      <th>35</th>\n",
       "      <td>2025-08-18</td>\n",
       "      <td>- **Inflation Pressures**: Central banks globa...</td>\n",
       "      <td>Global Central Banks Tackle Inflation and Grow...</td>\n",
       "      <td>Central Bank Interest Rate Policies are curren...</td>\n",
       "      <td>Business Standard via Web</td>\n",
       "      <td>Japanese markets hit a new record high</td>\n",
       "      <td>ahead of inflation data due this week that cou...</td>\n",
       "      <td>3</td>\n",
       "      <td>The Bank of Japan's potential rate hike decisi...</td>\n",
       "      <td>3</td>\n",
       "      <td>Old</td>\n",
       "      <td>Negative</td>\n",
       "      <td>High</td>\n",
       "    </tr>\n",
       "    <tr>\n",
       "      <th>36</th>\n",
       "      <td>2025-08-18</td>\n",
       "      <td>- **Inflation Pressures**: Central banks globa...</td>\n",
       "      <td>Global Central Banks Tackle Inflation and Grow...</td>\n",
       "      <td>Central Bank Interest Rate Policies are curren...</td>\n",
       "      <td>MT Newswires</td>\n",
       "      <td>US Dollar Rises Early Monday; Housing Data, FO...</td>\n",
       "      <td>USD/JPY rose to 147.4151 from 147.2012 at the ...</td>\n",
       "      <td>3</td>\n",
       "      <td>The USD/JPY exchange rate increased as Japanes...</td>\n",
       "      <td>3</td>\n",
       "      <td>Old</td>\n",
       "      <td>Negative</td>\n",
       "      <td>High</td>\n",
       "    </tr>\n",
       "    <tr>\n",
       "      <th>37</th>\n",
       "      <td>2025-08-18</td>\n",
       "      <td>- **Inflation Pressures**: Central banks globa...</td>\n",
       "      <td>Global Central Banks Tackle Inflation and Grow...</td>\n",
       "      <td>Central Bank Interest Rate Policies are curren...</td>\n",
       "      <td>Livemint</td>\n",
       "      <td>Traders Boost Bets BOE Will Hold Rate at 4% fo...</td>\n",
       "      <td>The change in outlook for BOE policy is boosti...</td>\n",
       "      <td>3</td>\n",
       "      <td>The Bank of England's policy outlook shift is ...</td>\n",
       "      <td>3</td>\n",
       "      <td>Old</td>\n",
       "      <td>Negative</td>\n",
       "      <td>High</td>\n",
       "    </tr>\n",
       "    <tr>\n",
       "      <th>38</th>\n",
       "      <td>2025-08-18</td>\n",
       "      <td>- **Inflation Pressures**: Central banks globa...</td>\n",
       "      <td>Central Bank Rate Cuts Drive Market Shifts Ami...</td>\n",
       "      <td>Market reactions to central bank policies, par...</td>\n",
       "      <td>Nairametrics</td>\n",
       "      <td>Monetary Policy Rate cuts and disinflation: Ba...</td>\n",
       "      <td>Yet, much of this rally has been driven by str...</td>\n",
       "      <td>3</td>\n",
       "      <td>Strong earnings expectations and investor infl...</td>\n",
       "      <td>3</td>\n",
       "      <td>Old</td>\n",
       "      <td>Positive</td>\n",
       "      <td>High</td>\n",
       "    </tr>\n",
       "  </tbody>\n",
       "</table>\n",
       "</div>"
      ],
      "text/plain": [
       "          Date                                      Day_in_Review  \\\n",
       "0   2025-08-18  - **Inflation Pressures**: Central banks globa...   \n",
       "35  2025-08-18  - **Inflation Pressures**: Central banks globa...   \n",
       "36  2025-08-18  - **Inflation Pressures**: Central banks globa...   \n",
       "37  2025-08-18  - **Inflation Pressures**: Central banks globa...   \n",
       "38  2025-08-18  - **Inflation Pressures**: Central banks globa...   \n",
       "\n",
       "                                                Topic  \\\n",
       "0   Global Central Banks Tackle Inflation and Grow...   \n",
       "35  Global Central Banks Tackle Inflation and Grow...   \n",
       "36  Global Central Banks Tackle Inflation and Grow...   \n",
       "37  Global Central Banks Tackle Inflation and Grow...   \n",
       "38  Central Bank Rate Cuts Drive Market Shifts Ami...   \n",
       "\n",
       "                                              Summary  \\\n",
       "0   Central Bank Interest Rate Policies are curren...   \n",
       "35  Central Bank Interest Rate Policies are curren...   \n",
       "36  Central Bank Interest Rate Policies are curren...   \n",
       "37  Central Bank Interest Rate Policies are curren...   \n",
       "38  Market reactions to central bank policies, par...   \n",
       "\n",
       "                       Source  \\\n",
       "0          Independent Online   \n",
       "35  Business Standard via Web   \n",
       "36               MT Newswires   \n",
       "37                   Livemint   \n",
       "38               Nairametrics   \n",
       "\n",
       "                                             Headline  \\\n",
       "0   BER flags economic implications of changing in...   \n",
       "35             Japanese markets hit a new record high   \n",
       "36  US Dollar Rises Early Monday; Housing Data, FO...   \n",
       "37  Traders Boost Bets BOE Will Hold Rate at 4% fo...   \n",
       "38  Monetary Policy Rate cuts and disinflation: Ba...   \n",
       "\n",
       "                                                 Text  Volume_Score  \\\n",
       "0   Conversely, in a pessimistic scenario where Tr...             7   \n",
       "35  ahead of inflation data due this week that cou...             3   \n",
       "36  USD/JPY rose to 147.4151 from 147.2012 at the ...             3   \n",
       "37  The change in outlook for BOE policy is boosti...             3   \n",
       "38  Yet, much of this rally has been driven by str...             3   \n",
       "\n",
       "                                         Text_Summary  Volume_Score  \\\n",
       "0   Failure to meet the 3% inflation target while ...             7   \n",
       "35  The Bank of Japan's potential rate hike decisi...             3   \n",
       "36  The USD/JPY exchange rate increased as Japanes...             3   \n",
       "37  The Bank of England's policy outlook shift is ...             3   \n",
       "38  Strong earnings expectations and investor infl...             3   \n",
       "\n",
       "   Novelty_Score Impact_Score Magnitude_Score  \n",
       "0            Old     Negative            High  \n",
       "35           Old     Negative            High  \n",
       "36           Old     Negative            High  \n",
       "37           Old     Negative            High  \n",
       "38           Old     Positive            High  "
      ]
     },
     "execution_count": 18,
     "metadata": {},
     "output_type": "execute_result"
    }
   ],
   "source": [
    "flattened_trending_topics_df.head()"
   ]
  },
  {
   "cell_type": "code",
   "execution_count": 19,
   "id": "fe2ca7d9",
   "metadata": {},
   "outputs": [],
   "source": [
    "## Export the final dataframe\n",
    "\n",
    "flattened_trending_topics_df.to_csv(export_path, index=False)"
   ]
  },
  {
   "cell_type": "markdown",
   "id": "e04f408a-7ba2-4157-b5cd-9e580ff4e12c",
   "metadata": {},
   "source": [
    "## Generate a Custom Daily Digest"
   ]
  },
  {
   "cell_type": "markdown",
   "id": "acbc5f20-ec30-4669-99f1-5ff1c2eca389",
   "metadata": {},
   "source": [
    "In this step, we rank the topics, allowing the user to customize the ranking system to reindex the news, based on their trendiness, novelty, and impact on equity prices. We finally display a daily market update, supported by the corresponding granular news and sources for verification purpose."
   ]
  },
  {
   "cell_type": "markdown",
   "id": "2088103e-9984-4951-96c8-f8723e8cfad8",
   "metadata": {},
   "source": [
    "The user selects the date for the report summarizing the top trending topics, and customizes the ranking system to prioritize the topics based on volume (trendiness and media attention), novelty (based on the emergence of new daily news), impact direction (positive or negative), and magnitude. The ranking system prioritizes the criteria in the order specified by the user, allowing for a tailored focus on the most relevant aspects of the data."
   ]
  },
  {
   "cell_type": "markdown",
   "id": "5cbf4275-da44-4ead-972a-d16f00ea7c5c",
   "metadata": {},
   "source": [
    "The order in which the criteria are listed in user_selected_ranking determines their priority for ranking the topics within the report. The first criterion in the list has the highest priority, followed by the second, and then the third. The user can customize the ranking by choosing to prioritize impact direction (positive or negative), novelty, magnitude, or volume, and has the flexibility to select 1, 2, or all 3 criteria based on their specific needs."
   ]
  },
  {
   "cell_type": "code",
   "execution_count": 32,
   "id": "4f650c38",
   "metadata": {},
   "outputs": [],
   "source": [
    "specific_date = '2025-08-25'  # Example date, can be modified as needed\n",
    "user_selected_ranking = ['novelty', 'volume', 'magnitude']  # User can modify this list to change the ranking order\n",
    "#impact_filter = 'positive_impact' #User can use the impact_filter to filter out the report"
   ]
  },
  {
   "cell_type": "code",
   "execution_count": 33,
   "id": "9908de34",
   "metadata": {},
   "outputs": [],
   "source": [
    "prepared_reports = prepare_data_for_report(flattened_trending_topics_df, user_selected_ranking, impact_filter = None, report_date = specific_date)"
   ]
  },
  {
   "cell_type": "code",
   "execution_count": 34,
   "id": "a9e22ce4-ee81-4a20-89cf-879bedcf878f",
   "metadata": {
    "tags": []
   },
   "outputs": [
    {
     "data": {
      "text/html": [
       "<!DOCTYPE html>\n",
       "<html lang=\"en\">\n",
       "<head>\n",
       "    <meta charset=\"UTF-8\">\n",
       "    <title>Central Bank Announcements - 2025-08-25</title>\n",
       "    <style>\n",
       "        body {\n",
       "            font-family: Arial, sans-serif;\n",
       "            background-color: #121212;\n",
       "            color: #E0E0E0;\n",
       "            margin: 20px;\n",
       "            padding: 0;\n",
       "            line-height: 1.6;\n",
       "        }\n",
       "        .container {\n",
       "            max-width: 1200px;\n",
       "            margin: 0 auto;\n",
       "            padding: 20px;\n",
       "            background-color: #1E1E1E;\n",
       "            border-radius: 10px;\n",
       "            box-shadow: 0px 4px 8px rgba(0, 0, 0, 0.4);\n",
       "            position: relative;  /* For positioning the logo */\n",
       "        }\n",
       "        .container h1, .container h2, .container h3 {\n",
       "            color: #0080BF;\n",
       "        }\n",
       "        .title {\n",
       "            text-align: center;\n",
       "            font-size: 2em;\n",
       "            margin-bottom: 20px;\n",
       "            color: #00BFFF; /* Dynamic blue color for the title */\n",
       "            text-transform: uppercase;\n",
       "            letter-spacing: 2px;\n",
       "            white-space: nowrap; /* Prevent text wrapping */\n",
       "        }\n",
       "        .logo {\n",
       "            position: absolute;\n",
       "            top: 20px;\n",
       "            left: 20px; /* Positioned to the left */\n",
       "            width: 180px;  /* Adjust the size as needed */\n",
       "            height: auto;\n",
       "        }\n",
       "        .content {\n",
       "            display: flex;\n",
       "        }\n",
       "        .left-column {\n",
       "            flex: 1;\n",
       "            max-width: 300px;\n",
       "            margin-right: 20px;\n",
       "        }\n",
       "        .right-column {\n",
       "            flex: 3;\n",
       "        }\n",
       "        .separator {\n",
       "            width: 2px;\n",
       "            background-color: #00BFFF; /* Dynamic blue color for the separator */\n",
       "            margin-right: 20px;\n",
       "        }\n",
       "        .section-title {\n",
       "            font-size: 1.5em;\n",
       "            margin-bottom: 15px;\n",
       "            color: #0080BF; /* Darker blue color for section titles */\n",
       "            text-transform: uppercase;\n",
       "        }\n",
       "        .bullet-points {\n",
       "            list-style-type: disc;\n",
       "            margin-left: 20px;\n",
       "            color: #E0E0E0; /* White color for bullet points */\n",
       "        }\n",
       "        .topic-section {\n",
       "            margin-bottom: 40px;  /* Increased space between updates */\n",
       "            padding: 20px;\n",
       "            background-color: #2A2A2A;\n",
       "            border-radius: 10px;\n",
       "            box-shadow: 0px 4px 6px rgba(0, 0, 0, 0.3);\n",
       "            position: relative;  /* To position the counters */\n",
       "        }\n",
       "        .topic-title {\n",
       "            font-size: 1.7em;\n",
       "            padding-top: 40px; /* Increase space above the title */\n",
       "            color: #0080BF; /* Darker blue color for topic titles */\n",
       "            text-transform: uppercase;\n",
       "        }\n",
       "        .counter-container {\n",
       "            position: absolute;\n",
       "            top: 20px;\n",
       "            right: 20px;\n",
       "            display: flex;\n",
       "            align-items: center;\n",
       "            justify-content: flex-start; /* Align content to the left */\n",
       "            gap: 20px; /* Space between each counter */\n",
       "            margin-bottom: 60px; /* Increased space between the title and counters */\n",
       "        }\n",
       "        .news-counter, .novelty-counter, .impact-counter, .magnitude-counter {\n",
       "            background-color: #00BFFF; /* Dynamic blue color for counters */\n",
       "            color: #121212; /* Black text color for counters */\n",
       "            padding: 5px 10px;\n",
       "            border-radius: 15px;\n",
       "            font-weight: bold;\n",
       "            font-size: 1em;\n",
       "            box-shadow: 0px 2px 4px rgba(0, 0, 0, 0.2);\n",
       "            display: flex;\n",
       "            align-items: center;  /* Align text and icon vertically */\n",
       "        }\n",
       "        .novelty-counter {\n",
       "            background-color: transparent;\n",
       "            color: #FFA500;  /* Orange color for the flame icon and text */\n",
       "        }\n",
       "        .flame-icon {\n",
       "            vertical-align: middle;\n",
       "            margin-right: 5px;\n",
       "            width: 24px;  /* Adjusted width of the flame icon */\n",
       "            height: 24px; /* Adjusted height of the flame icon */\n",
       "        }\n",
       "        .impact-counter {\n",
       "            color: #121212; /* Black text color for impact */\n",
       "        }\n",
       "        .impact-counter.positive {\n",
       "            background-color: #4CAF50; /* Green for positive impact */\n",
       "        }\n",
       "        .impact-counter.negative {\n",
       "            background-color: #F44336; /* Red for negative impact */\n",
       "        }\n",
       "        .impact-counter.neutral {\n",
       "            background-color: transparent; /* Transparent for neutral impact */\n",
       "            color: #00BFFF; /* Dynamic blue for neutral impact text */\n",
       "        }\n",
       "        .magnitude-counter {\n",
       "            background-color: transparent; /* Transparent for the magnitude box */\n",
       "            color: #00BFFF; /* Dynamic blue for magnitude text */\n",
       "        }\n",
       "        .magnitude-counter.high {\n",
       "            color: #F44336; /* Red for high magnitude */\n",
       "        }\n",
       "        .magnitude-counter.medium {\n",
       "            color: #FFD700; /* Yellow for medium magnitude */\n",
       "        }\n",
       "        .magnitude-counter.low {\n",
       "            color: #FFFFFF; /* White for low magnitude */\n",
       "        }\n",
       "        .impact-icon, .intensity-arrow {\n",
       "            vertical-align: middle;\n",
       "            margin-right: 5px;\n",
       "            width: 24px;  /* Adjusted width of the icons */\n",
       "            height: 24px; /* Adjusted height of the icons */\n",
       "        }\n",
       "        .counter-label {\n",
       "            font-size: 0.8em;\n",
       "            color: #E0E0E0; /* White color for the counter labels */\n",
       "            margin-right: 5px;\n",
       "            text-transform: uppercase;\n",
       "            letter-spacing: 1px;\n",
       "        }\n",
       "        .description {\n",
       "            font-size: 1.1em;\n",
       "            margin-bottom: 15px;\n",
       "            color: #E0E0E0; /* White color for description */\n",
       "        }\n",
       "    </style>\n",
       "</head>\n",
       "<body>\n",
       "    <div class=\"container\">\n",
       "        <!-- Logo Section -->\n",
       "        <img src=\"data:image/svg+xml;base64,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\" alt=\"Big Data Logo\" class=\"logo\">\n",
       "        \n",
       "        <!-- Title Section -->\n",
       "        <div class=\"title\">Central Bank Announcements - 2025-08-25</div>\n",
       "        \n",
       "        <!-- Content Section -->\n",
       "        <div class=\"content\">\n",
       "            <!-- Left Column -->\n",
       "            <div class=\"left-column\">\n",
       "                <h2 class=\"section-title\">The Day in Review</h2>\n",
       "                <ul class=\"bullet-points\">\n",
       "                    \n",
       "                    <li><b>Central Bank Rate Policies</b>: Global central banks are adjusting policies amid inflation and growth challenges; SARB faces high inflation (4.5%) with no target adjustments, while the Fed's hawkish stance suggests potential rate cuts due to strong U.S. economic data.</li>\n",
       "                    \n",
       "                    <li><b>Geopolitical Tensions</b>: Ongoing geopolitical issues, including tariff disputes and the Ukraine conflict, complicate monetary policy for central banks, influencing inflation and currency volatility.</li>\n",
       "                    \n",
       "                    <li><b>ECB and Fed Dynamics</b>: The ECB is under pressure to maintain rates amid Eurozone uncertainties, while the Fed's independence is challenged by political dynamics affecting its interest rate decisions.</li>\n",
       "                    \n",
       "                    <li><b>China and New Zealand Policies</b>: The PBoC is cautiously implementing a loose monetary policy to stimulate growth, while the RBNZ is expected to cut rates to support recovery.</li>\n",
       "                    \n",
       "                    <li><b>BoJ and BoE Responses</b>: The BoJ faces pressure to raise rates due to persistent inflation, marking a shift from its ultra-loose policy; the BoE is divided on rate cuts amid rising inflation.</li>\n",
       "                    \n",
       "                    <li><b>Market Volatility</b>: Geopolitical events are driving currency volatility, particularly affecting safe-haven currencies like the Yen, with potential impacts on commodity prices and the U.S. Dollar.</li>\n",
       "                    \n",
       "                    <li><b>Data Monitoring</b>: Upcoming inflation data releases are critical for shaping central bank policies, with analysts closely watching consumer price index reports.</li>\n",
       "                    \n",
       "                    <li><b>Central Bank Independence</b>: Political pressures threaten central bank autonomy, which is essential for maintaining market stability and effective monetary policy.</li>\n",
       "                    \n",
       "                </ul>\n",
       "            </div>\n",
       "\n",
       "            <!-- Separator -->\n",
       "            <div class=\"separator\"></div>\n",
       "\n",
       "            <!-- Right Column -->\n",
       "            <div class=\"right-column\">\n",
       "                \n",
       "                <div class=\"topic-section\">\n",
       "                    <div class=\"counter-container\">\n",
       "                        <div class=\"news-counter\">\n",
       "                            <span class=\"counter-label\">Volume Score</span>\n",
       "                            5 News\n",
       "                        </div>\n",
       "                        <div class=\"novelty-counter\">\n",
       "                            <span class=\"counter-label\">Novelty Score</span>\n",
       "                            <img src=\"data:image/png;base64,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\" alt=\"Flame Icon\" class=\"flame-icon\">\n",
       "                            Novel\n",
       "                        </div>\n",
       "                        <div class=\"impact-counter negative\">\n",
       "                            <span class=\"counter-label\">Price Impact</span>\n",
       "                            Negative\n",
       "                        </div>\n",
       "                        <div class=\"magnitude-counter high\">\n",
       "                            <span class=\"counter-label\">Intensity</span>\n",
       "                            <img src=\"data:image/png;base64,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\" alt=\"Intensity Arrow\" class=\"intensity-arrow\">\n",
       "                            High\n",
       "                        </div>\n",
       "                    </div>\n",
       "                    <h2 class=\"topic-title\">Geopolitical Tensions and Inflationary Pressures Challenge Central Banks' Monetary Policies</h2>\n",
       "                    <p class=\"description\">Global economic conditions are increasingly influenced by geopolitical tensions, particularly the ongoing tariff disputes and the situation in Ukraine, which pose significant challenges for central banks worldwide. Policymakers, including those at the European Central Bank (ECB) and the Federal Reserve, are navigating a complex landscape where inflationary pressures, driven by factors such as rising food prices and labor market dynamics, complicate monetary policy decisions. The ECB is considering easing measures in response to economic indicators, while the Fed faces pressures from political dynamics that may affect its independence and approach to interest rates. The interconnectedness of global economies necessitates that central banks account for both domestic and international developments, as their decisions can have cascading effects on global markets and trade balances. Upcoming inflation data releases are critical for shaping central bank policies, with analysts closely monitoring consumer price index reports to gauge future monetary strategies. The collaborative approach among central banks, exemplified by the participation of the Bank of Japan's Governor at the Federal Reserve's Jackson Hole conference, underscores the importance of coordinated responses to shared economic challenges. As central banks strive to maintain credibility in their inflation-fighting mandates, the reliability of data collection and public trust remain paramount in ensuring effective monetary policy.</p>\n",
       "                </div>\n",
       "                \n",
       "                <div class=\"topic-section\">\n",
       "                    <div class=\"counter-container\">\n",
       "                        <div class=\"news-counter\">\n",
       "                            <span class=\"counter-label\">Volume Score</span>\n",
       "                            23 News\n",
       "                        </div>\n",
       "                        <div class=\"novelty-counter\">\n",
       "                            <span class=\"counter-label\">Novelty Score</span>\n",
       "                            <img src=\"data:image/png;base64,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\" alt=\"Flame Icon\" class=\"flame-icon\">\n",
       "                            Moderate\n",
       "                        </div>\n",
       "                        <div class=\"impact-counter negative\">\n",
       "                            <span class=\"counter-label\">Price Impact</span>\n",
       "                            Negative\n",
       "                        </div>\n",
       "                        <div class=\"magnitude-counter high\">\n",
       "                            <span class=\"counter-label\">Intensity</span>\n",
       "                            <img src=\"data:image/png;base64,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\" alt=\"Intensity Arrow\" class=\"intensity-arrow\">\n",
       "                            High\n",
       "                        </div>\n",
       "                    </div>\n",
       "                    <h2 class=\"topic-title\">Global Central Banks Tackle Inflation and Growth Challenges Amid Rate Policy Adjustments</h2>\n",
       "                    <p class=\"description\">Central Bank Interest Rate Policies are currently under scrutiny as various global central banks navigate complex economic landscapes characterized by inflationary pressures and growth challenges. The South African Reserve Bank (SARB) is struggling with high inflation around 4.5% and lacks immediate plans to adjust its inflation target, complicating its monetary policy. In the U.S., the Federal Reserve's hawkish stance has influenced market expectations, with potential rate cuts anticipated due to strong economic data, while the European Central Bank (ECB) faces pressure to maintain rates amid Eurozone uncertainties. The People's Bank of China (PBoC) is cautiously managing a moderately loose monetary policy to stimulate growth without risking currency depreciation. Meanwhile, the Reserve Bank of New Zealand (RBNZ) is expected to cut rates to support economic recovery, and Bank Negara Malaysia recently reduced its Overnight Policy Rate to stimulate investment. The Bank of Japan (BoJ) is under pressure to raise rates in response to persistent inflation, marking a significant shift from its previous ultra-loose policy. The Bank of England (BoE) is grappling with rising inflation and a divided committee on rate cuts, while the Reserve Bank of India (RBI) maintains a cautious approach amid external pressures. Overall, central banks are balancing the need for economic stimulation with inflation control, reflecting a broader trend of adjusting monetary policies in response to evolving economic conditions.</p>\n",
       "                </div>\n",
       "                \n",
       "                <div class=\"topic-section\">\n",
       "                    <div class=\"counter-container\">\n",
       "                        <div class=\"news-counter\">\n",
       "                            <span class=\"counter-label\">Volume Score</span>\n",
       "                            5 News\n",
       "                        </div>\n",
       "                        <div class=\"novelty-counter\">\n",
       "                            <span class=\"counter-label\">Novelty Score</span>\n",
       "                            <img src=\"data:image/png;base64,iVBORw0KGgoAAAANSUhEUgAAAgAAAAIACAYAAAD0eNT6AAAgFElEQVR42uzQMRHCQBRF0SeCDgVYoUQEbXapIgEPSMAQfw3QooAwFMygITln5hq4AQAAAAAAAAAAAAAAAAAAAAAAAAAAAAAAAAAAAAAAAAAAAAAAAAAAAAAAAAAAAAAAAAAAAAAAAAAAAAAAAAAAAAAAAAAAAAAAAAAAAAAAAAAAAAAAAAAAAAAAAAAAAAAAAAAAAAAAAAAAAAAAAAAAAAAAAAAAAAAAAAAAAAAAAAAAAAAAAAAAAAAAAAAAAAAAAAAAAAAAAAAAAAAAAAAAAAAAAAAAAAAAAAAAAAAAAAAAAAAAAAAAAAAAAAAAAAAAAAAAAAAAAAAAAAAAAAAAAAAAAAAAAAAAAAAAAAAAAAAAAAAAAAAAWIPRMlfP3gkA2JDRc6uWV7Wc3QCAjRgt8+hZvlXP/XHJzhUAWLmacho9y69qeVbP0RkAWLGachg9y3/V866W6/Jh796j5azKO47/5K4gNxG11aJgURSshVK5F1oWiBVlgXSBLqRASSVpzuw9J0AoyEFZEsBSVKSAXKQNGEGgQBNA5GI0ysXUog05s/ecEAJBLnIVDbmna6+V6llZ5zLz7Hdm3pnz/az1/gUzk+y93zzPu9+9nz2gjWghAAB60IMD2iR4LU+Bf4Rr9qIztQ2tBABAD4pev0gBf8TLKaRZAloJAIAeE5xuTMF+tCt4vVKr6AhaCgCAHhK8zkqBfszLaVWs6GRaCwCAHlF3+vSYwX/44kCv82gxAAB6QJymXVKAb/hy+jo7BAAA6HIpmAenN5pJAoLTzPmTtCmtBwBAF4ter6bA3swVvO6MU7U5rQcAQJcKTvUU1Ju9gtPdJAEAAHSp4PRACuimy+k2XgcAANCFYlVXpmBuvYLTLamqIC0JAEAXGerTJ1Igz0wCblx3rDamNQEA6BKP92unFMQLSAKuWye9iRYFAKBLDgWKTqtSEC/g+gotCgBAlwheS1IAL2gmYCotCgBAF4he8wpLALxWpxLDtCoAAN16KqB9FmBZzWl/WhYAgBILXjNS4C74enFhVbvSugAAlFSs6rQUtAu/nMLiiralhQEAKKHgG6gFYF8T8H1qBAAAUM5iQLs3FNDtawIupJUBACiZJdO1XUsTAK+1oaLjaWkAAEokVfCLTitaPAvwRq1Pe9PaAACUSHRamgJ1i5OAJxd4bU9rAwBQEtHrfwxB3XLN5swAAABKInrdbwjm1svR4gAAlEB6Mm9jArCyXtG+tDoAAB0WnG4xBHL75fQERYIAAOiw4HWDIZCvzkwEbqXlAQDooOB0TbMBvOb0SPZMQEUn0/oAAHRRAhCqujl6PZqZBLwep2kXegAAgA6IXtcb9vXfGyraLTgty1wP8ON1A9qIXgAAoM2C00xD8H5UkoJXfwGLAj29AABAm0WnWYYZgJ9LUnp6T0/xuaWCY78+RE8AANBGwelmQ9Cer/VqVX0weC3PnAV4hKODAQBoo+g0x/gKYPh3DOS+Cqg5TaE3AABok+j1I8MMwEMaZsGANgtOj2ceHfza4On6I3oEAICSHgYUnH4ywvfsE5zWZL4KmEWPAADQBsGpbgjWczWC4HVF9tHBXp+gVwAAaLHg9ZxhBuAOjSBO1dbRaWnmroD64gFtQc8AANAi6Xz+6LXSEKSv0Sii02cKmAX4Mr0DAECLLPDa3higL9IYgtPdubUBBit6Lz0EAEALpD38xsV6Z2gMQ3360+zaAF7foYcAAGiB4HSgMTifonFEr69mvgZYW6vqAHoJAICChYqONhXtqegojWPwdL01c0Fguh5O6xToKQAAChS9Jpueziv6mBoQnT5XwILA4+gpAAAKFLxmWIJyMxX7gteDmQsCn3pmkt5CbwEAUJDgdKPhiXx1Mwf31Pr0kfSZzAqB0+ktAAA6eA5AdFpq+J2rc88JqFW1gwqSqg1GL7foTG3DKAAATDjRa7Hl6F41afE0vTN6vZ45C3CJCjLUrx2j18qUWASv8x7r15aMBgDAhLBuQBtFpxWGQHyb8an7nNziQPWq3lNg8nPXsL/TM9HrGEYFAKDnpUp7xkB8qQzSQr7g9XTmroCrC0wAThqp+FCqjsjoAAD0rHpFhxvfx/+TjOpOJ2SuBVgdKtpNBVhc0bYjzYCkJKXWp70ZIQCAnhS8+oxFgI7IPHzo0cwk4CYVJDrNGe11Q3A6kVECAOg5welySwBeWNWumVPvf5VbIrjutGdBbTBprN+JTmcwUgAAPSV63W94/78mTtXmhS3As193tWsdRHC6kNECAOgZljr9wenJgs4g+GhKJjJ3BRxYUDuERrYgMmIAAF1vwWRtlaa4DYH3/gITkFmZdQHuK2gm5KoGf/NcRg4AoKsN9WsvY+D9pgpS69f7hq/CNx5KdJAyhar+vtG1B7Gikxk9AICuFb0+a9oB4DRFBYpOV2auBfiBMqVFjU383sq618cZQQCArhScvmQJuHWvQ1SgdKpgcFqWkwTUqjpAScbWxOD0chOvHn4z6LUHowgA0HXSXnpLsE01/VvwZ7mo07MA0WtekwsQh6gYCADoOtHrF4ZV9y+rBRZO0dvSU3XujoDchYCWxCMdi8xoAgB0hVSTPzqtMgS8eS2ckZiRmQDcW3RVRHYGAABaKu2Jb/PT/z7GYHeVWiSd9Z87C1CvaF8ZRacjjVsRV6XfZRQDACzB51vR6Xy1STrMxxTsqjpNSXlnAf5LRoNOf5FRj+CJOFVbM5IBAE2JTv++Ppi4Ns0AXG8MdvvIwLAWwHxGQJpNse5GyEw+ZjKSAQBNCU43/3+d/VpFR7Xh9/7XcgzvY/3asg3J0AWZBwXdIIO0mC+3NHF0+gyjGQDQsOg1e1ggeT2dd9/KBYApmBsC3EIZtH1HgNOq4LSzDArYifDskunajhENAGhIcHpggyD2yxSo1QI1p/2NgXWW2iQ6XZwZiC+XQfB6IX0+87evY0QDABoNPP89QsC9rEXBtWIMbmeqTRb16R051QGD0xsLnd5l6Icl6fPZl9NhjGoAQCOB5+mRzt0f/aAbu+A003gGwF+3uU2uyFwLMMPwmzF9toBrUZrBYWQDAMaUnlhHCWLxKa83q0DRa6HhiXpNu7e5pff40WlVxizAq4vO1DZN/uaT6bOFXE4XM7IBAKNKQWqcJ9lzVJAFk7WVZaV78FrQocToxsxZgP4mf+/Z9LmCrpWDFX2AEQ4AGFHd6/3jBLHX4lS9vaDfOsT4NPttdUA6cS94rc2YBXjywQFtogYFr1fS5wq8ZjPCAQAjqle1XwNPsl9TAYLXecYn6X9UhwSvO7PKAzv9nRqQXrWk/7/oq1bREYxyAIA2VHf6dANP4CvqVb2ngGD6oDGI7qkOCU4HZgbhRzNmYvIvp8H5k7QpIx0AYN2W9xVlWDygLdJiQ8PT/+86HcBSEG/1IUHB6dBxv8t+OUY6AGDD4PaNBgPxC3GqNpdRvaKDje/RHyjBaYnHZxbnubmB2ZHTW5UApLUFaR0Hox0A8HvRaU6jgSQFwozfGTAGzy+pw9JCvuD0VE554Mf7tVNROw6M7Xgpox0AMDwwDzYRSObmlBs2Bq5DVQLBaVpmAL5Qo1gnvSk6LW1xAvBGOnGQEQ8A0LoBbZQCQzPH3capereatGBAm6V3+ZYn51Q7QCWQChGlLZEZswC/Tq9QRttu2MrgP7y8M6MeAKC0st8QRL7QtpX0To+oRNJ2SFvwHfsVSvQ6sx0JQPBanvqckQ8AE5d9YZ7TbYbXDF80JgD/ohKJ07RLzpn9wemHYx3G1KYk4ApGPgBMcLGikw1B5MX06qDJBOA+0/a5qj6lkgle92QE37Whot02TCoM32W/nFYMVvReRj8ATGDBa4YliKR31u14/5/OKVDJRKcjMwPw1zVM2uVg3R6ZEgrjZ69h9APABBa97jIezfsPalCtqr8xBqmHVELrjtXG0WtxRgLwUkqKfr8I02uJ5XtSu2aUKV4ZnHbmDgCACSp6/coYQK5uYpbhX42B8nyVU/6iPacj16/BONx61HCqjjjUr70yDiv6JncAAExAQ/3aMSOA/bKJBCAay+cerJKqVbXDsO2TlgB+4/q2ucnY/rNyZ3HSa5n09+BOAIAJJj19ZgSwNWlfvMaRzqO3BidD2eG2Ck4zM2YBXk/b8YLXcuPnPzusH/fNWJR4DncCAEwwweusrANuvA5p4Em5akww7u2aLZT2a641OdqwOFJqL+N3PZcOaeJuAIAJJHrNznyPPb1l5X+9+lVyqXxvcKqb28/e7t8t8sjiutMJ3A0A0PuG155/KTMY/afGkLbwRa+VxhXuH1QXCFWdndOG+bUR8o8sTrstuCMAoJcVX3v+VxpD8DrO+IT7hLpE8Prj4LW6bVX8nF5OWwhHmW05MWMWYE/uCgCYAGJVpxURkBb16U/GCI7/Yfzeb3T7ccr2y942adFkcHqewkAAgFEFr9sLmo4+dtRiOU6/Nm7/O1xdJHod064EYKhPu4/Trxdl7LrYmjsDAHpYmkKOTr8paEHaxRpBzWl/4/f9tqyr0sd88vZ6pQ0JwDyNI83IZLySOIW7AwA4AbDRgH1foU+iTnd06YzKtW04xe/zakBGeeAfcXcAQA9LT+0FJgAvpR0FI+wweML4nSepCwWnQ1u8+O/5BmdG7OWFvdbWvd7PHQIAPSo4DRUZnDY8WjZU9DFjAFrdraVp05qH4PRsC5OAc9tSn8DpfO4QAOhBwevPCn86rehoDROdLrG+Tujytv2arQ2Lr9kfnQaMv7eIuwQAelDw+nILKtOdv8HT55PGI4anqEuYFj7aE4Ar1KQ4TbuYTwms6s+5UwCgx0SnwRYkAHNyD6YJKVhN1bvVpYad7f+crR2LP7c/OP3E2J8XcKcAQA+JXvs0FgTsFQGD0+XG73hYPSA4XVdw216Vkex9wbjgsM7dAgA9JDpd2apFagud3pXqC1iL/0Qnrx5Qq+ioAqf+l6d9/TIa6teO1poAoaKPcscAQA9IW8haWawmOP1tWgxo/OyaVFNfPeCxfm0ZnJYV9GrlMmUKTj80Jh/ncNcAQA8IFR3f4iNqv5hOBzR+/n71kOB0dwFP/68UsSUyOE01/v5PuWsAoAcEr3taXKlubnRaYQw2p6qHRKfpBbSnK/C0wrXWmgzcOQAwAo6szb9S0rDAa3sWW2r4VZs/SZsW+Of5mbFvPsfdAwBdLHid1fJAbp/qvl09JgXv6PW6eT1ERQepQKlOg/HPMpO7BwC6eG969FpU0gQgXcf0aNL1ffN5/wWrV7WfMTl7mjsIALpUdDqsxMH/xXSULhUX/7D/Pu0iaNE5BS8bZwF25i4CgC4UvW4tbQLgdIl6VKzqk022xW8HvfZQiwSnm62nM3IXAUCXWTxN74xeK8uaANT69BH1qEV9ekczZZCD13EtTgQnG/vpeu4kAOgywemfM57OV7U4AXhYPS54LWkoAajqbLVY3enDnA4IABNl8Z/TE8bg/+PotbClq/+dJk2ABOB7DbT1lWql4ac0er1g6SvqAQBAF6lXdHhGcD4xOs1pYfB/dcFkbaUeF53OGGfq/860QE9tYq7U6HQYdxQA9PjivxScn5mktzR6qp/xNy7VBFD3OmSsWZanvN6sNqpVVTVuBzyLOwoAumcB2kpjcL5ckoLTtBYV/lm7sKpdNQEMnq63Bqc1I7Tx452ofpgKDBnHxC3cVQDQRVPPlqvutKckpQI9Ldr6N0cTSAr2G/z9l6YjfjuZkBgSgCHuKgDoAtFp0PikN1/rpUSgFQlA3evjmkDSNrphsx+vdfqcfcvizpQ0pNdC3FkAYNDuaV7TVdVpWm/JdG3Xgqf/wbQ7QRNIzWnK+uC/vF7Rweqw4HWDpe9S4sLdBQAlFpxmGp/+ly2uaNsNgsUro/3/VJVrTK1Pe6cn6HpVx3ZzbYhQ0fHcXQBQUimAp0BufDr/9gjB4ucFrvx/asGANtMEk846iF6TVRK1io4yjo/zucMAoKSC16nmsrxO+4+QANxR4NO/o4c6L+3AMCYA36X1AKCkotdc87t56U0jJADXFHXqXyr8Qw913oMD2iR4LTds3/wprQcAJfR4v3YKXmuNCYAfZUZhRkF7/8+hh8ojeEXDGFlKywFALx3847QiTtXbx60cZw/+L6T95/RQeUSvH1i2AqY1HLQeAJSw4IwxQN80xglyJxSQAPTRO+USvK41rRPp1/toPQAoh/yiPVV9UqNIRXsyE4DFaRU8PVQu0WnAuBXwIFoPAEokOl1inZ6fP0mbahRD/dor8+n/8/RO+cSKTjYmAEfTegBQIhnn/l+mMaSa9Rn7/uenqn/0TvnUq/qUMaE7ldYDgJIY6tPuGU/ofzne4THG4L8meu1D75Q2AdjPmDBOp/UAoCSC11nGIF1Pe/81hvTfUzA3BIpv0TPlNVjRB4xJ41dpPQAoieg1z/iP+bkNJhivNVv0Z+EUvY2eKa9aVTsYZ4yupfUAoCT/kAev1cZz/z+sBkSnpU1+9yn0TLmlhZ/GVwCzaD0AKIG0yt749L+oiRmGWhOvFR5Irw3omfIzVo28lZYDgBJIRXyM7/8vbSIB+FmD08O/i9O0C73SHQznAaRrNi0HAB2WtthFp5eMCcChTSQA9zc4PVyhV0osf21HGjf30nIA0GGDXnsYg/+rzdR0D163N/CdD607VhvTK90jOD1vGD9zaTkA6LDoNbkd57oHp5njTP0vj/36ED0yIRKAebQcAHRY9PqOcQbgxCYDxb+N+X1VnU1vdJ80E2QYOw/QcgDQYcFpqB0nugWvi8aYTXgsbSmjN7py/Cwz1AG4h5YDgA6KU7W1aRuX01LDYrFzRvmuVemwIHqjO1nqRwSnO2g5AOhsAaAD2lXIJXj1jfJdF9AT3buDxFgJ8Hu0HgB0UM1pivEf8NMNaw1OGiH4Dy4e0Bb0RHdaMl3bGcfPDbQe/o+9e42xqyrDOP4IiIjchHCJgqAIH/BGQIOiIiiIhESjFomKisRUhcyc9Z7ptBpJhigEgQg0WAihEluCQYxBKSolwXqBGFFrJdPOvOtMHXqTW6FGeredMSvBRCYS2rX3zN77nP8v2Z87ffbOWe9ee613AahQDLold/9/xr81a+pJf2kGgrvQ6BMkT8p8fm4lPQCokAf9KusTQJ+O1F7qtHT+lLf/+dyB3jwO2E3fJj0AqJAHdTJ+vJ8pYbAYH75cB3EHGl8AfDxzBqCP9ACgIsuGtF807cz48X60SMdBN03EoI9yB5ovtnRZVgHQ0mdJDwAqkg7cydwBsEgZVg7o+BcLiIWkX0+5Wzv3+mrrPNIDgIZtAXTTlcowbDo8Bm0Yb+kw0u8OHnRn5gzAqaQHABWJQbOyWwBnSJ3+OkGfIPnuEU2/zXmGUjFIegBQETf1M32LImLQ+owZpE0kBwAViqZrcgqAtJiP9JAaOHnQ7oxn6E+kBwAVctNtOQXA2ICOIj2M9uuducdIkx4AVMiD7sr6fjuk/UkPuVsAY9DVpAcAFYqm+zJ+vHeQHJJo+n5WAWD6MukBQIU86KGMH++NJIckBv0xpwDoBJ1GegBQoRj0+4wV3OtIDmlLpwdtzXh+tvMJCQAqFk2PUAAgR3qLz5z+f4z0AKCJTVyC1pMc3DSY2URqAekBQMXctCyjANhAcnDT0pwCIO0cID0AqFg0PUwXN2Q1ADJtySkAUu8AEgSAinnQzzOmcHdPSq8ivZ4+ROojmd//N04OaR8SBICKxaBFWa2AB3Uw6fUuN12b+f3/XtIDgBqIQfOzCoCWTiC93hWDPGv6P+grpAcANeCmqzLPcj+L9Nj+t7fX6IDeTIIAUAOxra9n/phfQnq9yU3XZfb/d9IDgJoYbemCrBkA05Wk13vS4s9oGs8sAG4hQQCoiTigUzjOFXuq09aZudP/HnQuCQJATWyYrQPdNJFRAIyQXu9x022Zg//Ty4a0HwkCQI24aV3GJ4Bda02vJb3esXqeDo1Bm5n+B4Au4UFLso50bels0usd0RSyV/8HvZ8EAaBmYtB3MhcCXkV6PbX4bzRz+n8tnSMBoIai6dOZP+y/Ib3e0Gnp/Ny3/xh0PQkCQD1Xdh+X+cO+Y7ylw0iw+0XTA7kFwFi/3k6CAFBTHtTJWgcQ9AXS625jAzrdTROZs0S/JkEAqLFouj3zDe8+0utubnowe+9/S58iQQCo9/GuF2e+4W1bdYWOIEEa/0y93LSGvf8AUHPDpsOjaWfmj30gwe4UTQ8XKAC+SYIA0ABuWpq5GHCEbV7dJ/V5KND2d1vs05GkCAAN4EGz6fOOZPIi7etBy9O9zbzuIEUAaM5q76PctIvV3vCgvgKD/07O/QeAhnHT/bk//GnBGAk23+p+He2mTQVmgxaQIgA0jAddGE2TzAL0LjctLvjt/1hSBICGmRzSPh70RIEB4EJSbPR20A+4aaLA/b+JFAGgobytbxX4/ruKvd/NtGG2DoxBIwV6/m9Onw9IEgCa3BMg6F8FBoK5pNg8HnRrun8FrmtIEQAaLgZdX2AaeGvH9FZSbI7Rli4oOPW/dvhyHUSSANBw43N0jAdtK7IgkOZAjdr++VSRt383fZIkAaBLeNBNhQaFoDmkWG+pSPOgJQUH/6UkCQBdZM039Ppo2likIYy3dAZJ1lcMsoJF3rY4RyeSJAB037awdsEBorN6ng4lyfqJbZ0Xg/5daOFf0BBJAkAXGh7S/h40VnCQ+EXqL0Ca9bGqrZM96PmCU/9xfEgHkCYAdKnRoA+7aaLgYHEtSdZD7NMhbhouWNSlmYP3kiYAdLlo+mHBAmDCTV8kyeo7PUbTA+meFLlSsyjSBIAesOoKHeFBTxccOHam/eakWZ0Y9L10Lwpev0vHBZMmAPSIGDSrhMHjhZGgd5PmzPO2Li385h/0z5GWTiBNAOgx0XRHCYPI8xQBlRzys72EAu5zpAkAvXpgjGkVRUBzeNBbYtCzhQf/oEWkCQA9zE3vmtImOPfa6C2dSqLTZ2RQB8egx0so2Jan4o9EAYBPAZeUUABMummTt3QWiZYvHcucejCUcJ/+4aY3kigAQImbbiypCNjeCfoMiZbe439hCW/+29jvDwB4ibQVLJp+WVIRsCsGfY1Uyz3OufDV0mWkCQD4vwcGedDK/x006C1frRg0t5SiLOi7pAkAeFmdto5z07rSigDT7X+erVeT7N5LHfpKmpG5n/MbAACvqBP0timHyxS9HhkZ1BtIds+/+UfTDSW9+f9hxYBeR6oAgD3iQR9005ayigAPejKaPkSyr7wWw4MWlvQJ5vH0WYdUAQB7pWM6Z2oRUPjUuaCrY59eQ7ovc0aD6cGSCq7O6n4dTaoAgCydls6OQZvToFLW5aZhtqO9VOqkGE3jJRVa6+nxDwAopwgwvVByETDhQXelRYc93+DHNC8G7Sgp241xQKfw1AIASntDnXqEcElT1VvTZ4E0/a0eM9qv90TTY//NgjMZAAC1PYjGTXHqwFNWB0E3LV7V1snqcmlHhJt+4EG7S1xf8SxnMQAAps34HB0TTX+dOgCVvFDwntGWLkjT493WYyEGzfegrSUXT0+NmN7B0wkAmFbDl+sgNy1Ng8+0XkHPuWmxB52b9sargVIDnvT3e9C90bRzGj6hPJn6NvBUAgBmxPCQ9k9v6hmDVu5b7jMetCSa5o0N6PQ6d7ZbPU+HxqBZHnTnlHUTZQ/+T8Q5OpGnEQAw82+3pmvdNJE/kOUvePOgh9x0s5u+2jF9LL0Jj7d0mGZAam+8ul9v6rR1Zhrs3TToQXfHoBEP2j0DBdFfYp+O5SkEAFRmtK2Li24TLPubeDT9qOxeA6mlbjTNi6a/ZUznl3n9lPa+AIBaSKv3Pb2Vmibrcr34Jn5DGesH0gp7N62puLCZiKZr0v+HJw4AUBupxa+bbiw8BV7+dYMKSN/ZMw5HKn2bZDRdwlMGAKitNPXupuEafRKY6LT0PmVy07JK/w9Bf/eWzuDJAgA0ZZfAkAdtq0kR8JPMo5FPq3jwvyftKuCJAgA0Slop76bFlX8WCHou59t5DJpb0d+8MQZ9nicIANBoaYueBy2psgjYMFsHZkz/31zBbMWPOcoXANBVvKWz3PSzmZ4RSP/e+JAOyCgArpvBWYoVHdM5PCUAgK411q+TPGhBDNo8QwXASmVI0/Az8LeNedCXJi/SvjwZAICeMGw63IP6POjR6ewo6KYrM7c2HjJtTY6CVnhbl6ZDj3gSAAA9a+WAjo9Bcz1oecmD/7qRQR2sTG4aLPFv2eJBd6dPIdxx4D/s3T0uhFEUBuBXdGIDFqCUCC2LUCgUKomCMPfOJLQSC1CIQq9kDVoLEOZ+M63a7IBElIpJ5tM9zwpOcqrzk7wAf58Izn7/BWYLrNdn01G2e8g8eFikhlbyOCk5fD3Jqu4CwBy+9rP8XrPR1Rx1NfddzUur+Zxj2n6enme9lxqSpVYzaiWzuVL6ap66kovxMDtW/ADQo7eStVay2wY5GA8zbCU3XcltV3M5Kdn6r6jfn/CjkutWctdqrsYlp61mrw2y+XGcFZ0BAAAAAAAAAAAAAAAAAAAAAAAAAAAAAAAAAAAAAAAAAAAAAAAAAAAAAAAAAAAAAAAAAAAAAAAAAAAAAAAAAAAAAAAAAAAAAAAAAAAAAAAAAAAAAAAAAAAAAADguz04JAAAAAAQ9P+1MywAAAAAAAAAAAAAAAAAAAAAAAAAAAAAAAAAAAAAAAAAAAAAAAAAAAAAAAAAAAAAAAAAAAAAAAAAAAAAAAAAAAAAAAAAAAAAAAAAAAAAAAAAAAAAAAAAAAAAAAAAAAAAAAAAAAAAAAAAAAAAAAAAAAAAAAAAAAAAAAAAAAAAAAAAAAAAAAAAAAAAAAAAAAAAAAAAAAAAAAAAAAAAAAAAAAAAAAAAAAAAAAAAAAAAAAAAAAAAAAAAAAAAAAAAAAAAAAAAAAAAAAAAAAAAAAAAAAAAAAAAAAAAAAAAAAAAAAAAAAAAwCDAyiUP7C2p8gAAAABJRU5ErkJggg==\" alt=\"Flame Icon\" class=\"flame-icon\">\n",
       "                            Repeat\n",
       "                        </div>\n",
       "                        <div class=\"impact-counter negative\">\n",
       "                            <span class=\"counter-label\">Price Impact</span>\n",
       "                            Negative\n",
       "                        </div>\n",
       "                        <div class=\"magnitude-counter high\">\n",
       "                            <span class=\"counter-label\">Intensity</span>\n",
       "                            <img src=\"data:image/png;base64,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\" alt=\"Intensity Arrow\" class=\"intensity-arrow\">\n",
       "                            High\n",
       "                        </div>\n",
       "                    </div>\n",
       "                    <h2 class=\"topic-title\">Geopolitical Tensions Drive Currency Volatility and Threaten Central Bank Independence</h2>\n",
       "                    <p class=\"description\">Geopolitical events, such as the conflict in Ukraine, significantly influence currency markets, particularly safe-haven currencies like the Japanese Yen. The resolution of geopolitical tensions can reduce demand for these assets, impacting their value and creating volatility in currency markets. This dynamic highlights the need to monitor geopolitical developments alongside central bank policies, as the independence of central banks is crucial for maintaining market stability and low long-term inflation. Political pressures, notably from figures like former President Trump, pose risks to this independence, potentially leading to unpredictable monetary policy that can destabilize markets and erode investor confidence. Historical parallels, such as political interference in Japan under Prime Minister Shinzo Abe, illustrate the dangers of undermining central bank autonomy. Additionally, ongoing geopolitical tensions are affecting commodity prices and currency valuations, with recent declines in crude oil prices impacting the U.S. Dollar's performance. As traders remain cautious ahead of significant central bank announcements, the interplay between geopolitical events and market reactions underscores the critical importance of safeguarding central bank independence to ensure effective monetary policy.</p>\n",
       "                </div>\n",
       "                \n",
       "            </div>\n",
       "        </div>\n",
       "    </div>\n",
       "</body>\n",
       "</html>"
      ],
      "text/plain": [
       "<IPython.core.display.HTML object>"
      ]
     },
     "metadata": {},
     "output_type": "display_data"
    },
    {
     "name": "stdout",
     "output_type": "stream",
     "text": [
      "Report saved to ./output/2025-08-25_Central_Bank_Announcements.html\n",
      "\n",
      "\n",
      "\n"
     ]
    }
   ],
   "source": [
    "# Generate and display the HTML report for each date\n",
    "for report in prepared_reports:\n",
    "    html_content = generate_html_report(\n",
    "        report['date'],\n",
    "        report['day_in_review'],\n",
    "        report['topics'],\n",
    "        main_theme  # Pass the main theme to dynamically generate the title\n",
    "    )\n",
    "    display(HTML(html_content))\n",
    "    save_html_report(html_content, report['date'], main_theme)\n",
    "    print(\"\")\n",
    "    print(\"\")\n",
    "    print(\"\")"
   ]
  }
 ],
 "metadata": {
  "kernelspec": {
   "display_name": "cookbook",
   "language": "python",
   "name": "python3"
  },
  "language_info": {
   "codemirror_mode": {
    "name": "ipython",
    "version": 3
   },
   "file_extension": ".py",
   "mimetype": "text/x-python",
   "name": "python",
   "nbconvert_exporter": "python",
   "pygments_lexer": "ipython3",
   "version": "3.13.5"
  }
 },
 "nbformat": 4,
 "nbformat_minor": 5
}
