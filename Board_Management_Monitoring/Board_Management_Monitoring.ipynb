{
  "cells": [
    {
      "cell_type": "markdown",
      "metadata": {},
      "source": [
        "# Board Management Monitoring\n",
        "\n",
        "## Automated Analysis of Board Member and Management Activity Exposure"
      ]
    },
    {
      "cell_type": "markdown",
      "metadata": {
        "id": "2DD0pgAtOxse"
      },
      "source": [
        "This workflow reflects the capabilities of the bigdata API to track particular entities. In this case we track **Entity People**, to see where and when a person is mentioned across specific documents.\n",
        "\n",
        "## Why It Matters\n",
        "\n",
        "Tracking specific individuals across news coverage is essential for governance analysis and investment decisions, but manually monitoring when and where these people are mentioned in thousands of articles is resource-intensive. This workflow leverages bigdata's entity tracking capabilities to systematically monitor individuals, providing comprehensive analysis of their media exposure and reputation signals to identify potential risks and opportunities.\n",
        "\n",
        "## What It Does\n",
        "\n",
        "This Board Management Monitoring workflow systematically tracks specific individuals across news coverage using multiple search strategies. Built for analysts, portfolio managers, and investment professional, it transforms scattered mentions into structured intelligence about management activity and board dynamics.\n",
        "\n",
        "## How It Works\n",
        "\n",
        "The workflow combines **multi-mode search strategies**, **entity-specific filtering**, and **temporal analysis** to deliver:\n",
        "\n",
        "- **Comprehensive person tracking** across multiple name variations and contexts\n",
        "- **Company-specific filtering** ensuring relevance to the monitored organization\n",
        "- **Multi-mode search precision** from strict entity matching to broader coverage with post-filtering\n",
        "- **Source filtering** enabling focused analysis across trusted news sources\n",
        "- **Temporal analysis** showing how coverage patterns evolve over time\n",
        "\n",
        "## A Real-World Use Case\n",
        "\n",
        "This workflow demonstrates monitoring Malcolm Wilson from GXO Logistics Inc., tracking his exposure across management integrity themes and board governance topics, showing how different search modes capture varying levels of coverage."
      ]
    },
    {
      "cell_type": "markdown",
      "metadata": {
        "id": "hnWpB9tYOxse"
      },
      "source": [
        "## Setup and Imports\n",
        "The following cell configures the necessary path for the analysis"
      ]
    },
    {
      "cell_type": "code",
      "execution_count": 1,
      "metadata": {
        "id": "V-YmdvayFe8Z"
      },
      "outputs": [
        {
          "name": "stdout",
          "output_type": "stream",
          "text": [
            "✅ Local environment setup complete\n"
          ]
        }
      ],
      "source": [
        "import os\n",
        "import sys\n",
        "\n",
        "\n",
        "current_dir = os.getcwd()\n",
        "if current_dir not in sys.path:\n",
        "    sys.path.append(current_dir)\n",
        "print(f\"✅ Local environment setup complete\")"
      ]
    },
    {
      "cell_type": "markdown",
      "metadata": {
        "id": "dCRGAUSROxsg"
      },
      "source": [
        "## Import Required Libraries\n",
        "Below is the Python code required for setting up our environment and importing necessary libraries.\n",
        "\n"
      ]
    },
    {
      "cell_type": "code",
      "execution_count": 2,
      "metadata": {
        "id": "48ZdTnMjOxsg"
      },
      "outputs": [],
      "source": [
        "import os\n",
        "import time\n",
        "from datetime import datetime, date\n",
        "from typing import List, Dict, Any, Optional, Tuple\n",
        "import pandas as pd\n",
        "\n",
        "from bigdata_client import Bigdata\n",
        "from bigdata_client.models.search import DocumentType, SortBy\n",
        "from bigdata_research_tools.search.search import run_search\n",
        "\n",
        "import plotly.io as pio\n",
        "\n",
        "from src.tool import (\n",
        "    timer,\n",
        "    run_monitoring_workflow,\n",
        "    plot_combined_monitoring_activity,\n",
        "    get_common_quarter_ticks,\n",
        "    build_queries_for_monitoring,\n",
        "    filter_documents_by_company,\n",
        "    deduplicate_results,\n",
        "    process_results_to_dataframe,\n",
        "    plot_top_sources\n",
        ")"
      ]
    },
    {
      "cell_type": "markdown",
      "metadata": {
        "id": "KvfzhmfeOxsg"
      },
      "source": [
        "## Plotly Display Configuration"
      ]
    },
    {
      "cell_type": "code",
      "execution_count": 3,
      "metadata": {
        "colab": {
          "base_uri": "https://localhost:8080/",
          "height": 34
        },
        "id": "QS-2YfwwOxsg",
        "outputId": "504cff2e-4a95-42f3-e863-b3279eca65d6"
      },
      "outputs": [
        {
          "name": "stdout",
          "output_type": "stream",
          "text": [
            "✅ Plotly configured for Jupyter/VS Code\n"
          ]
        },
        {
          "name": "stderr",
          "output_type": "stream",
          "text": [
            "/opt/anaconda/envs/pricing_power/lib/python3.11/site-packages/kaleido/__init__.py:14: UserWarning:\n",
            "\n",
            "\n",
            "\n",
            "Warning: You have Plotly version 5.24.0, which is not compatible with this version of Kaleido (1.0.0).\n",
            "\n",
            "This means that static image generation (e.g. `fig.write_image()`) will not work.\n",
            "\n",
            "Please upgrade Plotly to version 6.1.1 or greater, or downgrade Kaleido to version 0.2.1.\n",
            "\n",
            "\n"
          ]
        }
      ],
      "source": [
        "import plotly.offline as pyo\n",
        "from plotly.subplots import make_subplots\n",
        "import plotly\n",
        "import plotly.io as pio\n",
        "import plotly.graph_objects as go\n",
        "\n",
        "# Try to detect the environment and set appropriate renderer\n",
        "try:\n",
        "    # Check if we're in JupyterLab\n",
        "    import os\n",
        "    if 'JUPYTERHUB_SERVICE_PREFIX' in os.environ or 'JPY_SESSION_NAME' in os.environ:\n",
        "        pio.renderers.default = 'jupyterlab'\n",
        "        print(\"✅ Plotly configured for JupyterLab\")\n",
        "    else:\n",
        "        # Default for VS Code, Jupyter Notebook, etc.\n",
        "        pio.renderers.default = 'plotly_mimetype+notebook'\n",
        "        print(\"✅ Plotly configured for Jupyter/VS Code\")\n",
        "except:\n",
        "    # Fallback to a more universal renderer\n",
        "    pio.renderers.default = 'notebook'\n",
        "    print(\"✅ Plotly configured with fallback renderer\")"
      ]
    },
    {
      "cell_type": "markdown",
      "metadata": {
        "id": "zTqw4GAJOxsh"
      },
      "source": [
        "## Define Output Paths"
      ]
    },
    {
      "cell_type": "code",
      "execution_count": 4,
      "metadata": {
        "id": "g5XsJYXFOxsh"
      },
      "outputs": [],
      "source": [
        "output_dir = \"output\"\n",
        "os.makedirs(output_dir, exist_ok=True)"
      ]
    },
    {
      "cell_type": "markdown",
      "metadata": {},
      "source": [
        "## Load Credentials\n"
      ]
    },
    {
      "cell_type": "code",
      "execution_count": 5,
      "metadata": {
        "colab": {
          "base_uri": "https://localhost:8080/"
        },
        "id": "37uTpC2ozlrQ",
        "outputId": "0ecec6e1-c831-42ba-fdf3-b0933ef308ae"
      },
      "outputs": [
        {
          "name": "stdout",
          "output_type": "stream",
          "text": [
            "✅ Credentials loaded from .env file\n"
          ]
        }
      ],
      "source": [
        "from dotenv import load_dotenv\n",
        "from pathlib import Path\n",
        "\n",
        "script_dir = Path(__file__).parent if '__file__' in globals() else Path.cwd()\n",
        "load_dotenv(script_dir / '.env')\n",
        "\n",
        "BIGDATA_USERNAME = os.getenv('BIGDATA_USERNAME')\n",
        "BIGDATA_PASSWORD = os.getenv('BIGDATA_PASSWORD')\n",
        "OPENAI_API_KEY = os.getenv('OPENAI_API_KEY')\n",
        "\n",
        "if not all([BIGDATA_USERNAME, BIGDATA_PASSWORD, OPENAI_API_KEY]):\n",
        "    print(\"❌ Missing required environment variables\")\n",
        "    raise ValueError(\"Missing required environment variables. Check your .env file.\")\n",
        "else:\n",
        "    print(\"✅ Credentials loaded from .env file\")"
      ]
    },
    {
      "cell_type": "markdown",
      "metadata": {
        "id": "b31q92JOOxsh"
      },
      "source": [
        "## Connecting to Bigdata\n",
        "\n",
        "Create a Bigdata object with your credentials."
      ]
    },
    {
      "cell_type": "code",
      "execution_count": 6,
      "metadata": {
        "id": "ZmMduEtzOxsh"
      },
      "outputs": [],
      "source": [
        "bigdata = Bigdata(BIGDATA_USERNAME, BIGDATA_PASSWORD)"
      ]
    },
    {
      "cell_type": "markdown",
      "metadata": {
        "id": "xiiKkTXZOxsh"
      },
      "source": [
        "# Parameters Definition\n",
        "\n",
        "### Fixed Parameters\n",
        "- **First Theme** (`news_search_mapping`): List of sentences about a theme you are interested in\n",
        "- **Second Theme** (`board_themes`): List of sentences about a theme you are interested in  \n",
        "- **Dates** (`date_periods`): List of tuples containing starting and ending date of a specific period of time. The dates used in this workflow are chosen to provide adequate temporal coverage surrounding the earnings dates\n",
        "- **Trusted Sources** (`trusted_sources`): Dictionary containing the sources and their ID\n",
        "- **Person of interest** (`persons_dict`): Dictionary containing the name of the person to search for, their ID and their possible different ways of naming them\n",
        "- **Company of interest** (`company_name`, `company_id`): The name of the company to search for and a dictionary with its ID\n",
        "- **Search Mode** (`search_mode`): Different ways of searching for that specific person\n",
        "  - `strict`: Company entity and person must appear at chunk level\n",
        "  - `relaxed`: Only person name variations are used\n",
        "  - `relaxed_post`: Person search with company filtering at document level\n",
        "- **Trusted Sources Flag** (`use_trusted_sources`): Flag to activate filtering with trusted sources"
      ]
    },
    {
      "cell_type": "code",
      "execution_count": 7,
      "metadata": {
        "id": "vw93pb8KOxsh"
      },
      "outputs": [],
      "source": [
        "# Themes\n",
        "news_search_mapping = [\n",
        "    \"Past Misconduct of Management\",\n",
        "    \"Inconsistencies in Statements\",\n",
        "    \"Whistleblower Allegations\",\n",
        "    \"Negative Media Coverage on Integrity\",\n",
        "    \"Accusations of Unethical Behavior\",\n",
        "    \"Reputation of Management in Media\",\n",
        "    \"Positive Analyst Ratings of Management\",\n",
        "    \"Management's Reputation in Industry\",\n",
        "    \"Introduction of Innovations\",\n",
        "    \"Successful M&A Activities\",\n",
        "    \"Company Turnaround Success\",\n",
        "    \"Pressure from Activist Investors for Better Oversight\",\n",
        "    \"External Audits or Reviews\",\n",
        "    \"Changes in Board Composition\",\n",
        "    \"Resignations Due to Oversight Concerns\",\n",
        "    \"Conflicts of Interest Involving the Board\",\n",
        "    \"Criticism of Corporate Governance Practices\",\n",
        "    \"Reports Highlighting Oversight Issues\",\n",
        "    \"Management Compensation Linked to Performance\",\n",
        "    \"Shareholder-Friendly Capital Allocation\",\n",
        "    \"Transparent Communication with Investors\",\n",
        "]\n",
        "\n",
        "board_themes = [\n",
        "    \"Board member appointments and new director appointments\",\n",
        "    \"Board member resignations and director departures\",\n",
        "    \"Board meetings and governance proceedings\",\n",
        "    \"Board member retirements and succession plans\",\n",
        "    \"Death of board members and directors\",\n",
        "    \"Board diversity and composition changes\",\n",
        "    \"Board member compensation and salaries\",\n",
        "    \"Board member firings and removals\",\n",
        "    \"Board member health issues and medical leaves\",\n",
        "    \"Board member absences and attendance issues\"\n",
        "]\n",
        "\n",
        "# Time Ranges\n",
        "date_periods = [\n",
        "    (\"2024-12-04\", \"2025-03-04\"),\n",
        "    (\"2024-09-05\", \"2024-12-04\"),\n",
        "    (\"2024-05-30\", \"2024-09-05\"),\n",
        "    (\"2024-02-28\", \"2024-05-30\"),\n",
        "    (\"2023-12-01\", \"2024-02-28\"),\n",
        "    (\"2023-09-07\", \"2023-12-01\"),\n",
        "    (\"2023-06-01\", \"2023-09-07\"),\n",
        "    (\"2023-03-02\", \"2023-06-01\"),\n",
        "    (\"2022-12-01\", \"2023-03-02\"),\n",
        "    (\"2022-09-08\", \"2022-12-01\"),\n",
        "    (\"2022-06-02\", \"2022-09-08\"),\n",
        "    (\"2022-03-03\", \"2022-06-02\"),\n",
        "    (\"2021-12-02\", \"2022-03-03\"),\n",
        "    (\"2021-09-09\", \"2021-12-02\"),\n",
        "    (\"2021-06-03\", \"2021-09-09\"),\n",
        "    (\"2021-03-04\", \"2021-06-03\"),\n",
        "    (\"2020-12-03\", \"2021-03-04\"),\n",
        "    (\"2020-09-10\", \"2020-12-03\"),\n",
        "    (\"2020-06-06\", \"2020-09-10\"),\n",
        "    (\"2020-03-07\", \"2020-06-06\"),\n",
        "    (\"2020-01-19\", \"2020-03-07\")\n",
        "]\n",
        "\n",
        "# Trusted sources\n",
        "use_trusted_sources = False # Set True to activate the filter\n",
        "\n",
        "trusted_sources = {\n",
        "    'Washington Post': 'DC6F95', 'Washington Post Via Web': 'B6ACEE',\n",
        "    'Bloomberg News': '208421', 'The Washington Post Blog': '471CDE',\n",
        "    'BNN Bloomberg': '7490C8', 'CNN': '2435A4',\n",
        "    'BBC': 'A61D00', 'FOX Business': '2D0020',\n",
        "    'Fox News': '6F1A9E', 'Associated Press': 'D904DE',\n",
        "    'Reuters': '751371', 'Business & Financial Times': '9207B2',\n",
        "    'Wall Street Journal': 'AA6E89', 'CNBC': 'AA1167',\n",
        "    'MarketWatch': '1E5E35', 'The Economist': '5B7D72',\n",
        "    'Forbes': '22AC8B', \"Investor's Business Daily\": '15B968',\n",
        "    'Business Insider': 'C75B8C', 'Al Jazeera (English)': 'CD85BA',\n",
        "    'Deutsche Welle': '967022', 'The Guardian': 'C85B0B',\n",
        "    'APN News': '9E4F25', 'The Jerusalem Post': '6E182B',\n",
        "    'The Times of Israel': 'CA6D21', 'VOA Press Releases and Documents': 'C2B46E',\n",
        "    'The Economic Times (IN)': 'C307F2', 'Challenges': 'C589CE',\n",
        "    'Neue Zürcher Zeitung': '96ED6F', 'Le Temps (Geneva)': '7617F5',\n",
        "    'SWI swissinfo.ch': 'AEF7A0', 'Business Sweden': '8D142A',\n",
        "    'The Local': '400069', 'The Copenhagen Post': '34EA9E'\n",
        "}\n",
        "\n",
        "\n",
        "# Person Details\n",
        "persons_dict = {\n",
        "    'Malcolm Wilson': {\n",
        "        'id': 'W7W0CG',\n",
        "        'variations': [\n",
        "            'Malcolm Wilson',    # First Name + Last Name\n",
        "            'M. Wilson',         # Initial + Last Name\n",
        "            'Wilson, Malcolm',   # Last Name + comma + First Name\n",
        "            'Malcolm W.'         # First Name + Initial\n",
        "        ]\n",
        "    }\n",
        "}\n",
        "\n",
        "#Company Details\n",
        "company_name = 'GXO Logistics Inc.'\n",
        "company_data = {'id': 'MSER6L'}\n",
        "\n"
      ]
    },
    {
      "cell_type": "markdown",
      "metadata": {
        "id": "3-fbeFxjOxsh"
      },
      "source": [
        "## Multi-Mode Monitoring Execution"
      ]
    },
    {
      "cell_type": "code",
      "execution_count": 28,
      "metadata": {
        "colab": {
          "base_uri": "https://localhost:8080/"
        },
        "id": "ncsZKqnbOxsh",
        "outputId": "4acd7f7a-ac92-47af-e0f9-7147ce311359"
      },
      "outputs": [
        {
          "name": "stdout",
          "output_type": "stream",
          "text": [
            "\n",
            "Running STRICT mode monitoring...\n",
            "Using all available news sources (no source filtering)\n",
            "Prepared 31 base queries and 21 date ranges\n"
          ]
        },
        {
          "name": "stderr",
          "output_type": "stream",
          "text": [
            "Querying Bigdata...: 100%|██████████| 651/651 [02:14<00:00,  4.84it/s]\n"
          ]
        },
        {
          "name": "stdout",
          "output_type": "stream",
          "text": [
            "Processing 31 queries × 21 dates = 651 results\n",
            "Filtered results: 70 documents after company filtering\n",
            "Original: 70, After deduplication: 34\n",
            "Processing 34 documents for enrichment.\n",
            "DataFrame created with 34 rows.\n",
            "STRICT mode: 34 documents saved to output/board_monitoring_strict_all_sources.csv\n",
            "strict mode execution completed in 168.98 seconds\n",
            "\n",
            "Running RELAXED mode monitoring...\n",
            "Using all available news sources (no source filtering)\n",
            "Prepared 31 base queries and 21 date ranges\n"
          ]
        },
        {
          "name": "stderr",
          "output_type": "stream",
          "text": [
            "Querying Bigdata...: 100%|██████████| 651/651 [02:15<00:00,  4.80it/s]\n"
          ]
        },
        {
          "name": "stdout",
          "output_type": "stream",
          "text": [
            "Processing 31 queries × 21 dates = 651 results\n",
            "Filtered results: 471 documents after company filtering\n",
            "Original: 471, After deduplication: 290\n",
            "Processing 290 documents for enrichment.\n",
            "Processed 100 of 290 documents\n",
            "Processed 200 of 290 documents\n",
            "DataFrame created with 290 rows.\n",
            "RELAXED mode: 290 documents saved to output/board_monitoring_relaxed_all_sources.csv\n",
            "relaxed mode execution completed in 453.02 seconds\n",
            "\n",
            "Running RELAXED_POST mode monitoring...\n",
            "Using all available news sources (no source filtering)\n",
            "Prepared 31 base queries and 21 date ranges\n"
          ]
        },
        {
          "name": "stderr",
          "output_type": "stream",
          "text": [
            "Querying Bigdata...: 100%|██████████| 651/651 [02:15<00:00,  4.79it/s]\n"
          ]
        },
        {
          "name": "stdout",
          "output_type": "stream",
          "text": [
            "Processing 31 queries × 21 dates = 651 results\n",
            "Filtered results: 69 documents after company filtering\n",
            "Original: 69, After deduplication: 34\n",
            "Processing 34 documents for enrichment.\n",
            "DataFrame created with 34 rows.\n",
            "RELAXED_POST mode: 34 documents saved to output/board_monitoring_relaxed_post_all_sources.csv\n",
            "relaxed_post mode execution completed in 658.45 seconds\n"
          ]
        }
      ],
      "source": [
        "search_modes = [\"strict\", \"relaxed\", \"relaxed_post\"]\n",
        "selected_sources = trusted_sources if use_trusted_sources else None\n",
        "results_files = {}\n",
        "\n",
        "\n",
        "for search_mode in search_modes:\n",
        "    print(f\"\\nRunning {search_mode.upper()} mode monitoring...\")\n",
        "\n",
        "    with timer(f\"{search_mode} mode execution\"):\n",
        "        # Build queries for current search mode\n",
        "        queries, date_ranges, query_details = build_queries_for_monitoring(\n",
        "            date_periods=date_periods,\n",
        "            persons=persons_dict,\n",
        "            company=company_data,\n",
        "            news_search_mapping=news_search_mapping,\n",
        "            board_themes=board_themes,\n",
        "            search_mode=search_mode,\n",
        "            sources=selected_sources,\n",
        "            use_source_filter=use_trusted_sources\n",
        "        )\n",
        "\n",
        "        # Execute search\n",
        "        search_results = run_search(\n",
        "            queries=queries,\n",
        "            date_ranges=date_ranges,\n",
        "            sortby=SortBy.RELEVANCE,\n",
        "            scope=DocumentType.NEWS,\n",
        "            limit=100,\n",
        "            only_results=True,\n",
        "            rerank_threshold=None\n",
        "        )\n",
        "\n",
        "        # Filter and process results\n",
        "        filtered_results = filter_documents_by_company(\n",
        "            search_results=search_results,\n",
        "            query_details_template=query_details,\n",
        "            company_name=company_name,\n",
        "            search_mode=search_mode\n",
        "        )\n",
        "\n",
        "        # Remove duplicates\n",
        "        deduplicated_results = deduplicate_results(filtered_results)\n",
        "\n",
        "        # Convert to structured DataFrame\n",
        "        df_results = process_results_to_dataframe(deduplicated_results)\n",
        "\n",
        "        # Save results\n",
        "        source_type = \"trusted\" if use_trusted_sources else \"all\"\n",
        "        output_file = os.path.join(\n",
        "            output_dir,\n",
        "            f\"board_monitoring_{search_mode}_{source_type}_sources.csv\"\n",
        "        )\n",
        "        df_results.to_csv(output_file, index=False, encoding=\"utf-8-sig\")\n",
        "        results_files[search_mode] = output_file\n",
        "\n",
        "        print(f\"{search_mode.upper()} mode: {df_results.shape[0]} documents saved to {output_file}\")"
      ]
    },
    {
      "cell_type": "markdown",
      "metadata": {
        "id": "eViiMMQQOxsi"
      },
      "source": [
        "## Results Analysis and Visualization"
      ]
    },
    {
      "cell_type": "code",
      "execution_count": 8,
      "metadata": {
        "colab": {
          "base_uri": "https://localhost:8080/"
        },
        "id": "MKNXh13jOxsi",
        "outputId": "f0097875-57fe-4b8f-ecd9-98932ff202b2"
      },
      "outputs": [
        {
          "name": "stdout",
          "output_type": "stream",
          "text": [
            "Search Mode Comparison:\n",
            "Strict Mode: 34 documents\n",
            "Relaxed Mode: 290 documents\n",
            "Relaxed Post Mode: 34 documents\n"
          ]
        }
      ],
      "source": [
        "# Load results from all three search modes\n",
        "df_strict = pd.read_csv(\"output/board_monitoring_strict_all_sources.csv\")\n",
        "df_relaxed = pd.read_csv(\"output/board_monitoring_relaxed_all_sources.csv\")\n",
        "df_relaxed_post = pd.read_csv(\"output/board_monitoring_relaxed_post_all_sources.csv\")\n",
        "\n",
        "print(\"Search Mode Comparison:\")\n",
        "print(f\"Strict Mode: {len(df_strict)} documents\")\n",
        "print(f\"Relaxed Mode: {len(df_relaxed)} documents\")\n",
        "print(f\"Relaxed Post Mode: {len(df_relaxed_post)} documents\")"
      ]
    },
    {
      "cell_type": "markdown",
      "metadata": {
        "id": "f21sltHlOxsi"
      },
      "source": [
        "## Quarterly Activity Visualization"
      ]
    },
    {
      "cell_type": "code",
      "execution_count": 18,
      "metadata": {
        "colab": {
          "base_uri": "https://localhost:8080/",
          "height": 542
        },
        "id": "7TMdbA-nOxsi",
        "outputId": "e495c3b6-43dd-4b5c-f52f-c08c12c6c9b7"
      },
      "outputs": [
        {
          "name": "stderr",
          "output_type": "stream",
          "text": [
            "/tmp/ipykernel_1357259/3388935437.py:18: UserWarning:\n",
            "\n",
            "FigureCanvasAgg is non-interactive, and thus cannot be shown\n",
            "\n"
          ]
        },
        {
          "data": {
            "image/png": "[encoded data removed]",
            "text/plain": [
              "<Figure size 1200x600 with 1 Axes>"
            ]
          },
          "metadata": {},
          "output_type": "display_data"
        }
      ],
      "source": [
        "# Generate quarterly comparison visualization\n",
        "common_tick_dates, common_tick_text = get_common_quarter_ticks(\"2020Q1\", \"2025Q4\")\n",
        "x_axis_range = [common_tick_dates[0], common_tick_dates[-1]]\n",
        "\n",
        "# Create comprehensive comparison chart\n",
        "fig_combined = plot_combined_monitoring_activity(\n",
        "    df_strict,\n",
        "    df_relaxed,\n",
        "    df_relaxed_post,\n",
        "    title=\"Malcolm Wilson Board Monitoring - Search Mode Comparison\",\n",
        "    x_range=x_axis_range,\n",
        "    tick_vals=common_tick_dates,\n",
        "    tick_text=common_tick_text,\n",
        "    interactive=True # set to False to have the static plot\n",
        ")\n",
        "\n",
        "# Display the visualization\n",
        "fig_combined.show()"
      ]
    },
    {
      "cell_type": "markdown",
      "metadata": {
        "id": "W7HrgfqUOxsi"
      },
      "source": [
        "## Key Insights and Analysis"
      ]
    },
    {
      "cell_type": "code",
      "execution_count": 17,
      "metadata": {
        "colab": {
          "base_uri": "https://localhost:8080/"
        },
        "id": "rhS3M5mkOxsi",
        "outputId": "28c342de-7fd3-435a-ec2c-8ab425bdcf6a"
      },
      "outputs": [
        {
          "name": "stdout",
          "output_type": "stream",
          "text": [
            "Coverage Analysis:\n",
            "• Strict Mode captures the most precise mentions with company co-occurrence\n",
            "• Relaxed Mode provides comprehensive coverage but may include false positives\n",
            "• Relaxed Post Mode offers balanced precision-recall by post-filtering for company mentions\n",
            "\n",
            "Temporal Patterns:\n",
            "• Peak activity period in Strict Mode: 2024Q4\n",
            "• Peak activity period in Relaxed Mode: 2024Q4\n"
          ]
        },
        {
          "data": {
            "image/png": "[encoded data removed]",
            "text/plain": [
              "<Figure size 1000x600 with 1 Axes>"
            ]
          },
          "metadata": {},
          "output_type": "display_data"
        }
      ],
      "source": [
        "print(\"Coverage Analysis:\")\n",
        "print(\"• Strict Mode captures the most precise mentions with company co-occurrence\")\n",
        "print(\"• Relaxed Mode provides comprehensive coverage but may include false positives\")\n",
        "print(\"• Relaxed Post Mode offers balanced precision-recall by post-filtering for company mentions\")\n",
        "\n",
        "print(\"\\nTemporal Patterns:\")\n",
        "strict_dates = pd.to_datetime(df_strict['Date']).dt.tz_localize(None).dt.to_period('Q').value_counts().sort_index()\n",
        "relaxed_dates = pd.to_datetime(df_relaxed['Date']).dt.tz_localize(None).dt.to_period('Q').value_counts().sort_index()\n",
        "\n",
        "\n",
        "if len(strict_dates) > 0 and len(relaxed_dates) > 0:\n",
        "    print(f\"• Peak activity period in Strict Mode: {strict_dates.idxmax()}\")\n",
        "    print(f\"• Peak activity period in Relaxed Mode: {relaxed_dates.idxmax()}\")\n",
        "\n",
        "\n",
        "plot_top_sources(df_relaxed, person_name=\"Malcolm Wilson\", top_n=5, interactive=True) # set to False to have the static plot"
      ]
    },
    {
      "cell_type": "markdown",
      "metadata": {
        "id": "q8z73S8YOxsi"
      },
      "source": [
        "## Export and Final Analysis"
      ]
    },
    {
      "cell_type": "code",
      "execution_count": 11,
      "metadata": {
        "colab": {
          "base_uri": "https://localhost:8080/"
        },
        "id": "Zq5VNUl7Oxsi",
        "outputId": "00cd5349-befa-4f41-c300-2baf87ef3e84"
      },
      "outputs": [
        {
          "name": "stdout",
          "output_type": "stream",
          "text": [
            "Final Summary:\n",
            " Search Mode  Documents Retrieved  Unique Sources\n",
            "      Strict                   34              12\n",
            "     Relaxed                  290              46\n",
            "Relaxed Post                   34              12\n",
            "\n",
            "Board Management Monitoring completed successfully!\n",
            "Results saved in: output\n"
          ]
        }
      ],
      "source": [
        "# Create comprehensive summary\n",
        "summary_data = {\n",
        "    'Search Mode': ['Strict', 'Relaxed', 'Relaxed Post'],\n",
        "    'Documents Retrieved': [len(df_strict), len(df_relaxed), len(df_relaxed_post)],\n",
        "    'Unique Sources': [\n",
        "        df_strict['SourceID'].nunique() if len(df_strict) > 0 else 0,\n",
        "        df_relaxed['SourceID'].nunique() if len(df_relaxed) > 0 else 0,\n",
        "        df_relaxed_post['SourceID'].nunique() if len(df_relaxed_post) > 0 else 0\n",
        "    ]\n",
        "}\n",
        "\n",
        "summary_df = pd.DataFrame(summary_data)\n",
        "summary_df.to_csv(os.path.join(output_dir, \"monitoring_summary.csv\"), index=False)\n",
        "\n",
        "print(\"Final Summary:\")\n",
        "print(summary_df.to_string(index=False))\n",
        "\n",
        "print(f\"\\nBoard Management Monitoring completed successfully!\")\n",
        "print(f\"Results saved in: {output_dir}\")"
      ]
    }
  ],
  "metadata": {
    "colab": {
      "provenance": []
    },
    "kernelspec": {
      "display_name": "pricing_power",
      "language": "python",
      "name": "python3"
    },
    "language_info": {
      "codemirror_mode": {
        "name": "ipython",
        "version": 3
      },
      "file_extension": ".py",
      "mimetype": "text/x-python",
      "name": "python",
      "nbconvert_exporter": "python",
      "pygments_lexer": "ipython3",
      "version": "3.11.13"
    }
  },
  "nbformat": 4,
  "nbformat_minor": 0
}
