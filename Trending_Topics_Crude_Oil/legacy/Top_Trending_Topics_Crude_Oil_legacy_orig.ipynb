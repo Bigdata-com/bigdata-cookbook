{
 "cells": [
  {
   "cell_type": "markdown",
   "id": "18b41fa6-affa-4729-bbfc-9b14025bbe3b",
   "metadata": {
    "id": "18b41fa6-affa-4729-bbfc-9b14025bbe3b"
   },
   "source": [
    "# Set-Up"
   ]
  },
  {
   "cell_type": "code",
   "execution_count": 1,
   "id": "7346a680-6158-4eee-acc8-7cc4f9e4140e",
   "metadata": {
    "id": "7346a680-6158-4eee-acc8-7cc4f9e4140e"
   },
   "outputs": [],
   "source": [
    "%load_ext autoreload\n",
    "%autoreload 2"
   ]
  },
  {
   "cell_type": "code",
   "execution_count": 3,
   "id": "5fccd131",
   "metadata": {},
   "outputs": [
    {
     "name": "stdout",
     "output_type": "stream",
     "text": [
      "Looking in indexes: https://pypi.org/simple, https://pypi-marbella.ravenpack.com/simple/\n",
      "Collecting aiohttp==3.9.5 (from -r requirements_sdk_api.txt (line 1))\n",
      "  Downloading aiohttp-3.9.5-cp39-cp39-manylinux_2_17_x86_64.manylinux2014_x86_64.whl.metadata (7.5 kB)\n",
      "Collecting aiosignal==1.3.1 (from -r requirements_sdk_api.txt (line 2))\n",
      "  Downloading aiosignal-1.3.1-py3-none-any.whl.metadata (4.0 kB)\n",
      "Collecting annotated-types==0.7.0 (from -r requirements_sdk_api.txt (line 3))\n",
      "  Downloading annotated_types-0.7.0-py3-none-any.whl.metadata (15 kB)\n",
      "Collecting anyio==4.4.0 (from -r requirements_sdk_api.txt (line 4))\n",
      "  Downloading anyio-4.4.0-py3-none-any.whl.metadata (4.6 kB)\n",
      "Collecting argon2-cffi==23.1.0 (from -r requirements_sdk_api.txt (line 5))\n",
      "  Downloading argon2_cffi-23.1.0-py3-none-any.whl.metadata (5.2 kB)\n",
      "Collecting argon2-cffi-bindings==21.2.0 (from -r requirements_sdk_api.txt (line 6))\n",
      "  Downloading argon2_cffi_bindings-21.2.0-cp36-abi3-manylinux_2_17_x86_64.manylinux2014_x86_64.whl.metadata (6.7 kB)\n",
      "Collecting arrow==1.3.0 (from -r requirements_sdk_api.txt (line 7))\n",
      "  Downloading arrow-1.3.0-py3-none-any.whl.metadata (7.5 kB)\n",
      "Collecting asn1crypto==1.5.1 (from -r requirements_sdk_api.txt (line 8))\n",
      "  Downloading asn1crypto-1.5.1-py2.py3-none-any.whl.metadata (13 kB)\n",
      "Collecting asttokens==2.0.5 (from -r requirements_sdk_api.txt (line 9))\n",
      "  Downloading asttokens-2.0.5-py2.py3-none-any.whl.metadata (4.6 kB)\n",
      "Collecting async-lru==2.0.4 (from -r requirements_sdk_api.txt (line 10))\n",
      "  Downloading async_lru-2.0.4-py3-none-any.whl.metadata (4.5 kB)\n",
      "Collecting async-timeout==4.0.3 (from -r requirements_sdk_api.txt (line 11))\n",
      "  Downloading async_timeout-4.0.3-py3-none-any.whl.metadata (4.2 kB)\n",
      "Collecting atpublic==4.1.0 (from -r requirements_sdk_api.txt (line 12))\n",
      "  Downloading atpublic-4.1.0-py3-none-any.whl.metadata (1.8 kB)\n",
      "Collecting attrs==23.2.0 (from -r requirements_sdk_api.txt (line 13))\n",
      "  Downloading attrs-23.2.0-py3-none-any.whl.metadata (9.5 kB)\n",
      "Collecting Babel==2.15.0 (from -r requirements_sdk_api.txt (line 14))\n",
      "  Downloading Babel-2.15.0-py3-none-any.whl.metadata (1.5 kB)\n",
      "Requirement already satisfied: backcall==0.2.0 in /opt/anaconda/envs/cookbook_legacy/lib/python3.9/site-packages (from -r requirements_sdk_api.txt (line 15)) (0.2.0)\n",
      "Collecting beautifulsoup4==4.12.3 (from -r requirements_sdk_api.txt (line 16))\n",
      "  Downloading beautifulsoup4-4.12.3-py3-none-any.whl.metadata (3.8 kB)\n",
      "Collecting bigdata-client==1.4.1 (from -r requirements_sdk_api.txt (line 17))\n",
      "  Downloading bigdata_client-1.4.1-py3-none-any.whl.metadata (1.1 kB)\n",
      "Collecting bleach==6.1.0 (from -r requirements_sdk_api.txt (line 18))\n",
      "  Downloading bleach-6.1.0-py3-none-any.whl.metadata (30 kB)\n",
      "Collecting bounded-pool-executor==0.0.3 (from -r requirements_sdk_api.txt (line 19))\n",
      "  Downloading bounded_pool_executor-0.0.3-py3-none-any.whl.metadata (2.7 kB)\n",
      "Collecting certifi==2024.6.2 (from -r requirements_sdk_api.txt (line 20))\n",
      "  Downloading certifi-2024.6.2-py3-none-any.whl.metadata (2.2 kB)\n",
      "Collecting cffi==1.16.0 (from -r requirements_sdk_api.txt (line 21))\n",
      "  Downloading cffi-1.16.0-cp39-cp39-manylinux_2_17_x86_64.manylinux2014_x86_64.whl.metadata (1.5 kB)\n",
      "Collecting charset-normalizer==3.3.2 (from -r requirements_sdk_api.txt (line 22))\n",
      "  Downloading charset_normalizer-3.3.2-cp39-cp39-manylinux_2_17_x86_64.manylinux2014_x86_64.whl.metadata (33 kB)\n",
      "Collecting cloudpickle==2.2.1 (from -r requirements_sdk_api.txt (line 23))\n",
      "  Downloading cloudpickle-2.2.1-py3-none-any.whl.metadata (6.9 kB)\n",
      "Collecting comm==0.2.1 (from -r requirements_sdk_api.txt (line 24))\n",
      "  Downloading comm-0.2.1-py3-none-any.whl.metadata (3.7 kB)\n",
      "Collecting contourpy==1.2.1 (from -r requirements_sdk_api.txt (line 25))\n",
      "  Downloading contourpy-1.2.1-cp39-cp39-manylinux_2_17_x86_64.manylinux2014_x86_64.whl.metadata (5.8 kB)\n",
      "Collecting crlibm==1.0.3 (from -r requirements_sdk_api.txt (line 26))\n",
      "  Downloading crlibm-1.0.3.tar.gz (1.6 MB)\n",
      "\u001b[2K     \u001b[90m━━━━━━━━━━━━━━━━━━━━━━━━━━━━━━━━━━━━━━━━\u001b[0m \u001b[32m1.6/1.6 MB\u001b[0m \u001b[31m27.9 MB/s\u001b[0m eta \u001b[36m0:00:00\u001b[0m\n",
      "\u001b[?25h  Preparing metadata (setup.py) ... \u001b[?25lerror\n",
      "  \u001b[1;31merror\u001b[0m: \u001b[1msubprocess-exited-with-error\u001b[0m\n",
      "  \n",
      "  \u001b[31m×\u001b[0m \u001b[32mpython setup.py egg_info\u001b[0m did not run successfully.\n",
      "  \u001b[31m│\u001b[0m exit code: \u001b[1;36m1\u001b[0m\n",
      "  \u001b[31m╰─>\u001b[0m \u001b[31m[6 lines of output]\u001b[0m\n",
      "  \u001b[31m   \u001b[0m Traceback (most recent call last):\n",
      "  \u001b[31m   \u001b[0m   File \"<string>\", line 2, in <module>\n",
      "  \u001b[31m   \u001b[0m   File \"<pip-setuptools-caller>\", line 35, in <module>\n",
      "  \u001b[31m   \u001b[0m   File \"/tmp/pip-install-sc8uzdap/crlibm_18eed2bf32cf40e696ec47fd73ba2c86/setup.py\", line 15, in <module>\n",
      "  \u001b[31m   \u001b[0m     from distutils.command.upload import upload\n",
      "  \u001b[31m   \u001b[0m ModuleNotFoundError: No module named 'distutils.command.upload'\n",
      "  \u001b[31m   \u001b[0m \u001b[31m[end of output]\u001b[0m\n",
      "  \n",
      "  \u001b[1;35mnote\u001b[0m: This error originates from a subprocess, and is likely not a problem with pip.\n",
      "\u001b[?25h\u001b[1;31merror\u001b[0m: \u001b[1mmetadata-generation-failed\u001b[0m\n",
      "\n",
      "\u001b[31m×\u001b[0m Encountered error while generating package metadata.\n",
      "\u001b[31m╰─>\u001b[0m See above for output.\n",
      "\n",
      "\u001b[1;35mnote\u001b[0m: This is an issue with the package mentioned above, not pip.\n",
      "\u001b[1;36mhint\u001b[0m: See above for details.\n",
      "Note: you may need to restart the kernel to use updated packages.\n"
     ]
    }
   ],
   "source": [
    "pip install -r requirements_sdk_api.txt"
   ]
  },
  {
   "cell_type": "code",
   "execution_count": 2,
   "id": "6e3d1449-71c5-4d85-9027-3242f60bc3e4",
   "metadata": {
    "id": "6e3d1449-71c5-4d85-9027-3242f60bc3e4"
   },
   "outputs": [
    {
     "ename": "ModuleNotFoundError",
     "evalue": "No module named 'openai'",
     "output_type": "error",
     "traceback": [
      "\u001b[0;31m---------------------------------------------------------------------------\u001b[0m",
      "\u001b[0;31mModuleNotFoundError\u001b[0m                       Traceback (most recent call last)",
      "Cell \u001b[0;32mIn[2], line 1\u001b[0m\n\u001b[0;32m----> 1\u001b[0m \u001b[38;5;28;01mfrom\u001b[39;00m\u001b[38;5;250m \u001b[39m\u001b[38;5;21;01msrc\u001b[39;00m\u001b[38;5;21;01m.\u001b[39;00m\u001b[38;5;21;01mgeneric_utils_reports\u001b[39;00m\u001b[38;5;250m \u001b[39m\u001b[38;5;28;01mimport\u001b[39;00m \u001b[38;5;241m*\u001b[39m\n",
      "File \u001b[0;32m~/git/bigdata-cookbook/Trending_Topics_Crude_Oil/src/generic_utils_reports.py:1\u001b[0m\n\u001b[0;32m----> 1\u001b[0m \u001b[38;5;28;01mfrom\u001b[39;00m\u001b[38;5;250m \u001b[39m\u001b[38;5;21;01mopenai\u001b[39;00m\u001b[38;5;250m \u001b[39m\u001b[38;5;28;01mimport\u001b[39;00m OpenAI, OpenAIError\n\u001b[1;32m      2\u001b[0m \u001b[38;5;28;01mfrom\u001b[39;00m\u001b[38;5;250m \u001b[39m\u001b[38;5;21;01mdatetime\u001b[39;00m\u001b[38;5;250m \u001b[39m\u001b[38;5;28;01mimport\u001b[39;00m datetime\n\u001b[1;32m      3\u001b[0m \u001b[38;5;28;01mimport\u001b[39;00m\u001b[38;5;250m \u001b[39m\u001b[38;5;21;01mcalendar\u001b[39;00m\n",
      "\u001b[0;31mModuleNotFoundError\u001b[0m: No module named 'openai'"
     ]
    }
   ],
   "source": [
    "from src.generic_utils_reports import *"
   ]
  },
  {
   "cell_type": "code",
   "execution_count": null,
   "id": "a99ea983-f879-4b73-8d12-4ffd5b0d1247",
   "metadata": {
    "id": "a99ea983-f879-4b73-8d12-4ffd5b0d1247",
    "outputId": "47ee8bb9-5f56-4387-94c3-a19aad9d047f"
   },
   "outputs": [
    {
     "data": {
      "text/plain": [
       "True"
      ]
     },
     "execution_count": 3,
     "metadata": {},
     "output_type": "execute_result"
    }
   ],
   "source": [
    "from dotenv import load_dotenv\n",
    "\n",
    "load_dotenv(os.path.abspath(\"/home/abouchs/.python_env_var/.env\"))"
   ]
  },
  {
   "cell_type": "code",
   "execution_count": null,
   "id": "9c8f0591-129a-4914-ad2c-22874063c8e7",
   "metadata": {
    "id": "9c8f0591-129a-4914-ad2c-22874063c8e7"
   },
   "outputs": [],
   "source": [
    "BIGDATA_USERNAME = os.getenv(\"BIGDATA_USERNAME\")\n",
    "BIGDATA_PASSWORD = os.getenv(\"BIGDATA_PASSWORD\")"
   ]
  },
  {
   "cell_type": "code",
   "execution_count": null,
   "id": "00100898-131f-43e6-8ecb-b2e4edac8931",
   "metadata": {
    "id": "00100898-131f-43e6-8ecb-b2e4edac8931"
   },
   "outputs": [],
   "source": [
    "bigdata_cred = Bigdata(BIGDATA_USERNAME, BIGDATA_PASSWORD)"
   ]
  },
  {
   "cell_type": "code",
   "execution_count": null,
   "id": "59e16188-5d86-4570-b43c-90ef427c3e8f",
   "metadata": {
    "id": "59e16188-5d86-4570-b43c-90ef427c3e8f"
   },
   "outputs": [],
   "source": [
    "user = '/aammydriss/'\n",
    "case_id = '/QIS-537/'\n",
    "\n",
    "output_dir = f\"/home{user}/shared/OutputData/aammydriss{case_id}/\""
   ]
  },
  {
   "cell_type": "markdown",
   "id": "bd340d97-b9b5-48d2-b41f-b27301652d61",
   "metadata": {
    "id": "bd340d97-b9b5-48d2-b41f-b27301652d61",
    "tags": []
   },
   "source": [
    "# Step 1- Generation of the Lexicon"
   ]
  },
  {
   "cell_type": "markdown",
   "id": "d0c60e14-191f-4e86-84f9-17b376f43a1b",
   "metadata": {
    "id": "d0c60e14-191f-4e86-84f9-17b376f43a1b"
   },
   "source": [
    "In this step, we identify the specialized industry-specific jargon relevant to the crude oil market to ensure a high recall in the content retrieval."
   ]
  },
  {
   "cell_type": "code",
   "execution_count": null,
   "id": "0ff52d5b-3f4c-484b-9ef6-59c99f824f84",
   "metadata": {
    "id": "0ff52d5b-3f4c-484b-9ef6-59c99f824f84"
   },
   "outputs": [],
   "source": [
    "main_theme = \"Crude Oil\"\n",
    "system_prompt = (\n",
    "    f\"\"\"You are an expert tasked with generating a lexicon of the most important and relevant keywords specific to the crude oil market.\n",
    "\n",
    "    Your goal is to compile a list of terms that are critical for understanding and analyzing the crude oil market. This lexicon should include only the most essential keywords, phrases, and abbreviations that are directly associated with crude oil trading, analysis, logistics, and industry reporting.\n",
    "\n",
    "    Guidelines:\n",
    "\n",
    "    1. **Focus on relevance:** Include only the most important and commonly used keywords that are uniquely tied to the crude oil market. These should reflect key concepts, market mechanisms, pricing benchmarks, logistical aspects, and industry-specific terminology.\n",
    "    2. **Avoid redundancy:** Do not repeat the word \"Crude\" or \"Oil\" in multiple phrases. Include \"Crude Oil\" only as a standalone term, and focus on other specific terms without redundant repetition.\n",
    "    3. **Strict exclusion of generic terms:** Exclude any terms that are generic or broadly used in other markets, such as \"Arbitrage,\" \"Hedge,\" \"Liquidity,\" \"Spot Price,\" \"Futures Contract,\" \"Backwardation,\" or \"Contango,\" even if they have a specific meaning in the oil market. Only include terms that are uniquely relevant to the crude oil market and cannot be applied broadly.\n",
    "    4. **Include specific variations:** Where applicable, provide both the full form and common abbreviations (e.g., \"West Texas Intermediate\" and \"WTI\"), as well as variations like \"Brent\" and \"Brent Crude.\"\n",
    "    5. **Ensure clarity:** Each keyword should be concise, clear, and directly relevant to the crude oil market, avoiding any ambiguity.\n",
    "    6. **Select only the most critical:** There is no need to reach a specific number of keywords. Focus solely on the most crucial terms without padding the list. If fewer keywords meet the criteria, that is acceptable.\n",
    "\n",
    "    The output should be a lexicon of only the most critical and uniquely relevant keywords related to the crude oil market, formatted as a JSON list.\n",
    "    \"\"\"\n",
    ")\n"
   ]
  },
  {
   "cell_type": "code",
   "execution_count": null,
   "id": "8d2cb29b-6c7c-4a16-ab56-c705e3b68f2b",
   "metadata": {
    "id": "8d2cb29b-6c7c-4a16-ab56-c705e3b68f2b",
    "outputId": "a148583e-255e-47fc-f3cc-4269e5965f71",
    "tags": []
   },
   "outputs": [
    {
     "name": "stderr",
     "output_type": "stream",
     "text": [
      "Fetching OpenAI Responses: 100%|██████████| 16/16 [00:50<00:00,  3.16s/it]"
     ]
    },
    {
     "name": "stdout",
     "output_type": "stream",
     "text": [
      "['Crude Oil Insights', 'Oil Refinery', 'Carbon Tax', 'Crude Oil Hydrotreating', 'Petrochemicals', 'Crude Oil Options', 'Petrobras', 'Wellhead', 'Crude Oil Market Mergers', 'Crude Assay', 'Possible Reserves', 'Dubai Crude', 'Pipeline', 'Crude Oil Distillation', 'Heavy Crude', 'TotalEnergies', 'Crude Blending', 'Crude Oil Pipeline', 'Oilfield', 'ICE Futures', 'Crude Oil Market Capital', 'Supply Glut', 'Chevron', 'Crude Oil Market Sentiment', 'Crude Oil Market Intelligence', 'Crude Oil Market Cash Flow', 'Crude Oil Export', 'Crude Oil Offshore', 'Crude Oil Market Efficiency', 'EOR', 'ICE Futures Europe', 'Crude Oil Market Alliances', 'Crude Oil Regulation', 'Crude Oil Market Collaboration', 'Fracking', 'Oil Field', 'Crude Oil Market Profit', 'SPRO', 'Petroleum Coke', 'E&P', 'Crude Oil Renewable Alternatives', 'Crude Oil Market Political Impact', 'Crude Oil Market Governance', 'Crude Oil Supply Chain', 'Barrel of Oil Equivalent', 'DOE', 'NOC', 'BP', 'Crude Oil Transition', 'Shale Oil', 'Catalytic Cracking', 'Drilling Rig', 'Crude Oil Assay', 'Blowout Preventer', 'Crude Oil Market Acquisitions', 'Crude Oil Tax', 'Crude Oil Market Economic Impact', 'Crude Oil Market Indicators', 'Bitumen', 'Crude Oil Market Challenges', 'Crude Oil Exploration', 'WTI', 'Shell', 'Crude Oil Derivatives', 'Crude Oil Subsidy', 'Crude Oil Speculation', 'Supply Chain', 'Royalty', 'Crude Oil Onshore', 'Force Majeure', 'West Texas Intermediate', 'Crude Oil Market Social Impact', 'IOCs', 'Environmental Impact', 'Crude Oil Market Dynamics', 'Cargo', 'Brent Crude', 'Crude Oil News', 'Crude Oil Market Research', 'Crude Oil Trading Platform', 'OPEC', 'Proven Reserves', 'Crude Oil Market Financing', 'Crude Oil Analytics', 'Baker Hughes Rig Count', 'Refinery Utilization', 'Crude Oil Market Partnerships', 'Crack Spread', 'Saudi Aramco', 'TAPS', 'Crude Oil Consumption', 'Strategic Petroleum Reserve', 'Rig Count', 'Oil Terminal', 'Crude Oil Trading', 'Jet Fuel', 'Benchmark Pricing', 'Crude Oil Market Solutions', 'Crude Oil Market Competitiveness', 'Carbon Emissions', 'Gazprom Neft', 'Crude Oil Price Volatility', 'Crude Oil Market Outlook', 'Crude Oil Drilling', 'Crude Oil Storage', 'Hydraulic Fracturing', 'Crude Oil Reserves', 'Crude Oil Market Compliance', 'Crude Oil Hedging', 'Crude Oil Market Software', 'Refining Margin', 'Crude Oil Market Liabilities', 'Depletion Rate', 'Geopolitical Risk', 'Permian Basin', 'Crude Oil Transportation', 'Crude Oil Market Environmental Impact', 'Barrels per Day', 'Crude Oil Market Productivity', 'Crude Oil Market Report', 'Enhanced Oil Recovery', 'Crude Oil Market Development', 'Hydrocracker', 'Crude Oil Production', 'Barrel', 'Oil Sands', 'Peak Oil', 'Eni', 'Crude Oil Brokerage', 'Pemex', 'Crude Oil Carbon Footprint', 'Crude Oil Market Lessons Learned', 'Oil Well', 'bpd', 'Crude Oil Blending', 'NIOC', 'Sweet Crude', 'Crude Oil Market Equity', 'Crude Oil Market Case Studies', 'Crude Oil Fractionation', 'Exploration and Production', 'Cushing', 'Crude Oil Futures Market', 'Crude Oil Market Success Stories', 'Crude Oil Market Technological Impact', 'Independent Oil Companies', 'Offshore Drilling', 'Barrels Per Day', 'Crude Oil Market Analysis Tools', 'Oil Price Volatility', 'PSA', 'Crude Storage', 'Petroleum Product', 'Crude Oil Market Debt', 'Refinery', 'Crude Distillation Unit', 'Crude Oil Market Data', 'Crude Oil Market Expansion', 'Crude Oil Supply', 'Downstream', 'Midstream', 'Crude Oil Market Loss', 'Cushing, Oklahoma', 'Crude Oil Market Disruption', 'Crude Oil Environmental Impact', 'Distillate Fuel', 'Crude Oil Shale', 'Tar Sands', 'Crude Oil Terminal', 'Crude Oil Commentary', 'ExxonMobil', 'Energy Policy', 'Crude Oil Spot Market', 'Crude Oil Well', 'Crude Oil Market Risks', 'Crude Oil Market Assets', 'Oil Spill', 'Sulfur Content', 'Crude Oil Market Opportunities', 'Liftings', 'Crude Oil Emissions', 'BPD', 'Crude Oil Market Platforms', 'Crude Oil Import', 'Oil Reserves', 'Heating Oil', 'Crude Oil Market Trends', 'Term Contract', 'Oil Export', 'Benchmark', 'VLCC', 'Crude Oil Market Integration', 'IEA', 'Crude Oil Market Investments', 'Distillation', 'Brent', 'Pipeline Capacity', 'National Oil Companies', 'Crude Oil Research', 'Crude Oil Benchmark', 'Crude Oil Market Benchmarking', 'Crude Oil Market Analysis', 'Crude Oil Price Spread', 'Energy Information Administration', 'Energy Transition', 'Refining', 'Crude Oil Fracking', 'Benchmark Crude', 'Crude Oil Refining Capacity', 'ICE', 'Crude Oil Market Services', 'Crude Oil Field', 'Rosneft', 'Crude Oil Market Share', 'North Sea', 'BOE', 'Crude Oil Stocks', 'Gasoline', 'Crude Oil Embargo', 'Crude Oil Market Funding', 'Environmental Regulation', 'Production Sharing Agreement', 'Desulfurization', 'Crude Oil Market Strategies', 'OPEC+', 'Crude Oil Market Policies', 'Crude Inventory', 'Crude Oil Intelligence', 'Oil Import', 'SPR', 'Refinery Margin', 'Crude Oil Sands', 'Crude Oil Refining', 'Crude Oil Rig Count', 'Forward Contract', 'Crude Oil Market Regulations', 'Crude Oil Market Transformation', 'Crude Oil Market Performance', 'Crude Oil Market Ethics', 'Tanker Rates', 'Floating Storage', 'Bbl', 'Crude Oil Swaps', 'International Energy Agency', 'Non-OPEC', 'NYMEX', 'CDU', 'Sour Crude', 'Crude Oil Price Index', 'Tanker', 'NOCs', 'Coking', 'Urals Crude', 'Crude Oil Market Best Practices', 'Oilfield Services', 'Spot Market', 'Crude Oil Market Evolution', 'Crude Oil Market Valuation', 'Demand Destruction', 'Energy Security', 'Crude Oil Market Sustainability', 'Crude Oil Sustainability', 'Crude Oil Market Geopolitical Impact', 'API Gravity', 'PDVSA', 'EIA Report', 'Crude Oil Market Fundamentals', 'Crude Oil Price Forecast', 'Crude Oil Market Commentary', 'Crude Oil Hydrocracking', 'DOE Report', 'EIA', 'Onshore Drilling', 'Distillate', 'Tanker Charter Rates', 'Crude Oil Policy', 'API Report', 'Crude Oil Market Revenue', 'Hydrocracking', 'Crude Oil Market Insights', 'Crude Oil Market Growth', 'Light Crude', 'BOP', 'Crude Oil Sanctions', 'Bakken', 'Crude Oil Price Differential', 'Crude Oil Market Diversification', 'Crude Oil Market Innovation', 'Canadian Oil Sands', 'Crude Oil Contracts', 'Crude Oil Trading Hub', 'Supply Disruption', 'Crude Oil Royalty', 'Crude Oil Market Standards', 'Refinery Utilization Rate', 'ULCC', 'IOC', 'Petrochemical Feedstock', 'Crude Oil Basin', 'Petronas', 'Refining Capacity', 'Production Cut', 'Crude Oil Distillation Unit', 'Blending', 'Tanker Freight Rates', 'Crude Oil Inventory', 'Oil Majors', 'Trans-Alaska Pipeline System', 'Crude Oil Market News', 'Crude Oil Cracking', 'Crude Oil Futures', 'Crude Oil Desulfurization', 'Upstream', 'Intercontinental Exchange', 'Tanker Chartering', 'Completion', 'Storage Capacity', 'Crude Oil Demand', 'Crude Oil Geopolitics', 'Crude Oil Tanker', 'Probable Reserves']\n"
     ]
    },
    {
     "name": "stderr",
     "output_type": "stream",
     "text": [
      "\n"
     ]
    }
   ],
   "source": [
    "keywords,keywords_query= keywords_functions.run_generate_keywords(theme = main_theme, openAIkey = os.getenv(\"OPENAI_API_KEY\"),\n",
    "                                                      system_prompt = system_prompt, seeds = [123, 1234, 12345, 123456, 1234567, 12345678, 123456789, 1, 2, 3, 4, 5, 6, 7, 8, 9])"
   ]
  },
  {
   "cell_type": "markdown",
   "id": "d4fefb70-daa9-4ca4-ad5a-106a787e5816",
   "metadata": {
    "id": "d4fefb70-daa9-4ca4-ad5a-106a787e5816"
   },
   "source": [
    "<img src=\"https://bigdata.com/assets/notebooks/bigdata-by-ravenpack-logo.png\" width=\"300\" align=\"center\">\n",
    "<br>\n",
    "<br>\n",
    "\n",
    "# **Daily Top Trending Topics for Crude Oil**\n",
    "\n",
    "This Jupyter notebook implements an **agentic workflow** based on the content retrieval from BigData API to **identify, verifiy, reindex, and summarize** the specialized news that are **trending topics** for the crude oil market.\n",
    "\n",
    "The workflow is structured as follows:\n",
    "\n",
    "**Step 1- Generation of the Lexicon**: Identify the specialized industry-specific jargon relevant to the crude oil market to ensure a high recall in the content retrieval.\n",
    "\n",
    "**Step 2- Content Retrieval Based on BigData**: Perform a keyword search on the news content with the Bigdata API to retrieve documents, splitting the search over daily timeframes and multi-threading the content search on the individual keywords for speed purpose.\n",
    "\n",
    "**Step 3- Topic Clustering and Selection**: Perform topic modelling using a large language model to verify and cluster the news. Then, the summarization ensures topic selection identifying the top trending news for crude oil, while deriving advanced analytics to quantify the trendiness (based on news volume), novelty (based on daily changes in summaries), impact and magnitude (based on the financial materiality on crude oil prices) of the trending topics.\n",
    "\n",
    "**Step 4- Customized Report Generation**: Customize the ranking system of the summarized topics based on their trendiness, novelty, and financial materiality on crude oil prices, and display a daily market update. For verification purpose, the reports are supported by the granular news and sources.\n",
    "\n",
    "**Output**\n",
    "\n",
    "1. **Daily Market Reports**: A detailed and visually appealing report summarizing the top trending topics for crude oil, with a customizable ranking system to reindex the news.\n",
    "2. **Actionable Dataframe**: A timestamped dataframe containing the granular news clustered into relevant topics, and the advanced analytics of trendiness, novelty, impact, and magnitude scores to be potentially used for backtesting purpose.\n",
    "\n",
    "**Requirements**\n",
    "\n",
    "- Credentials for the Bigdata API to perform keyword and document searches on news content.\n",
    "- Credentials for the OpenAI API used in the notebook, this could be substituted with any other LLM.\n",
    "- A `tools` folder in the same directory as this notebook, containing a Python file named `utils_reports.py` with all required functionalities.\n",
    "- A `requirements.txt` file listing all the necessary Python libraries and dependencies. We recommend installing these packages in a virtual environment."
   ]
  },
  {
   "cell_type": "markdown",
   "id": "a230635a-b3e9-468b-9681-ac06b453f20b",
   "metadata": {
    "id": "a230635a-b3e9-468b-9681-ac06b453f20b"
   },
   "source": [
    "# Step 2- Content Retrieval Based on Bigdata"
   ]
  },
  {
   "cell_type": "markdown",
   "id": "d439d1c4-865e-4d70-8fe9-5d2492f90541",
   "metadata": {
    "id": "d439d1c4-865e-4d70-8fe9-5d2492f90541"
   },
   "source": [
    "In this section, we perform a keyword search on the news content with the Bigdata API to retrieve documents, splitting the search over daily timeframes and multi-threading the content search on the individual keywords for speed purpose. The user can define the time range below to generate daily reports between the start and end dates."
   ]
  },
  {
   "cell_type": "code",
   "execution_count": null,
   "id": "94e93f7f-c1fe-42ca-9d3b-cbe0b5c9768e",
   "metadata": {
    "id": "94e93f7f-c1fe-42ca-9d3b-cbe0b5c9768e"
   },
   "outputs": [],
   "source": [
    "start_query = '2024-07-25'\n",
    "end_query = '2024-07-25'"
   ]
  },
  {
   "cell_type": "code",
   "execution_count": null,
   "id": "4dadbbb5-dc58-4fb3-bfba-31de97ebc5b4",
   "metadata": {
    "colab": {
     "referenced_widgets": [
      "5018d86167bb4f3589ba99ab7a3a0130",
      "d78ba9c81e0b4461bb76df17f6c43087",
      "7d60460fb59a42e0b0f6a2c34f167deb"
     ]
    },
    "id": "4dadbbb5-dc58-4fb3-bfba-31de97ebc5b4",
    "outputId": "68a49f2b-b37d-41ca-a45c-ec3ebaf4fc55",
    "tags": []
   },
   "outputs": [
    {
     "name": "stdout",
     "output_type": "stream",
     "text": [
      "2024-07-25 00:00:00 - 2024-07-25 23:59:59\n"
     ]
    },
    {
     "data": {
      "application/vnd.jupyter.widget-view+json": {
       "model_id": "5018d86167bb4f3589ba99ab7a3a0130",
       "version_major": 2,
       "version_minor": 0
      },
      "text/plain": [
       "QUEUEING TASKS | :   0%|          | 0/321 [00:00<?, ?it/s]"
      ]
     },
     "metadata": {},
     "output_type": "display_data"
    },
    {
     "data": {
      "application/vnd.jupyter.widget-view+json": {
       "model_id": "d78ba9c81e0b4461bb76df17f6c43087",
       "version_major": 2,
       "version_minor": 0
      },
      "text/plain": [
       "PROCESSING TASKS | :   0%|          | 0/321 [00:00<?, ?it/s]"
      ]
     },
     "metadata": {},
     "output_type": "display_data"
    },
    {
     "data": {
      "application/vnd.jupyter.widget-view+json": {
       "model_id": "7d60460fb59a42e0b0f6a2c34f167deb",
       "version_major": 2,
       "version_minor": 0
      },
      "text/plain": [
       "COLLECTING RESULTS | :   0%|          | 0/321 [00:00<?, ?it/s]"
      ]
     },
     "metadata": {},
     "output_type": "display_data"
    }
   ],
   "source": [
    "## Retrieve document identifiers in order to find the full document\n",
    "unique_reports, daily_keyword_counts = search_keyword(keywords, start_query, end_query, [],bigdata_cred, job_number = 30, limit=750)"
   ]
  },
  {
   "cell_type": "markdown",
   "id": "0fc44aa5-c056-4163-8dea-d204f8b1307b",
   "metadata": {
    "id": "0fc44aa5-c056-4163-8dea-d204f8b1307b"
   },
   "source": [
    "# Step 3- Topic Clustering and Selection"
   ]
  },
  {
   "cell_type": "markdown",
   "id": "8bcf7b34-71cd-4631-a220-754be8118aaa",
   "metadata": {
    "id": "8bcf7b34-71cd-4631-a220-754be8118aaa"
   },
   "source": [
    "In this step, we perform topic modelling using a large language model to verify and cluster the news. Then, the summarization ensures topic selection identifying the top trending news for crude oil, while deriving advanced analytics to quantify the trendiness (based on news volume), novelty (based on daily changes in summaries), impact and magnitude (based on the financial materiality on crude oil prices) of the trending topics."
   ]
  },
  {
   "cell_type": "markdown",
   "id": "0ef0fb0c-bc04-4024-b194-aa15b50b986f",
   "metadata": {
    "id": "0ef0fb0c-bc04-4024-b194-aa15b50b986f"
   },
   "source": [
    "Before performing the topic clustering, we apply a verification layer to remove the news that are not relative to the oil market"
   ]
  },
  {
   "cell_type": "code",
   "execution_count": null,
   "id": "aa9249ab-cb3f-4621-872e-437e5e6e7667",
   "metadata": {
    "colab": {
     "referenced_widgets": [
      "833ff5d74bc540aea74e2447d4a1e7c3"
     ]
    },
    "id": "aa9249ab-cb3f-4621-872e-437e5e6e7667",
    "outputId": "425e8441-c54a-4aeb-c42f-d62cb1dfe1f9",
    "tags": []
   },
   "outputs": [
    {
     "data": {
      "application/vnd.jupyter.widget-view+json": {
       "model_id": "833ff5d74bc540aea74e2447d4a1e7c3",
       "version_major": 2,
       "version_minor": 0
      },
      "text/plain": [
       "Filtering News:   0%|          | 0/22372 [00:00<?, ?it/s]"
      ]
     },
     "metadata": {},
     "output_type": "display_data"
    }
   ],
   "source": [
    "model = 'gpt-4o-mini-2024-07-18'\n",
    "api_key = os.environ['OPENAI_API_KEY']\n",
    "semaphore_size = 1000\n",
    "\n",
    "# Assuming unique_reports is your DataFrame\n",
    "filtered_reports = process_all_reports(unique_reports, model, api_key, main_theme, semaphore_size)"
   ]
  },
  {
   "cell_type": "markdown",
   "id": "e7d982ff-751c-42fc-a704-4cf576035e35",
   "metadata": {
    "id": "e7d982ff-751c-42fc-a704-4cf576035e35"
   },
   "source": [
    "In this cell, we leverage a LLM to perform topic modeling, identifying and clustering the key topics from the news reports."
   ]
  },
  {
   "cell_type": "code",
   "execution_count": null,
   "id": "a989a1aa-e758-489b-98a6-0ba259ea976c",
   "metadata": {
    "colab": {
     "referenced_widgets": [
      "7e9b9ce871154b5e80ce5b9020ff34f2"
     ]
    },
    "id": "a989a1aa-e758-489b-98a6-0ba259ea976c",
    "outputId": "4cac4b38-cb6a-4d59-b13a-50c26c176e2c"
   },
   "outputs": [
    {
     "data": {
      "application/vnd.jupyter.widget-view+json": {
       "model_id": "7e9b9ce871154b5e80ce5b9020ff34f2",
       "version_major": 2,
       "version_minor": 0
      },
      "text/plain": [
       "Extracting for 2024-07-25:   0%|          | 0/20 [00:00<?, ?it/s]"
      ]
     },
     "metadata": {},
     "output_type": "display_data"
    },
    {
     "name": "stderr",
     "output_type": "stream",
     "text": [
      "Summarizing topics: 100%|██████████| 35/35 [00:02<00:00, 11.71it/s]\n",
      "Generating titles: 100%|██████████| 36/36 [00:03<00:00,  9.17it/s]\n",
      "Generating text summaries: 100%|██████████| 230/230 [00:04<00:00, 54.08it/s] \n"
     ]
    }
   ],
   "source": [
    "flattened_trending_topics_df = run_process_all_trending_topics(\n",
    "    unique_reports=filtered_reports,\n",
    "    model=model,\n",
    "    start_query=start_query,\n",
    "    end_query=end_query,\n",
    "    api_key=os.environ['OPENAI_API_KEY'],\n",
    "    main_theme = main_theme,\n",
    "    batchs = 20\n",
    ")\n"
   ]
  },
  {
   "cell_type": "markdown",
   "id": "dc7f18a8-f5a2-4bf2-b713-e525197fad29",
   "metadata": {
    "id": "dc7f18a8-f5a2-4bf2-b713-e525197fad29"
   },
   "source": [
    "**Trendiness and Novelty Scores**: We derive analytics related to the trendiness of the topic based on the news volume, and the novelty of the topic based on the changes in daily summaries, evaluating the uniqueness and freshness of each topic."
   ]
  },
  {
   "cell_type": "code",
   "execution_count": null,
   "id": "9344c4cf-847c-49c4-a5bc-23cf1b542369",
   "metadata": {
    "colab": {
     "referenced_widgets": [
      "d792421b0c964d3b83a252d78d82fdb2"
     ]
    },
    "id": "9344c4cf-847c-49c4-a5bc-23cf1b542369",
    "outputId": "890e1da7-8945-41f4-b64c-6350209a1a90"
   },
   "outputs": [
    {
     "data": {
      "application/vnd.jupyter.widget-view+json": {
       "model_id": "d792421b0c964d3b83a252d78d82fdb2",
       "version_major": 2,
       "version_minor": 0
      },
      "text/plain": [
       "Calculating Novelty Scores:   0%|          | 0/180 [00:00<?, ?it/s]"
      ]
     },
     "metadata": {},
     "output_type": "display_data"
    }
   ],
   "source": [
    "# Calculate trendiness and novelty scores, assessing the uniqueness and freshness of each topic\n",
    "flattened_trending_topics_df = run_add_advanced_novelty_scores(flattened_trending_topics_df, api_key = os.environ['OPENAI_API_KEY'], main_theme = main_theme)"
   ]
  },
  {
   "cell_type": "markdown",
   "id": "8dad5fdd-ec65-49ad-a706-2f125f730621",
   "metadata": {
    "id": "8dad5fdd-ec65-49ad-a706-2f125f730621"
   },
   "source": [
    "**Financial Materiality**: We derive analytics related to the impact (Positive, Negative) and magnitude (High, Medium, Low) of the topics, inferring their  market impact on crude oil prices. The inference is based on the price mechanisms involving supply and demand dynamics, geopolitical factors among others."
   ]
  },
  {
   "cell_type": "code",
   "execution_count": null,
   "id": "a4ee2bfa-7bc4-4a38-a43f-dc3bc285a78a",
   "metadata": {
    "id": "a4ee2bfa-7bc4-4a38-a43f-dc3bc285a78a"
   },
   "outputs": [],
   "source": [
    "point_of_view = \"a crude oil trader, where price is influenced by supply-demand dynamics, geopolitical events, and market sentiment. \\\n",
    "As a trader, you focus on changes in production, inventories, and economic indicators from key markets.\"\n",
    "\n",
    "\n",
    "flattened_trending_topics_df = add_market_impact_to_df(flattened_trending_topics_df, api_key = os.environ['OPENAI_API_KEY'], main_theme = main_theme, point_of_view = point_of_view)"
   ]
  },
  {
   "cell_type": "markdown",
   "id": "1fc2eaff-20b6-472f-8cf2-57ea3b695d0d",
   "metadata": {
    "id": "1fc2eaff-20b6-472f-8cf2-57ea3b695d0d"
   },
   "source": [
    "We display the results of topic modeling and summarization. The **Topic** column represents the themes inferred through topic clustering using a LLM, which groups the news articles based on their content and underlying themes. The **Summary** provides a synthesized overview of all news articles within the same topic, offering a high-level view of the key messages for each cluster. The **Topic** is then rephrased into a concise form based on the summary. The **Text_Summary** provides a detailed summary of each individualchunk, capturing its core message."
   ]
  },
  {
   "cell_type": "code",
   "execution_count": null,
   "id": "69b46fce-227e-4195-af43-e0f0dda964b2",
   "metadata": {
    "id": "69b46fce-227e-4195-af43-e0f0dda964b2",
    "outputId": "dca9d603-8e0c-4117-ead7-a7ec546a9492"
   },
   "outputs": [
    {
     "data": {
      "text/html": [
       "<div>\n",
       "<style scoped>\n",
       "    .dataframe tbody tr th:only-of-type {\n",
       "        vertical-align: middle;\n",
       "    }\n",
       "\n",
       "    .dataframe tbody tr th {\n",
       "        vertical-align: top;\n",
       "    }\n",
       "\n",
       "    .dataframe thead th {\n",
       "        text-align: right;\n",
       "    }\n",
       "</style>\n",
       "<table border=\"1\" class=\"dataframe\">\n",
       "  <thead>\n",
       "    <tr style=\"text-align: right;\">\n",
       "      <th></th>\n",
       "      <th>Date</th>\n",
       "      <th>Day_in_Review</th>\n",
       "      <th>Topic</th>\n",
       "      <th>Summary</th>\n",
       "      <th>Source</th>\n",
       "      <th>Headline</th>\n",
       "      <th>Text</th>\n",
       "      <th>Volume_Score</th>\n",
       "      <th>Text_Summary</th>\n",
       "      <th>Volume_Score</th>\n",
       "      <th>Novelty_Score</th>\n",
       "      <th>Impact_Score</th>\n",
       "      <th>Magnitude_Score</th>\n",
       "    </tr>\n",
       "  </thead>\n",
       "  <tbody>\n",
       "    <tr>\n",
       "      <th>0</th>\n",
       "      <td>2024-07-25</td>\n",
       "      <td>- **U.S. Crude Inventories Decline**: U.S. cru...</td>\n",
       "      <td>U.S. Crude Oil Inventories Plunge 3.7 Million ...</td>\n",
       "      <td>Recent reports from the U.S. Energy Informatio...</td>\n",
       "      <td>Klse I3investor.com</td>\n",
       "      <td>PublicInvest Research Headlines - 25 Jul 2024</td>\n",
       "      <td>Workers are now having a harder time finding j...</td>\n",
       "      <td>5</td>\n",
       "      <td>U.S. crude oil inventories unexpectedly droppe...</td>\n",
       "      <td>5</td>\n",
       "      <td>New</td>\n",
       "      <td>Negative</td>\n",
       "      <td>High</td>\n",
       "    </tr>\n",
       "    <tr>\n",
       "      <th>3</th>\n",
       "      <td>2024-07-25</td>\n",
       "      <td>- **U.S. Crude Inventories Decline**: U.S. cru...</td>\n",
       "      <td>U.S. Crude Oil Inventories Plunge 3.7 Million ...</td>\n",
       "      <td>Recent reports from the U.S. Energy Informatio...</td>\n",
       "      <td>Financial Express via Web</td>\n",
       "      <td>Will Nifty hold 24,200 as markets see time &amp; p...</td>\n",
       "      <td>The US Dollar Index (DXY), which measures the ...</td>\n",
       "      <td>5</td>\n",
       "      <td>A slight decline in the US Dollar Index coinci...</td>\n",
       "      <td>5</td>\n",
       "      <td>New</td>\n",
       "      <td>Negative</td>\n",
       "      <td>High</td>\n",
       "    </tr>\n",
       "    <tr>\n",
       "      <th>4</th>\n",
       "      <td>2024-07-25</td>\n",
       "      <td>- **U.S. Crude Inventories Decline**: U.S. cru...</td>\n",
       "      <td>U.S. Crude Oil Inventories Plunge 3.7 Million ...</td>\n",
       "      <td>Recent reports from the U.S. Energy Informatio...</td>\n",
       "      <td>RTTNews via Web</td>\n",
       "      <td>Taiwan Shares Tipped To Open In The Red</td>\n",
       "      <td>In economic news, the Commerce Department unex...</td>\n",
       "      <td>5</td>\n",
       "      <td>U.S. crude oil prices rose following a surpris...</td>\n",
       "      <td>5</td>\n",
       "      <td>New</td>\n",
       "      <td>Negative</td>\n",
       "      <td>High</td>\n",
       "    </tr>\n",
       "    <tr>\n",
       "      <th>5</th>\n",
       "      <td>2024-07-25</td>\n",
       "      <td>- **U.S. Crude Inventories Decline**: U.S. cru...</td>\n",
       "      <td>US Crude Inventory Decline Fuels Fluctuations ...</td>\n",
       "      <td>Brent and West Texas Intermediate (WTI) crude ...</td>\n",
       "      <td>Livemint</td>\n",
       "      <td>Indian stock market: 7 key things that changed...</td>\n",
       "      <td>Oil Prices Crude oil prices traded lower. Bren...</td>\n",
       "      <td>4</td>\n",
       "      <td>Recent declines in Brent and WTI crude oil pri...</td>\n",
       "      <td>4</td>\n",
       "      <td>New</td>\n",
       "      <td>Positive</td>\n",
       "      <td>High</td>\n",
       "    </tr>\n",
       "    <tr>\n",
       "      <th>6</th>\n",
       "      <td>2024-07-25</td>\n",
       "      <td>- **U.S. Crude Inventories Decline**: U.S. cru...</td>\n",
       "      <td>US Crude Inventory Decline Fuels Fluctuations ...</td>\n",
       "      <td>Brent and West Texas Intermediate (WTI) crude ...</td>\n",
       "      <td>Business Standard via Web</td>\n",
       "      <td>Market outlook July 25: Global sell-off hints ...</td>\n",
       "      <td>The US 10-year bond yield quoted around 4.266 ...</td>\n",
       "      <td>4</td>\n",
       "      <td>Recent fluctuations in Brent and WTI oil price...</td>\n",
       "      <td>4</td>\n",
       "      <td>New</td>\n",
       "      <td>Positive</td>\n",
       "      <td>High</td>\n",
       "    </tr>\n",
       "  </tbody>\n",
       "</table>\n",
       "</div>"
      ],
      "text/plain": [
       "         Date                                      Day_in_Review  \\\n",
       "0  2024-07-25  - **U.S. Crude Inventories Decline**: U.S. cru...   \n",
       "3  2024-07-25  - **U.S. Crude Inventories Decline**: U.S. cru...   \n",
       "4  2024-07-25  - **U.S. Crude Inventories Decline**: U.S. cru...   \n",
       "5  2024-07-25  - **U.S. Crude Inventories Decline**: U.S. cru...   \n",
       "6  2024-07-25  - **U.S. Crude Inventories Decline**: U.S. cru...   \n",
       "\n",
       "                                               Topic  \\\n",
       "0  U.S. Crude Oil Inventories Plunge 3.7 Million ...   \n",
       "3  U.S. Crude Oil Inventories Plunge 3.7 Million ...   \n",
       "4  U.S. Crude Oil Inventories Plunge 3.7 Million ...   \n",
       "5  US Crude Inventory Decline Fuels Fluctuations ...   \n",
       "6  US Crude Inventory Decline Fuels Fluctuations ...   \n",
       "\n",
       "                                             Summary  \\\n",
       "0  Recent reports from the U.S. Energy Informatio...   \n",
       "3  Recent reports from the U.S. Energy Informatio...   \n",
       "4  Recent reports from the U.S. Energy Informatio...   \n",
       "5  Brent and West Texas Intermediate (WTI) crude ...   \n",
       "6  Brent and West Texas Intermediate (WTI) crude ...   \n",
       "\n",
       "                      Source  \\\n",
       "0        Klse I3investor.com   \n",
       "3  Financial Express via Web   \n",
       "4            RTTNews via Web   \n",
       "5                   Livemint   \n",
       "6  Business Standard via Web   \n",
       "\n",
       "                                            Headline  \\\n",
       "0      PublicInvest Research Headlines - 25 Jul 2024   \n",
       "3  Will Nifty hold 24,200 as markets see time & p...   \n",
       "4            Taiwan Shares Tipped To Open In The Red   \n",
       "5  Indian stock market: 7 key things that changed...   \n",
       "6  Market outlook July 25: Global sell-off hints ...   \n",
       "\n",
       "                                                Text  Volume_Score  \\\n",
       "0  Workers are now having a harder time finding j...             5   \n",
       "3  The US Dollar Index (DXY), which measures the ...             5   \n",
       "4  In economic news, the Commerce Department unex...             5   \n",
       "5  Oil Prices Crude oil prices traded lower. Bren...             4   \n",
       "6  The US 10-year bond yield quoted around 4.266 ...             4   \n",
       "\n",
       "                                        Text_Summary  Volume_Score  \\\n",
       "0  U.S. crude oil inventories unexpectedly droppe...             5   \n",
       "3  A slight decline in the US Dollar Index coinci...             5   \n",
       "4  U.S. crude oil prices rose following a surpris...             5   \n",
       "5  Recent declines in Brent and WTI crude oil pri...             4   \n",
       "6  Recent fluctuations in Brent and WTI oil price...             4   \n",
       "\n",
       "  Novelty_Score Impact_Score Magnitude_Score  \n",
       "0           New     Negative            High  \n",
       "3           New     Negative            High  \n",
       "4           New     Negative            High  \n",
       "5           New     Positive            High  \n",
       "6           New     Positive            High  "
      ]
     },
     "execution_count": 15,
     "metadata": {},
     "output_type": "execute_result"
    }
   ],
   "source": [
    "flattened_trending_topics_df.head(5)"
   ]
  },
  {
   "cell_type": "markdown",
   "id": "a6d5c43a-0d83-4621-8e5e-ad064d0b6190",
   "metadata": {
    "id": "a6d5c43a-0d83-4621-8e5e-ad064d0b6190"
   },
   "source": [
    "For verification purpose, this actionable timestamped dataframe contains the granular news clustered into relevant topics, and also the advanced analytics of trendiness, novelty, impact, and magnitude scores to be potentially used for backtesting."
   ]
  },
  {
   "cell_type": "markdown",
   "id": "e04f408a-7ba2-4157-b5cd-9e580ff4e12c",
   "metadata": {
    "id": "e04f408a-7ba2-4157-b5cd-9e580ff4e12c"
   },
   "source": [
    "# Step 4- Customized Report Generation"
   ]
  },
  {
   "cell_type": "markdown",
   "id": "acbc5f20-ec30-4669-99f1-5ff1c2eca389",
   "metadata": {
    "id": "acbc5f20-ec30-4669-99f1-5ff1c2eca389"
   },
   "source": [
    "In this step, we rank the topics, allowing the user to customize the ranking system to reindex the news, based on their trendiness, novelty, and financial materiality on crude oil prices. We finally display a daily market update, supported by the corresponding granular news and sources for verification purpose."
   ]
  },
  {
   "cell_type": "markdown",
   "id": "2088103e-9984-4951-96c8-f8723e8cfad8",
   "metadata": {
    "id": "2088103e-9984-4951-96c8-f8723e8cfad8"
   },
   "source": [
    "The user selects the date for the report summarizing the top trending topics, and customizes the ranking system to prioritize the topics based on volume (trendiness and media attention), novelty (based on the emergence of new daily news), impact direction (positive or negative), and magnitude (financial materiality). The ranking system prioritizes the criteria in the order specified by the user, allowing for a tailored focus on the most relevant aspects of the data."
   ]
  },
  {
   "cell_type": "markdown",
   "id": "5cbf4275-da44-4ead-972a-d16f00ea7c5c",
   "metadata": {
    "id": "5cbf4275-da44-4ead-972a-d16f00ea7c5c"
   },
   "source": [
    "The order in which the criteria are listed in user_selected_ranking determines their priority for ranking the topics within the report. The first criterion in the list has the highest priority, followed by the second, and then the third. The user can customize the ranking by choosing to prioritize impact direction (positive or negative), novelty, magnitude, or volume, and has the flexibility to select 1, 2, or all 3 criteria based on their specific needs."
   ]
  },
  {
   "cell_type": "code",
   "execution_count": null,
   "id": "a9e22ce4-ee81-4a20-89cf-879bedcf878f",
   "metadata": {
    "id": "a9e22ce4-ee81-4a20-89cf-879bedcf878f",
    "outputId": "2c946716-debf-4847-86a2-538e58061ab7",
    "tags": []
   },
   "outputs": [
    {
     "data": {
      "text/html": [
       "<!DOCTYPE html>\n",
       "<html lang=\"en\">\n",
       "<head>\n",
       "    <meta charset=\"UTF-8\">\n",
       "    <title>Daily crude oil market update - 2024-07-25</title>\n",
       "    <style>\n",
       "        body {\n",
       "            font-family: Arial, sans-serif;\n",
       "            background-color: #121212;\n",
       "            color: #E0E0E0;\n",
       "            margin: 20px;\n",
       "            padding: 0;\n",
       "            line-height: 1.6;\n",
       "        }\n",
       "        h1, h2, h3 {\n",
       "            color: #0080BF; /* Darker blue color for headings */\n",
       "        }\n",
       "        .container {\n",
       "            max-width: 1200px;\n",
       "            margin: 0 auto;\n",
       "            padding: 20px;\n",
       "            background-color: #1E1E1E;\n",
       "            border-radius: 10px;\n",
       "            box-shadow: 0px 4px 8px rgba(0, 0, 0, 0.4);\n",
       "            position: relative;  /* For positioning the logo */\n",
       "        }\n",
       "        .title {\n",
       "            text-align: center;\n",
       "            font-size: 2em;\n",
       "            margin-bottom: 20px;\n",
       "            color: #00BFFF; /* Dynamic blue color for the title */\n",
       "            text-transform: uppercase;\n",
       "            letter-spacing: 2px;\n",
       "            white-space: nowrap; /* Prevent text wrapping */\n",
       "        }\n",
       "        .logo {\n",
       "            position: absolute;\n",
       "            top: 20px;\n",
       "            left: 20px; /* Positioned to the left */\n",
       "            width: 180px;  /* Adjust the size as needed */\n",
       "            height: auto;\n",
       "        }\n",
       "        .content {\n",
       "            display: flex;\n",
       "        }\n",
       "        .left-column {\n",
       "            flex: 1;\n",
       "            max-width: 300px;\n",
       "            margin-right: 20px;\n",
       "        }\n",
       "        .right-column {\n",
       "            flex: 3;\n",
       "        }\n",
       "        .separator {\n",
       "            width: 2px;\n",
       "            background-color: #00BFFF; /* Dynamic blue color for the separator */\n",
       "            margin-right: 20px;\n",
       "        }\n",
       "        .section-title {\n",
       "            font-size: 1.5em;\n",
       "            margin-bottom: 15px;\n",
       "            color: #0080BF; /* Darker blue color for section titles */\n",
       "            text-transform: uppercase;\n",
       "        }\n",
       "        .bullet-points {\n",
       "            list-style-type: disc;\n",
       "            margin-left: 20px;\n",
       "            color: #E0E0E0; /* White color for bullet points */\n",
       "        }\n",
       "        .topic-section {\n",
       "            margin-bottom: 40px;  /* Increased space between updates */\n",
       "            padding: 20px;\n",
       "            background-color: #2A2A2A;\n",
       "            border-radius: 10px;\n",
       "            box-shadow: 0px 4px 6px rgba(0, 0, 0, 0.3);\n",
       "            position: relative;  /* To position the counters */\n",
       "        }\n",
       "        .topic-title {\n",
       "            font-size: 1.7em;\n",
       "            padding-top: 40px; /* Increase space above the title */\n",
       "            color: #0080BF; /* Darker blue color for topic titles */\n",
       "            text-transform: uppercase;\n",
       "        }\n",
       "        .counter-container {\n",
       "            position: absolute;\n",
       "            top: 20px;\n",
       "            right: 20px;\n",
       "            display: flex;\n",
       "            align-items: center;\n",
       "            justify-content: flex-start; /* Align content to the left */\n",
       "            gap: 20px; /* Space between each counter */\n",
       "            margin-bottom: 60px; /* Increased space between the title and counters */\n",
       "        }\n",
       "        .news-counter, .novelty-counter, .impact-counter, .magnitude-counter {\n",
       "            background-color: #00BFFF; /* Dynamic blue color for counters */\n",
       "            color: #121212; /* Black text color for counters */\n",
       "            padding: 5px 10px;\n",
       "            border-radius: 15px;\n",
       "            font-weight: bold;\n",
       "            font-size: 1em;\n",
       "            box-shadow: 0px 2px 4px rgba(0, 0, 0, 0.2);\n",
       "            display: flex;\n",
       "            align-items: center;  /* Align text and icon vertically */\n",
       "        }\n",
       "        .novelty-counter {\n",
       "            background-color: transparent;\n",
       "            color: #FFA500;  /* Orange color for the flame icon and text */\n",
       "        }\n",
       "        .flame-icon {\n",
       "            vertical-align: middle;\n",
       "            margin-right: 5px;\n",
       "            width: 24px;  /* Adjusted width of the flame icon */\n",
       "            height: 24px; /* Adjusted height of the flame icon */\n",
       "        }\n",
       "        .impact-counter {\n",
       "            color: #121212; /* Black text color for impact */\n",
       "        }\n",
       "        .impact-counter.positive {\n",
       "            background-color: #4CAF50; /* Green for positive impact */\n",
       "        }\n",
       "        .impact-counter.negative {\n",
       "            background-color: #F44336; /* Red for negative impact */\n",
       "        }\n",
       "        .impact-counter.neutral {\n",
       "            background-color: transparent; /* Transparent for neutral impact */\n",
       "            color: #00BFFF; /* Dynamic blue for neutral impact text */\n",
       "        }\n",
       "        .magnitude-counter {\n",
       "            background-color: transparent; /* Transparent for the magnitude box */\n",
       "            color: #00BFFF; /* Dynamic blue for magnitude text */\n",
       "        }\n",
       "        .magnitude-counter.high {\n",
       "            color: #F44336; /* Red for high magnitude */\n",
       "        }\n",
       "        .magnitude-counter.medium {\n",
       "            color: #FFD700; /* Yellow for medium magnitude */\n",
       "        }\n",
       "        .magnitude-counter.low {\n",
       "            color: #FFFFFF; /* White for low magnitude */\n",
       "        }\n",
       "        .impact-icon, .intensity-arrow {\n",
       "            vertical-align: middle;\n",
       "            margin-right: 5px;\n",
       "            width: 24px;  /* Adjusted width of the icons */\n",
       "            height: 24px; /* Adjusted height of the icons */\n",
       "        }\n",
       "        .counter-label {\n",
       "            font-size: 0.8em;\n",
       "            color: #E0E0E0; /* White color for the counter labels */\n",
       "            margin-right: 5px;\n",
       "            text-transform: uppercase;\n",
       "            letter-spacing: 1px;\n",
       "        }\n",
       "        .description {\n",
       "            font-size: 1.1em;\n",
       "            margin-bottom: 15px;\n",
       "            color: #E0E0E0; /* White color for description */\n",
       "        }\n",
       "    </style>\n",
       "</head>\n",
       "<body>\n",
       "    <div class=\"container\">\n",
       "        <!-- Logo Section -->\n",
       "        <img src=\"bigdata-logo-white.svg\" alt=\"Big Data Logo\" class=\"logo\">\n",
       "        \n",
       "        <!-- Title Section -->\n",
       "        <div class=\"title\">Daily crude oil market update - 2024-07-25</div>\n",
       "        \n",
       "        <!-- Content Section -->\n",
       "        <div class=\"content\">\n",
       "            <!-- Left Column -->\n",
       "            <div class=\"left-column\">\n",
       "                <h2 class=\"section-title\">The Day in Review</h2>\n",
       "                <ul class=\"bullet-points\">\n",
       "                    \n",
       "                    <li>U.S. Crude Inventories Decline: U.S. crude oil inventories fell by 3.74 million barrels, marking the fourth consecutive week of reductions, leading to upward pressure on prices (WTI at \\$77.30, Brent at \\$81.38).</li>\n",
       "                    \n",
       "                    <li>OPEC Overproduction Crisis: OPEC faces a 2.28 million barrels per day overproduction issue, complicating efforts to stabilize prices amid compliance struggles.</li>\n",
       "                    \n",
       "                    <li>Geopolitical Tensions: Ongoing conflicts in the Middle East and Ukraine, along with recent Israeli airstrikes on oil facilities, contribute to market volatility and supply chain disruptions.</li>\n",
       "                    \n",
       "                    <li>China's Economic Slowdown: China's growth rate of 4.7% raises concerns about declining oil demand, impacting global prices and refinery margins.</li>\n",
       "                    \n",
       "                    <li>Environmental Incident: The sinking of the MT Terra Nova in the Philippines has resulted in a significant oil spill, raising environmental concerns and highlighting vulnerabilities in maritime transport.</li>\n",
       "                    \n",
       "                    <li>TotalEnergies Profit Decline: TotalEnergies reported a 34% drop in refining income due to reduced demand and declining margins, reflecting broader market pressures.</li>\n",
       "                    \n",
       "                    <li>India's Import Shift: India is reducing oil imports from Russia in favor of U.S. sources, influenced by geopolitical factors and aiming for enhanced energy security.</li>\n",
       "                    \n",
       "                    <li>Federal Reserve Impact: U.S. interest rate hikes are affecting oil prices by increasing borrowing costs, leading to reduced consumer demand.</li>\n",
       "                    \n",
       "                    <li>Russia's Export Restrictions: Russia's gasoline export restrictions threaten global supply and could drive up crude prices.</li>\n",
       "                    \n",
       "                    <li>Nigerian Production Shortfalls: Nigeria's inability to meet OPEC production quotas raises concerns about global supply and economic stability.</li>\n",
       "                    \n",
       "                    <li>Tanker Market Dynamics: The tanker market is thriving due to increased demand from Russian oil trade and disruptions in the Red Sea, leading to robust charter rates.</li>\n",
       "                    \n",
       "                    <li>Regulatory Risks: The U.S. Supreme Court's ruling against the Chevron doctrine increases regulatory risks for energy companies, impacting operational strategies.</li>\n",
       "                    \n",
       "                    <li>Guyana's Oil Production Surge: Guyana's production has increased by 98,000 barrels per day, positioning it as a significant player in the global oil market.</li>\n",
       "                    \n",
       "                    <li>Petrobras Offshore Drilling: Petrobras secured a \\$366,000/day contract for deepwater drilling, reflecting strategic expansion amidst fluctuating prices.</li>\n",
       "                    \n",
       "                    <li>U.S. Gasoline Stock Plunge: A significant drop in U.S. gasoline stocks (5.6 million barrels) has led to slight increases in crude oil prices, highlighting supply concerns.</li>\n",
       "                    \n",
       "                </ul>\n",
       "            </div>\n",
       "\n",
       "            <!-- Separator -->\n",
       "            <div class=\"separator\"></div>\n",
       "\n",
       "            <!-- Right Column -->\n",
       "            <div class=\"right-column\">\n",
       "                \n",
       "                <div class=\"topic-section\">\n",
       "                    <div class=\"counter-container\">\n",
       "                        <div class=\"news-counter\">\n",
       "                            <span class=\"counter-label\">Volume Score</span>\n",
       "                            26 News\n",
       "                        </div>\n",
       "                        <div class=\"novelty-counter\">\n",
       "                            <span class=\"counter-label\">Novelty Score</span>\n",
       "                            <img src=\"flame-icon.png\" alt=\"Flame Icon\" class=\"flame-icon\">\n",
       "                            Novel\n",
       "                        </div>\n",
       "                        <div class=\"impact-counter negative\">\n",
       "                            <span class=\"counter-label\">Price Impact</span>\n",
       "                            Negative\n",
       "                        </div>\n",
       "                        <div class=\"magnitude-counter high\">\n",
       "                            <span class=\"counter-label\">Intensity</span>\n",
       "                            <img src=\"arrow_up.png\" alt=\"Intensity Arrow\" class=\"intensity-arrow\">\n",
       "                            High\n",
       "                        </div>\n",
       "                    </div>\n",
       "                    <h2 class=\"topic-title\">Typhoon Gaemi Triggers Major Oil Spill from MT Terra Nova, Threatening Philippine Ecosystems</h2>\n",
       "                    <p class=\"description\">The recent capsizing of the oil tanker MT Terra Nova off the coast of Limay, Philippines, has resulted in a significant oil spill, with the vessel carrying approximately 1,494 metric tonnes of industrial fuel oil. This incident, exacerbated by Typhoon Gaemi, poses a severe environmental threat and could potentially lead to the largest oil spill in Philippine history, affecting Manila Bay and its surrounding ecosystems. The Philippine Coast Guard is actively monitoring the situation and implementing containment measures to mitigate the spill's impact, which has already affected a two-nautical-mile area. The event underscores the vulnerabilities of maritime transport in adverse weather conditions and raises concerns about the ecological repercussions for marine life and local economies reliant on fishing and tourism. The challenges faced in managing this emergency highlight the need for improved regulatory measures and response strategies in the region to protect both the environment and public trust in maritime safety.</p>\n",
       "                </div>\n",
       "                \n",
       "                <div class=\"topic-section\">\n",
       "                    <div class=\"counter-container\">\n",
       "                        <div class=\"news-counter\">\n",
       "                            <span class=\"counter-label\">Volume Score</span>\n",
       "                            24 News\n",
       "                        </div>\n",
       "                        <div class=\"novelty-counter\">\n",
       "                            <span class=\"counter-label\">Novelty Score</span>\n",
       "                            <img src=\"flame-icon.png\" alt=\"Flame Icon\" class=\"flame-icon\">\n",
       "                            Novel\n",
       "                        </div>\n",
       "                        <div class=\"impact-counter negative\">\n",
       "                            <span class=\"counter-label\">Price Impact</span>\n",
       "                            Negative\n",
       "                        </div>\n",
       "                        <div class=\"magnitude-counter high\">\n",
       "                            <span class=\"counter-label\">Intensity</span>\n",
       "                            <img src=\"arrow_up.png\" alt=\"Intensity Arrow\" class=\"intensity-arrow\">\n",
       "                            High\n",
       "                        </div>\n",
       "                    </div>\n",
       "                    <h2 class=\"topic-title\">U.S. Crude Oil Inventories Plunge 3.7 Million Barrels, Sparking Price Pressures Amid Demand Concerns</h2>\n",
       "                    <p class=\"description\">Recent reports from the U.S. Energy Information Administration (EIA) indicate a significant decline in U.S. crude oil inventories, with a drop of 3.7 million barrels for the week ending July 19, marking the fourth consecutive week of unexpected reductions. Current inventory levels stand at 436.5 million barrels, approximately 5% below the five-year average for this time of year. This tightening supply situation, attributed to stronger demand and lower production levels, is likely to exert upward pressure on crude oil prices. Additionally, gasoline inventories fell by 5.572 million barrels, the largest drop since March, further emphasizing the dynamics of supply and demand in the market. Despite these bullish indicators, concerns about weakening demand, particularly from China, continue to create volatility in oil prices. Overall, the interplay between declining inventories and broader economic uncertainties highlights the complexities of the current oil market, where positive supply data can be countered by demand concerns.</p>\n",
       "                </div>\n",
       "                \n",
       "                <div class=\"topic-section\">\n",
       "                    <div class=\"counter-container\">\n",
       "                        <div class=\"news-counter\">\n",
       "                            <span class=\"counter-label\">Volume Score</span>\n",
       "                            18 News\n",
       "                        </div>\n",
       "                        <div class=\"novelty-counter\">\n",
       "                            <span class=\"counter-label\">Novelty Score</span>\n",
       "                            <img src=\"flame-icon.png\" alt=\"Flame Icon\" class=\"flame-icon\">\n",
       "                            Novel\n",
       "                        </div>\n",
       "                        <div class=\"impact-counter negative\">\n",
       "                            <span class=\"counter-label\">Price Impact</span>\n",
       "                            Negative\n",
       "                        </div>\n",
       "                        <div class=\"magnitude-counter high\">\n",
       "                            <span class=\"counter-label\">Intensity</span>\n",
       "                            <img src=\"arrow_up.png\" alt=\"Intensity Arrow\" class=\"intensity-arrow\">\n",
       "                            High\n",
       "                        </div>\n",
       "                    </div>\n",
       "                    <h2 class=\"topic-title\">China's 4.7% Growth Rate Sparks Global Oil Demand Concerns</h2>\n",
       "                    <p class=\"description\">China's weak demand for oil has raised significant concerns regarding its economic performance and the implications for global oil markets. As the world's largest oil importer, China's disappointing growth figures, with a reported rate of only 4.7% in Q2 2024, have led to a decline in oil imports and refinery runs, signaling potential challenges for oil producers. The People's Bank of China's recent monetary policy adjustments, including a surprise rate cut, have not alleviated fears of an economic slowdown, further impacting market sentiment. This decline in demand has exerted downward pressure on global oil prices, with fluctuations in WTI and Brent crude benchmarks reflecting the volatility in response to changing demand dynamics. Analysts are particularly concerned about the implications for refiners, as margins are being squeezed and crack spreads have fallen to low levels, indicating a potential slowdown in the oil market. The interconnectedness of China's economic health and global oil prices underscores the critical role that China's demand plays in shaping market stability and pricing strategies for oil producers and investors alike.</p>\n",
       "                </div>\n",
       "                \n",
       "                <div class=\"topic-section\">\n",
       "                    <div class=\"counter-container\">\n",
       "                        <div class=\"news-counter\">\n",
       "                            <span class=\"counter-label\">Volume Score</span>\n",
       "                            16 News\n",
       "                        </div>\n",
       "                        <div class=\"novelty-counter\">\n",
       "                            <span class=\"counter-label\">Novelty Score</span>\n",
       "                            <img src=\"flame-icon.png\" alt=\"Flame Icon\" class=\"flame-icon\">\n",
       "                            Novel\n",
       "                        </div>\n",
       "                        <div class=\"impact-counter negative\">\n",
       "                            <span class=\"counter-label\">Price Impact</span>\n",
       "                            Negative\n",
       "                        </div>\n",
       "                        <div class=\"magnitude-counter high\">\n",
       "                            <span class=\"counter-label\">Intensity</span>\n",
       "                            <img src=\"arrow_up.png\" alt=\"Intensity Arrow\" class=\"intensity-arrow\">\n",
       "                            High\n",
       "                        </div>\n",
       "                    </div>\n",
       "                    <h2 class=\"topic-title\">TotalEnergies Faces \\$4.7 Billion Income Drop Amid 37% Decline in European Refining Margins</h2>\n",
       "                    <p class=\"description\">TotalEnergies has experienced a decline in its financial performance, reporting a second-quarter adjusted net income of \\$4.7 billion, down from \\$4.09 billion year-over-year. This decrease is attributed to lower refined product and gas sales, alongside a significant 37% drop in European refining margins, despite a 2% increase in Brent crude prices. The company's results reflect the ongoing volatility in the oil market, influenced by fluctuating prices, production levels, and broader market trends. TotalEnergies is actively pursuing a balanced transition strategy, investing in both traditional oil and gas operations and renewable energy initiatives, including a recent partnership with Air Products for green hydrogen delivery. As the company navigates these challenges, it anticipates stable hydrocarbon production levels for the upcoming quarter, highlighting the dual pressures of rising operational costs and declining margins in the evolving energy landscape.</p>\n",
       "                </div>\n",
       "                \n",
       "                <div class=\"topic-section\">\n",
       "                    <div class=\"counter-container\">\n",
       "                        <div class=\"news-counter\">\n",
       "                            <span class=\"counter-label\">Volume Score</span>\n",
       "                            10 News\n",
       "                        </div>\n",
       "                        <div class=\"novelty-counter\">\n",
       "                            <span class=\"counter-label\">Novelty Score</span>\n",
       "                            <img src=\"flame-icon.png\" alt=\"Flame Icon\" class=\"flame-icon\">\n",
       "                            Novel\n",
       "                        </div>\n",
       "                        <div class=\"impact-counter negative\">\n",
       "                            <span class=\"counter-label\">Price Impact</span>\n",
       "                            Negative\n",
       "                        </div>\n",
       "                        <div class=\"magnitude-counter high\">\n",
       "                            <span class=\"counter-label\">Intensity</span>\n",
       "                            <img src=\"arrow_up.png\" alt=\"Intensity Arrow\" class=\"intensity-arrow\">\n",
       "                            High\n",
       "                        </div>\n",
       "                    </div>\n",
       "                    <h2 class=\"topic-title\">OPEC+ Struggles with Production Cuts as Compliance Issues Threaten Oil Price Stability</h2>\n",
       "                    <p class=\"description\">Recent internal OPEC+ documents indicate that member countries are struggling to adhere to production cut agreements, with a history of overproduction complicating compliance. Updated compensation plans aim to manage output levels effectively, which is essential for stabilizing crude oil prices. The decisions made by OPEC+ have significantly influenced global oil supply and pricing, as seen in the fluctuations of Brent crude oil prices, which averaged USD 82.0 per barrel in May 2024 due to weak fuel demand and increased U.S. inventories. However, prices rebounded in June following OPEC+'s announcement to extend output cuts, which are expected to stabilize prices and manage supply. The U.S. Energy Information Administration forecasts an average price of USD 84 per barrel for 2024, highlighting the impact of these production strategies. Russia has reaffirmed its commitment to OPEC+ quotas, while Iraq has also pledged to adhere to its production target of 4 million barrels per day, emphasizing the importance of compliance among member nations. The upcoming OPEC+ meeting is anticipated to focus on maintaining oil price stability amidst fluctuating global demand and geopolitical tensions, underscoring the critical role of OPEC+ decisions in shaping the global oil market and energy security.</p>\n",
       "                </div>\n",
       "                \n",
       "                <div class=\"topic-section\">\n",
       "                    <div class=\"counter-container\">\n",
       "                        <div class=\"news-counter\">\n",
       "                            <span class=\"counter-label\">Volume Score</span>\n",
       "                            5 News\n",
       "                        </div>\n",
       "                        <div class=\"novelty-counter\">\n",
       "                            <span class=\"counter-label\">Novelty Score</span>\n",
       "                            <img src=\"flame-icon.png\" alt=\"Flame Icon\" class=\"flame-icon\">\n",
       "                            Novel\n",
       "                        </div>\n",
       "                        <div class=\"impact-counter negative\">\n",
       "                            <span class=\"counter-label\">Price Impact</span>\n",
       "                            Negative\n",
       "                        </div>\n",
       "                        <div class=\"magnitude-counter high\">\n",
       "                            <span class=\"counter-label\">Intensity</span>\n",
       "                            <img src=\"arrow_up.png\" alt=\"Intensity Arrow\" class=\"intensity-arrow\">\n",
       "                            High\n",
       "                        </div>\n",
       "                    </div>\n",
       "                    <h2 class=\"topic-title\">European Refiners Struggle as Diesel Demand Plummets and Margins Tighten</h2>\n",
       "                    <p class=\"description\">Refinery margins are currently facing significant pressure, with crack spreads declining to low levels, indicating a potentially weak earnings season for refiners. This situation is exacerbated by low diesel demand in Europe, as highlighted by TotalEnergies, which has led to profits returning to more normal levels after a period of elevated margins due to disruptions in Russian oil exports. The combination of volatile crude prices and ongoing geopolitical tensions has created an uncertain market environment, prompting refiners to reassess their operational strategies. This interconnectedness of crude oil supply, refining capacity, and market demand underscores the necessity for refiners to adapt to changing conditions to maintain profitability. The decline in diesel demand is particularly concerning for European refiners, potentially leading to further adjustments in production strategies and operational efficiencies, which are critical for the financial health of refining companies and their future investment capabilities.</p>\n",
       "                </div>\n",
       "                \n",
       "                <div class=\"topic-section\">\n",
       "                    <div class=\"counter-container\">\n",
       "                        <div class=\"news-counter\">\n",
       "                            <span class=\"counter-label\">Volume Score</span>\n",
       "                            4 News\n",
       "                        </div>\n",
       "                        <div class=\"novelty-counter\">\n",
       "                            <span class=\"counter-label\">Novelty Score</span>\n",
       "                            <img src=\"flame-icon.png\" alt=\"Flame Icon\" class=\"flame-icon\">\n",
       "                            Novel\n",
       "                        </div>\n",
       "                        <div class=\"impact-counter negative\">\n",
       "                            <span class=\"counter-label\">Price Impact</span>\n",
       "                            Negative\n",
       "                        </div>\n",
       "                        <div class=\"magnitude-counter high\">\n",
       "                            <span class=\"counter-label\">Intensity</span>\n",
       "                            <img src=\"arrow_up.png\" alt=\"Intensity Arrow\" class=\"intensity-arrow\">\n",
       "                            High\n",
       "                        </div>\n",
       "                    </div>\n",
       "                    <h2 class=\"topic-title\">India Shifts Oil Imports from Russia to U.S. Amid Geopolitical Tensions</h2>\n",
       "                    <p class=\"description\">India's oil import dynamics are undergoing significant changes, characterized by a decrease in imports from Russia and a rise in sourcing from the United States, while still heavily relying on Middle Eastern suppliers. As the world's third-largest oil consumer, India's strategy is influenced by geopolitical factors such as sanctions on Russia and evolving market conditions. This shift has led Indian refiners to explore term deals for Russian crude, impacting trade flows and OPEC's production strategies. The implications of these changes are profound, affecting crude oil prices and supply chains as India seeks to enhance its energy security amid global tensions and fluctuating demand.</p>\n",
       "                </div>\n",
       "                \n",
       "                <div class=\"topic-section\">\n",
       "                    <div class=\"counter-container\">\n",
       "                        <div class=\"news-counter\">\n",
       "                            <span class=\"counter-label\">Volume Score</span>\n",
       "                            3 News\n",
       "                        </div>\n",
       "                        <div class=\"novelty-counter\">\n",
       "                            <span class=\"counter-label\">Novelty Score</span>\n",
       "                            <img src=\"flame-icon.png\" alt=\"Flame Icon\" class=\"flame-icon\">\n",
       "                            Novel\n",
       "                        </div>\n",
       "                        <div class=\"impact-counter positive\">\n",
       "                            <span class=\"counter-label\">Price Impact</span>\n",
       "                            Positive\n",
       "                        </div>\n",
       "                        <div class=\"magnitude-counter medium\">\n",
       "                            <span class=\"counter-label\">Intensity</span>\n",
       "                            <img src=\"arrow_mid.png\" alt=\"Intensity Arrow\" class=\"intensity-arrow\">\n",
       "                            Medium\n",
       "                        </div>\n",
       "                    </div>\n",
       "                    <h2 class=\"topic-title\">Petrobras Boosts Offshore Drilling with \\$366,000/Day Contract for Deepwater Mykonos</h2>\n",
       "                    <p class=\"description\">Petrobras has recently secured a significant contract for the Deepwater Mykonos drillship, valued at a day rate of \\$366,000, to enhance its offshore drilling capabilities in Brazil. This high-capacity drillship is capable of reaching depths of 35,000 feet, which is essential for accessing Brazil's extensive offshore oil reserves. This contract reflects Petrobras' strategic commitment to expanding its deepwater drilling operations amidst fluctuating global oil prices and increasing competition in the oil market.</p>\n",
       "                </div>\n",
       "                \n",
       "                <div class=\"topic-section\">\n",
       "                    <div class=\"counter-container\">\n",
       "                        <div class=\"news-counter\">\n",
       "                            <span class=\"counter-label\">Volume Score</span>\n",
       "                            3 News\n",
       "                        </div>\n",
       "                        <div class=\"novelty-counter\">\n",
       "                            <span class=\"counter-label\">Novelty Score</span>\n",
       "                            <img src=\"flame-icon.png\" alt=\"Flame Icon\" class=\"flame-icon\">\n",
       "                            Novel\n",
       "                        </div>\n",
       "                        <div class=\"impact-counter positive\">\n",
       "                            <span class=\"counter-label\">Price Impact</span>\n",
       "                            Positive\n",
       "                        </div>\n",
       "                        <div class=\"magnitude-counter medium\">\n",
       "                            <span class=\"counter-label\">Intensity</span>\n",
       "                            <img src=\"arrow_mid.png\" alt=\"Intensity Arrow\" class=\"intensity-arrow\">\n",
       "                            Medium\n",
       "                        </div>\n",
       "                    </div>\n",
       "                    <h2 class=\"topic-title\">Venezuela's Oil Revival Hinges on Iranian Support Amid Election Uncertainty</h2>\n",
       "                    <p class=\"description\">Venezuela's oil sector is experiencing significant transformations as the country approaches its presidential election, with President Nicolás Maduro expressing confidence in his re-election. This political climate could influence the future of oil production and international partnerships. The Venezuelan government is heavily relying on Iranian technical assistance to revitalize its oil industry, which has been severely impacted by sanctions and mismanagement. This collaboration is vital for Venezuela as it aims to restore its oil production capabilities and navigate the complexities of international oil markets amid ongoing geopolitical tensions.</p>\n",
       "                </div>\n",
       "                \n",
       "                <div class=\"topic-section\">\n",
       "                    <div class=\"counter-container\">\n",
       "                        <div class=\"news-counter\">\n",
       "                            <span class=\"counter-label\">Volume Score</span>\n",
       "                            2 News\n",
       "                        </div>\n",
       "                        <div class=\"novelty-counter\">\n",
       "                            <span class=\"counter-label\">Novelty Score</span>\n",
       "                            <img src=\"flame-icon.png\" alt=\"Flame Icon\" class=\"flame-icon\">\n",
       "                            Novel\n",
       "                        </div>\n",
       "                        <div class=\"impact-counter negative\">\n",
       "                            <span class=\"counter-label\">Price Impact</span>\n",
       "                            Negative\n",
       "                        </div>\n",
       "                        <div class=\"magnitude-counter high\">\n",
       "                            <span class=\"counter-label\">Intensity</span>\n",
       "                            <img src=\"arrow_up.png\" alt=\"Intensity Arrow\" class=\"intensity-arrow\">\n",
       "                            High\n",
       "                        </div>\n",
       "                    </div>\n",
       "                    <h2 class=\"topic-title\">Guyana Emerges as a Major Oil Player with 98,000 Barrels Daily Production Surge</h2>\n",
       "                    <p class=\"description\">Guyana has rapidly established itself as a key player in the global oil market, with production increasing by an average of 98,000 barrels per day from 2020 to 2023. It is now the third-fastest-growing non-OPEC oil producer, fueled by significant offshore discoveries and substantial investments from major oil companies. With estimated reserves exceeding 11 billion barrels of oil equivalent, Guyana's potential to impact global energy dynamics is considerable. Ongoing exploration and development in the Stabroek Block are expected to further boost its production capabilities, positioning the country as a focal point for future oil investments.</p>\n",
       "                </div>\n",
       "                \n",
       "                <div class=\"topic-section\">\n",
       "                    <div class=\"counter-container\">\n",
       "                        <div class=\"news-counter\">\n",
       "                            <span class=\"counter-label\">Volume Score</span>\n",
       "                            2 News\n",
       "                        </div>\n",
       "                        <div class=\"novelty-counter\">\n",
       "                            <span class=\"counter-label\">Novelty Score</span>\n",
       "                            <img src=\"flame-icon.png\" alt=\"Flame Icon\" class=\"flame-icon\">\n",
       "                            Novel\n",
       "                        </div>\n",
       "                        <div class=\"impact-counter positive\">\n",
       "                            <span class=\"counter-label\">Price Impact</span>\n",
       "                            Positive\n",
       "                        </div>\n",
       "                        <div class=\"magnitude-counter high\">\n",
       "                            <span class=\"counter-label\">Intensity</span>\n",
       "                            <img src=\"arrow_up.png\" alt=\"Intensity Arrow\" class=\"intensity-arrow\">\n",
       "                            High\n",
       "                        </div>\n",
       "                    </div>\n",
       "                    <h2 class=\"topic-title\">Tanker Market Thrives Amid Russian Oil Trade and Red Sea Disruptions</h2>\n",
       "                    <p class=\"description\">The tanker market is currently undergoing significant changes driven by evolving trade patterns, notably the ongoing Russian oil trade and disruptions in the Red Sea. These developments have led to longer haul tanker voyages, thereby increasing ton-mile demand while supply growth remains constrained. As a result, charter rates have remained robust, with companies like Performance Shipping Inc. reporting strong revenues and net income due to these favorable market conditions. The outlook for the tanker market indicates sustained demand for transportation services, particularly as geopolitical factors continue to shape oil trade routes.</p>\n",
       "                </div>\n",
       "                \n",
       "                <div class=\"topic-section\">\n",
       "                    <div class=\"counter-container\">\n",
       "                        <div class=\"news-counter\">\n",
       "                            <span class=\"counter-label\">Volume Score</span>\n",
       "                            2 News\n",
       "                        </div>\n",
       "                        <div class=\"novelty-counter\">\n",
       "                            <span class=\"counter-label\">Novelty Score</span>\n",
       "                            <img src=\"flame-icon.png\" alt=\"Flame Icon\" class=\"flame-icon\">\n",
       "                            Novel\n",
       "                        </div>\n",
       "                        <div class=\"impact-counter positive\">\n",
       "                            <span class=\"counter-label\">Price Impact</span>\n",
       "                            Positive\n",
       "                        </div>\n",
       "                        <div class=\"magnitude-counter medium\">\n",
       "                            <span class=\"counter-label\">Intensity</span>\n",
       "                            <img src=\"arrow_mid.png\" alt=\"Intensity Arrow\" class=\"intensity-arrow\">\n",
       "                            Medium\n",
       "                        </div>\n",
       "                    </div>\n",
       "                    <h2 class=\"topic-title\">ONGC Videsh Invests \\$60 Million in Azerbaijan to Secure Key Oil Stakes</h2>\n",
       "                    <p class=\"description\">ONGC Videsh, the international subsidiary of India's Oil and Natural Gas Corporation, is making a strategic \\$60 million investment in Azerbaijan to enhance its presence in the oil and gas sector. This investment focuses on acquiring stakes in key oil fields, capitalizing on Azerbaijan's rich hydrocarbon resources. The move aligns with ONGC's long-term strategy to diversify its portfolio and secure new production avenues amid increasing competition in the international oil market. This development underscores the ongoing race among energy companies to access valuable resources in geopolitically significant regions.</p>\n",
       "                </div>\n",
       "                \n",
       "                <div class=\"topic-section\">\n",
       "                    <div class=\"counter-container\">\n",
       "                        <div class=\"news-counter\">\n",
       "                            <span class=\"counter-label\">Volume Score</span>\n",
       "                            1 News\n",
       "                        </div>\n",
       "                        <div class=\"novelty-counter\">\n",
       "                            <span class=\"counter-label\">Novelty Score</span>\n",
       "                            <img src=\"flame-icon.png\" alt=\"Flame Icon\" class=\"flame-icon\">\n",
       "                            Novel\n",
       "                        </div>\n",
       "                        <div class=\"impact-counter negative\">\n",
       "                            <span class=\"counter-label\">Price Impact</span>\n",
       "                            Negative\n",
       "                        </div>\n",
       "                        <div class=\"magnitude-counter high\">\n",
       "                            <span class=\"counter-label\">Intensity</span>\n",
       "                            <img src=\"arrow_up.png\" alt=\"Intensity Arrow\" class=\"intensity-arrow\">\n",
       "                            High\n",
       "                        </div>\n",
       "                    </div>\n",
       "                    <h2 class=\"topic-title\">Climate Change Fuels Natural Disasters, Threatening Oil Infrastructure and Supply Chains</h2>\n",
       "                    <p class=\"description\">Natural disasters, such as severe typhoons and flooding, pose significant risks to oil infrastructure, leading to potential oil spills, supply chain disruptions, and facility damage. These events raise environmental concerns and can have long-term implications for oil production and distribution. The oil industry faces increasing challenges as climate change intensifies the frequency and severity of such disasters. Companies must enhance their response strategies to maintain operational stability and comply with environmental regulations, highlighting the need for adaptive measures to mitigate risks associated with natural disasters.</p>\n",
       "                </div>\n",
       "                \n",
       "                <div class=\"topic-section\">\n",
       "                    <div class=\"counter-container\">\n",
       "                        <div class=\"news-counter\">\n",
       "                            <span class=\"counter-label\">Volume Score</span>\n",
       "                            1 News\n",
       "                        </div>\n",
       "                        <div class=\"novelty-counter\">\n",
       "                            <span class=\"counter-label\">Novelty Score</span>\n",
       "                            <img src=\"flame-icon.png\" alt=\"Flame Icon\" class=\"flame-icon\">\n",
       "                            Novel\n",
       "                        </div>\n",
       "                        <div class=\"impact-counter positive\">\n",
       "                            <span class=\"counter-label\">Price Impact</span>\n",
       "                            Positive\n",
       "                        </div>\n",
       "                        <div class=\"magnitude-counter high\">\n",
       "                            <span class=\"counter-label\">Intensity</span>\n",
       "                            <img src=\"arrow_up.png\" alt=\"Intensity Arrow\" class=\"intensity-arrow\">\n",
       "                            High\n",
       "                        </div>\n",
       "                    </div>\n",
       "                    <h2 class=\"topic-title\">Eni Doubles Down on Nigeria's Energy Sector with Major Investments in Deepwater and LNG Projects</h2>\n",
       "                    <p class=\"description\">Eni's continued investment in Nigeria, particularly in deepwater projects and liquefied natural gas (LNG), highlights the company's commitment to a significant presence in one of Africa's major oil-producing regions. With a robust portfolio of assets and a long-standing operational history in Nigeria, Eni plays a vital role in the country's energy sector. The company's focus on exploration and production aligns with broader industry trends, as oil companies seek to leverage opportunities in emerging markets while addressing geopolitical and regulatory challenges.</p>\n",
       "                </div>\n",
       "                \n",
       "                <div class=\"topic-section\">\n",
       "                    <div class=\"counter-container\">\n",
       "                        <div class=\"news-counter\">\n",
       "                            <span class=\"counter-label\">Volume Score</span>\n",
       "                            1 News\n",
       "                        </div>\n",
       "                        <div class=\"novelty-counter\">\n",
       "                            <span class=\"counter-label\">Novelty Score</span>\n",
       "                            <img src=\"flame-icon.png\" alt=\"Flame Icon\" class=\"flame-icon\">\n",
       "                            Novel\n",
       "                        </div>\n",
       "                        <div class=\"impact-counter negative\">\n",
       "                            <span class=\"counter-label\">Price Impact</span>\n",
       "                            Negative\n",
       "                        </div>\n",
       "                        <div class=\"magnitude-counter high\">\n",
       "                            <span class=\"counter-label\">Intensity</span>\n",
       "                            <img src=\"arrow_up.png\" alt=\"Intensity Arrow\" class=\"intensity-arrow\">\n",
       "                            High\n",
       "                        </div>\n",
       "                    </div>\n",
       "                    <h2 class=\"topic-title\">Nigeria's OPEC Production Shortfalls Threaten Global Oil Supply and Economic Stability</h2>\n",
       "                    <p class=\"description\">Nigeria's struggles to meet OPEC production quotas have profound implications for both its economy and the global oil market. The country has repeatedly fallen short of its daily production targets, which adversely affects revenue generation and essential services for its citizens. Contributing factors to this shortfall include infrastructural deficiencies, regulatory hurdles, and conflicts with local oil companies. This ongoing inability to fulfill production quotas not only diminishes Nigeria's influence within OPEC but also raises concerns about its long-term oil production capabilities. As a key oil producer in Africa, Nigeria's challenges could result in tighter global oil supplies and increased prices, especially as demand recovers in other regions.</p>\n",
       "                </div>\n",
       "                \n",
       "                <div class=\"topic-section\">\n",
       "                    <div class=\"counter-container\">\n",
       "                        <div class=\"news-counter\">\n",
       "                            <span class=\"counter-label\">Volume Score</span>\n",
       "                            1 News\n",
       "                        </div>\n",
       "                        <div class=\"novelty-counter\">\n",
       "                            <span class=\"counter-label\">Novelty Score</span>\n",
       "                            <img src=\"flame-icon.png\" alt=\"Flame Icon\" class=\"flame-icon\">\n",
       "                            Novel\n",
       "                        </div>\n",
       "                        <div class=\"impact-counter negative\">\n",
       "                            <span class=\"counter-label\">Price Impact</span>\n",
       "                            Negative\n",
       "                        </div>\n",
       "                        <div class=\"magnitude-counter high\">\n",
       "                            <span class=\"counter-label\">Intensity</span>\n",
       "                            <img src=\"arrow_up.png\" alt=\"Intensity Arrow\" class=\"intensity-arrow\">\n",
       "                            High\n",
       "                        </div>\n",
       "                    </div>\n",
       "                    <h2 class=\"topic-title\">Supreme Court Overturns Chevron Doctrine, Heightening Regulatory Risks for Energy Sector</h2>\n",
       "                    <p class=\"description\">The recent US Supreme Court ruling that overturned the Chevron doctrine has profound implications for energy regulation. By eliminating the principle of judicial deference to federal agencies like the EPA and FERC, the decision increases regulatory risks for energy companies. Courts will now apply their own judgment in reviewing agency actions, leading to more stringent scrutiny of energy projects and regulatory compliance. This shift is expected to significantly impact operational strategies and investment decisions within the energy sector.</p>\n",
       "                </div>\n",
       "                \n",
       "                <div class=\"topic-section\">\n",
       "                    <div class=\"counter-container\">\n",
       "                        <div class=\"news-counter\">\n",
       "                            <span class=\"counter-label\">Volume Score</span>\n",
       "                            1 News\n",
       "                        </div>\n",
       "                        <div class=\"novelty-counter\">\n",
       "                            <span class=\"counter-label\">Novelty Score</span>\n",
       "                            <img src=\"flame-icon.png\" alt=\"Flame Icon\" class=\"flame-icon\">\n",
       "                            Novel\n",
       "                        </div>\n",
       "                        <div class=\"impact-counter negative\">\n",
       "                            <span class=\"counter-label\">Price Impact</span>\n",
       "                            Negative\n",
       "                        </div>\n",
       "                        <div class=\"magnitude-counter high\">\n",
       "                            <span class=\"counter-label\">Intensity</span>\n",
       "                            <img src=\"arrow_up.png\" alt=\"Intensity Arrow\" class=\"intensity-arrow\">\n",
       "                            High\n",
       "                        </div>\n",
       "                    </div>\n",
       "                    <h2 class=\"topic-title\">U.S. Crude Oil Imports Surge 12% Under Biden, Defying Record Domestic Production</h2>\n",
       "                    <p class=\"description\">Under the Biden administration, U.S. crude oil imports have seen a significant increase, averaging over 6.5 million barrels per day, which is approximately 12% higher than the 2020 average. This rise occurs despite the U.S. producing and exporting more crude oil than ever before. The trends in U.S. crude oil imports reflect the complexities of the global oil market, influenced by domestic production levels and international demand, and have important implications for U.S. energy policy and market stability.</p>\n",
       "                </div>\n",
       "                \n",
       "                <div class=\"topic-section\">\n",
       "                    <div class=\"counter-container\">\n",
       "                        <div class=\"news-counter\">\n",
       "                            <span class=\"counter-label\">Volume Score</span>\n",
       "                            1 News\n",
       "                        </div>\n",
       "                        <div class=\"novelty-counter\">\n",
       "                            <span class=\"counter-label\">Novelty Score</span>\n",
       "                            <img src=\"flame-icon.png\" alt=\"Flame Icon\" class=\"flame-icon\">\n",
       "                            Novel\n",
       "                        </div>\n",
       "                        <div class=\"impact-counter negative\">\n",
       "                            <span class=\"counter-label\">Price Impact</span>\n",
       "                            Negative\n",
       "                        </div>\n",
       "                        <div class=\"magnitude-counter medium\">\n",
       "                            <span class=\"counter-label\">Intensity</span>\n",
       "                            <img src=\"arrow_mid.png\" alt=\"Intensity Arrow\" class=\"intensity-arrow\">\n",
       "                            Medium\n",
       "                        </div>\n",
       "                    </div>\n",
       "                    <h2 class=\"topic-title\">Brazil's Petrobras Raises Gas Prices Amid Currency Decline and Inflation Surge</h2>\n",
       "                    <p class=\"description\">Petroleo Brasileiro SA, Brazil's state-controlled oil company, has increased gasoline prices for the first time in nearly a year due to the pressures of a weakening currency and rising inflation. The decline of the Brazilian real has made imports more costly, necessitating this price adjustment. This increase is significant as it affects consumer costs and may influence overall inflation rates in Brazil, underscoring the relationship between currency valuation and commodity pricing in the global oil market.</p>\n",
       "                </div>\n",
       "                \n",
       "                <div class=\"topic-section\">\n",
       "                    <div class=\"counter-container\">\n",
       "                        <div class=\"news-counter\">\n",
       "                            <span class=\"counter-label\">Volume Score</span>\n",
       "                            1 News\n",
       "                        </div>\n",
       "                        <div class=\"novelty-counter\">\n",
       "                            <span class=\"counter-label\">Novelty Score</span>\n",
       "                            <img src=\"flame-icon.png\" alt=\"Flame Icon\" class=\"flame-icon\">\n",
       "                            Novel\n",
       "                        </div>\n",
       "                        <div class=\"impact-counter positive\">\n",
       "                            <span class=\"counter-label\">Price Impact</span>\n",
       "                            Positive\n",
       "                        </div>\n",
       "                        <div class=\"magnitude-counter medium\">\n",
       "                            <span class=\"counter-label\">Intensity</span>\n",
       "                            <img src=\"arrow_mid.png\" alt=\"Intensity Arrow\" class=\"intensity-arrow\">\n",
       "                            Medium\n",
       "                        </div>\n",
       "                    </div>\n",
       "                    <h2 class=\"topic-title\">Tupras Secures 1 Million Barrels of Crude Oil from St. Nikolas Tanker Amid Supply Chain Challenges</h2>\n",
       "                    <p class=\"description\">Turkish refiner Tupras has successfully recovered approximately 1 million barrels of crude oil from the St. Nikolas tanker, which was acquired from the Iraqi state oil company SOMO. The recovery process involved a ship-to-ship transfer conducted between July 23-25, 2024, with the crude oil now on its way to the refinery, expected to arrive in September. This event highlights the logistical challenges and operational complexities within the oil supply chain, particularly in geopolitically sensitive regions. The successful recovery is vital for Tupras to maintain supply stability and reflects the ongoing dynamics in the oil market.</p>\n",
       "                </div>\n",
       "                \n",
       "            </div>\n",
       "        </div>\n",
       "    </div>\n",
       "</body>\n",
       "</html>"
      ],
      "text/plain": [
       "<IPython.core.display.HTML object>"
      ]
     },
     "metadata": {},
     "output_type": "display_data"
    },
    {
     "name": "stdout",
     "output_type": "stream",
     "text": [
      "\n",
      "\n",
      "\n"
     ]
    }
   ],
   "source": [
    "specific_date = '2024-07-25'\n",
    "\n",
    "# Applying the cleaning function to the text in your DataFrame before rendering\n",
    "flattened_trending_topics_df['Summary'] = flattened_trending_topics_df['Summary'].apply(clean_text)\n",
    "flattened_trending_topics_df['Day_in_Review'] = flattened_trending_topics_df['Day_in_Review'].apply(clean_text)\n",
    "flattened_trending_topics_df['Text_Summary'] = flattened_trending_topics_df['Text_Summary'].apply(clean_text)\n",
    "flattened_trending_topics_df['Topic'] = flattened_trending_topics_df['Topic'].apply(clean_text)\n",
    "\n",
    "user_selected_ranking = ['novelty', 'volume', 'magnitude']  # User can modify this list to change the ranking order\n",
    "\n",
    "#impact_filter = 'positive_impact' #User can use the impact_filter to filter out the report\n",
    "\n",
    "prepared_reports = prepare_data_for_report(flattened_trending_topics_df, user_selected_ranking, impact_filter = None, report_date = specific_date)\n",
    "\n",
    "# Generate and display the HTML report for each date\n",
    "for report in prepared_reports:\n",
    "    html_content = generate_html_report(\n",
    "        report['date'],\n",
    "        report['day_in_review'],\n",
    "        report['topics'],\n",
    "        'Daily crude oil market update'  # Pass the main theme to dynamically generate the title\n",
    "    )\n",
    "    display(HTML(html_content))\n",
    "    print(\"\")\n",
    "    print(\"\")\n",
    "    print(\"\")"
   ]
  }
 ],
 "metadata": {
  "colab": {
   "provenance": []
  },
  "kernelspec": {
   "display_name": "cookbook_legacy",
   "language": "python",
   "name": "python3"
  },
  "language_info": {
   "codemirror_mode": {
    "name": "ipython",
    "version": 3
   },
   "file_extension": ".py",
   "mimetype": "text/x-python",
   "name": "python",
   "nbconvert_exporter": "python",
   "pygments_lexer": "ipython3",
   "version": "3.9.12"
  }
 },
 "nbformat": 4,
 "nbformat_minor": 5
}
