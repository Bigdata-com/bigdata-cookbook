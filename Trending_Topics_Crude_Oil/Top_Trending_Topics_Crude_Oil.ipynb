{
 "cells": [
  {
   "cell_type": "markdown",
   "id": "d525f4fa",
   "metadata": {},
   "source": [
    "# **Top Trending Topics for Crude Oil**\n",
    "\n",
    "This Jupyter notebook implements an **agentic workflow** based on the content retrieval from BigData API to **identify, verifiy, reindex, and summarize** the specialized news that are **trending topics** for the crude oil market.\n",
    "\n",
    "The workflow is structured as follows:\n",
    "\n",
    "**Step 1- Generation of the Lexicon**: Identify the specialized industry-specific jargon relevant to the crude oil market to ensure a high recall in the content retrieval.\n",
    "\n",
    "**Step 2- Content Retrieval Based on BigData**: Perform a keyword search on the news content with the Bigdata API to retrieve documents, splitting the search over daily timeframes and multi-threading the content search on the individual keywords for speed purpose.\n",
    "\n",
    "**Step 3- Topic Clustering and Selection**: Perform topic modelling using a large language model to verify and cluster the news. Then, the summarization ensures topic selection identifying the top trending news for crude oil, while deriving advanced analytics to quantify the trendiness (based on news volume), novelty (based on daily changes in summaries), impact and magnitude (based on the financial materiality on crude oil prices) of the trending topics.\n",
    "\n",
    "**Step 4- Customized Report Generation**: Customize the ranking system of the summarized topics based on their trendiness, novelty, and financial materiality on crude oil prices, and display a daily market update. For verification purpose, the reports are supported by the granular news and sources.\n",
    "\n",
    "**Output**\n",
    "\n",
    "1. **Daily Market Reports**: A detailed and visually appealing report summarizing the top trending topics for crude oil, with a customizable ranking system to reindex the news.\n",
    "2. **Actionable Dataframe**: A timestamped dataframe containing the granular news clustered into relevant topics, and the advanced analytics of trendiness, novelty, impact, and magnitude scores to be potentially used for backtesting purpose.\n",
    "\n",
    "**Requirements**\n",
    "\n",
    "- Credentials for the Bigdata API to perform keyword and document searches on news content.\n",
    "- Credentials for the OpenAI API used in the notebook, this could be substituted with any other LLM.\n",
    "- A `tools` folder in the same directory as this notebook, containing a Python file named `utils_reports.py` with all required functionalities.\n",
    "- A `requirements.txt` file listing all the necessary Python libraries and dependencies. We recommend installing these packages in a virtual environment."
   ]
  },
  {
   "cell_type": "markdown",
   "id": "a3ac350d",
   "metadata": {},
   "source": [
    "# Set-Up"
   ]
  },
  {
   "cell_type": "code",
   "execution_count": 1,
   "id": "7346a680-6158-4eee-acc8-7cc4f9e4140e",
   "metadata": {
    "id": "7346a680-6158-4eee-acc8-7cc4f9e4140e"
   },
   "outputs": [],
   "source": [
    "%load_ext autoreload\n",
    "%autoreload 2"
   ]
  },
  {
   "cell_type": "code",
   "execution_count": 2,
   "id": "759d8ac9",
   "metadata": {},
   "outputs": [
    {
     "name": "stdout",
     "output_type": "stream",
     "text": [
      "Looking in indexes: https://pypi.org/simple, https://pypi-marbella.ravenpack.com/simple/\n",
      "Requirement already satisfied: python_dotenv in /opt/anaconda/envs/cookbook/lib/python3.13/site-packages (from -r requirements.txt (line 1)) (1.1.1)\n",
      "Requirement already satisfied: bigdata_client in /opt/anaconda/envs/cookbook/lib/python3.13/site-packages (from -r requirements.txt (line 2)) (2.18.0)\n",
      "Requirement already satisfied: bigdata_research_tools in /opt/anaconda/envs/cookbook/lib/python3.13/site-packages (from -r requirements.txt (line 3)) (0.17.3)\n",
      "Requirement already satisfied: pandas in /opt/anaconda/envs/cookbook/lib/python3.13/site-packages (from -r requirements.txt (line 4)) (2.3.1)\n",
      "Requirement already satisfied: numpy in /opt/anaconda/envs/cookbook/lib/python3.13/site-packages (from -r requirements.txt (line 5)) (2.3.2)\n",
      "Requirement already satisfied: asyncio in /opt/anaconda/envs/cookbook/lib/python3.13/site-packages (from -r requirements.txt (line 6)) (4.0.0)\n",
      "Requirement already satisfied: openai in /opt/anaconda/envs/cookbook/lib/python3.13/site-packages (from -r requirements.txt (line 7)) (1.99.3)\n",
      "Requirement already satisfied: tqdm in /opt/anaconda/envs/cookbook/lib/python3.13/site-packages (from -r requirements.txt (line 8)) (4.67.1)\n",
      "Requirement already satisfied: pqdm in /opt/anaconda/envs/cookbook/lib/python3.13/site-packages (from -r requirements.txt (line 9)) (0.2.0)\n",
      "Requirement already satisfied: IPython in /opt/anaconda/envs/cookbook/lib/python3.13/site-packages (from -r requirements.txt (line 10)) (8.37.0)\n",
      "Requirement already satisfied: jinja2 in /opt/anaconda/envs/cookbook/lib/python3.13/site-packages (from -r requirements.txt (line 11)) (3.1.6)\n",
      "Requirement already satisfied: IProgress in /opt/anaconda/envs/cookbook/lib/python3.13/site-packages (from -r requirements.txt (line 12)) (0.4)\n",
      "Requirement already satisfied: ipywidgets in /opt/anaconda/envs/cookbook/lib/python3.13/site-packages (from -r requirements.txt (line 13)) (8.1.7)\n",
      "Requirement already satisfied: aiohttp<4.0.0,>=3.9.3 in /opt/anaconda/envs/cookbook/lib/python3.13/site-packages (from bigdata_client->-r requirements.txt (line 2)) (3.12.15)\n",
      "Requirement already satisfied: nest-asyncio<2.0.0,>=1.6.0 in /opt/anaconda/envs/cookbook/lib/python3.13/site-packages (from bigdata_client->-r requirements.txt (line 2)) (1.6.0)\n",
      "Requirement already satisfied: pydantic<3.0.0,>=2.5.3 in /opt/anaconda/envs/cookbook/lib/python3.13/site-packages (from bigdata_client->-r requirements.txt (line 2)) (2.11.7)\n",
      "Requirement already satisfied: pydantic-settings<3.0.0,>=2.1.0 in /opt/anaconda/envs/cookbook/lib/python3.13/site-packages (from bigdata_client->-r requirements.txt (line 2)) (2.10.1)\n",
      "Requirement already satisfied: pyjwt<3.0.0,>=2.8.0 in /opt/anaconda/envs/cookbook/lib/python3.13/site-packages (from bigdata_client->-r requirements.txt (line 2)) (2.10.1)\n",
      "Requirement already satisfied: requests<3.0.0,>=2.31.0 in /opt/anaconda/envs/cookbook/lib/python3.13/site-packages (from bigdata_client->-r requirements.txt (line 2)) (2.32.4)\n",
      "Requirement already satisfied: websockets<16.0,>=15.0 in /opt/anaconda/envs/cookbook/lib/python3.13/site-packages (from bigdata_client->-r requirements.txt (line 2)) (15.0.1)\n",
      "Requirement already satisfied: aiohappyeyeballs>=2.5.0 in /opt/anaconda/envs/cookbook/lib/python3.13/site-packages (from aiohttp<4.0.0,>=3.9.3->bigdata_client->-r requirements.txt (line 2)) (2.6.1)\n",
      "Requirement already satisfied: aiosignal>=1.4.0 in /opt/anaconda/envs/cookbook/lib/python3.13/site-packages (from aiohttp<4.0.0,>=3.9.3->bigdata_client->-r requirements.txt (line 2)) (1.4.0)\n",
      "Requirement already satisfied: attrs>=17.3.0 in /opt/anaconda/envs/cookbook/lib/python3.13/site-packages (from aiohttp<4.0.0,>=3.9.3->bigdata_client->-r requirements.txt (line 2)) (25.3.0)\n",
      "Requirement already satisfied: frozenlist>=1.1.1 in /opt/anaconda/envs/cookbook/lib/python3.13/site-packages (from aiohttp<4.0.0,>=3.9.3->bigdata_client->-r requirements.txt (line 2)) (1.7.0)\n",
      "Requirement already satisfied: multidict<7.0,>=4.5 in /opt/anaconda/envs/cookbook/lib/python3.13/site-packages (from aiohttp<4.0.0,>=3.9.3->bigdata_client->-r requirements.txt (line 2)) (6.6.3)\n",
      "Requirement already satisfied: propcache>=0.2.0 in /opt/anaconda/envs/cookbook/lib/python3.13/site-packages (from aiohttp<4.0.0,>=3.9.3->bigdata_client->-r requirements.txt (line 2)) (0.3.2)\n",
      "Requirement already satisfied: yarl<2.0,>=1.17.0 in /opt/anaconda/envs/cookbook/lib/python3.13/site-packages (from aiohttp<4.0.0,>=3.9.3->bigdata_client->-r requirements.txt (line 2)) (1.20.1)\n",
      "Requirement already satisfied: annotated-types>=0.6.0 in /opt/anaconda/envs/cookbook/lib/python3.13/site-packages (from pydantic<3.0.0,>=2.5.3->bigdata_client->-r requirements.txt (line 2)) (0.7.0)\n",
      "Requirement already satisfied: pydantic-core==2.33.2 in /opt/anaconda/envs/cookbook/lib/python3.13/site-packages (from pydantic<3.0.0,>=2.5.3->bigdata_client->-r requirements.txt (line 2)) (2.33.2)\n",
      "Requirement already satisfied: typing-extensions>=4.12.2 in /opt/anaconda/envs/cookbook/lib/python3.13/site-packages (from pydantic<3.0.0,>=2.5.3->bigdata_client->-r requirements.txt (line 2)) (4.14.1)\n",
      "Requirement already satisfied: typing-inspection>=0.4.0 in /opt/anaconda/envs/cookbook/lib/python3.13/site-packages (from pydantic<3.0.0,>=2.5.3->bigdata_client->-r requirements.txt (line 2)) (0.4.1)\n",
      "Requirement already satisfied: charset_normalizer<4,>=2 in /opt/anaconda/envs/cookbook/lib/python3.13/site-packages (from requests<3.0.0,>=2.31.0->bigdata_client->-r requirements.txt (line 2)) (3.4.2)\n",
      "Requirement already satisfied: idna<4,>=2.5 in /opt/anaconda/envs/cookbook/lib/python3.13/site-packages (from requests<3.0.0,>=2.31.0->bigdata_client->-r requirements.txt (line 2)) (3.10)\n",
      "Requirement already satisfied: urllib3<3,>=1.21.1 in /opt/anaconda/envs/cookbook/lib/python3.13/site-packages (from requests<3.0.0,>=2.31.0->bigdata_client->-r requirements.txt (line 2)) (2.5.0)\n",
      "Requirement already satisfied: certifi>=2017.4.17 in /opt/anaconda/envs/cookbook/lib/python3.13/site-packages (from requests<3.0.0,>=2.31.0->bigdata_client->-r requirements.txt (line 2)) (2025.8.3)\n",
      "Requirement already satisfied: openpyxl<4.0.0,>=3.1.5 in /opt/anaconda/envs/cookbook/lib/python3.13/site-packages (from bigdata_research_tools->-r requirements.txt (line 3)) (3.1.5)\n",
      "Requirement already satisfied: pillow<12.0.0,>=11.1.0 in /opt/anaconda/envs/cookbook/lib/python3.13/site-packages (from bigdata_research_tools->-r requirements.txt (line 3)) (11.3.0)\n",
      "Requirement already satisfied: graphviz<0.21.0,>=0.20.3 in /opt/anaconda/envs/cookbook/lib/python3.13/site-packages (from bigdata_research_tools->-r requirements.txt (line 3)) (0.20.3)\n",
      "Requirement already satisfied: python-dateutil>=2.8.2 in /opt/anaconda/envs/cookbook/lib/python3.13/site-packages (from pandas->-r requirements.txt (line 4)) (2.9.0.post0)\n",
      "Requirement already satisfied: pytz>=2020.1 in /opt/anaconda/envs/cookbook/lib/python3.13/site-packages (from pandas->-r requirements.txt (line 4)) (2025.2)\n",
      "Requirement already satisfied: tzdata>=2022.7 in /opt/anaconda/envs/cookbook/lib/python3.13/site-packages (from pandas->-r requirements.txt (line 4)) (2025.2)\n",
      "Requirement already satisfied: anyio<5,>=3.5.0 in /opt/anaconda/envs/cookbook/lib/python3.13/site-packages (from openai->-r requirements.txt (line 7)) (4.10.0)\n",
      "Requirement already satisfied: distro<2,>=1.7.0 in /opt/anaconda/envs/cookbook/lib/python3.13/site-packages (from openai->-r requirements.txt (line 7)) (1.9.0)\n",
      "Requirement already satisfied: httpx<1,>=0.23.0 in /opt/anaconda/envs/cookbook/lib/python3.13/site-packages (from openai->-r requirements.txt (line 7)) (0.28.1)\n",
      "Requirement already satisfied: jiter<1,>=0.4.0 in /opt/anaconda/envs/cookbook/lib/python3.13/site-packages (from openai->-r requirements.txt (line 7)) (0.10.0)\n",
      "Requirement already satisfied: sniffio in /opt/anaconda/envs/cookbook/lib/python3.13/site-packages (from openai->-r requirements.txt (line 7)) (1.3.1)\n",
      "Requirement already satisfied: decorator in /opt/anaconda/envs/cookbook/lib/python3.13/site-packages (from IPython->-r requirements.txt (line 10)) (5.2.1)\n",
      "Requirement already satisfied: jedi>=0.16 in /opt/anaconda/envs/cookbook/lib/python3.13/site-packages (from IPython->-r requirements.txt (line 10)) (0.19.2)\n",
      "Requirement already satisfied: matplotlib-inline in /opt/anaconda/envs/cookbook/lib/python3.13/site-packages (from IPython->-r requirements.txt (line 10)) (0.1.7)\n",
      "Requirement already satisfied: pexpect>4.3 in /opt/anaconda/envs/cookbook/lib/python3.13/site-packages (from IPython->-r requirements.txt (line 10)) (4.9.0)\n",
      "Requirement already satisfied: prompt_toolkit<3.1.0,>=3.0.41 in /opt/anaconda/envs/cookbook/lib/python3.13/site-packages (from IPython->-r requirements.txt (line 10)) (3.0.51)\n",
      "Requirement already satisfied: pygments>=2.4.0 in /opt/anaconda/envs/cookbook/lib/python3.13/site-packages (from IPython->-r requirements.txt (line 10)) (2.19.2)\n",
      "Requirement already satisfied: stack_data in /opt/anaconda/envs/cookbook/lib/python3.13/site-packages (from IPython->-r requirements.txt (line 10)) (0.6.3)\n",
      "Requirement already satisfied: traitlets>=5.13.0 in /opt/anaconda/envs/cookbook/lib/python3.13/site-packages (from IPython->-r requirements.txt (line 10)) (5.14.3)\n",
      "Requirement already satisfied: httpcore==1.* in /opt/anaconda/envs/cookbook/lib/python3.13/site-packages (from httpx<1,>=0.23.0->openai->-r requirements.txt (line 7)) (1.0.9)\n",
      "Requirement already satisfied: h11>=0.16 in /opt/anaconda/envs/cookbook/lib/python3.13/site-packages (from httpcore==1.*->httpx<1,>=0.23.0->openai->-r requirements.txt (line 7)) (0.16.0)\n",
      "Requirement already satisfied: et-xmlfile in /opt/anaconda/envs/cookbook/lib/python3.13/site-packages (from openpyxl<4.0.0,>=3.1.5->bigdata_research_tools->-r requirements.txt (line 3)) (2.0.0)\n",
      "Requirement already satisfied: wcwidth in /opt/anaconda/envs/cookbook/lib/python3.13/site-packages (from prompt_toolkit<3.1.0,>=3.0.41->IPython->-r requirements.txt (line 10)) (0.2.13)\n",
      "Requirement already satisfied: bounded-pool-executor in /opt/anaconda/envs/cookbook/lib/python3.13/site-packages (from pqdm->-r requirements.txt (line 9)) (0.0.3)\n",
      "Requirement already satisfied: MarkupSafe>=2.0 in /opt/anaconda/envs/cookbook/lib/python3.13/site-packages (from jinja2->-r requirements.txt (line 11)) (3.0.2)\n",
      "Requirement already satisfied: six in /opt/anaconda/envs/cookbook/lib/python3.13/site-packages (from IProgress->-r requirements.txt (line 12)) (1.17.0)\n",
      "Requirement already satisfied: comm>=0.1.3 in /opt/anaconda/envs/cookbook/lib/python3.13/site-packages (from ipywidgets->-r requirements.txt (line 13)) (0.2.3)\n",
      "Requirement already satisfied: widgetsnbextension~=4.0.14 in /opt/anaconda/envs/cookbook/lib/python3.13/site-packages (from ipywidgets->-r requirements.txt (line 13)) (4.0.14)\n",
      "Requirement already satisfied: jupyterlab_widgets~=3.0.15 in /opt/anaconda/envs/cookbook/lib/python3.13/site-packages (from ipywidgets->-r requirements.txt (line 13)) (3.0.15)\n",
      "Requirement already satisfied: parso<0.9.0,>=0.8.4 in /opt/anaconda/envs/cookbook/lib/python3.13/site-packages (from jedi>=0.16->IPython->-r requirements.txt (line 10)) (0.8.4)\n",
      "Requirement already satisfied: ptyprocess>=0.5 in /opt/anaconda/envs/cookbook/lib/python3.13/site-packages (from pexpect>4.3->IPython->-r requirements.txt (line 10)) (0.7.0)\n",
      "Requirement already satisfied: executing>=1.2.0 in /opt/anaconda/envs/cookbook/lib/python3.13/site-packages (from stack_data->IPython->-r requirements.txt (line 10)) (2.2.0)\n",
      "Requirement already satisfied: asttokens>=2.1.0 in /opt/anaconda/envs/cookbook/lib/python3.13/site-packages (from stack_data->IPython->-r requirements.txt (line 10)) (3.0.0)\n",
      "Requirement already satisfied: pure-eval in /opt/anaconda/envs/cookbook/lib/python3.13/site-packages (from stack_data->IPython->-r requirements.txt (line 10)) (0.2.3)\n"
     ]
    }
   ],
   "source": [
    "!pip install -r requirements.txt"
   ]
  },
  {
   "cell_type": "code",
   "execution_count": 3,
   "id": "a99ea983-f879-4b73-8d12-4ffd5b0d1247",
   "metadata": {
    "id": "a99ea983-f879-4b73-8d12-4ffd5b0d1247",
    "outputId": "47ee8bb9-5f56-4387-94c3-a19aad9d047f"
   },
   "outputs": [
    {
     "data": {
      "text/plain": [
       "True"
      ]
     },
     "execution_count": 3,
     "metadata": {},
     "output_type": "execute_result"
    }
   ],
   "source": [
    "import os\n",
    "from dotenv import load_dotenv\n",
    "\n",
    "load_dotenv(os.path.abspath(\"/home/abouchs/.python_env_var/.env\"))"
   ]
  },
  {
   "cell_type": "code",
   "execution_count": 4,
   "id": "9c8f0591-129a-4914-ad2c-22874063c8e7",
   "metadata": {
    "id": "9c8f0591-129a-4914-ad2c-22874063c8e7"
   },
   "outputs": [],
   "source": [
    "BIGDATA_USERNAME = os.getenv(\"BIGDATA_USERNAME\")\n",
    "BIGDATA_PASSWORD = os.getenv(\"BIGDATA_PASSWORD\")"
   ]
  },
  {
   "cell_type": "code",
   "execution_count": 5,
   "id": "00100898-131f-43e6-8ecb-b2e4edac8931",
   "metadata": {
    "id": "00100898-131f-43e6-8ecb-b2e4edac8931"
   },
   "outputs": [],
   "source": [
    "from bigdata_client import Bigdata\n",
    "bigdata_cred = Bigdata(BIGDATA_USERNAME, BIGDATA_PASSWORD)"
   ]
  },
  {
   "cell_type": "code",
   "execution_count": 6,
   "id": "6e3d1449-71c5-4d85-9027-3242f60bc3e4",
   "metadata": {
    "id": "6e3d1449-71c5-4d85-9027-3242f60bc3e4"
   },
   "outputs": [],
   "source": [
    "from src.lexicon_generator import LexiconGenerator\n",
    "from src.search_topics import search_by_keywords\n",
    "from src.topics_extractor import (process_all_reports,\n",
    "                                run_process_all_trending_topics,\n",
    "                                run_add_advanced_novelty_scores,\n",
    "                                add_market_impact_to_df,\n",
    "                                prepare_data_for_report,\n",
    "                                generate_html_report)\n",
    "from IPython.display import display\n",
    "from IPython.core.display import HTML"
   ]
  },
  {
   "cell_type": "code",
   "execution_count": 7,
   "id": "59e16188-5d86-4570-b43c-90ef427c3e8f",
   "metadata": {
    "id": "59e16188-5d86-4570-b43c-90ef427c3e8f"
   },
   "outputs": [],
   "source": [
    "output_dir = f\"//home/abouchs/shared/OutputData/abouchs/Bigdata_cookbook/trending_topics/\""
   ]
  },
  {
   "cell_type": "code",
   "execution_count": 8,
   "id": "fa2c6b28",
   "metadata": {},
   "outputs": [
    {
     "name": "stdout",
     "output_type": "stream",
     "text": [
      "✅ nest_asyncio applied\n"
     ]
    }
   ],
   "source": [
    "try:\n",
    "    import asyncio\n",
    "    asyncio.get_running_loop()\n",
    "    import nest_asyncio; nest_asyncio.apply()\n",
    "    print(\"✅ nest_asyncio applied\")\n",
    "except (RuntimeError, ImportError):\n",
    "    print(\"✅ nest_asyncio not needed\")"
   ]
  },
  {
   "cell_type": "markdown",
   "id": "bd340d97-b9b5-48d2-b41f-b27301652d61",
   "metadata": {
    "id": "bd340d97-b9b5-48d2-b41f-b27301652d61",
    "tags": []
   },
   "source": [
    "# Step 1- Generation of the Lexicon"
   ]
  },
  {
   "cell_type": "markdown",
   "id": "d0c60e14-191f-4e86-84f9-17b376f43a1b",
   "metadata": {
    "id": "d0c60e14-191f-4e86-84f9-17b376f43a1b"
   },
   "source": [
    "In this step, we identify the specialized industry-specific jargon relevant to the crude oil market to ensure a high recall in the content retrieval."
   ]
  },
  {
   "cell_type": "code",
   "execution_count": 9,
   "id": "0ff52d5b-3f4c-484b-9ef6-59c99f824f84",
   "metadata": {
    "id": "0ff52d5b-3f4c-484b-9ef6-59c99f824f84"
   },
   "outputs": [],
   "source": [
    "main_theme = \"Crude Oil\"\n",
    "system_prompt = (\n",
    "    f\"\"\"You are an expert tasked with generating a lexicon of the most important and relevant keywords specific to the given main theme and its related market.\n",
    "\n",
    "    Your goal is to compile a list of terms that are critical for understanding and analyzing the main theme's market. This lexicon should include only the most essential keywords, phrases, and abbreviations that are directly associated with trading, analysis, logistics, and industry reporting related to the main theme.\n",
    "\n",
    "    Guidelines:\n",
    "\n",
    "    1. **Focus on relevance:** Include only the most important and commonly used keywords that are uniquely tied to main theme and its market. These should reflect key concepts, market mechanisms, pricing benchmarks, logistical aspects, and industry-specific terminology.\n",
    "    2. **Avoid redundancy:** Do not repeat the word of the main theme or its components, such as \"Crude\" or \"Oil\" in multiple phrases. Include the main theme only as a standalone term, and focus on other specific terms without redundant repetition.\n",
    "    3. **Strict exclusion of generic terms:** Exclude any terms that are generic or broadly used in other markets, such as \"Arbitrage,\" \"Hedge,\" \"Liquidity,\" \"Spot Price,\" \"Futures Contract,\" \"Backwardation,\" or \"Contango,\" even if they have a specific meaning in the main theme market. Only include terms that are uniquely relevant to the main theme market and cannot be applied broadly.\n",
    "    4. **Include specific variations:** Where applicable, provide both the full form and common abbreviations as SEPARATE keywords (e.g., \"West Texas Intermediate\" and \"WTI\" or variations like \"Brent\" and \"Brent Crude\").\n",
    "    5. **Ensure clarity:** Each keyword should be concise, clear, and directly relevant to the main theme's market, avoiding any ambiguity.\n",
    "    6. **Select only the most critical:** There is no need to reach a specific number of keywords. Focus solely on the most crucial terms without padding the list. If fewer keywords meet the criteria, that is acceptable.\n",
    "\n",
    "    The output should be a lexicon of only the most critical and uniquely relevant keywords related to the main theme market, formatted as a JSON list.\n",
    "    \"\"\"\n",
    ")\n"
   ]
  },
  {
   "cell_type": "code",
   "execution_count": 10,
   "id": "cffc1631",
   "metadata": {},
   "outputs": [],
   "source": [
    "LexiconGenerator = LexiconGenerator(openai_key=os.getenv(\"OPENAI_API_KEY\"), model=\"gpt-4o\", seeds=[123, 123456, 123456789, 456789, 789])"
   ]
  },
  {
   "cell_type": "code",
   "execution_count": 11,
   "id": "b11cd886",
   "metadata": {},
   "outputs": [],
   "source": [
    "keywords_lex = LexiconGenerator.generate(theme=main_theme, system_prompt=system_prompt)"
   ]
  },
  {
   "cell_type": "markdown",
   "id": "a230635a-b3e9-468b-9681-ac06b453f20b",
   "metadata": {
    "id": "a230635a-b3e9-468b-9681-ac06b453f20b"
   },
   "source": [
    "# Step 2- Content Retrieval Based on Bigdata"
   ]
  },
  {
   "cell_type": "markdown",
   "id": "d439d1c4-865e-4d70-8fe9-5d2492f90541",
   "metadata": {
    "id": "d439d1c4-865e-4d70-8fe9-5d2492f90541"
   },
   "source": [
    "In this section, we perform a keyword search on the news content with the Bigdata API to retrieve documents, splitting the search over daily timeframes and multi-threading the content search on the individual keywords for speed purpose. The user can define the time range below to generate daily reports between the start and end dates."
   ]
  },
  {
   "cell_type": "code",
   "execution_count": 12,
   "id": "94e93f7f-c1fe-42ca-9d3b-cbe0b5c9768e",
   "metadata": {
    "id": "94e93f7f-c1fe-42ca-9d3b-cbe0b5c9768e"
   },
   "outputs": [],
   "source": [
    "start_query = '2025-06-21'\n",
    "end_query = '2025-06-28'"
   ]
  },
  {
   "cell_type": "code",
   "execution_count": 13,
   "id": "d5465768",
   "metadata": {},
   "outputs": [
    {
     "name": "stdout",
     "output_type": "stream",
     "text": [
      "About to run 664 queries\n",
      "Example Query: Keyword('Brent') over date range: AbsoluteDateRange('2025-06-21T00:00:00', '2025-06-21T23:59:59')\n"
     ]
    },
    {
     "name": "stderr",
     "output_type": "stream",
     "text": [
      "Querying Bigdata...: 100%|██████████| 664/664 [02:22<00:00,  4.66it/s]\n"
     ]
    }
   ],
   "source": [
    "results, daily_keyword_count = search_by_keywords(\n",
    "    keywords=keywords_lex,\n",
    "    start_date=start_query,\n",
    "    end_date=end_query,\n",
    "    freq='D',\n",
    "    document_limit=10)"
   ]
  },
  {
   "cell_type": "code",
   "execution_count": 14,
   "id": "13198aa7",
   "metadata": {},
   "outputs": [
    {
     "data": {
      "text/html": [
       "<div>\n",
       "<style scoped>\n",
       "    .dataframe tbody tr th:only-of-type {\n",
       "        vertical-align: middle;\n",
       "    }\n",
       "\n",
       "    .dataframe tbody tr th {\n",
       "        vertical-align: top;\n",
       "    }\n",
       "\n",
       "    .dataframe thead th {\n",
       "        text-align: right;\n",
       "    }\n",
       "</style>\n",
       "<table border=\"1\" class=\"dataframe\">\n",
       "  <thead>\n",
       "    <tr style=\"text-align: right;\">\n",
       "      <th></th>\n",
       "      <th>timestamp</th>\n",
       "      <th>rp_document_id</th>\n",
       "      <th>headline</th>\n",
       "      <th>chunk_number</th>\n",
       "      <th>sentence_id</th>\n",
       "      <th>source_id</th>\n",
       "      <th>source_name</th>\n",
       "      <th>text</th>\n",
       "      <th>keyword</th>\n",
       "      <th>date</th>\n",
       "    </tr>\n",
       "  </thead>\n",
       "  <tbody>\n",
       "    <tr>\n",
       "      <th>0</th>\n",
       "      <td>2025-06-21 00:00:00+00:00</td>\n",
       "      <td>45A5868267C8A445F6B696C495AA8673</td>\n",
       "      <td>Aduro Clean Technologies Announces Closing of ...</td>\n",
       "      <td>7.0</td>\n",
       "      <td>45A5868267C8A445F6B696C495AA8673-7</td>\n",
       "      <td>D051D6</td>\n",
       "      <td>Global Data Point</td>\n",
       "      <td>About Aduro Clean Technologies\\nAduro Clean Te...</td>\n",
       "      <td>Heavy Crude</td>\n",
       "      <td>2025-06-21</td>\n",
       "    </tr>\n",
       "    <tr>\n",
       "      <th>1</th>\n",
       "      <td>2025-06-21 00:00:00+00:00</td>\n",
       "      <td>86E659AE53391BE3F217C0EC3B031F97</td>\n",
       "      <td>Peter Dey Announces Retirement from Gran Tierr...</td>\n",
       "      <td>3.0</td>\n",
       "      <td>86E659AE53391BE3F217C0EC3B031F97-3</td>\n",
       "      <td>346656</td>\n",
       "      <td>Executive Appointments Worldwide</td>\n",
       "      <td>About Gran Tierra Energy Inc.\\nGran Tierra Ene...</td>\n",
       "      <td>Exploration and Production</td>\n",
       "      <td>2025-06-21</td>\n",
       "    </tr>\n",
       "    <tr>\n",
       "      <th>2</th>\n",
       "      <td>2025-06-21 00:00:00+00:00</td>\n",
       "      <td>5D552639AE35AB037AB8D54E1BB8E210</td>\n",
       "      <td>India's Core Sector Growth Drops to a Nine-Mon...</td>\n",
       "      <td>3.0</td>\n",
       "      <td>5D552639AE35AB037AB8D54E1BB8E210-3</td>\n",
       "      <td>923B93</td>\n",
       "      <td>Financial Services Monitor Worldwide</td>\n",
       "      <td>The subdued performance, per the data released...</td>\n",
       "      <td>Oil Production</td>\n",
       "      <td>2025-06-21</td>\n",
       "    </tr>\n",
       "    <tr>\n",
       "      <th>3</th>\n",
       "      <td>2025-06-21 00:00:00+00:00</td>\n",
       "      <td>69CCADC9237768F4A7026FB0DAC9F6CA</td>\n",
       "      <td>\"eBL, Payment Equals Settlement\" - KUN and Tra...</td>\n",
       "      <td>6.0</td>\n",
       "      <td>69CCADC9237768F4A7026FB0DAC9F6CA-6</td>\n",
       "      <td>923B93</td>\n",
       "      <td>Financial Services Monitor Worldwide</td>\n",
       "      <td>About TradeGo\\nFounded in Singapore in Novembe...</td>\n",
       "      <td>Saudi Aramco</td>\n",
       "      <td>2025-06-21</td>\n",
       "    </tr>\n",
       "    <tr>\n",
       "      <th>4</th>\n",
       "      <td>2025-06-21 00:00:00+00:00</td>\n",
       "      <td>A592E34C64FF3D667032053A54199868</td>\n",
       "      <td>Global Times: China and LAC countries deepen t...</td>\n",
       "      <td>17.0</td>\n",
       "      <td>A592E34C64FF3D667032053A54199868-17</td>\n",
       "      <td>D051D6</td>\n",
       "      <td>Global Data Point</td>\n",
       "      <td>CBERS images are also utilized within the fram...</td>\n",
       "      <td>Oil Spill</td>\n",
       "      <td>2025-06-21</td>\n",
       "    </tr>\n",
       "    <tr>\n",
       "      <th>...</th>\n",
       "      <td>...</td>\n",
       "      <td>...</td>\n",
       "      <td>...</td>\n",
       "      <td>...</td>\n",
       "      <td>...</td>\n",
       "      <td>...</td>\n",
       "      <td>...</td>\n",
       "      <td>...</td>\n",
       "      <td>...</td>\n",
       "      <td>...</td>\n",
       "    </tr>\n",
       "    <tr>\n",
       "      <th>7469</th>\n",
       "      <td>2025-06-28 23:37:13+00:00</td>\n",
       "      <td>99083749AA42E83A4352A4002BC9479C</td>\n",
       "      <td>3 days after Kullu flash flood, missing teen's...</td>\n",
       "      <td>2.0</td>\n",
       "      <td>99083749AA42E83A4352A4002BC9479C-2</td>\n",
       "      <td>80FC03</td>\n",
       "      <td>The Times Of India</td>\n",
       "      <td>They were swept away from a hydropower project...</td>\n",
       "      <td>Upstream</td>\n",
       "      <td>2025-06-28</td>\n",
       "    </tr>\n",
       "    <tr>\n",
       "      <th>7470</th>\n",
       "      <td>2025-06-28 23:48:49+00:00</td>\n",
       "      <td>456DB9D74C8F0B01626EE845F8FF4CA6</td>\n",
       "      <td>Caught on camera: Car literally drives through...</td>\n",
       "      <td>2.0</td>\n",
       "      <td>456DB9D74C8F0B01626EE845F8FF4CA6-2</td>\n",
       "      <td>E54C73</td>\n",
       "      <td>ABC News</td>\n",
       "      <td>\"This is like a movie or something,\" Patel sai...</td>\n",
       "      <td>Barrel</td>\n",
       "      <td>2025-06-28</td>\n",
       "    </tr>\n",
       "    <tr>\n",
       "      <th>7471</th>\n",
       "      <td>2025-06-28 23:50:36+00:00</td>\n",
       "      <td>DF667772C27122819087C82C1D54C3DD</td>\n",
       "      <td>The Strategic Empire: Debt &amp; the Dollar</td>\n",
       "      <td>46.0</td>\n",
       "      <td>DF667772C27122819087C82C1D54C3DD-46</td>\n",
       "      <td>EC0C87</td>\n",
       "      <td>Michael Hudson</td>\n",
       "      <td>The United States is unwilling to annul Global...</td>\n",
       "      <td>OPEC</td>\n",
       "      <td>2025-06-28</td>\n",
       "    </tr>\n",
       "    <tr>\n",
       "      <th>7472</th>\n",
       "      <td>2025-06-28 23:50:36+00:00</td>\n",
       "      <td>DF667772C27122819087C82C1D54C3DD</td>\n",
       "      <td>The Strategic Empire: Debt &amp; the Dollar</td>\n",
       "      <td>55.0</td>\n",
       "      <td>DF667772C27122819087C82C1D54C3DD-55</td>\n",
       "      <td>EC0C87</td>\n",
       "      <td>Michael Hudson</td>\n",
       "      <td>Yes, someday the United States cannot get a fr...</td>\n",
       "      <td>OPEC</td>\n",
       "      <td>2025-06-28</td>\n",
       "    </tr>\n",
       "    <tr>\n",
       "      <th>7473</th>\n",
       "      <td>2025-06-28 23:50:36+00:00</td>\n",
       "      <td>DF667772C27122819087C82C1D54C3DD</td>\n",
       "      <td>The Strategic Empire: Debt &amp; the Dollar</td>\n",
       "      <td>47.0</td>\n",
       "      <td>DF667772C27122819087C82C1D54C3DD-47</td>\n",
       "      <td>EC0C87</td>\n",
       "      <td>Michael Hudson</td>\n",
       "      <td>However, the condition for letting OPEC countr...</td>\n",
       "      <td>OPEC+</td>\n",
       "      <td>2025-06-28</td>\n",
       "    </tr>\n",
       "  </tbody>\n",
       "</table>\n",
       "<p>7474 rows × 10 columns</p>\n",
       "</div>"
      ],
      "text/plain": [
       "                     timestamp                    rp_document_id  \\\n",
       "0    2025-06-21 00:00:00+00:00  45A5868267C8A445F6B696C495AA8673   \n",
       "1    2025-06-21 00:00:00+00:00  86E659AE53391BE3F217C0EC3B031F97   \n",
       "2    2025-06-21 00:00:00+00:00  5D552639AE35AB037AB8D54E1BB8E210   \n",
       "3    2025-06-21 00:00:00+00:00  69CCADC9237768F4A7026FB0DAC9F6CA   \n",
       "4    2025-06-21 00:00:00+00:00  A592E34C64FF3D667032053A54199868   \n",
       "...                        ...                               ...   \n",
       "7469 2025-06-28 23:37:13+00:00  99083749AA42E83A4352A4002BC9479C   \n",
       "7470 2025-06-28 23:48:49+00:00  456DB9D74C8F0B01626EE845F8FF4CA6   \n",
       "7471 2025-06-28 23:50:36+00:00  DF667772C27122819087C82C1D54C3DD   \n",
       "7472 2025-06-28 23:50:36+00:00  DF667772C27122819087C82C1D54C3DD   \n",
       "7473 2025-06-28 23:50:36+00:00  DF667772C27122819087C82C1D54C3DD   \n",
       "\n",
       "                                               headline  chunk_number  \\\n",
       "0     Aduro Clean Technologies Announces Closing of ...           7.0   \n",
       "1     Peter Dey Announces Retirement from Gran Tierr...           3.0   \n",
       "2     India's Core Sector Growth Drops to a Nine-Mon...           3.0   \n",
       "3     \"eBL, Payment Equals Settlement\" - KUN and Tra...           6.0   \n",
       "4     Global Times: China and LAC countries deepen t...          17.0   \n",
       "...                                                 ...           ...   \n",
       "7469  3 days after Kullu flash flood, missing teen's...           2.0   \n",
       "7470  Caught on camera: Car literally drives through...           2.0   \n",
       "7471            The Strategic Empire: Debt & the Dollar          46.0   \n",
       "7472            The Strategic Empire: Debt & the Dollar          55.0   \n",
       "7473            The Strategic Empire: Debt & the Dollar          47.0   \n",
       "\n",
       "                              sentence_id source_id  \\\n",
       "0      45A5868267C8A445F6B696C495AA8673-7    D051D6   \n",
       "1      86E659AE53391BE3F217C0EC3B031F97-3    346656   \n",
       "2      5D552639AE35AB037AB8D54E1BB8E210-3    923B93   \n",
       "3      69CCADC9237768F4A7026FB0DAC9F6CA-6    923B93   \n",
       "4     A592E34C64FF3D667032053A54199868-17    D051D6   \n",
       "...                                   ...       ...   \n",
       "7469   99083749AA42E83A4352A4002BC9479C-2    80FC03   \n",
       "7470   456DB9D74C8F0B01626EE845F8FF4CA6-2    E54C73   \n",
       "7471  DF667772C27122819087C82C1D54C3DD-46    EC0C87   \n",
       "7472  DF667772C27122819087C82C1D54C3DD-55    EC0C87   \n",
       "7473  DF667772C27122819087C82C1D54C3DD-47    EC0C87   \n",
       "\n",
       "                               source_name  \\\n",
       "0                        Global Data Point   \n",
       "1         Executive Appointments Worldwide   \n",
       "2     Financial Services Monitor Worldwide   \n",
       "3     Financial Services Monitor Worldwide   \n",
       "4                        Global Data Point   \n",
       "...                                    ...   \n",
       "7469                    The Times Of India   \n",
       "7470                              ABC News   \n",
       "7471                        Michael Hudson   \n",
       "7472                        Michael Hudson   \n",
       "7473                        Michael Hudson   \n",
       "\n",
       "                                                   text  \\\n",
       "0     About Aduro Clean Technologies\\nAduro Clean Te...   \n",
       "1     About Gran Tierra Energy Inc.\\nGran Tierra Ene...   \n",
       "2     The subdued performance, per the data released...   \n",
       "3     About TradeGo\\nFounded in Singapore in Novembe...   \n",
       "4     CBERS images are also utilized within the fram...   \n",
       "...                                                 ...   \n",
       "7469  They were swept away from a hydropower project...   \n",
       "7470  \"This is like a movie or something,\" Patel sai...   \n",
       "7471  The United States is unwilling to annul Global...   \n",
       "7472  Yes, someday the United States cannot get a fr...   \n",
       "7473  However, the condition for letting OPEC countr...   \n",
       "\n",
       "                         keyword        date  \n",
       "0                    Heavy Crude  2025-06-21  \n",
       "1     Exploration and Production  2025-06-21  \n",
       "2                 Oil Production  2025-06-21  \n",
       "3                   Saudi Aramco  2025-06-21  \n",
       "4                      Oil Spill  2025-06-21  \n",
       "...                          ...         ...  \n",
       "7469                    Upstream  2025-06-28  \n",
       "7470                      Barrel  2025-06-28  \n",
       "7471                        OPEC  2025-06-28  \n",
       "7472                        OPEC  2025-06-28  \n",
       "7473                       OPEC+  2025-06-28  \n",
       "\n",
       "[7474 rows x 10 columns]"
      ]
     },
     "execution_count": 14,
     "metadata": {},
     "output_type": "execute_result"
    }
   ],
   "source": [
    "results"
   ]
  },
  {
   "cell_type": "markdown",
   "id": "0fc44aa5-c056-4163-8dea-d204f8b1307b",
   "metadata": {
    "id": "0fc44aa5-c056-4163-8dea-d204f8b1307b"
   },
   "source": [
    "# Step 3- Topic Clustering and Selection"
   ]
  },
  {
   "cell_type": "markdown",
   "id": "8bcf7b34-71cd-4631-a220-754be8118aaa",
   "metadata": {
    "id": "8bcf7b34-71cd-4631-a220-754be8118aaa"
   },
   "source": [
    "In this step, we perform topic modelling using a large language model to verify and cluster the news. Then, the summarization ensures topic selection identifying the top trending news for crude oil, while deriving advanced analytics to quantify the trendiness (based on news volume), novelty (based on daily changes in summaries), impact and magnitude (based on the financial materiality on crude oil prices) of the trending topics."
   ]
  },
  {
   "cell_type": "markdown",
   "id": "0ef0fb0c-bc04-4024-b194-aa15b50b986f",
   "metadata": {
    "id": "0ef0fb0c-bc04-4024-b194-aa15b50b986f"
   },
   "source": [
    "Before performing the topic clustering, we apply a verification layer to remove the news that are not relative to the oil market"
   ]
  },
  {
   "cell_type": "code",
   "execution_count": 15,
   "id": "a42d4ffb",
   "metadata": {},
   "outputs": [],
   "source": [
    "model = \"gpt-4o-mini\" \n",
    "api_key = os.getenv(\"OPENAI_API_KEY\")"
   ]
  },
  {
   "cell_type": "code",
   "execution_count": 16,
   "id": "506b4878",
   "metadata": {},
   "outputs": [
    {
     "data": {
      "application/vnd.jupyter.widget-view+json": {
       "model_id": "8c1548f3f6894761a6e8cf00a7034ade",
       "version_major": 2,
       "version_minor": 0
      },
      "text/plain": [
       "Filtering News:   0%|          | 0/7474 [00:00<?, ?it/s]"
      ]
     },
     "metadata": {},
     "output_type": "display_data"
    }
   ],
   "source": [
    "semaphore_size = 1000\n",
    "\n",
    "# Assuming unique_reports is your DataFrame\n",
    "filtered_reports = process_all_reports(results, model, api_key, main_theme, semaphore_size)"
   ]
  },
  {
   "cell_type": "markdown",
   "id": "e7d982ff-751c-42fc-a704-4cf576035e35",
   "metadata": {
    "id": "e7d982ff-751c-42fc-a704-4cf576035e35"
   },
   "source": [
    "In this cell, we leverage a LLM to perform topic modeling, identifying and clustering the key topics from the news reports."
   ]
  },
  {
   "cell_type": "code",
   "execution_count": 17,
   "id": "18728d0d",
   "metadata": {},
   "outputs": [
    {
     "data": {
      "text/html": [
       "<div>\n",
       "<style scoped>\n",
       "    .dataframe tbody tr th:only-of-type {\n",
       "        vertical-align: middle;\n",
       "    }\n",
       "\n",
       "    .dataframe tbody tr th {\n",
       "        vertical-align: top;\n",
       "    }\n",
       "\n",
       "    .dataframe thead th {\n",
       "        text-align: right;\n",
       "    }\n",
       "</style>\n",
       "<table border=\"1\" class=\"dataframe\">\n",
       "  <thead>\n",
       "    <tr style=\"text-align: right;\">\n",
       "      <th></th>\n",
       "      <th>timestamp</th>\n",
       "      <th>rp_document_id</th>\n",
       "      <th>headline</th>\n",
       "      <th>chunk_number</th>\n",
       "      <th>sentence_id</th>\n",
       "      <th>source_id</th>\n",
       "      <th>source_name</th>\n",
       "      <th>text</th>\n",
       "      <th>keyword</th>\n",
       "      <th>date</th>\n",
       "    </tr>\n",
       "  </thead>\n",
       "  <tbody>\n",
       "    <tr>\n",
       "      <th>0</th>\n",
       "      <td>2025-06-21 00:00:00+00:00</td>\n",
       "      <td>45A5868267C8A445F6B696C495AA8673</td>\n",
       "      <td>Aduro Clean Technologies Announces Closing of ...</td>\n",
       "      <td>7.0</td>\n",
       "      <td>45A5868267C8A445F6B696C495AA8673-7</td>\n",
       "      <td>D051D6</td>\n",
       "      <td>Global Data Point</td>\n",
       "      <td>About Aduro Clean Technologies\\nAduro Clean Te...</td>\n",
       "      <td>Heavy Crude</td>\n",
       "      <td>2025-06-21</td>\n",
       "    </tr>\n",
       "    <tr>\n",
       "      <th>1</th>\n",
       "      <td>2025-06-21 00:00:00+00:00</td>\n",
       "      <td>86E659AE53391BE3F217C0EC3B031F97</td>\n",
       "      <td>Peter Dey Announces Retirement from Gran Tierr...</td>\n",
       "      <td>3.0</td>\n",
       "      <td>86E659AE53391BE3F217C0EC3B031F97-3</td>\n",
       "      <td>346656</td>\n",
       "      <td>Executive Appointments Worldwide</td>\n",
       "      <td>About Gran Tierra Energy Inc.\\nGran Tierra Ene...</td>\n",
       "      <td>Exploration and Production</td>\n",
       "      <td>2025-06-21</td>\n",
       "    </tr>\n",
       "    <tr>\n",
       "      <th>2</th>\n",
       "      <td>2025-06-21 00:00:00+00:00</td>\n",
       "      <td>EE3309C79EA552874F436912D2F6A67A</td>\n",
       "      <td>US Supreme Court sets rules for venue selectio...</td>\n",
       "      <td>3.0</td>\n",
       "      <td>EE3309C79EA552874F436912D2F6A67A-3</td>\n",
       "      <td>BC923D</td>\n",
       "      <td>Legal Monitor Worldwide</td>\n",
       "      <td>The EPA had previously argued that the CAAs na...</td>\n",
       "      <td>Oil Refinery</td>\n",
       "      <td>2025-06-21</td>\n",
       "    </tr>\n",
       "    <tr>\n",
       "      <th>3</th>\n",
       "      <td>2025-06-21 00:00:00+00:00</td>\n",
       "      <td>5DB7156ACE3425F4F61B3BE3E882AF0D</td>\n",
       "      <td>Premium Alcohol Market Forecasts Report 2025-2...</td>\n",
       "      <td>3.0</td>\n",
       "      <td>5DB7156ACE3425F4F61B3BE3E882AF0D-3</td>\n",
       "      <td>923B93</td>\n",
       "      <td>Financial Services Monitor Worldwide</td>\n",
       "      <td>Market Trends Growing Disposable Income and Ur...</td>\n",
       "      <td>Energy Information Administration</td>\n",
       "      <td>2025-06-21</td>\n",
       "    </tr>\n",
       "    <tr>\n",
       "      <th>4</th>\n",
       "      <td>2025-06-21 00:00:00+00:00</td>\n",
       "      <td>96EC510A80FAD37155CD1543681E8CC1</td>\n",
       "      <td>Morning Briefing: June 21, 2025</td>\n",
       "      <td>10.0</td>\n",
       "      <td>96EC510A80FAD37155CD1543681E8CC1-10</td>\n",
       "      <td>CE1ADC</td>\n",
       "      <td>Anadolu Agency</td>\n",
       "      <td>- China faces oil supply risk if Israel-Iran c...</td>\n",
       "      <td>Oil Import</td>\n",
       "      <td>2025-06-21</td>\n",
       "    </tr>\n",
       "    <tr>\n",
       "      <th>...</th>\n",
       "      <td>...</td>\n",
       "      <td>...</td>\n",
       "      <td>...</td>\n",
       "      <td>...</td>\n",
       "      <td>...</td>\n",
       "      <td>...</td>\n",
       "      <td>...</td>\n",
       "      <td>...</td>\n",
       "      <td>...</td>\n",
       "      <td>...</td>\n",
       "    </tr>\n",
       "    <tr>\n",
       "      <th>4256</th>\n",
       "      <td>2025-06-28 23:33:44+00:00</td>\n",
       "      <td>42F7600A56C081D0A03B719DAF6A339A</td>\n",
       "      <td>3 Magnificent S&amp;P 500 Dividend Stocks Down 25%...</td>\n",
       "      <td>6.0</td>\n",
       "      <td>42F7600A56C081D0A03B719DAF6A339A-6</td>\n",
       "      <td>648085</td>\n",
       "      <td>AOL.com</td>\n",
       "      <td>Oneok's durable midstream business model has e...</td>\n",
       "      <td>Midstream</td>\n",
       "      <td>2025-06-28</td>\n",
       "    </tr>\n",
       "    <tr>\n",
       "      <th>4257</th>\n",
       "      <td>2025-06-28 23:33:44+00:00</td>\n",
       "      <td>42F7600A56C081D0A03B719DAF6A339A</td>\n",
       "      <td>3 Magnificent S&amp;P 500 Dividend Stocks Down 25%...</td>\n",
       "      <td>5.0</td>\n",
       "      <td>42F7600A56C081D0A03B719DAF6A339A-5</td>\n",
       "      <td>648085</td>\n",
       "      <td>AOL.com</td>\n",
       "      <td>A lot of fuel to continue growing\\nOneok's sto...</td>\n",
       "      <td>Midstream</td>\n",
       "      <td>2025-06-28</td>\n",
       "    </tr>\n",
       "    <tr>\n",
       "      <th>4258</th>\n",
       "      <td>2025-06-28 23:48:49+00:00</td>\n",
       "      <td>456DB9D74C8F0B01626EE845F8FF4CA6</td>\n",
       "      <td>Caught on camera: Car literally drives through...</td>\n",
       "      <td>2.0</td>\n",
       "      <td>456DB9D74C8F0B01626EE845F8FF4CA6-2</td>\n",
       "      <td>E54C73</td>\n",
       "      <td>ABC News</td>\n",
       "      <td>\"This is like a movie or something,\" Patel sai...</td>\n",
       "      <td>Barrel</td>\n",
       "      <td>2025-06-28</td>\n",
       "    </tr>\n",
       "    <tr>\n",
       "      <th>4259</th>\n",
       "      <td>2025-06-28 23:50:36+00:00</td>\n",
       "      <td>DF667772C27122819087C82C1D54C3DD</td>\n",
       "      <td>The Strategic Empire: Debt &amp; the Dollar</td>\n",
       "      <td>46.0</td>\n",
       "      <td>DF667772C27122819087C82C1D54C3DD-46</td>\n",
       "      <td>EC0C87</td>\n",
       "      <td>Michael Hudson</td>\n",
       "      <td>The United States is unwilling to annul Global...</td>\n",
       "      <td>OPEC</td>\n",
       "      <td>2025-06-28</td>\n",
       "    </tr>\n",
       "    <tr>\n",
       "      <th>4260</th>\n",
       "      <td>2025-06-28 23:50:36+00:00</td>\n",
       "      <td>DF667772C27122819087C82C1D54C3DD</td>\n",
       "      <td>The Strategic Empire: Debt &amp; the Dollar</td>\n",
       "      <td>47.0</td>\n",
       "      <td>DF667772C27122819087C82C1D54C3DD-47</td>\n",
       "      <td>EC0C87</td>\n",
       "      <td>Michael Hudson</td>\n",
       "      <td>However, the condition for letting OPEC countr...</td>\n",
       "      <td>OPEC+</td>\n",
       "      <td>2025-06-28</td>\n",
       "    </tr>\n",
       "  </tbody>\n",
       "</table>\n",
       "<p>4261 rows × 10 columns</p>\n",
       "</div>"
      ],
      "text/plain": [
       "                     timestamp                    rp_document_id  \\\n",
       "0    2025-06-21 00:00:00+00:00  45A5868267C8A445F6B696C495AA8673   \n",
       "1    2025-06-21 00:00:00+00:00  86E659AE53391BE3F217C0EC3B031F97   \n",
       "2    2025-06-21 00:00:00+00:00  EE3309C79EA552874F436912D2F6A67A   \n",
       "3    2025-06-21 00:00:00+00:00  5DB7156ACE3425F4F61B3BE3E882AF0D   \n",
       "4    2025-06-21 00:00:00+00:00  96EC510A80FAD37155CD1543681E8CC1   \n",
       "...                        ...                               ...   \n",
       "4256 2025-06-28 23:33:44+00:00  42F7600A56C081D0A03B719DAF6A339A   \n",
       "4257 2025-06-28 23:33:44+00:00  42F7600A56C081D0A03B719DAF6A339A   \n",
       "4258 2025-06-28 23:48:49+00:00  456DB9D74C8F0B01626EE845F8FF4CA6   \n",
       "4259 2025-06-28 23:50:36+00:00  DF667772C27122819087C82C1D54C3DD   \n",
       "4260 2025-06-28 23:50:36+00:00  DF667772C27122819087C82C1D54C3DD   \n",
       "\n",
       "                                               headline  chunk_number  \\\n",
       "0     Aduro Clean Technologies Announces Closing of ...           7.0   \n",
       "1     Peter Dey Announces Retirement from Gran Tierr...           3.0   \n",
       "2     US Supreme Court sets rules for venue selectio...           3.0   \n",
       "3     Premium Alcohol Market Forecasts Report 2025-2...           3.0   \n",
       "4                       Morning Briefing: June 21, 2025          10.0   \n",
       "...                                                 ...           ...   \n",
       "4256  3 Magnificent S&P 500 Dividend Stocks Down 25%...           6.0   \n",
       "4257  3 Magnificent S&P 500 Dividend Stocks Down 25%...           5.0   \n",
       "4258  Caught on camera: Car literally drives through...           2.0   \n",
       "4259            The Strategic Empire: Debt & the Dollar          46.0   \n",
       "4260            The Strategic Empire: Debt & the Dollar          47.0   \n",
       "\n",
       "                              sentence_id source_id  \\\n",
       "0      45A5868267C8A445F6B696C495AA8673-7    D051D6   \n",
       "1      86E659AE53391BE3F217C0EC3B031F97-3    346656   \n",
       "2      EE3309C79EA552874F436912D2F6A67A-3    BC923D   \n",
       "3      5DB7156ACE3425F4F61B3BE3E882AF0D-3    923B93   \n",
       "4     96EC510A80FAD37155CD1543681E8CC1-10    CE1ADC   \n",
       "...                                   ...       ...   \n",
       "4256   42F7600A56C081D0A03B719DAF6A339A-6    648085   \n",
       "4257   42F7600A56C081D0A03B719DAF6A339A-5    648085   \n",
       "4258   456DB9D74C8F0B01626EE845F8FF4CA6-2    E54C73   \n",
       "4259  DF667772C27122819087C82C1D54C3DD-46    EC0C87   \n",
       "4260  DF667772C27122819087C82C1D54C3DD-47    EC0C87   \n",
       "\n",
       "                               source_name  \\\n",
       "0                        Global Data Point   \n",
       "1         Executive Appointments Worldwide   \n",
       "2                  Legal Monitor Worldwide   \n",
       "3     Financial Services Monitor Worldwide   \n",
       "4                           Anadolu Agency   \n",
       "...                                    ...   \n",
       "4256                               AOL.com   \n",
       "4257                               AOL.com   \n",
       "4258                              ABC News   \n",
       "4259                        Michael Hudson   \n",
       "4260                        Michael Hudson   \n",
       "\n",
       "                                                   text  \\\n",
       "0     About Aduro Clean Technologies\\nAduro Clean Te...   \n",
       "1     About Gran Tierra Energy Inc.\\nGran Tierra Ene...   \n",
       "2     The EPA had previously argued that the CAAs na...   \n",
       "3     Market Trends Growing Disposable Income and Ur...   \n",
       "4     - China faces oil supply risk if Israel-Iran c...   \n",
       "...                                                 ...   \n",
       "4256  Oneok's durable midstream business model has e...   \n",
       "4257  A lot of fuel to continue growing\\nOneok's sto...   \n",
       "4258  \"This is like a movie or something,\" Patel sai...   \n",
       "4259  The United States is unwilling to annul Global...   \n",
       "4260  However, the condition for letting OPEC countr...   \n",
       "\n",
       "                                keyword        date  \n",
       "0                           Heavy Crude  2025-06-21  \n",
       "1            Exploration and Production  2025-06-21  \n",
       "2                          Oil Refinery  2025-06-21  \n",
       "3     Energy Information Administration  2025-06-21  \n",
       "4                            Oil Import  2025-06-21  \n",
       "...                                 ...         ...  \n",
       "4256                          Midstream  2025-06-28  \n",
       "4257                          Midstream  2025-06-28  \n",
       "4258                             Barrel  2025-06-28  \n",
       "4259                               OPEC  2025-06-28  \n",
       "4260                              OPEC+  2025-06-28  \n",
       "\n",
       "[4261 rows x 10 columns]"
      ]
     },
     "execution_count": 17,
     "metadata": {},
     "output_type": "execute_result"
    }
   ],
   "source": [
    "filtered_reports"
   ]
  },
  {
   "cell_type": "code",
   "execution_count": 18,
   "id": "a989a1aa-e758-489b-98a6-0ba259ea976c",
   "metadata": {
    "colab": {
     "referenced_widgets": [
      "7e9b9ce871154b5e80ce5b9020ff34f2"
     ]
    },
    "id": "a989a1aa-e758-489b-98a6-0ba259ea976c",
    "outputId": "4cac4b38-cb6a-4d59-b13a-50c26c176e2c"
   },
   "outputs": [
    {
     "data": {
      "application/vnd.jupyter.widget-view+json": {
       "model_id": "a889644cfe8a4a2cad883f861aba6220",
       "version_major": 2,
       "version_minor": 0
      },
      "text/plain": [
       "Extracting Topics for 2025-06-21:   0%|          | 0/20 [00:00<?, ?it/s]"
      ]
     },
     "metadata": {},
     "output_type": "display_data"
    },
    {
     "data": {
      "application/vnd.jupyter.widget-view+json": {
       "model_id": "20f249265af441df824b08a91faac7d4",
       "version_major": 2,
       "version_minor": 0
      },
      "text/plain": [
       "Extracting Topics for 2025-06-22:   0%|          | 0/20 [00:00<?, ?it/s]"
      ]
     },
     "metadata": {},
     "output_type": "display_data"
    },
    {
     "data": {
      "application/vnd.jupyter.widget-view+json": {
       "model_id": "e0a3afc056874c28a428cd946a8ec382",
       "version_major": 2,
       "version_minor": 0
      },
      "text/plain": [
       "Extracting Topics for 2025-06-23:   0%|          | 0/20 [00:00<?, ?it/s]"
      ]
     },
     "metadata": {},
     "output_type": "display_data"
    },
    {
     "data": {
      "application/vnd.jupyter.widget-view+json": {
       "model_id": "7a3472674f624cdea765ea8d237a457b",
       "version_major": 2,
       "version_minor": 0
      },
      "text/plain": [
       "Extracting Topics for 2025-06-24:   0%|          | 0/20 [00:00<?, ?it/s]"
      ]
     },
     "metadata": {},
     "output_type": "display_data"
    },
    {
     "data": {
      "application/vnd.jupyter.widget-view+json": {
       "model_id": "d67072d6de2a41f59af422575fc629ec",
       "version_major": 2,
       "version_minor": 0
      },
      "text/plain": [
       "Extracting Topics for 2025-06-25:   0%|          | 0/20 [00:00<?, ?it/s]"
      ]
     },
     "metadata": {},
     "output_type": "display_data"
    },
    {
     "data": {
      "application/vnd.jupyter.widget-view+json": {
       "model_id": "8efcf2f36040467fb8eed40ce46da1ef",
       "version_major": 2,
       "version_minor": 0
      },
      "text/plain": [
       "Extracting Topics for 2025-06-26:   0%|          | 0/20 [00:00<?, ?it/s]"
      ]
     },
     "metadata": {},
     "output_type": "display_data"
    },
    {
     "data": {
      "application/vnd.jupyter.widget-view+json": {
       "model_id": "a4c083d695004326ab2274654a826101",
       "version_major": 2,
       "version_minor": 0
      },
      "text/plain": [
       "Extracting Topics for 2025-06-27:   0%|          | 0/20 [00:00<?, ?it/s]"
      ]
     },
     "metadata": {},
     "output_type": "display_data"
    },
    {
     "data": {
      "application/vnd.jupyter.widget-view+json": {
       "model_id": "e67e8fc382fd446199eac3d7ba677a75",
       "version_major": 2,
       "version_minor": 0
      },
      "text/plain": [
       "Extracting Topics for 2025-06-28:   0%|          | 0/20 [00:00<?, ?it/s]"
      ]
     },
     "metadata": {},
     "output_type": "display_data"
    },
    {
     "name": "stdout",
     "output_type": "stream",
     "text": [
      "Consolidating topics...\n"
     ]
    },
    {
     "name": "stderr",
     "output_type": "stream",
     "text": [
      "Consolidating topic batches: 100%|██████████| 10/10 [00:22<00:00,  2.21s/it]\n"
     ]
    },
    {
     "name": "stdout",
     "output_type": "stream",
     "text": [
      "Summarizing text for each topic...\n"
     ]
    },
    {
     "name": "stderr",
     "output_type": "stream",
     "text": [
      "Summarizing topics: 100%|██████████| 18/18 [00:09<00:00,  1.97it/s]\n",
      "Generating titles: 100%|██████████| 19/19 [00:11<00:00,  1.62it/s]\n"
     ]
    },
    {
     "name": "stdout",
     "output_type": "stream",
     "text": [
      "Generating Day in Review summaries...\n",
      "Adding one-line summaries to DataFrame...\n"
     ]
    },
    {
     "name": "stderr",
     "output_type": "stream",
     "text": [
      "Generating text summaries: 100%|██████████| 1811/1811 [00:59<00:00, 30.19it/s] \n"
     ]
    }
   ],
   "source": [
    "flattened_trending_topics_df = run_process_all_trending_topics(\n",
    "    unique_reports=filtered_reports,\n",
    "    model=model,\n",
    "    start_query=start_query,\n",
    "    end_query=end_query,\n",
    "    api_key=os.environ['OPENAI_API_KEY'],\n",
    "    main_theme = main_theme,\n",
    "    batches = 20\n",
    ")\n"
   ]
  },
  {
   "cell_type": "markdown",
   "id": "dc7f18a8-f5a2-4bf2-b713-e525197fad29",
   "metadata": {
    "id": "dc7f18a8-f5a2-4bf2-b713-e525197fad29"
   },
   "source": [
    "**Trendiness and Novelty Scores**: We derive analytics related to the trendiness of the topic based on the news volume, and the novelty of the topic based on the changes in daily summaries, evaluating the uniqueness and freshness of each topic."
   ]
  },
  {
   "cell_type": "code",
   "execution_count": 19,
   "id": "9344c4cf-847c-49c4-a5bc-23cf1b542369",
   "metadata": {
    "colab": {
     "referenced_widgets": [
      "d792421b0c964d3b83a252d78d82fdb2"
     ]
    },
    "id": "9344c4cf-847c-49c4-a5bc-23cf1b542369",
    "outputId": "890e1da7-8945-41f4-b64c-6350209a1a90"
   },
   "outputs": [
    {
     "data": {
      "application/vnd.jupyter.widget-view+json": {
       "model_id": "65107404dd2f4797b80113f9f451e3f9",
       "version_major": 2,
       "version_minor": 0
      },
      "text/plain": [
       "Calculating Novelty Scores:   0%|          | 0/49 [00:00<?, ?it/s]"
      ]
     },
     "metadata": {},
     "output_type": "display_data"
    }
   ],
   "source": [
    "# Calculate trendiness and novelty scores, assessing the uniqueness and freshness of each topic\n",
    "flattened_trending_topics_df = run_add_advanced_novelty_scores(flattened_trending_topics_df, api_key = os.environ['OPENAI_API_KEY'], main_theme = main_theme)"
   ]
  },
  {
   "cell_type": "markdown",
   "id": "8dad5fdd-ec65-49ad-a706-2f125f730621",
   "metadata": {
    "id": "8dad5fdd-ec65-49ad-a706-2f125f730621"
   },
   "source": [
    "**Financial Materiality**: We derive analytics related to the impact (Positive, Negative) and magnitude (High, Medium, Low) of the topics, inferring their  market impact on crude oil prices. The inference is based on the price mechanisms involving supply and demand dynamics, geopolitical factors among others."
   ]
  },
  {
   "cell_type": "code",
   "execution_count": 20,
   "id": "a4ee2bfa-7bc4-4a38-a43f-dc3bc285a78a",
   "metadata": {
    "id": "a4ee2bfa-7bc4-4a38-a43f-dc3bc285a78a"
   },
   "outputs": [],
   "source": [
    "point_of_view = \"a crude oil trader, where price is influenced by supply-demand dynamics, geopolitical events, and market sentiment. \\\n",
    "As a trader, you focus on changes in production, inventories, and economic indicators from key markets.\"\n",
    "\n",
    "flattened_trending_topics_df = add_market_impact_to_df(flattened_trending_topics_df, api_key = os.environ['OPENAI_API_KEY'], main_theme = main_theme, point_of_view = point_of_view)"
   ]
  },
  {
   "cell_type": "markdown",
   "id": "1fc2eaff-20b6-472f-8cf2-57ea3b695d0d",
   "metadata": {
    "id": "1fc2eaff-20b6-472f-8cf2-57ea3b695d0d"
   },
   "source": [
    "We display the results of topic modeling and summarization. The **Topic** column represents the themes inferred through topic clustering using a LLM, which groups the news articles based on their content and underlying themes. The **Summary** provides a synthesized overview of all news articles within the same topic, offering a high-level view of the key messages for each cluster. The **Topic** is then rephrased into a concise form based on the summary. The **Text_Summary** provides a detailed summary of each individualchunk, capturing its core message."
   ]
  },
  {
   "cell_type": "code",
   "execution_count": 21,
   "id": "69b46fce-227e-4195-af43-e0f0dda964b2",
   "metadata": {
    "id": "69b46fce-227e-4195-af43-e0f0dda964b2",
    "outputId": "dca9d603-8e0c-4117-ead7-a7ec546a9492"
   },
   "outputs": [
    {
     "data": {
      "text/html": [
       "<div>\n",
       "<style scoped>\n",
       "    .dataframe tbody tr th:only-of-type {\n",
       "        vertical-align: middle;\n",
       "    }\n",
       "\n",
       "    .dataframe tbody tr th {\n",
       "        vertical-align: top;\n",
       "    }\n",
       "\n",
       "    .dataframe thead th {\n",
       "        text-align: right;\n",
       "    }\n",
       "</style>\n",
       "<table border=\"1\" class=\"dataframe\">\n",
       "  <thead>\n",
       "    <tr style=\"text-align: right;\">\n",
       "      <th></th>\n",
       "      <th>Date</th>\n",
       "      <th>Day_in_Review</th>\n",
       "      <th>Topic</th>\n",
       "      <th>Summary</th>\n",
       "      <th>Source</th>\n",
       "      <th>Headline</th>\n",
       "      <th>Text</th>\n",
       "      <th>Volume_Score</th>\n",
       "      <th>Text_Summary</th>\n",
       "      <th>Volume_Score</th>\n",
       "      <th>Novelty_Score</th>\n",
       "      <th>Impact_Score</th>\n",
       "      <th>Magnitude_Score</th>\n",
       "    </tr>\n",
       "  </thead>\n",
       "  <tbody>\n",
       "    <tr>\n",
       "      <th>0</th>\n",
       "      <td>2025-06-21</td>\n",
       "      <td>- **OPEC+ Production Increase**: OPEC+ raised ...</td>\n",
       "      <td>OPEC Responds to Geopolitical Tensions with St...</td>\n",
       "      <td>OPEC's production decisions are increasingly i...</td>\n",
       "      <td>Livemint</td>\n",
       "      <td>Russia's Top Oil Executive Says OPEC  Was Astu...</td>\n",
       "      <td>(Bloomberg) -- Steps taken by the OPEC group t...</td>\n",
       "      <td>1</td>\n",
       "      <td>OPEC's strategic decision to increase oil prod...</td>\n",
       "      <td>1</td>\n",
       "      <td>Old</td>\n",
       "      <td>Positive</td>\n",
       "      <td>High</td>\n",
       "    </tr>\n",
       "    <tr>\n",
       "      <th>48</th>\n",
       "      <td>2025-06-21</td>\n",
       "      <td>- **OPEC+ Production Increase**: OPEC+ raised ...</td>\n",
       "      <td>Geopolitical Tensions Surge Crude Oil Prices b...</td>\n",
       "      <td>India's oil supply and demand dynamics are sig...</td>\n",
       "      <td>Straits Times</td>\n",
       "      <td>A US attack on Iran would show the limits of C...</td>\n",
       "      <td>But as President Donald Trump openly ponders d...</td>\n",
       "      <td>3</td>\n",
       "      <td>Geopolitical tensions, particularly involving ...</td>\n",
       "      <td>3</td>\n",
       "      <td>New</td>\n",
       "      <td>Positive</td>\n",
       "      <td>High</td>\n",
       "    </tr>\n",
       "    <tr>\n",
       "      <th>1</th>\n",
       "      <td>2025-06-21</td>\n",
       "      <td>- **OPEC+ Production Increase**: OPEC+ raised ...</td>\n",
       "      <td>OPEC+ Boosts Oil Production by 411,000 Barrels...</td>\n",
       "      <td>The global oil market is currently facing sign...</td>\n",
       "      <td>InsideClimate News</td>\n",
       "      <td>Scientists' Letter Urges Brazil's President Lu...</td>\n",
       "      <td>He said the loss of the Amazon would be a huma...</td>\n",
       "      <td>8</td>\n",
       "      <td>Concerns over environmental impacts and humani...</td>\n",
       "      <td>8</td>\n",
       "      <td>New</td>\n",
       "      <td>Negative</td>\n",
       "      <td>High</td>\n",
       "    </tr>\n",
       "    <tr>\n",
       "      <th>2</th>\n",
       "      <td>2025-06-21</td>\n",
       "      <td>- **OPEC+ Production Increase**: OPEC+ raised ...</td>\n",
       "      <td>OPEC+ Boosts Oil Production by 411,000 Barrels...</td>\n",
       "      <td>The global oil market is currently facing sign...</td>\n",
       "      <td>InsideClimate News</td>\n",
       "      <td>Scientists' Letter Urges Brazil's President Lu...</td>\n",
       "      <td>\"As we rapidly approach the 10-year anniversar...</td>\n",
       "      <td>8</td>\n",
       "      <td>Scientists urge leaders to prioritize climate ...</td>\n",
       "      <td>8</td>\n",
       "      <td>New</td>\n",
       "      <td>Negative</td>\n",
       "      <td>High</td>\n",
       "    </tr>\n",
       "    <tr>\n",
       "      <th>3</th>\n",
       "      <td>2025-06-21</td>\n",
       "      <td>- **OPEC+ Production Increase**: OPEC+ raised ...</td>\n",
       "      <td>OPEC+ Boosts Oil Production by 411,000 Barrels...</td>\n",
       "      <td>The global oil market is currently facing sign...</td>\n",
       "      <td>InsideClimate News</td>\n",
       "      <td>Scientists' Letter Urges Brazil's President Lu...</td>\n",
       "      <td>We're hiring!\\nPlease take a look at the new o...</td>\n",
       "      <td>8</td>\n",
       "      <td>OPEC+ increases oil production by 411,000 barr...</td>\n",
       "      <td>8</td>\n",
       "      <td>New</td>\n",
       "      <td>Negative</td>\n",
       "      <td>High</td>\n",
       "    </tr>\n",
       "  </tbody>\n",
       "</table>\n",
       "</div>"
      ],
      "text/plain": [
       "          Date                                      Day_in_Review  \\\n",
       "0   2025-06-21  - **OPEC+ Production Increase**: OPEC+ raised ...   \n",
       "48  2025-06-21  - **OPEC+ Production Increase**: OPEC+ raised ...   \n",
       "1   2025-06-21  - **OPEC+ Production Increase**: OPEC+ raised ...   \n",
       "2   2025-06-21  - **OPEC+ Production Increase**: OPEC+ raised ...   \n",
       "3   2025-06-21  - **OPEC+ Production Increase**: OPEC+ raised ...   \n",
       "\n",
       "                                                Topic  \\\n",
       "0   OPEC Responds to Geopolitical Tensions with St...   \n",
       "48  Geopolitical Tensions Surge Crude Oil Prices b...   \n",
       "1   OPEC+ Boosts Oil Production by 411,000 Barrels...   \n",
       "2   OPEC+ Boosts Oil Production by 411,000 Barrels...   \n",
       "3   OPEC+ Boosts Oil Production by 411,000 Barrels...   \n",
       "\n",
       "                                              Summary              Source  \\\n",
       "0   OPEC's production decisions are increasingly i...            Livemint   \n",
       "48  India's oil supply and demand dynamics are sig...       Straits Times   \n",
       "1   The global oil market is currently facing sign...  InsideClimate News   \n",
       "2   The global oil market is currently facing sign...  InsideClimate News   \n",
       "3   The global oil market is currently facing sign...  InsideClimate News   \n",
       "\n",
       "                                             Headline  \\\n",
       "0   Russia's Top Oil Executive Says OPEC  Was Astu...   \n",
       "48  A US attack on Iran would show the limits of C...   \n",
       "1   Scientists' Letter Urges Brazil's President Lu...   \n",
       "2   Scientists' Letter Urges Brazil's President Lu...   \n",
       "3   Scientists' Letter Urges Brazil's President Lu...   \n",
       "\n",
       "                                                 Text  Volume_Score  \\\n",
       "0   (Bloomberg) -- Steps taken by the OPEC group t...             1   \n",
       "48  But as President Donald Trump openly ponders d...             3   \n",
       "1   He said the loss of the Amazon would be a huma...             8   \n",
       "2   \"As we rapidly approach the 10-year anniversar...             8   \n",
       "3   We're hiring!\\nPlease take a look at the new o...             8   \n",
       "\n",
       "                                         Text_Summary  Volume_Score  \\\n",
       "0   OPEC's strategic decision to increase oil prod...             1   \n",
       "48  Geopolitical tensions, particularly involving ...             3   \n",
       "1   Concerns over environmental impacts and humani...             8   \n",
       "2   Scientists urge leaders to prioritize climate ...             8   \n",
       "3   OPEC+ increases oil production by 411,000 barr...             8   \n",
       "\n",
       "   Novelty_Score Impact_Score Magnitude_Score  \n",
       "0            Old     Positive            High  \n",
       "48           New     Positive            High  \n",
       "1            New     Negative            High  \n",
       "2            New     Negative            High  \n",
       "3            New     Negative            High  "
      ]
     },
     "execution_count": 21,
     "metadata": {},
     "output_type": "execute_result"
    }
   ],
   "source": [
    "flattened_trending_topics_df.head(5)"
   ]
  },
  {
   "cell_type": "markdown",
   "id": "a6d5c43a-0d83-4621-8e5e-ad064d0b6190",
   "metadata": {
    "id": "a6d5c43a-0d83-4621-8e5e-ad064d0b6190"
   },
   "source": [
    "For verification purpose, this actionable timestamped dataframe contains the granular news clustered into relevant topics, and also the advanced analytics of trendiness, novelty, impact, and magnitude scores to be potentially used for backtesting."
   ]
  },
  {
   "cell_type": "markdown",
   "id": "e04f408a-7ba2-4157-b5cd-9e580ff4e12c",
   "metadata": {
    "id": "e04f408a-7ba2-4157-b5cd-9e580ff4e12c"
   },
   "source": [
    "# Step 4- Customized Report Generation"
   ]
  },
  {
   "cell_type": "markdown",
   "id": "acbc5f20-ec30-4669-99f1-5ff1c2eca389",
   "metadata": {
    "id": "acbc5f20-ec30-4669-99f1-5ff1c2eca389"
   },
   "source": [
    "In this step, we rank the topics, allowing the user to customize the ranking system to reindex the news, based on their trendiness, novelty, and financial materiality on crude oil prices. We finally display a daily market update, supported by the corresponding granular news and sources for verification purpose."
   ]
  },
  {
   "cell_type": "markdown",
   "id": "2088103e-9984-4951-96c8-f8723e8cfad8",
   "metadata": {
    "id": "2088103e-9984-4951-96c8-f8723e8cfad8"
   },
   "source": [
    "The user selects the date for the report summarizing the top trending topics, and customizes the ranking system to prioritize the topics based on volume (trendiness and media attention), novelty (based on the emergence of new daily news), impact direction (positive or negative), and magnitude (financial materiality). The ranking system prioritizes the criteria in the order specified by the user, allowing for a tailored focus on the most relevant aspects of the data."
   ]
  },
  {
   "cell_type": "markdown",
   "id": "5cbf4275-da44-4ead-972a-d16f00ea7c5c",
   "metadata": {
    "id": "5cbf4275-da44-4ead-972a-d16f00ea7c5c"
   },
   "source": [
    "The order in which the criteria are listed in user_selected_ranking determines their priority for ranking the topics within the report. The first criterion in the list has the highest priority, followed by the second, and then the third. The user can customize the ranking by choosing to prioritize impact direction (positive or negative), novelty, magnitude, or volume, and has the flexibility to select 1, 2, or all 3 criteria based on their specific needs."
   ]
  },
  {
   "cell_type": "code",
   "execution_count": 22,
   "id": "73ba70a9",
   "metadata": {},
   "outputs": [],
   "source": [
    "specific_date = '2025-06-23'  # Example date, can be modified as needed\n",
    "user_selected_ranking = ['novelty', 'volume', 'magnitude']  # User can modify this list to change the ranking order\n",
    "#impact_filter = 'positive_impact' #User can use the impact_filter to filter out the report"
   ]
  },
  {
   "cell_type": "code",
   "execution_count": 23,
   "id": "c851a6fa",
   "metadata": {},
   "outputs": [],
   "source": [
    "prepared_reports = prepare_data_for_report(flattened_trending_topics_df, user_selected_ranking, impact_filter = None, report_date = specific_date)"
   ]
  },
  {
   "cell_type": "code",
   "execution_count": 24,
   "id": "a9e22ce4-ee81-4a20-89cf-879bedcf878f",
   "metadata": {
    "id": "a9e22ce4-ee81-4a20-89cf-879bedcf878f",
    "outputId": "2c946716-debf-4847-86a2-538e58061ab7",
    "tags": []
   },
   "outputs": [
    {
     "data": {
      "text/html": [
       "<!DOCTYPE html>\n",
       "<html lang=\"en\">\n",
       "<head>\n",
       "    <meta charset=\"UTF-8\">\n",
       "    <title>Daily crude oil market update - 2025-06-23</title>\n",
       "    <style>\n",
       "        body {\n",
       "            font-family: Arial, sans-serif;\n",
       "            background-color: #121212;\n",
       "            color: #E0E0E0;\n",
       "            margin: 20px;\n",
       "            padding: 0;\n",
       "            line-height: 1.6;\n",
       "        }\n",
       "        h1, h2, h3 {\n",
       "            color: #0080BF; /* Darker blue color for headings */\n",
       "        }\n",
       "        .container {\n",
       "            max-width: 1200px;\n",
       "            margin: 0 auto;\n",
       "            padding: 20px;\n",
       "            background-color: #1E1E1E;\n",
       "            border-radius: 10px;\n",
       "            box-shadow: 0px 4px 8px rgba(0, 0, 0, 0.4);\n",
       "            position: relative;  /* For positioning the logo */\n",
       "        }\n",
       "        .title {\n",
       "            text-align: center;\n",
       "            font-size: 2em;\n",
       "            margin-bottom: 20px;\n",
       "            color: #00BFFF; /* Dynamic blue color for the title */\n",
       "            text-transform: uppercase;\n",
       "            letter-spacing: 2px;\n",
       "            white-space: nowrap; /* Prevent text wrapping */\n",
       "        }\n",
       "        .logo {\n",
       "            position: absolute;\n",
       "            top: 20px;\n",
       "            left: 20px; /* Positioned to the left */\n",
       "            width: 180px;  /* Adjust the size as needed */\n",
       "            height: auto;\n",
       "        }\n",
       "        .content {\n",
       "            display: flex;\n",
       "        }\n",
       "        .left-column {\n",
       "            flex: 1;\n",
       "            max-width: 300px;\n",
       "            margin-right: 20px;\n",
       "        }\n",
       "        .right-column {\n",
       "            flex: 3;\n",
       "        }\n",
       "        .separator {\n",
       "            width: 2px;\n",
       "            background-color: #00BFFF; /* Dynamic blue color for the separator */\n",
       "            margin-right: 20px;\n",
       "        }\n",
       "        .section-title {\n",
       "            font-size: 1.5em;\n",
       "            margin-bottom: 15px;\n",
       "            color: #0080BF; /* Darker blue color for section titles */\n",
       "            text-transform: uppercase;\n",
       "        }\n",
       "        .bullet-points {\n",
       "            list-style-type: disc;\n",
       "            margin-left: 20px;\n",
       "            color: #E0E0E0; /* White color for bullet points */\n",
       "        }\n",
       "        .topic-section {\n",
       "            margin-bottom: 40px;  /* Increased space between updates */\n",
       "            padding: 20px;\n",
       "            background-color: #2A2A2A;\n",
       "            border-radius: 10px;\n",
       "            box-shadow: 0px 4px 6px rgba(0, 0, 0, 0.3);\n",
       "            position: relative;  /* To position the counters */\n",
       "        }\n",
       "        .topic-title {\n",
       "            font-size: 1.7em;\n",
       "            padding-top: 40px; /* Increase space above the title */\n",
       "            color: #0080BF; /* Darker blue color for topic titles */\n",
       "            text-transform: uppercase;\n",
       "        }\n",
       "        .counter-container {\n",
       "            position: absolute;\n",
       "            top: 20px;\n",
       "            right: 20px;\n",
       "            display: flex;\n",
       "            align-items: center;\n",
       "            justify-content: flex-start; /* Align content to the left */\n",
       "            gap: 20px; /* Space between each counter */\n",
       "            margin-bottom: 60px; /* Increased space between the title and counters */\n",
       "        }\n",
       "        .news-counter, .novelty-counter, .impact-counter, .magnitude-counter {\n",
       "            background-color: #00BFFF; /* Dynamic blue color for counters */\n",
       "            color: #121212; /* Black text color for counters */\n",
       "            padding: 5px 10px;\n",
       "            border-radius: 15px;\n",
       "            font-weight: bold;\n",
       "            font-size: 1em;\n",
       "            box-shadow: 0px 2px 4px rgba(0, 0, 0, 0.2);\n",
       "            display: flex;\n",
       "            align-items: center;  /* Align text and icon vertically */\n",
       "        }\n",
       "        .novelty-counter {\n",
       "            background-color: transparent;\n",
       "            color: #FFA500;  /* Orange color for the flame icon and text */\n",
       "        }\n",
       "        .flame-icon {\n",
       "            vertical-align: middle;\n",
       "            margin-right: 5px;\n",
       "            width: 24px;  /* Adjusted width of the flame icon */\n",
       "            height: 24px; /* Adjusted height of the flame icon */\n",
       "        }\n",
       "        .impact-counter {\n",
       "            color: #121212; /* Black text color for impact */\n",
       "        }\n",
       "        .impact-counter.positive {\n",
       "            background-color: #4CAF50; /* Green for positive impact */\n",
       "        }\n",
       "        .impact-counter.negative {\n",
       "            background-color: #F44336; /* Red for negative impact */\n",
       "        }\n",
       "        .impact-counter.neutral {\n",
       "            background-color: transparent; /* Transparent for neutral impact */\n",
       "            color: #00BFFF; /* Dynamic blue for neutral impact text */\n",
       "        }\n",
       "        .magnitude-counter {\n",
       "            background-color: transparent; /* Transparent for the magnitude box */\n",
       "            color: #00BFFF; /* Dynamic blue for magnitude text */\n",
       "        }\n",
       "        .magnitude-counter.high {\n",
       "            color: #F44336; /* Red for high magnitude */\n",
       "        }\n",
       "        .magnitude-counter.medium {\n",
       "            color: #FFD700; /* Yellow for medium magnitude */\n",
       "        }\n",
       "        .magnitude-counter.low {\n",
       "            color: #FFFFFF; /* White for low magnitude */\n",
       "        }\n",
       "        .impact-icon, .intensity-arrow {\n",
       "            vertical-align: middle;\n",
       "            margin-right: 5px;\n",
       "            width: 24px;  /* Adjusted width of the icons */\n",
       "            height: 24px; /* Adjusted height of the icons */\n",
       "        }\n",
       "        .counter-label {\n",
       "            font-size: 0.8em;\n",
       "            color: #E0E0E0; /* White color for the counter labels */\n",
       "            margin-right: 5px;\n",
       "            text-transform: uppercase;\n",
       "            letter-spacing: 1px;\n",
       "        }\n",
       "        .description {\n",
       "            font-size: 1.1em;\n",
       "            margin-bottom: 15px;\n",
       "            color: #E0E0E0; /* White color for description */\n",
       "        }\n",
       "    </style>\n",
       "</head>\n",
       "<body>\n",
       "    <div class=\"container\">\n",
       "        <!-- Logo Section -->\n",
       "        <img src=\"assets/bigdata-logo-white.svg\" alt=\"Big Data Logo\" class=\"logo\">\n",
       "        \n",
       "        <!-- Title Section -->\n",
       "        <div class=\"title\">Daily crude oil market update - 2025-06-23</div>\n",
       "        \n",
       "        <!-- Content Section -->\n",
       "        <div class=\"content\">\n",
       "            <!-- Left Column -->\n",
       "            <div class=\"left-column\">\n",
       "                <h2 class=\"section-title\">The Day in Review</h2>\n",
       "                <ul class=\"bullet-points\">\n",
       "                    \n",
       "                    <li><b>Geopolitical Tensions</b>: Escalating conflicts between Iran and Israel threaten global oil supply, particularly through the critical Strait of Hormuz, raising concerns of price spikes above $100 per barrel.</li>\n",
       "                    \n",
       "                    <li><b>U.S. Airstrikes</b>: Recent U.S. military actions against Iranian targets have led to a surge in oil prices, currently ranging between $73-76 per barrel, reflecting market fears of supply disruptions.</li>\n",
       "                    \n",
       "                    <li><b>Supply Chain Dynamics</b>: India has become the largest importer of Russian crude, surpassing traditional Middle Eastern suppliers, as countries diversify sources amid geopolitical uncertainties.</li>\n",
       "                    \n",
       "                    <li><b>OPEC+ Production Increase</b>: OPEC+ has raised oil production by 411,000 barrels per day to stabilize prices and meet rising demand, amidst ongoing geopolitical tensions.</li>\n",
       "                    \n",
       "                    <li><b>Venezuela's Production Crisis</b>: Venezuela's oil output is severely impacted by aging infrastructure and U.S. sanctions, contrasting with Chevron's strategic expansion in the Gulf of America.</li>\n",
       "                    \n",
       "                    <li><b>U.S. Crude Production</b>: U.S. crude oil production has reached an all-time high of 13.5 million barrels per day, providing a buffer against potential supply disruptions.</li>\n",
       "                    \n",
       "                    <li><b>Refinery Margins</b>: Despite rising Brent crude prices, stable refined product prices in markets like India suggest potential margin expansion for oil marketing companies.</li>\n",
       "                    \n",
       "                    <li><b>Market Volatility</b>: The interconnectedness of military actions and oil prices remains critical, as any significant drop in Iranian oil exports could lead to substantial price increases.</li>\n",
       "                    \n",
       "                </ul>\n",
       "            </div>\n",
       "\n",
       "            <!-- Separator -->\n",
       "            <div class=\"separator\"></div>\n",
       "\n",
       "            <!-- Right Column -->\n",
       "            <div class=\"right-column\">\n",
       "                \n",
       "                <div class=\"topic-section\">\n",
       "                    <div class=\"counter-container\">\n",
       "                        <div class=\"news-counter\">\n",
       "                            <span class=\"counter-label\">Volume Score</span>\n",
       "                            4 News\n",
       "                        </div>\n",
       "                        <div class=\"novelty-counter\">\n",
       "                            <span class=\"counter-label\">Novelty Score</span>\n",
       "                            <img src=\"assets/flame-icon.png\" alt=\"Flame Icon\" class=\"flame-icon\">\n",
       "                            Novel\n",
       "                        </div>\n",
       "                        <div class=\"impact-counter positive\">\n",
       "                            <span class=\"counter-label\">Price Impact</span>\n",
       "                            Positive\n",
       "                        </div>\n",
       "                        <div class=\"magnitude-counter high\">\n",
       "                            <span class=\"counter-label\">Intensity</span>\n",
       "                            <img src=\"assets/arrow_up.png\" alt=\"Intensity Arrow\" class=\"intensity-arrow\">\n",
       "                            High\n",
       "                        </div>\n",
       "                    </div>\n",
       "                    <h2 class=\"topic-title\">Chevron's Strategic Expansion Contrasts with Venezuela's Oil Production Crisis</h2>\n",
       "                    <p class=\"description\">The oil sector is currently experiencing significant corporate developments, particularly highlighted by contrasting situations in Venezuela and Chevron Corporation. Venezuela's crude oil production is severely hindered by an aging refining infrastructure, frequent outages, and the impact of U.S. sanctions that limit the import of essential spare parts. This has resulted in a decline in production capacity, which is critical for the country's economy that heavily relies on oil exports. In contrast, Chevron Corporation is strategically enhancing its oil production capabilities in the Gulf of America (GOA) with new projects like Ballymore and Whale, aiming to increase output to 300,000 net barrels of oil equivalent per day by 2026. This growth is supported by advanced technologies and operational efficiencies that not only boost production but also align with global sustainability goals. The successful implementation of these initiatives is vital for Chevron to maintain its competitive position in the evolving oil market and meet rising global energy demands.</p>\n",
       "                </div>\n",
       "                \n",
       "                <div class=\"topic-section\">\n",
       "                    <div class=\"counter-container\">\n",
       "                        <div class=\"news-counter\">\n",
       "                            <span class=\"counter-label\">Volume Score</span>\n",
       "                            2 News\n",
       "                        </div>\n",
       "                        <div class=\"novelty-counter\">\n",
       "                            <span class=\"counter-label\">Novelty Score</span>\n",
       "                            <img src=\"assets/flame-icon.png\" alt=\"Flame Icon\" class=\"flame-icon\">\n",
       "                            Novel\n",
       "                        </div>\n",
       "                        <div class=\"impact-counter positive\">\n",
       "                            <span class=\"counter-label\">Price Impact</span>\n",
       "                            Positive\n",
       "                        </div>\n",
       "                        <div class=\"magnitude-counter high\">\n",
       "                            <span class=\"counter-label\">Intensity</span>\n",
       "                            <img src=\"assets/arrow_up.png\" alt=\"Intensity Arrow\" class=\"intensity-arrow\">\n",
       "                            High\n",
       "                        </div>\n",
       "                    </div>\n",
       "                    <h2 class=\"topic-title\">Surging U.S. Crude Prices and Strategic Shifts Amid Global Supply Tensions</h2>\n",
       "                    <p class=\"description\">U.S. crude oil imports and strategic decisions are currently influenced by a complex interplay of geopolitical tensions and market dynamics. Recently, U.S. crude prices surged by approximately 10%, raising concerns about potential supply disruptions, particularly from Iran, which could lead to inflationary pressures in oil-importing countries. Meanwhile, Saudi Arabia has ramped up its crude oil exports to 6.66 million barrels per day, reflecting its capacity to stabilize global oil prices amid these uncertainties. In a significant shift, India has become the largest importer of Russian crude oil, surpassing traditional Middle Eastern suppliers, which indicates a strategic pivot in global oil supply chains. Concurrently, U.S. crude oil production has reached an all-time high of 13.5 million barrels per day, primarily driven by the Permian Basin, providing a buffer against potential supply disruptions. However, U.S. crude inventories remain below the seasonal five-year average, suggesting a tightening supply situation that could exert upward pressure on prices if demand continues to rise. This evolving landscape underscores the interconnectedness of U.S. crude oil imports, production strategies, and global market stability.</p>\n",
       "                </div>\n",
       "                \n",
       "                <div class=\"topic-section\">\n",
       "                    <div class=\"counter-container\">\n",
       "                        <div class=\"news-counter\">\n",
       "                            <span class=\"counter-label\">Volume Score</span>\n",
       "                            21 News\n",
       "                        </div>\n",
       "                        <div class=\"novelty-counter\">\n",
       "                            <span class=\"counter-label\">Novelty Score</span>\n",
       "                            <img src=\"assets/flame-icon.png\" alt=\"Flame Icon\" class=\"flame-icon\">\n",
       "                            Moderate\n",
       "                        </div>\n",
       "                        <div class=\"impact-counter negative\">\n",
       "                            <span class=\"counter-label\">Price Impact</span>\n",
       "                            Negative\n",
       "                        </div>\n",
       "                        <div class=\"magnitude-counter high\">\n",
       "                            <span class=\"counter-label\">Intensity</span>\n",
       "                            <img src=\"assets/arrow_up.png\" alt=\"Intensity Arrow\" class=\"intensity-arrow\">\n",
       "                            High\n",
       "                        </div>\n",
       "                    </div>\n",
       "                    <h2 class=\"topic-title\">Geopolitical Tensions in the Strait of Hormuz Threaten Venezuela's Fragile Oil Sector</h2>\n",
       "                    <p class=\"description\">Venezuela's oil production issues are deeply intertwined with global oil market dynamics, particularly concerning critical chokepoints like the Strait of Hormuz. While the strait facilitates the transit of approximately 20% of the world's crude oil, recent geopolitical tensions, especially involving Iran, have raised concerns about potential disruptions that could affect oil prices and supply chains. Venezuela, facing its own production challenges due to economic mismanagement and sanctions, is further impacted by these global uncertainties. The situation is exacerbated by the reliance of major economies, including China and India, on stable oil supplies from regions like the Strait of Hormuz. Any blockade or military escalation in this area could lead to significant fluctuations in oil prices, which would adversely affect Venezuela's already struggling oil sector. As the U.S. Navy plays a historical role in ensuring the security of these maritime routes, the ongoing geopolitical tensions highlight the precarious nature of oil production and export stability in Venezuela and beyond.</p>\n",
       "                </div>\n",
       "                \n",
       "                <div class=\"topic-section\">\n",
       "                    <div class=\"counter-container\">\n",
       "                        <div class=\"news-counter\">\n",
       "                            <span class=\"counter-label\">Volume Score</span>\n",
       "                            4 News\n",
       "                        </div>\n",
       "                        <div class=\"novelty-counter\">\n",
       "                            <span class=\"counter-label\">Novelty Score</span>\n",
       "                            <img src=\"assets/flame-icon.png\" alt=\"Flame Icon\" class=\"flame-icon\">\n",
       "                            Moderate\n",
       "                        </div>\n",
       "                        <div class=\"impact-counter positive\">\n",
       "                            <span class=\"counter-label\">Price Impact</span>\n",
       "                            Positive\n",
       "                        </div>\n",
       "                        <div class=\"magnitude-counter medium\">\n",
       "                            <span class=\"counter-label\">Intensity</span>\n",
       "                            <img src=\"assets/arrow_mid.png\" alt=\"Intensity Arrow\" class=\"intensity-arrow\">\n",
       "                            Medium\n",
       "                        </div>\n",
       "                    </div>\n",
       "                    <h2 class=\"topic-title\">India Diversifies Crude Oil Sources Amid Geopolitical Tensions to Secure Energy Supply</h2>\n",
       "                    <p class=\"description\">Amid rising geopolitical tensions, particularly concerning the Persian Gulf, India is strategically diversifying its crude oil sources to enhance energy security and mitigate risks associated with potential disruptions in critical shipping routes. This shift reflects a broader trend in global oil supply dynamics as countries seek to stabilize their energy supplies. Concurrently, the refining sector is witnessing fluctuations in margins, with reports indicating that despite increasing Brent crude prices, refined product prices in markets like India have remained stable. This stability suggests potential margin expansion for oil marketing companies (OMCs), as evidenced by the upward trend in 3-2-1 crack spreads, which measure refinery profitability. Overall, these developments highlight the complex interplay between crude oil supply, refining profitability, and the impact of geopolitical factors on global oil demand dynamics.</p>\n",
       "                </div>\n",
       "                \n",
       "                <div class=\"topic-section\">\n",
       "                    <div class=\"counter-container\">\n",
       "                        <div class=\"news-counter\">\n",
       "                            <span class=\"counter-label\">Volume Score</span>\n",
       "                            25 News\n",
       "                        </div>\n",
       "                        <div class=\"novelty-counter\">\n",
       "                            <span class=\"counter-label\">Novelty Score</span>\n",
       "                            <img src=\"assets/flame-icon.png\" alt=\"Flame Icon\" class=\"flame-icon\">\n",
       "                            Repeat\n",
       "                        </div>\n",
       "                        <div class=\"impact-counter positive\">\n",
       "                            <span class=\"counter-label\">Price Impact</span>\n",
       "                            Positive\n",
       "                        </div>\n",
       "                        <div class=\"magnitude-counter high\">\n",
       "                            <span class=\"counter-label\">Intensity</span>\n",
       "                            <img src=\"assets/arrow_up.png\" alt=\"Intensity Arrow\" class=\"intensity-arrow\">\n",
       "                            High\n",
       "                        </div>\n",
       "                    </div>\n",
       "                    <h2 class=\"topic-title\">Iran-Israel Tensions Threaten Global Oil Supply, Sparking Price Volatility</h2>\n",
       "                    <p class=\"description\">Geopolitical tensions, particularly involving Iran and Israel, have significantly impacted global oil supply and prices. The Strait of Hormuz, a critical chokepoint for approximately 20% of the world's oil, has become a focal point of concern due to Iranian threats to close it amidst escalating military actions. Such a closure could lead to immediate spikes in oil prices, affecting countries heavily reliant on Middle Eastern oil, like India and Japan. Recent military actions by the U.S. against Iranian targets have further heightened market volatility, with oil prices experiencing sharp fluctuations in response to these developments. While a full blockade of the Strait is deemed unlikely due to severe repercussions for Iran's economy, the mere threat has already influenced market dynamics. Additionally, companies like Civitas are facing operational challenges, including a production peak and financial instability, which could further complicate supply scenarios. Analysts predict a decline in Brent crude prices in the coming years, driven by increased production outside OPEC+ and moderated demand growth, but any unexpected geopolitical events could disrupt these forecasts. The interplay between geopolitical stability and oil supply dynamics remains crucial for market participants, as tensions can rapidly alter supply expectations and investor sentiment.</p>\n",
       "                </div>\n",
       "                \n",
       "                <div class=\"topic-section\">\n",
       "                    <div class=\"counter-container\">\n",
       "                        <div class=\"news-counter\">\n",
       "                            <span class=\"counter-label\">Volume Score</span>\n",
       "                            17 News\n",
       "                        </div>\n",
       "                        <div class=\"novelty-counter\">\n",
       "                            <span class=\"counter-label\">Novelty Score</span>\n",
       "                            <img src=\"assets/flame-icon.png\" alt=\"Flame Icon\" class=\"flame-icon\">\n",
       "                            Repeat\n",
       "                        </div>\n",
       "                        <div class=\"impact-counter positive\">\n",
       "                            <span class=\"counter-label\">Price Impact</span>\n",
       "                            Positive\n",
       "                        </div>\n",
       "                        <div class=\"magnitude-counter high\">\n",
       "                            <span class=\"counter-label\">Intensity</span>\n",
       "                            <img src=\"assets/arrow_up.png\" alt=\"Intensity Arrow\" class=\"intensity-arrow\">\n",
       "                            High\n",
       "                        </div>\n",
       "                    </div>\n",
       "                    <h2 class=\"topic-title\">US Airstrikes on Iran Ignite Oil Price Surge Amid Geopolitical Tensions</h2>\n",
       "                    <p class=\"description\">The dynamics of US oil production and the global market are significantly influenced by geopolitical events, particularly tensions in the Middle East. Recent military actions, including US airstrikes on Iranian nuclear facilities, have led to immediate spikes in crude oil prices, reflecting market fears of supply disruptions. As of now, oil prices have risen to between \\$73-76 per barrel, with analysts warning that escalating tensions could push prices beyond \\$100 per barrel. The conflict involving Iran, OPEC's third-largest producer, raises concerns over the stability of oil supply through critical chokepoints like the Strait of Hormuz. In response to these geopolitical shifts, India has strategically increased its reliance on Russian crude oil imports, which have become more attractive due to significant discounts from Western sanctions. This pivot highlights India's efforts to secure oil supplies amidst potential disruptions from the Middle East. Additionally, the US's enhanced domestic oil production capabilities have lessened its dependence on Persian Gulf oil, moderating the impact of geopolitical tensions on the market. However, the interconnectedness of military actions and oil prices remains a critical factor, as any sudden drop in Iranian oil exports could lead to significant price increases, underscoring the sensitivity of the global oil market to geopolitical events.</p>\n",
       "                </div>\n",
       "                \n",
       "                <div class=\"topic-section\">\n",
       "                    <div class=\"counter-container\">\n",
       "                        <div class=\"news-counter\">\n",
       "                            <span class=\"counter-label\">Volume Score</span>\n",
       "                            8 News\n",
       "                        </div>\n",
       "                        <div class=\"novelty-counter\">\n",
       "                            <span class=\"counter-label\">Novelty Score</span>\n",
       "                            <img src=\"assets/flame-icon.png\" alt=\"Flame Icon\" class=\"flame-icon\">\n",
       "                            Repeat\n",
       "                        </div>\n",
       "                        <div class=\"impact-counter negative\">\n",
       "                            <span class=\"counter-label\">Price Impact</span>\n",
       "                            Negative\n",
       "                        </div>\n",
       "                        <div class=\"magnitude-counter high\">\n",
       "                            <span class=\"counter-label\">Intensity</span>\n",
       "                            <img src=\"assets/arrow_up.png\" alt=\"Intensity Arrow\" class=\"intensity-arrow\">\n",
       "                            High\n",
       "                        </div>\n",
       "                    </div>\n",
       "                    <h2 class=\"topic-title\">Geopolitical Tensions and Regulatory Challenges Drive Oil Price Volatility</h2>\n",
       "                    <p class=\"description\">Economic factors affecting oil prices are influenced by a range of regulatory, geopolitical, and market dynamics. In the U.S., ongoing legal disputes regarding small refinery exemption petitions highlight regulatory challenges that could impact operational costs and compliance strategies within the oil refining industry, potentially affecting crude oil demand and pricing. Meanwhile, Turkmenistan is actively seeking international investment to modernize its oil and gas sector, aiming to enhance production capabilities and integrate into the global energy market. Geopolitical tensions have also shifted oil trade patterns, as evidenced by India's increased imports of Russian crude, surpassing traditional Middle Eastern suppliers, in response to sanctions following the invasion of Ukraine. This diversification reflects a broader trend among countries seeking energy security amid rising global tensions. Additionally, military conflicts, particularly between Israel and Iran, raise concerns about potential disruptions to oil supply, especially given Iran's status as a major OPEC producer. Such conflicts have already led to increased oil prices due to investor concerns over supply interruptions, with the International Energy Agency prepared to intervene if necessary. The strategic importance of the Strait of Hormuz further complicates the situation, as any military escalation threatening this chokepoint could severely impact global oil prices and supply stability.</p>\n",
       "                </div>\n",
       "                \n",
       "                <div class=\"topic-section\">\n",
       "                    <div class=\"counter-container\">\n",
       "                        <div class=\"news-counter\">\n",
       "                            <span class=\"counter-label\">Volume Score</span>\n",
       "                            5 News\n",
       "                        </div>\n",
       "                        <div class=\"novelty-counter\">\n",
       "                            <span class=\"counter-label\">Novelty Score</span>\n",
       "                            <img src=\"assets/flame-icon.png\" alt=\"Flame Icon\" class=\"flame-icon\">\n",
       "                            Repeat\n",
       "                        </div>\n",
       "                        <div class=\"impact-counter negative\">\n",
       "                            <span class=\"counter-label\">Price Impact</span>\n",
       "                            Negative\n",
       "                        </div>\n",
       "                        <div class=\"magnitude-counter high\">\n",
       "                            <span class=\"counter-label\">Intensity</span>\n",
       "                            <img src=\"assets/arrow_up.png\" alt=\"Intensity Arrow\" class=\"intensity-arrow\">\n",
       "                            High\n",
       "                        </div>\n",
       "                    </div>\n",
       "                    <h2 class=\"topic-title\">OPEC+ Boosts Oil Production by 411,000 Barrels Amid Geopolitical Tensions and Environmental Pressures</h2>\n",
       "                    <p class=\"description\">The global oil market is currently facing significant production challenges and strategic responses, particularly influenced by geopolitical tensions and environmental concerns. In Brazil, the government under President Lula is grappling with pressure to halt oil exploration in the Amazon, which poses risks to climate goals and could lead to increased greenhouse gas emissions. Meanwhile, OPEC+ has decided to increase oil production by 411,000 barrels per day in response to rising consumer demand and to stabilize prices amid geopolitical uncertainties, particularly the conflict between Iran and Israel. This decision reflects OPEC+'s strategic approach to manage supply levels and market dynamics, especially as historical conflicts in the region have led to price volatility. Additionally, operational disruptions, such as refinery incidents, highlight vulnerabilities in oil supply chains that can affect pricing. The demand for drilling rigs is also on the rise, driven by renewed investments and advancements in technology, indicating a potential recovery in the oil sector despite ongoing regulatory challenges. Overall, OPEC+'s production strategies and the political complexities in key oil-producing regions are critical in shaping the future of global oil supply and pricing.</p>\n",
       "                </div>\n",
       "                \n",
       "                <div class=\"topic-section\">\n",
       "                    <div class=\"counter-container\">\n",
       "                        <div class=\"news-counter\">\n",
       "                            <span class=\"counter-label\">Volume Score</span>\n",
       "                            3 News\n",
       "                        </div>\n",
       "                        <div class=\"novelty-counter\">\n",
       "                            <span class=\"counter-label\">Novelty Score</span>\n",
       "                            <img src=\"assets/flame-icon.png\" alt=\"Flame Icon\" class=\"flame-icon\">\n",
       "                            Repeat\n",
       "                        </div>\n",
       "                        <div class=\"impact-counter positive\">\n",
       "                            <span class=\"counter-label\">Price Impact</span>\n",
       "                            Positive\n",
       "                        </div>\n",
       "                        <div class=\"magnitude-counter high\">\n",
       "                            <span class=\"counter-label\">Intensity</span>\n",
       "                            <img src=\"assets/arrow_up.png\" alt=\"Intensity Arrow\" class=\"intensity-arrow\">\n",
       "                            High\n",
       "                        </div>\n",
       "                    </div>\n",
       "                    <h2 class=\"topic-title\">Escalating Israel-Iran Tensions Threaten Global Oil Supply and Prices</h2>\n",
       "                    <p class=\"description\">The geopolitical tensions between Israel and Iran pose significant risks to global oil supply, particularly affecting countries like China that depend on Middle Eastern crude oil imports. The Strait of Hormuz, a vital oil transit route, faces threats from Iran, which could lead to severe supply disruptions and push oil prices above \\$100 per barrel if conflicts escalate. Concurrently, the U.S. refining landscape is evolving, with a trend towards fewer refineries operating at higher capacities, as reported by the Energy Information Administration (EIA). While the total number of refineries remains stable, operational capacity is expected to decline without efficiency improvements, exemplified by the idling of the CPI Operations refinery in New Jersey. The largest refiner, Marathon, plays a crucial role in understanding market dynamics, as the U.S. seeks to balance its self-sufficiency in oil production through fracking amidst these environmental and policy challenges.</p>\n",
       "                </div>\n",
       "                \n",
       "            </div>\n",
       "        </div>\n",
       "    </div>\n",
       "</body>\n",
       "</html>"
      ],
      "text/plain": [
       "<IPython.core.display.HTML object>"
      ]
     },
     "metadata": {},
     "output_type": "display_data"
    },
    {
     "name": "stdout",
     "output_type": "stream",
     "text": [
      "\n",
      "\n",
      "\n"
     ]
    }
   ],
   "source": [
    "# Generate and display the HTML report for each date\n",
    "for report in prepared_reports:\n",
    "    html_content = generate_html_report(\n",
    "        report['date'],\n",
    "        report['day_in_review'],\n",
    "        report['topics'],\n",
    "        'Daily crude oil market update'  # Pass the main theme to dynamically generate the title\n",
    "    )\n",
    "    display(HTML(html_content))\n",
    "    print(\"\")\n",
    "    print(\"\")\n",
    "    print(\"\")"
   ]
  },
  {
   "cell_type": "code",
   "execution_count": null,
   "id": "5c6f5779",
   "metadata": {},
   "outputs": [],
   "source": []
  },
  {
   "cell_type": "code",
   "execution_count": null,
   "id": "4fc40128",
   "metadata": {},
   "outputs": [],
   "source": []
  }
 ],
 "metadata": {
  "colab": {
   "provenance": []
  },
  "kernelspec": {
   "display_name": "cookbook",
   "language": "python",
   "name": "python3"
  },
  "language_info": {
   "codemirror_mode": {
    "name": "ipython",
    "version": 3
   },
   "file_extension": ".py",
   "mimetype": "text/x-python",
   "name": "python",
   "nbconvert_exporter": "python",
   "pygments_lexer": "ipython3",
   "version": "3.13.5"
  }
 },
 "nbformat": 4,
 "nbformat_minor": 5
}
