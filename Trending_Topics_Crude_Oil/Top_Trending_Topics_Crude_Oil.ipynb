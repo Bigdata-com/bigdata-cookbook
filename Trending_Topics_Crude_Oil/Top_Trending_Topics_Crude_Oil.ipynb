{
 "cells": [
  {
   "cell_type": "markdown",
   "id": "3cde710b",
   "metadata": {},
   "source": [
    "# Daily Digest: Top Trending Topics for Crude Oil"
   ]
  },
  {
   "cell_type": "markdown",
   "id": "d525f4fa",
   "metadata": {},
   "source": [
    "\n",
    "## Why It Matters\n",
    "In commodity markets like crude oil, timely awareness of trending topics can directly influence trading strategies, hedging decisions, and market forecasts. As news cycles accelerate, being able to identify not just what is being talked about but also its potential market impact is essential for staying ahead of price-moving developments.\n",
    "\n",
    "## What It Does\n",
    "This workflow identifies, verifies, clusters, and summarizes the most relevant and impactful news trends in the crude oil market using the Bigdata API for retrieval and large language models for topic analysis. It produces both daily market reports and structured datasets that can be used for monitoring or backtesting.\n",
    "\n",
    "## How It Works\n",
    "The notebook implements a four-step agentic workflow built on Bigdata API:\n",
    "\n",
    "- **Lexicon Generation** of industry-specific jargon to maximize recall in news retrieval.\n",
    "\n",
    "- **Content Retrieval** via the Bigdata API, splitting searches into daily windows and parallelizing keyword lookups for speed.\n",
    "\n",
    "- **Topic Clustering & Selection** to verify, group, and summarize news into ranked trending topics, scoring each for trendiness, novelty, impact, and magnitude.\n",
    "\n",
    "- **Custom Report Generation** in the form of a daily digest with a configurable ranking system, supported by granular news sources for verification.\n",
    "\n",
    "## A Real-World Use Case \n",
    "This cookbook illustrates the full workflow through a practical example: tracking top trending topics in the crude oil market during the Israel-Iran tensions of June 2025. You'll learn how to transform unstructured news into structured, ranked insights on market-moving narratives.\n"
   ]
  },
  {
   "cell_type": "markdown",
   "id": "a3ac350d",
   "metadata": {},
   "source": [
    "## Setup and Imports"
   ]
  },
  {
   "cell_type": "markdown",
   "id": "b87bab9a",
   "metadata": {},
   "source": [
    "## Async Compatibility Setup\n",
    "\n",
    "**Run this cell first** - Required for Google Colab, Jupyter Notebooks, and VS Code with Jupyter extension:\n",
    "\n",
    "### Why is this needed?\n",
    "\n",
    "Interactive environments (Colab, Jupyter) already have an asyncio event loop running. When bigdata-research-tools makes async API calls (like to OpenAI), you'll get this error without nest_asyncio:\n",
    "\n",
    "```\n",
    "RuntimeError: asyncio.run() cannot be called from a running event loop\n",
    "```\n",
    "\n",
    "The `nest_asyncio.apply()` command patches this to allow nested event loops.\n",
    "\n",
    "💡 **Tip**: If you're unsure which environment you're in, just run the cell below - it won't hurt in any environment!"
   ]
  },
  {
   "cell_type": "code",
   "execution_count": 2,
   "id": "2a92944a",
   "metadata": {},
   "outputs": [
    {
     "name": "stdout",
     "output_type": "stream",
     "text": [
      "✅ nest_asyncio applied\n"
     ]
    }
   ],
   "source": [
    "import datetime\n",
    "start = datetime.datetime.now()\n",
    "\n",
    "try:\n",
    "    import asyncio\n",
    "    asyncio.get_running_loop()\n",
    "    import nest_asyncio; nest_asyncio.apply()\n",
    "    print(\"✅ nest_asyncio applied\")\n",
    "except (RuntimeError, ImportError):\n",
    "    print(\"✅ nest_asyncio not needed or not available\")"
   ]
  },
  {
   "cell_type": "markdown",
   "id": "71ed5d3b",
   "metadata": {},
   "source": [
    "## Environment Setup\n",
    "\n",
    "The following cell configures the necessary path for the analysis"
   ]
  },
  {
   "cell_type": "code",
   "execution_count": 3,
   "id": "0f321b51",
   "metadata": {},
   "outputs": [
    {
     "name": "stdout",
     "output_type": "stream",
     "text": [
      "✅ Local environment setup complete\n"
     ]
    }
   ],
   "source": [
    "import os\n",
    "import sys\n",
    "\n",
    "\n",
    "current_dir = os.getcwd()\n",
    "if current_dir not in sys.path:\n",
    "    sys.path.append(current_dir)\n",
    "print(f\"✅ Local environment setup complete\")"
   ]
  },
  {
   "cell_type": "markdown",
   "id": "039a8583",
   "metadata": {},
   "source": [
    "## Import Required Libraries\n",
    "\n",
    "Import the core libraries needed for trending topics analysis, including the lexicon generation classes and data processing tools."
   ]
  },
  {
   "cell_type": "code",
   "execution_count": 4,
   "id": "51d649ed",
   "metadata": {},
   "outputs": [],
   "source": [
    "from bigdata_client import Bigdata\n",
    "from bigdata_client.models.search import DocumentType\n",
    "from src.lexicon_generator import LexiconGenerator\n",
    "from src.search_topics import search_by_keywords\n",
    "from src.topics_extractor import (process_all_reports,\n",
    "                                run_process_all_trending_topics,\n",
    "                                run_add_advanced_novelty_scores,\n",
    "                                add_market_impact_to_df,\n",
    "                                prepare_data_for_report,\n",
    "                                generate_html_report)\n",
    "from IPython.display import display\n",
    "from IPython.core.display import HTML"
   ]
  },
  {
   "cell_type": "markdown",
   "id": "86def483",
   "metadata": {},
   "source": [
    "## Define Output Paths\n",
    "\n",
    "We define the output paths for our thematic screening results."
   ]
  },
  {
   "cell_type": "code",
   "execution_count": 5,
   "id": "3aacec77",
   "metadata": {},
   "outputs": [],
   "source": [
    "# Define output file paths for our report\n",
    "output_dir = \"output\"\n",
    "os.makedirs(output_dir, exist_ok=True)\n",
    "\n",
    "export_path = f\"{output_dir}/trending_topics_crude_oil_results.xlsx\""
   ]
  },
  {
   "cell_type": "markdown",
   "id": "05662046",
   "metadata": {},
   "source": [
    "## Load Credentials"
   ]
  },
  {
   "cell_type": "code",
   "execution_count": 6,
   "id": "44fc8d15",
   "metadata": {},
   "outputs": [
    {
     "name": "stdout",
     "output_type": "stream",
     "text": [
      "✅ Credentials loaded from .env file\n"
     ]
    }
   ],
   "source": [
    "\n",
    "from dotenv import load_dotenv\n",
    "from pathlib import Path\n",
    "\n",
    "script_dir = Path(__file__).parent if '__file__' in globals() else Path.cwd()\n",
    "#load_dotenv(script_dir / '.env')\n",
    "load_dotenv(os.path.abspath(\"/home/abouchs/.python_env_var/.env\"))\n",
    "\n",
    "BIGDATA_USERNAME = os.getenv('BIGDATA_USERNAME')\n",
    "BIGDATA_PASSWORD = os.getenv('BIGDATA_PASSWORD')\n",
    "OPENAI_API_KEY = os.getenv('OPENAI_API_KEY')\n",
    "\n",
    "if not all([BIGDATA_USERNAME, BIGDATA_PASSWORD, OPENAI_API_KEY]):\n",
    "    print(\"❌ Missing required environment variables\")\n",
    "    raise ValueError(\"Missing required environment variables. Check your .env file.\")\n",
    "else:\n",
    "    print(\"✅ Credentials loaded from .env file\")"
   ]
  },
  {
   "cell_type": "markdown",
   "id": "108ca817",
   "metadata": {},
   "source": [
    "## Connecting to Bigdata\n",
    "\n",
    "Create a Bigdata object with your credentials."
   ]
  },
  {
   "cell_type": "code",
   "execution_count": 7,
   "id": "9c8f0591-129a-4914-ad2c-22874063c8e7",
   "metadata": {
    "id": "9c8f0591-129a-4914-ad2c-22874063c8e7"
   },
   "outputs": [],
   "source": [
    "bigdata = Bigdata(BIGDATA_USERNAME, BIGDATA_PASSWORD)"
   ]
  },
  {
   "cell_type": "markdown",
   "id": "b2edcaa2",
   "metadata": {},
   "source": [
    "## Defining Your Trending Topics Context and Parameters"
   ]
  },
  {
   "cell_type": "markdown",
   "id": "950f1a5f",
   "metadata": {},
   "source": [
    "To perform a trending topics analysis, we need to define a few key parameters:\n",
    "\n",
    "- **Main Theme** (`main_theme`): The main topic, asset class, or context to analyze (e.g. Crude Oil)\n",
    "\n",
    "- **Time Period** (`start_date` and `end_date`): The date range over which to run the search\n",
    "\n",
    "- **Frequency** (`freq`): The frequency at which you want to produce a daily digest\n",
    "\n",
    "- **Document Type** (`document_type`): Specify which documents to search over (transcripts, filings, news)\n",
    "\n",
    "- **Model Selection** (`llm_model`): The AI model used for semantic analysis and topic classification"
   ]
  },
  {
   "cell_type": "code",
   "execution_count": 18,
   "id": "aba50ccb",
   "metadata": {},
   "outputs": [],
   "source": [
    "# ===== Context Definition =====\n",
    "main_theme = 'Crude Oil'\n",
    "\n",
    "# ===== Specify Time Range =====\n",
    "start_query = '2025-06-21'\n",
    "end_query = '2025-06-28'\n",
    "\n",
    "# ===== Query Configuration =====\n",
    "document_type = DocumentType.NEWS\n",
    "\n",
    "# ===== LLM Specification =====\n",
    "llm_model = \"gpt-4o-mini\""
   ]
  },
  {
   "cell_type": "markdown",
   "id": "bd340d97-b9b5-48d2-b41f-b27301652d61",
   "metadata": {
    "id": "bd340d97-b9b5-48d2-b41f-b27301652d61",
    "tags": []
   },
   "source": [
    "## Instantiating the Lexicon Generator"
   ]
  },
  {
   "cell_type": "markdown",
   "id": "d0c60e14-191f-4e86-84f9-17b376f43a1b",
   "metadata": {
    "id": "d0c60e14-191f-4e86-84f9-17b376f43a1b"
   },
   "source": [
    "In this step, we identify the specialized industry-specific jargon relevant to the crude oil market to ensure a high recall in the content retrieval."
   ]
  },
  {
   "cell_type": "code",
   "execution_count": 9,
   "id": "cffc1631",
   "metadata": {},
   "outputs": [],
   "source": [
    "LexiconGenerator = LexiconGenerator(openai_key=OPENAI_API_KEY, model=\"gpt-4o\", seeds=[123, 123456, 123456789, 456789, 789])"
   ]
  },
  {
   "cell_type": "code",
   "execution_count": 10,
   "id": "b11cd886",
   "metadata": {},
   "outputs": [],
   "source": [
    "keywords = LexiconGenerator.generate(theme=main_theme)"
   ]
  },
  {
   "cell_type": "markdown",
   "id": "a230635a-b3e9-468b-9681-ac06b453f20b",
   "metadata": {
    "id": "a230635a-b3e9-468b-9681-ac06b453f20b"
   },
   "source": [
    "## Content Retrieval from Bigdata Search API"
   ]
  },
  {
   "cell_type": "markdown",
   "id": "d439d1c4-865e-4d70-8fe9-5d2492f90541",
   "metadata": {
    "id": "d439d1c4-865e-4d70-8fe9-5d2492f90541"
   },
   "source": [
    "In this section, we perform a keyword search on the news content with the Bigdata API to retrieve documents, splitting the search over daily timeframes and multi-threading the content search on the individual keywords for speed purpose. The user can define the time range below to generate daily reports between the start and end dates."
   ]
  },
  {
   "cell_type": "markdown",
   "id": "d40aa199",
   "metadata": {},
   "source": [
    "With the list of market-specific keywords parameters, you can leverage the Search functionalities in bigdata-research-tools, built with Bigdata API, to run search at scale against news documents. We need to define 2 more parameters for search:\n",
    "\n",
    "- **Frequency** (`freq`): The frequency of the date ranges to search over. It should at least match the frequency of your daily digest. Supported values:\n",
    "    - `Y`: Yearly intervals.\n",
    "    - `M`: Monthly intervals.\n",
    "    - `W`: Weekly intervals.\n",
    "    - `D`: Daily intervals. Defaults to `D`.\n",
    "- **Document Limit** (`document_limit`): The maximum number of documents to return per query to Bigdata API."
   ]
  },
  {
   "cell_type": "code",
   "execution_count": 13,
   "id": "417eb4b5",
   "metadata": {},
   "outputs": [],
   "source": [
    "# ===== Query Configuration =====\n",
    "document_limit = 10 # Maximum number of documents to retrieve per query\n",
    "frequency = 'D'  # Query frequency"
   ]
  },
  {
   "cell_type": "code",
   "execution_count": 14,
   "id": "d5465768",
   "metadata": {},
   "outputs": [
    {
     "name": "stdout",
     "output_type": "stream",
     "text": [
      "About to run 856 queries\n",
      "Example Query: Keyword('Crude Oil') over date range: AbsoluteDateRange('2025-06-21T00:00:00', '2025-06-21T23:59:59')\n"
     ]
    },
    {
     "name": "stderr",
     "output_type": "stream",
     "text": [
      "Querying Bigdata...: 100%|██████████| 856/856 [02:58<00:00,  4.79it/s]\n"
     ]
    }
   ],
   "source": [
    "results, daily_keyword_count = search_by_keywords(\n",
    "    keywords=keywords,\n",
    "    start_date=start_query,\n",
    "    end_date=end_query,\n",
    "    scope = document_type,\n",
    "    freq=frequency,\n",
    "    document_limit=document_limit)"
   ]
  },
  {
   "cell_type": "markdown",
   "id": "0fc44aa5-c056-4163-8dea-d204f8b1307b",
   "metadata": {
    "id": "0fc44aa5-c056-4163-8dea-d204f8b1307b"
   },
   "source": [
    "## Topic Clustering and Summarization"
   ]
  },
  {
   "cell_type": "markdown",
   "id": "8bcf7b34-71cd-4631-a220-754be8118aaa",
   "metadata": {
    "id": "8bcf7b34-71cd-4631-a220-754be8118aaa"
   },
   "source": [
    "In this step, we perform topic modelling using a large language model to verify and cluster the news. Then, the summarization ensures topic selection identifying the top trending news for crude oil, while deriving advanced analytics to quantify the trendiness (based on news volume), novelty (based on daily changes in summaries), impact and magnitude (based on the financial materiality on crude oil prices) of the trending topics."
   ]
  },
  {
   "cell_type": "markdown",
   "id": "0ef0fb0c-bc04-4024-b194-aa15b50b986f",
   "metadata": {
    "id": "0ef0fb0c-bc04-4024-b194-aa15b50b986f"
   },
   "source": [
    "Before performing the topic clustering, we apply a verification layer to remove the news that are not relative to the oil market"
   ]
  },
  {
   "cell_type": "code",
   "execution_count": 19,
   "id": "506b4878",
   "metadata": {},
   "outputs": [
    {
     "data": {
      "application/vnd.jupyter.widget-view+json": {
       "model_id": "cc3d3a7fed2c4f5e91374099f9ab5fbb",
       "version_major": 2,
       "version_minor": 0
      },
      "text/plain": [
       "Filtering News:   0%|          | 0/6961 [00:00<?, ?it/s]"
      ]
     },
     "metadata": {},
     "output_type": "display_data"
    }
   ],
   "source": [
    "semaphore_size = 1000 # Maximum number of concurrent requests to Openai API\n",
    "\n",
    "# Assuming unique_reports is your DataFrame\n",
    "filtered_reports = process_all_reports(results, llm_model, OPENAI_API_KEY, main_theme, semaphore_size)"
   ]
  },
  {
   "cell_type": "code",
   "execution_count": 20,
   "id": "5f49034a",
   "metadata": {},
   "outputs": [
    {
     "data": {
      "text/html": [
       "<div>\n",
       "<style scoped>\n",
       "    .dataframe tbody tr th:only-of-type {\n",
       "        vertical-align: middle;\n",
       "    }\n",
       "\n",
       "    .dataframe tbody tr th {\n",
       "        vertical-align: top;\n",
       "    }\n",
       "\n",
       "    .dataframe thead th {\n",
       "        text-align: right;\n",
       "    }\n",
       "</style>\n",
       "<table border=\"1\" class=\"dataframe\">\n",
       "  <thead>\n",
       "    <tr style=\"text-align: right;\">\n",
       "      <th></th>\n",
       "      <th>timestamp</th>\n",
       "      <th>rp_document_id</th>\n",
       "      <th>headline</th>\n",
       "      <th>chunk_number</th>\n",
       "      <th>sentence_id</th>\n",
       "      <th>source_id</th>\n",
       "      <th>source_name</th>\n",
       "      <th>text</th>\n",
       "      <th>keyword</th>\n",
       "      <th>date</th>\n",
       "    </tr>\n",
       "  </thead>\n",
       "  <tbody>\n",
       "    <tr>\n",
       "      <th>0</th>\n",
       "      <td>2025-06-21 00:00:00+00:00</td>\n",
       "      <td>0B4844B85EA092ED4AB50AB3534AB360</td>\n",
       "      <td>BW Energy: Update on Fixed Income Investor Mee...</td>\n",
       "      <td>3.0</td>\n",
       "      <td>0B4844B85EA092ED4AB50AB3534AB360-3</td>\n",
       "      <td>923B93</td>\n",
       "      <td>Financial Services Monitor Worldwide</td>\n",
       "      <td>BW Energy is a growth E&amp;P company with a diffe...</td>\n",
       "      <td>Barrel</td>\n",
       "      <td>2025-06-21</td>\n",
       "    </tr>\n",
       "    <tr>\n",
       "      <th>1</th>\n",
       "      <td>2025-06-21 00:00:00+00:00</td>\n",
       "      <td>958293ED6CDCFE1D42FE513A05B3A7DA</td>\n",
       "      <td>Geothermal Drill Bits Market Trends, Opportuni...</td>\n",
       "      <td>7.0</td>\n",
       "      <td>958293ED6CDCFE1D42FE513A05B3A7DA-7</td>\n",
       "      <td>923B93</td>\n",
       "      <td>Financial Services Monitor Worldwide</td>\n",
       "      <td>Key Market Trends: Adoption of Advanced Materi...</td>\n",
       "      <td>Drilling</td>\n",
       "      <td>2025-06-21</td>\n",
       "    </tr>\n",
       "    <tr>\n",
       "      <th>2</th>\n",
       "      <td>2025-06-21 00:00:00+00:00</td>\n",
       "      <td>EE3309C79EA552874F436912D2F6A67A</td>\n",
       "      <td>US Supreme Court sets rules for venue selectio...</td>\n",
       "      <td>4.0</td>\n",
       "      <td>EE3309C79EA552874F436912D2F6A67A-4</td>\n",
       "      <td>BC923D</td>\n",
       "      <td>Legal Monitor Worldwide</td>\n",
       "      <td>Here, the Supreme Court held that the nationwi...</td>\n",
       "      <td>Refinery</td>\n",
       "      <td>2025-06-21</td>\n",
       "    </tr>\n",
       "    <tr>\n",
       "      <th>3</th>\n",
       "      <td>2025-06-21 00:00:00+00:00</td>\n",
       "      <td>958293ED6CDCFE1D42FE513A05B3A7DA</td>\n",
       "      <td>Geothermal Drill Bits Market Trends, Opportuni...</td>\n",
       "      <td>5.0</td>\n",
       "      <td>958293ED6CDCFE1D42FE513A05B3A7DA-5</td>\n",
       "      <td>923B93</td>\n",
       "      <td>Financial Services Monitor Worldwide</td>\n",
       "      <td>Key Market Challenges: Geological and Environm...</td>\n",
       "      <td>Drilling</td>\n",
       "      <td>2025-06-21</td>\n",
       "    </tr>\n",
       "    <tr>\n",
       "      <th>4</th>\n",
       "      <td>2025-06-21 00:00:00+00:00</td>\n",
       "      <td>958293ED6CDCFE1D42FE513A05B3A7DA</td>\n",
       "      <td>Geothermal Drill Bits Market Trends, Opportuni...</td>\n",
       "      <td>2.0</td>\n",
       "      <td>958293ED6CDCFE1D42FE513A05B3A7DA-2</td>\n",
       "      <td>923B93</td>\n",
       "      <td>Financial Services Monitor Worldwide</td>\n",
       "      <td>Moreover, government incentives, along with ex...</td>\n",
       "      <td>Drilling</td>\n",
       "      <td>2025-06-21</td>\n",
       "    </tr>\n",
       "    <tr>\n",
       "      <th>...</th>\n",
       "      <td>...</td>\n",
       "      <td>...</td>\n",
       "      <td>...</td>\n",
       "      <td>...</td>\n",
       "      <td>...</td>\n",
       "      <td>...</td>\n",
       "      <td>...</td>\n",
       "      <td>...</td>\n",
       "      <td>...</td>\n",
       "      <td>...</td>\n",
       "    </tr>\n",
       "    <tr>\n",
       "      <th>3671</th>\n",
       "      <td>2025-06-28 23:40:24+00:00</td>\n",
       "      <td>5DF2066D742E8ADBE14FFB5341CECFEE</td>\n",
       "      <td>Chennai airport conducts full scale emergency ...</td>\n",
       "      <td>1.0</td>\n",
       "      <td>5DF2066D742E8ADBE14FFB5341CECFEE-1</td>\n",
       "      <td>80FC03</td>\n",
       "      <td>The Times Of India</td>\n",
       "      <td>Chennai: An aircraft engulfed in flames, fire ...</td>\n",
       "      <td>Drilling</td>\n",
       "      <td>2025-06-28</td>\n",
       "    </tr>\n",
       "    <tr>\n",
       "      <th>3672</th>\n",
       "      <td>2025-06-28 23:40:24+00:00</td>\n",
       "      <td>5DF2066D742E8ADBE14FFB5341CECFEE</td>\n",
       "      <td>Chennai airport conducts full scale emergency ...</td>\n",
       "      <td>2.0</td>\n",
       "      <td>5DF2066D742E8ADBE14FFB5341CECFEE-2</td>\n",
       "      <td>80FC03</td>\n",
       "      <td>The Times Of India</td>\n",
       "      <td>The drill caused a traffic snarl on the GST ro...</td>\n",
       "      <td>Drilling</td>\n",
       "      <td>2025-06-28</td>\n",
       "    </tr>\n",
       "    <tr>\n",
       "      <th>3673</th>\n",
       "      <td>2025-06-28 23:40:24+00:00</td>\n",
       "      <td>5DF2066D742E8ADBE14FFB5341CECFEE</td>\n",
       "      <td>Chennai airport conducts full scale emergency ...</td>\n",
       "      <td>3.0</td>\n",
       "      <td>5DF2066D742E8ADBE14FFB5341CECFEE-3</td>\n",
       "      <td>80FC03</td>\n",
       "      <td>The Times Of India</td>\n",
       "      <td>The entire exercise was monitored and evaluate...</td>\n",
       "      <td>Drilling</td>\n",
       "      <td>2025-06-28</td>\n",
       "    </tr>\n",
       "    <tr>\n",
       "      <th>3674</th>\n",
       "      <td>2025-06-28 23:48:49+00:00</td>\n",
       "      <td>456DB9D74C8F0B01626EE845F8FF4CA6</td>\n",
       "      <td>Caught on camera: Car literally drives through...</td>\n",
       "      <td>2.0</td>\n",
       "      <td>456DB9D74C8F0B01626EE845F8FF4CA6-2</td>\n",
       "      <td>E54C73</td>\n",
       "      <td>ABC News</td>\n",
       "      <td>\"This is like a movie or something,\" Patel sai...</td>\n",
       "      <td>Barrel</td>\n",
       "      <td>2025-06-28</td>\n",
       "    </tr>\n",
       "    <tr>\n",
       "      <th>3675</th>\n",
       "      <td>2025-06-28 23:54:30+00:00</td>\n",
       "      <td>83B358B6C8498F0C6A4F19F9F88A07A6</td>\n",
       "      <td>An animated example of ice-core drilling in An...</td>\n",
       "      <td>1.0</td>\n",
       "      <td>83B358B6C8498F0C6A4F19F9F88A07A6-1</td>\n",
       "      <td>905C54</td>\n",
       "      <td>ABC Online</td>\n",
       "      <td>An animated example of ice-core drilling in An...</td>\n",
       "      <td>Drilling</td>\n",
       "      <td>2025-06-28</td>\n",
       "    </tr>\n",
       "  </tbody>\n",
       "</table>\n",
       "<p>3676 rows × 10 columns</p>\n",
       "</div>"
      ],
      "text/plain": [
       "                     timestamp                    rp_document_id  \\\n",
       "0    2025-06-21 00:00:00+00:00  0B4844B85EA092ED4AB50AB3534AB360   \n",
       "1    2025-06-21 00:00:00+00:00  958293ED6CDCFE1D42FE513A05B3A7DA   \n",
       "2    2025-06-21 00:00:00+00:00  EE3309C79EA552874F436912D2F6A67A   \n",
       "3    2025-06-21 00:00:00+00:00  958293ED6CDCFE1D42FE513A05B3A7DA   \n",
       "4    2025-06-21 00:00:00+00:00  958293ED6CDCFE1D42FE513A05B3A7DA   \n",
       "...                        ...                               ...   \n",
       "3671 2025-06-28 23:40:24+00:00  5DF2066D742E8ADBE14FFB5341CECFEE   \n",
       "3672 2025-06-28 23:40:24+00:00  5DF2066D742E8ADBE14FFB5341CECFEE   \n",
       "3673 2025-06-28 23:40:24+00:00  5DF2066D742E8ADBE14FFB5341CECFEE   \n",
       "3674 2025-06-28 23:48:49+00:00  456DB9D74C8F0B01626EE845F8FF4CA6   \n",
       "3675 2025-06-28 23:54:30+00:00  83B358B6C8498F0C6A4F19F9F88A07A6   \n",
       "\n",
       "                                               headline  chunk_number  \\\n",
       "0     BW Energy: Update on Fixed Income Investor Mee...           3.0   \n",
       "1     Geothermal Drill Bits Market Trends, Opportuni...           7.0   \n",
       "2     US Supreme Court sets rules for venue selectio...           4.0   \n",
       "3     Geothermal Drill Bits Market Trends, Opportuni...           5.0   \n",
       "4     Geothermal Drill Bits Market Trends, Opportuni...           2.0   \n",
       "...                                                 ...           ...   \n",
       "3671  Chennai airport conducts full scale emergency ...           1.0   \n",
       "3672  Chennai airport conducts full scale emergency ...           2.0   \n",
       "3673  Chennai airport conducts full scale emergency ...           3.0   \n",
       "3674  Caught on camera: Car literally drives through...           2.0   \n",
       "3675  An animated example of ice-core drilling in An...           1.0   \n",
       "\n",
       "                             sentence_id source_id  \\\n",
       "0     0B4844B85EA092ED4AB50AB3534AB360-3    923B93   \n",
       "1     958293ED6CDCFE1D42FE513A05B3A7DA-7    923B93   \n",
       "2     EE3309C79EA552874F436912D2F6A67A-4    BC923D   \n",
       "3     958293ED6CDCFE1D42FE513A05B3A7DA-5    923B93   \n",
       "4     958293ED6CDCFE1D42FE513A05B3A7DA-2    923B93   \n",
       "...                                  ...       ...   \n",
       "3671  5DF2066D742E8ADBE14FFB5341CECFEE-1    80FC03   \n",
       "3672  5DF2066D742E8ADBE14FFB5341CECFEE-2    80FC03   \n",
       "3673  5DF2066D742E8ADBE14FFB5341CECFEE-3    80FC03   \n",
       "3674  456DB9D74C8F0B01626EE845F8FF4CA6-2    E54C73   \n",
       "3675  83B358B6C8498F0C6A4F19F9F88A07A6-1    905C54   \n",
       "\n",
       "                               source_name  \\\n",
       "0     Financial Services Monitor Worldwide   \n",
       "1     Financial Services Monitor Worldwide   \n",
       "2                  Legal Monitor Worldwide   \n",
       "3     Financial Services Monitor Worldwide   \n",
       "4     Financial Services Monitor Worldwide   \n",
       "...                                    ...   \n",
       "3671                    The Times Of India   \n",
       "3672                    The Times Of India   \n",
       "3673                    The Times Of India   \n",
       "3674                              ABC News   \n",
       "3675                            ABC Online   \n",
       "\n",
       "                                                   text   keyword        date  \n",
       "0     BW Energy is a growth E&P company with a diffe...    Barrel  2025-06-21  \n",
       "1     Key Market Trends: Adoption of Advanced Materi...  Drilling  2025-06-21  \n",
       "2     Here, the Supreme Court held that the nationwi...  Refinery  2025-06-21  \n",
       "3     Key Market Challenges: Geological and Environm...  Drilling  2025-06-21  \n",
       "4     Moreover, government incentives, along with ex...  Drilling  2025-06-21  \n",
       "...                                                 ...       ...         ...  \n",
       "3671  Chennai: An aircraft engulfed in flames, fire ...  Drilling  2025-06-28  \n",
       "3672  The drill caused a traffic snarl on the GST ro...  Drilling  2025-06-28  \n",
       "3673  The entire exercise was monitored and evaluate...  Drilling  2025-06-28  \n",
       "3674  \"This is like a movie or something,\" Patel sai...    Barrel  2025-06-28  \n",
       "3675  An animated example of ice-core drilling in An...  Drilling  2025-06-28  \n",
       "\n",
       "[3676 rows x 10 columns]"
      ]
     },
     "execution_count": 20,
     "metadata": {},
     "output_type": "execute_result"
    }
   ],
   "source": [
    "filtered_reports"
   ]
  },
  {
   "cell_type": "markdown",
   "id": "e7d982ff-751c-42fc-a704-4cf576035e35",
   "metadata": {
    "id": "e7d982ff-751c-42fc-a704-4cf576035e35"
   },
   "source": [
    "In this cell, we leverage a LLM to perform topic modeling, identifying and clustering the key topics from the news reports."
   ]
  },
  {
   "cell_type": "code",
   "execution_count": 21,
   "id": "a989a1aa-e758-489b-98a6-0ba259ea976c",
   "metadata": {
    "colab": {
     "referenced_widgets": [
      "7e9b9ce871154b5e80ce5b9020ff34f2"
     ]
    },
    "id": "a989a1aa-e758-489b-98a6-0ba259ea976c",
    "outputId": "4cac4b38-cb6a-4d59-b13a-50c26c176e2c"
   },
   "outputs": [
    {
     "data": {
      "application/vnd.jupyter.widget-view+json": {
       "model_id": "aefe4420ba5040f3b38731b32711917f",
       "version_major": 2,
       "version_minor": 0
      },
      "text/plain": [
       "Extracting Topics for 2025-06-21:   0%|          | 0/20 [00:00<?, ?it/s]"
      ]
     },
     "metadata": {},
     "output_type": "display_data"
    },
    {
     "data": {
      "application/vnd.jupyter.widget-view+json": {
       "model_id": "e0426de70aaa42d0bef5c2c34d6dbdd7",
       "version_major": 2,
       "version_minor": 0
      },
      "text/plain": [
       "Extracting Topics for 2025-06-22:   0%|          | 0/20 [00:00<?, ?it/s]"
      ]
     },
     "metadata": {},
     "output_type": "display_data"
    },
    {
     "data": {
      "application/vnd.jupyter.widget-view+json": {
       "model_id": "5ff3b991caaa4bfbb1c83a6f3074b02f",
       "version_major": 2,
       "version_minor": 0
      },
      "text/plain": [
       "Extracting Topics for 2025-06-23:   0%|          | 0/20 [00:00<?, ?it/s]"
      ]
     },
     "metadata": {},
     "output_type": "display_data"
    },
    {
     "data": {
      "application/vnd.jupyter.widget-view+json": {
       "model_id": "97744ebb177444099d9961855da9b20d",
       "version_major": 2,
       "version_minor": 0
      },
      "text/plain": [
       "Extracting Topics for 2025-06-24:   0%|          | 0/20 [00:00<?, ?it/s]"
      ]
     },
     "metadata": {},
     "output_type": "display_data"
    },
    {
     "data": {
      "application/vnd.jupyter.widget-view+json": {
       "model_id": "974156b51d6b4a95a0fffcc3c42fcda5",
       "version_major": 2,
       "version_minor": 0
      },
      "text/plain": [
       "Extracting Topics for 2025-06-25:   0%|          | 0/20 [00:00<?, ?it/s]"
      ]
     },
     "metadata": {},
     "output_type": "display_data"
    },
    {
     "data": {
      "application/vnd.jupyter.widget-view+json": {
       "model_id": "01463d8b6a4f400dafa2ebb37ff635b5",
       "version_major": 2,
       "version_minor": 0
      },
      "text/plain": [
       "Extracting Topics for 2025-06-26:   0%|          | 0/20 [00:00<?, ?it/s]"
      ]
     },
     "metadata": {},
     "output_type": "display_data"
    },
    {
     "data": {
      "application/vnd.jupyter.widget-view+json": {
       "model_id": "aab54cdc406f4887a7f527870a57f855",
       "version_major": 2,
       "version_minor": 0
      },
      "text/plain": [
       "Extracting Topics for 2025-06-27:   0%|          | 0/20 [00:00<?, ?it/s]"
      ]
     },
     "metadata": {},
     "output_type": "display_data"
    },
    {
     "data": {
      "application/vnd.jupyter.widget-view+json": {
       "model_id": "801a3aceec314712aba619c835e6571f",
       "version_major": 2,
       "version_minor": 0
      },
      "text/plain": [
       "Extracting Topics for 2025-06-28:   0%|          | 0/20 [00:00<?, ?it/s]"
      ]
     },
     "metadata": {},
     "output_type": "display_data"
    },
    {
     "name": "stdout",
     "output_type": "stream",
     "text": [
      "Consolidating topics...\n"
     ]
    },
    {
     "name": "stderr",
     "output_type": "stream",
     "text": [
      "Consolidating topic batches: 100%|██████████| 10/10 [00:23<00:00,  2.36s/it]\n"
     ]
    },
    {
     "name": "stdout",
     "output_type": "stream",
     "text": [
      "Summarizing text for each topic...\n"
     ]
    },
    {
     "name": "stderr",
     "output_type": "stream",
     "text": [
      "Summarizing topics: 100%|██████████| 23/23 [10:05<00:00, 26.31s/it] \n",
      "Generating titles: 100%|██████████| 24/24 [00:07<00:00,  3.41it/s]\n"
     ]
    },
    {
     "name": "stdout",
     "output_type": "stream",
     "text": [
      "Generating Day in Review summaries...\n",
      "Adding one-line summaries to DataFrame...\n"
     ]
    },
    {
     "name": "stderr",
     "output_type": "stream",
     "text": [
      "Generating text summaries: 100%|██████████| 1623/1623 [01:05<00:00, 24.95it/s] \n"
     ]
    }
   ],
   "source": [
    "flattened_trending_topics_df = run_process_all_trending_topics(\n",
    "    unique_reports=filtered_reports,\n",
    "    model=llm_model,\n",
    "    start_query=start_query,\n",
    "    end_query=end_query,\n",
    "    api_key=OPENAI_API_KEY,\n",
    "    main_theme=main_theme,\n",
    "    batches=20 #number of batches to process the reports in parallel (adjust based on your system's capabilities)\n",
    ")\n"
   ]
  },
  {
   "cell_type": "markdown",
   "id": "b4d78dbd",
   "metadata": {},
   "source": [
    "## Topic Scoring"
   ]
  },
  {
   "cell_type": "markdown",
   "id": "dc7f18a8-f5a2-4bf2-b713-e525197fad29",
   "metadata": {
    "id": "dc7f18a8-f5a2-4bf2-b713-e525197fad29"
   },
   "source": [
    "**Trendiness and Novelty Scores**: We derive analytics related to the trendiness of the topic based on the news volume, and the novelty of the topic based on the changes in daily summaries, evaluating the uniqueness and freshness of each topic."
   ]
  },
  {
   "cell_type": "code",
   "execution_count": 22,
   "id": "9344c4cf-847c-49c4-a5bc-23cf1b542369",
   "metadata": {
    "colab": {
     "referenced_widgets": [
      "d792421b0c964d3b83a252d78d82fdb2"
     ]
    },
    "id": "9344c4cf-847c-49c4-a5bc-23cf1b542369",
    "outputId": "890e1da7-8945-41f4-b64c-6350209a1a90"
   },
   "outputs": [
    {
     "data": {
      "application/vnd.jupyter.widget-view+json": {
       "model_id": "be8e580d6d9245248bf28f1f81de9d14",
       "version_major": 2,
       "version_minor": 0
      },
      "text/plain": [
       "Calculating Novelty Scores:   0%|          | 0/54 [00:00<?, ?it/s]"
      ]
     },
     "metadata": {},
     "output_type": "display_data"
    }
   ],
   "source": [
    "# Calculate trendiness and novelty scores, assessing the uniqueness and freshness of each topic\n",
    "flattened_trending_topics_df = run_add_advanced_novelty_scores(flattened_trending_topics_df, api_key = os.environ['OPENAI_API_KEY'], main_theme = main_theme)"
   ]
  },
  {
   "cell_type": "markdown",
   "id": "8dad5fdd-ec65-49ad-a706-2f125f730621",
   "metadata": {
    "id": "8dad5fdd-ec65-49ad-a706-2f125f730621"
   },
   "source": [
    "**Financial Materiality**: We derive analytics related to the impact (Positive, Negative) and magnitude (High, Medium, Low) of the topics, inferring their  market impact on crude oil prices. The inference is based on the price mechanisms involving supply and demand dynamics, geopolitical factors among others."
   ]
  },
  {
   "cell_type": "code",
   "execution_count": 23,
   "id": "a4ee2bfa-7bc4-4a38-a43f-dc3bc285a78a",
   "metadata": {
    "id": "a4ee2bfa-7bc4-4a38-a43f-dc3bc285a78a"
   },
   "outputs": [],
   "source": [
    "point_of_view = \"a crude oil trader, where price is influenced by supply-demand dynamics, geopolitical events, and market sentiment. \\\n",
    "As a trader, you focus on changes in production, inventories, and economic indicators from key markets.\"\n",
    "\n",
    "flattened_trending_topics_df = add_market_impact_to_df(flattened_trending_topics_df, api_key = os.environ['OPENAI_API_KEY'], main_theme = main_theme, point_of_view = point_of_view)"
   ]
  },
  {
   "cell_type": "markdown",
   "id": "1fc2eaff-20b6-472f-8cf2-57ea3b695d0d",
   "metadata": {
    "id": "1fc2eaff-20b6-472f-8cf2-57ea3b695d0d"
   },
   "source": [
    "We display the results of topic modeling and summarization. The **Topic** column represents the themes inferred through topic clustering using a LLM, which groups the news articles based on their content and underlying themes. The **Summary** provides a synthesized overview of all news articles within the same topic, offering a high-level view of the key messages for each cluster. The **Topic** is then rephrased into a concise form based on the summary. The **Text_Summary** provides a detailed summary of each individualchunk, capturing its core message."
   ]
  },
  {
   "cell_type": "code",
   "execution_count": 24,
   "id": "69b46fce-227e-4195-af43-e0f0dda964b2",
   "metadata": {
    "id": "69b46fce-227e-4195-af43-e0f0dda964b2",
    "outputId": "dca9d603-8e0c-4117-ead7-a7ec546a9492"
   },
   "outputs": [
    {
     "data": {
      "text/html": [
       "<div>\n",
       "<style scoped>\n",
       "    .dataframe tbody tr th:only-of-type {\n",
       "        vertical-align: middle;\n",
       "    }\n",
       "\n",
       "    .dataframe tbody tr th {\n",
       "        vertical-align: top;\n",
       "    }\n",
       "\n",
       "    .dataframe thead th {\n",
       "        text-align: right;\n",
       "    }\n",
       "</style>\n",
       "<table border=\"1\" class=\"dataframe\">\n",
       "  <thead>\n",
       "    <tr style=\"text-align: right;\">\n",
       "      <th></th>\n",
       "      <th>Date</th>\n",
       "      <th>Day_in_Review</th>\n",
       "      <th>Topic</th>\n",
       "      <th>Summary</th>\n",
       "      <th>Source</th>\n",
       "      <th>Headline</th>\n",
       "      <th>Text</th>\n",
       "      <th>Volume_Score</th>\n",
       "      <th>Text_Summary</th>\n",
       "      <th>Volume_Score</th>\n",
       "      <th>Novelty_Score</th>\n",
       "      <th>Impact_Score</th>\n",
       "      <th>Magnitude_Score</th>\n",
       "    </tr>\n",
       "  </thead>\n",
       "  <tbody>\n",
       "    <tr>\n",
       "      <th>0</th>\n",
       "      <td>2025-06-21</td>\n",
       "      <td>- **US-Iran Conflict Escalation**: Heightened ...</td>\n",
       "      <td>US-Iran Conflict Escalation Drives Volatility ...</td>\n",
       "      <td>The US-Iran conflict, particularly in the cont...</td>\n",
       "      <td>The Economic Times</td>\n",
       "      <td>Oil prices fall as US delays decision on direc...</td>\n",
       "      <td>Oil prices fell on Friday after the White Hous...</td>\n",
       "      <td>4</td>\n",
       "      <td>Oil prices declined due to delayed U.S. involv...</td>\n",
       "      <td>4</td>\n",
       "      <td>New</td>\n",
       "      <td>Positive</td>\n",
       "      <td>High</td>\n",
       "    </tr>\n",
       "    <tr>\n",
       "      <th>3</th>\n",
       "      <td>2025-06-21</td>\n",
       "      <td>- **US-Iran Conflict Escalation**: Heightened ...</td>\n",
       "      <td>US-Iran Conflict Escalation Drives Volatility ...</td>\n",
       "      <td>The US-Iran conflict, particularly in the cont...</td>\n",
       "      <td>Asharq Al-Awsat</td>\n",
       "      <td>Water Levels Plummet at Drought-Hit Iraqi Rese...</td>\n",
       "      <td>'Harvest failed' -\\nUpstream damming of the Li...</td>\n",
       "      <td>4</td>\n",
       "      <td>Iran's upstream damming of the Little Zab Rive...</td>\n",
       "      <td>4</td>\n",
       "      <td>New</td>\n",
       "      <td>Positive</td>\n",
       "      <td>High</td>\n",
       "    </tr>\n",
       "    <tr>\n",
       "      <th>4</th>\n",
       "      <td>2025-06-21</td>\n",
       "      <td>- **US-Iran Conflict Escalation**: Heightened ...</td>\n",
       "      <td>Iran-Israel Conflict Fuels Oil Price Surge Ami...</td>\n",
       "      <td>Geopolitical tensions in the Middle East, part...</td>\n",
       "      <td>Yahoo! Finance</td>\n",
       "      <td>How a contrarian trade can help you as an inve...</td>\n",
       "      <td>As President Donald Trump decides whether or n...</td>\n",
       "      <td>5</td>\n",
       "      <td>The potential U.S. involvement in Israel's mil...</td>\n",
       "      <td>5</td>\n",
       "      <td>Old</td>\n",
       "      <td>Positive</td>\n",
       "      <td>High</td>\n",
       "    </tr>\n",
       "    <tr>\n",
       "      <th>5</th>\n",
       "      <td>2025-06-21</td>\n",
       "      <td>- **US-Iran Conflict Escalation**: Heightened ...</td>\n",
       "      <td>Iran-Israel Conflict Fuels Oil Price Surge Ami...</td>\n",
       "      <td>Geopolitical tensions in the Middle East, part...</td>\n",
       "      <td>EnergyNow</td>\n",
       "      <td>Oil Prices Settle Lower as US Sanctions Ease F...</td>\n",
       "      <td>Oil prices jumped almost 3% on Thursday after ...</td>\n",
       "      <td>5</td>\n",
       "      <td>Escalating military actions between Israel and...</td>\n",
       "      <td>5</td>\n",
       "      <td>Old</td>\n",
       "      <td>Positive</td>\n",
       "      <td>High</td>\n",
       "    </tr>\n",
       "    <tr>\n",
       "      <th>6</th>\n",
       "      <td>2025-06-21</td>\n",
       "      <td>- **US-Iran Conflict Escalation**: Heightened ...</td>\n",
       "      <td>Iran-Israel Conflict Fuels Oil Price Surge Ami...</td>\n",
       "      <td>Geopolitical tensions in the Middle East, part...</td>\n",
       "      <td>Time Magazine</td>\n",
       "      <td>What Conflict in the Middle East Means for Cli...</td>\n",
       "      <td>Central to that picture are oil prices. In the...</td>\n",
       "      <td>5</td>\n",
       "      <td>Rising tensions in the Iran-Israel conflict ha...</td>\n",
       "      <td>5</td>\n",
       "      <td>Old</td>\n",
       "      <td>Positive</td>\n",
       "      <td>High</td>\n",
       "    </tr>\n",
       "  </tbody>\n",
       "</table>\n",
       "</div>"
      ],
      "text/plain": [
       "         Date                                      Day_in_Review  \\\n",
       "0  2025-06-21  - **US-Iran Conflict Escalation**: Heightened ...   \n",
       "3  2025-06-21  - **US-Iran Conflict Escalation**: Heightened ...   \n",
       "4  2025-06-21  - **US-Iran Conflict Escalation**: Heightened ...   \n",
       "5  2025-06-21  - **US-Iran Conflict Escalation**: Heightened ...   \n",
       "6  2025-06-21  - **US-Iran Conflict Escalation**: Heightened ...   \n",
       "\n",
       "                                               Topic  \\\n",
       "0  US-Iran Conflict Escalation Drives Volatility ...   \n",
       "3  US-Iran Conflict Escalation Drives Volatility ...   \n",
       "4  Iran-Israel Conflict Fuels Oil Price Surge Ami...   \n",
       "5  Iran-Israel Conflict Fuels Oil Price Surge Ami...   \n",
       "6  Iran-Israel Conflict Fuels Oil Price Surge Ami...   \n",
       "\n",
       "                                             Summary              Source  \\\n",
       "0  The US-Iran conflict, particularly in the cont...  The Economic Times   \n",
       "3  The US-Iran conflict, particularly in the cont...     Asharq Al-Awsat   \n",
       "4  Geopolitical tensions in the Middle East, part...      Yahoo! Finance   \n",
       "5  Geopolitical tensions in the Middle East, part...           EnergyNow   \n",
       "6  Geopolitical tensions in the Middle East, part...       Time Magazine   \n",
       "\n",
       "                                            Headline  \\\n",
       "0  Oil prices fall as US delays decision on direc...   \n",
       "3  Water Levels Plummet at Drought-Hit Iraqi Rese...   \n",
       "4  How a contrarian trade can help you as an inve...   \n",
       "5  Oil Prices Settle Lower as US Sanctions Ease F...   \n",
       "6  What Conflict in the Middle East Means for Cli...   \n",
       "\n",
       "                                                Text  Volume_Score  \\\n",
       "0  Oil prices fell on Friday after the White Hous...             4   \n",
       "3  'Harvest failed' -\\nUpstream damming of the Li...             4   \n",
       "4  As President Donald Trump decides whether or n...             5   \n",
       "5  Oil prices jumped almost 3% on Thursday after ...             5   \n",
       "6  Central to that picture are oil prices. In the...             5   \n",
       "\n",
       "                                        Text_Summary  Volume_Score  \\\n",
       "0  Oil prices declined due to delayed U.S. involv...             4   \n",
       "3  Iran's upstream damming of the Little Zab Rive...             4   \n",
       "4  The potential U.S. involvement in Israel's mil...             5   \n",
       "5  Escalating military actions between Israel and...             5   \n",
       "6  Rising tensions in the Iran-Israel conflict ha...             5   \n",
       "\n",
       "  Novelty_Score Impact_Score Magnitude_Score  \n",
       "0           New     Positive            High  \n",
       "3           New     Positive            High  \n",
       "4           Old     Positive            High  \n",
       "5           Old     Positive            High  \n",
       "6           Old     Positive            High  "
      ]
     },
     "execution_count": 24,
     "metadata": {},
     "output_type": "execute_result"
    }
   ],
   "source": [
    "flattened_trending_topics_df.head(5)"
   ]
  },
  {
   "cell_type": "markdown",
   "id": "a6d5c43a-0d83-4621-8e5e-ad064d0b6190",
   "metadata": {
    "id": "a6d5c43a-0d83-4621-8e5e-ad064d0b6190"
   },
   "source": [
    "For verification purpose, this actionable timestamped dataframe contains the granular news clustered into relevant topics, and also the advanced analytics of trendiness, novelty, impact, and magnitude scores to be potentially used for backtesting."
   ]
  },
  {
   "cell_type": "markdown",
   "id": "e04f408a-7ba2-4157-b5cd-9e580ff4e12c",
   "metadata": {
    "id": "e04f408a-7ba2-4157-b5cd-9e580ff4e12c"
   },
   "source": [
    "## Generate a Custom Daily Digest"
   ]
  },
  {
   "cell_type": "markdown",
   "id": "acbc5f20-ec30-4669-99f1-5ff1c2eca389",
   "metadata": {
    "id": "acbc5f20-ec30-4669-99f1-5ff1c2eca389"
   },
   "source": [
    "In this step, we rank the topics, allowing the user to customize the ranking system to reindex the news, based on their trendiness, novelty, and financial materiality on crude oil prices. We finally display a daily market update, supported by the corresponding granular news and sources for verification purpose."
   ]
  },
  {
   "cell_type": "markdown",
   "id": "2088103e-9984-4951-96c8-f8723e8cfad8",
   "metadata": {
    "id": "2088103e-9984-4951-96c8-f8723e8cfad8"
   },
   "source": [
    "The user selects the date for the report summarizing the top trending topics, and customizes the ranking system to prioritize the topics based on volume (trendiness and media attention), novelty (based on the emergence of new daily news), impact direction (positive or negative), and magnitude (financial materiality). The ranking system prioritizes the criteria in the order specified by the user, allowing for a tailored focus on the most relevant aspects of the data."
   ]
  },
  {
   "cell_type": "markdown",
   "id": "5cbf4275-da44-4ead-972a-d16f00ea7c5c",
   "metadata": {
    "id": "5cbf4275-da44-4ead-972a-d16f00ea7c5c"
   },
   "source": [
    "The order in which the criteria are listed in user_selected_ranking determines their priority for ranking the topics within the report. The first criterion in the list has the highest priority, followed by the second, and then the third. The user can customize the ranking by choosing to prioritize impact direction (positive or negative), novelty, magnitude, or volume, and has the flexibility to select 1, 2, or all 3 criteria based on their specific needs."
   ]
  },
  {
   "cell_type": "code",
   "execution_count": 25,
   "id": "73ba70a9",
   "metadata": {},
   "outputs": [],
   "source": [
    "specific_date = '2025-06-23'  # Example date, can be modified as needed\n",
    "user_selected_ranking = ['novelty', 'volume', 'magnitude']  # User can modify this list to change the ranking order\n",
    "#impact_filter = 'positive_impact' #User can use the impact_filter to filter out the report"
   ]
  },
  {
   "cell_type": "code",
   "execution_count": 26,
   "id": "c851a6fa",
   "metadata": {},
   "outputs": [],
   "source": [
    "prepared_reports = prepare_data_for_report(flattened_trending_topics_df, user_selected_ranking, impact_filter = None, report_date = specific_date)"
   ]
  },
  {
   "cell_type": "code",
   "execution_count": 27,
   "id": "a9e22ce4-ee81-4a20-89cf-879bedcf878f",
   "metadata": {
    "id": "a9e22ce4-ee81-4a20-89cf-879bedcf878f",
    "outputId": "2c946716-debf-4847-86a2-538e58061ab7",
    "tags": []
   },
   "outputs": [
    {
     "data": {
      "text/html": [
       "<!DOCTYPE html>\n",
       "<html lang=\"en\">\n",
       "<head>\n",
       "    <meta charset=\"UTF-8\">\n",
       "    <title>Daily crude oil market update - 2025-06-23</title>\n",
       "    <style>\n",
       "        body {\n",
       "            font-family: Arial, sans-serif;\n",
       "            background-color: #121212;\n",
       "            color: #E0E0E0;\n",
       "            margin: 20px;\n",
       "            padding: 0;\n",
       "            line-height: 1.6;\n",
       "        }\n",
       "        h1, h2, h3 {\n",
       "            color: #0080BF; /* Darker blue color for headings */\n",
       "        }\n",
       "        .container {\n",
       "            max-width: 1200px;\n",
       "            margin: 0 auto;\n",
       "            padding: 20px;\n",
       "            background-color: #1E1E1E;\n",
       "            border-radius: 10px;\n",
       "            box-shadow: 0px 4px 8px rgba(0, 0, 0, 0.4);\n",
       "            position: relative;  /* For positioning the logo */\n",
       "        }\n",
       "        .title {\n",
       "            text-align: center;\n",
       "            font-size: 2em;\n",
       "            margin-bottom: 20px;\n",
       "            color: #00BFFF; /* Dynamic blue color for the title */\n",
       "            text-transform: uppercase;\n",
       "            letter-spacing: 2px;\n",
       "            white-space: nowrap; /* Prevent text wrapping */\n",
       "        }\n",
       "        .logo {\n",
       "            position: absolute;\n",
       "            top: 20px;\n",
       "            left: 20px; /* Positioned to the left */\n",
       "            width: 180px;  /* Adjust the size as needed */\n",
       "            height: auto;\n",
       "        }\n",
       "        .content {\n",
       "            display: flex;\n",
       "        }\n",
       "        .left-column {\n",
       "            flex: 1;\n",
       "            max-width: 300px;\n",
       "            margin-right: 20px;\n",
       "        }\n",
       "        .right-column {\n",
       "            flex: 3;\n",
       "        }\n",
       "        .separator {\n",
       "            width: 2px;\n",
       "            background-color: #00BFFF; /* Dynamic blue color for the separator */\n",
       "            margin-right: 20px;\n",
       "        }\n",
       "        .section-title {\n",
       "            font-size: 1.5em;\n",
       "            margin-bottom: 15px;\n",
       "            color: #0080BF; /* Darker blue color for section titles */\n",
       "            text-transform: uppercase;\n",
       "        }\n",
       "        .bullet-points {\n",
       "            list-style-type: disc;\n",
       "            margin-left: 20px;\n",
       "            color: #E0E0E0; /* White color for bullet points */\n",
       "        }\n",
       "        .topic-section {\n",
       "            margin-bottom: 40px;  /* Increased space between updates */\n",
       "            padding: 20px;\n",
       "            background-color: #2A2A2A;\n",
       "            border-radius: 10px;\n",
       "            box-shadow: 0px 4px 6px rgba(0, 0, 0, 0.3);\n",
       "            position: relative;  /* To position the counters */\n",
       "        }\n",
       "        .topic-title {\n",
       "            font-size: 1.7em;\n",
       "            padding-top: 40px; /* Increase space above the title */\n",
       "            color: #0080BF; /* Darker blue color for topic titles */\n",
       "            text-transform: uppercase;\n",
       "        }\n",
       "        .counter-container {\n",
       "            position: absolute;\n",
       "            top: 20px;\n",
       "            right: 20px;\n",
       "            display: flex;\n",
       "            align-items: center;\n",
       "            justify-content: flex-start; /* Align content to the left */\n",
       "            gap: 20px; /* Space between each counter */\n",
       "            margin-bottom: 60px; /* Increased space between the title and counters */\n",
       "        }\n",
       "        .news-counter, .novelty-counter, .impact-counter, .magnitude-counter {\n",
       "            background-color: #00BFFF; /* Dynamic blue color for counters */\n",
       "            color: #121212; /* Black text color for counters */\n",
       "            padding: 5px 10px;\n",
       "            border-radius: 15px;\n",
       "            font-weight: bold;\n",
       "            font-size: 1em;\n",
       "            box-shadow: 0px 2px 4px rgba(0, 0, 0, 0.2);\n",
       "            display: flex;\n",
       "            align-items: center;  /* Align text and icon vertically */\n",
       "        }\n",
       "        .novelty-counter {\n",
       "            background-color: transparent;\n",
       "            color: #FFA500;  /* Orange color for the flame icon and text */\n",
       "        }\n",
       "        .flame-icon {\n",
       "            vertical-align: middle;\n",
       "            margin-right: 5px;\n",
       "            width: 24px;  /* Adjusted width of the flame icon */\n",
       "            height: 24px; /* Adjusted height of the flame icon */\n",
       "        }\n",
       "        .impact-counter {\n",
       "            color: #121212; /* Black text color for impact */\n",
       "        }\n",
       "        .impact-counter.positive {\n",
       "            background-color: #4CAF50; /* Green for positive impact */\n",
       "        }\n",
       "        .impact-counter.negative {\n",
       "            background-color: #F44336; /* Red for negative impact */\n",
       "        }\n",
       "        .impact-counter.neutral {\n",
       "            background-color: transparent; /* Transparent for neutral impact */\n",
       "            color: #00BFFF; /* Dynamic blue for neutral impact text */\n",
       "        }\n",
       "        .magnitude-counter {\n",
       "            background-color: transparent; /* Transparent for the magnitude box */\n",
       "            color: #00BFFF; /* Dynamic blue for magnitude text */\n",
       "        }\n",
       "        .magnitude-counter.high {\n",
       "            color: #F44336; /* Red for high magnitude */\n",
       "        }\n",
       "        .magnitude-counter.medium {\n",
       "            color: #FFD700; /* Yellow for medium magnitude */\n",
       "        }\n",
       "        .magnitude-counter.low {\n",
       "            color: #FFFFFF; /* White for low magnitude */\n",
       "        }\n",
       "        .impact-icon, .intensity-arrow {\n",
       "            vertical-align: middle;\n",
       "            margin-right: 5px;\n",
       "            width: 24px;  /* Adjusted width of the icons */\n",
       "            height: 24px; /* Adjusted height of the icons */\n",
       "        }\n",
       "        .counter-label {\n",
       "            font-size: 0.8em;\n",
       "            color: #E0E0E0; /* White color for the counter labels */\n",
       "            margin-right: 5px;\n",
       "            text-transform: uppercase;\n",
       "            letter-spacing: 1px;\n",
       "        }\n",
       "        .description {\n",
       "            font-size: 1.1em;\n",
       "            margin-bottom: 15px;\n",
       "            color: #E0E0E0; /* White color for description */\n",
       "        }\n",
       "    </style>\n",
       "</head>\n",
       "<body>\n",
       "    <div class=\"container\">\n",
       "        <!-- Logo Section -->\n",
       "        <img src=\"assets/bigdata-logo-white.svg\" alt=\"Big Data Logo\" class=\"logo\">\n",
       "        \n",
       "        <!-- Title Section -->\n",
       "        <div class=\"title\">Daily crude oil market update - 2025-06-23</div>\n",
       "        \n",
       "        <!-- Content Section -->\n",
       "        <div class=\"content\">\n",
       "            <!-- Left Column -->\n",
       "            <div class=\"left-column\">\n",
       "                <h2 class=\"section-title\">The Day in Review</h2>\n",
       "                <ul class=\"bullet-points\">\n",
       "                    \n",
       "                    <li><b>Geopolitical Tensions</b>: Rising tensions in the Strait of Hormuz, particularly between Iran and Israel, threaten oil supply, pushing Brent prices toward $110 per barrel due to fears of disruptions.</li>\n",
       "                    \n",
       "                    <li><b>OPEC+ Production Increase</b>: OPEC+ has raised oil output by 411,000 barrels per day to stabilize prices amid the Iran-Israel conflict, highlighting their role in managing market stability.</li>\n",
       "                    \n",
       "                    <li><b>U.S. Military Movements</b>: The deployment of U.S. military assets raises concerns about potential disruptions to Iranian oil supply, contributing to market volatility and price spikes.</li>\n",
       "                    \n",
       "                    <li><b>Record U.S. Exports</b>: U.S. crude oil exports reached a record 8.6 quads in 2024, driven by global demand and geopolitical factors, enhancing the U.S.'s position in the global oil market.</li>\n",
       "                    \n",
       "                    <li><b>Venezuelan Oil Crisis</b>: The shutdown of the Cardon refinery due to power outages exacerbates Venezuela's oil production challenges, highlighting the impact of sanctions and underinvestment.</li>\n",
       "                    \n",
       "                    <li><b>Economic Implications</b>: Rising oil prices, influenced by geopolitical events, are expected to create inflationary pressures and hinder economic growth, prompting close monitoring by analysts.</li>\n",
       "                    \n",
       "                </ul>\n",
       "            </div>\n",
       "\n",
       "            <!-- Separator -->\n",
       "            <div class=\"separator\"></div>\n",
       "\n",
       "            <!-- Right Column -->\n",
       "            <div class=\"right-column\">\n",
       "                \n",
       "                <div class=\"topic-section\">\n",
       "                    <div class=\"counter-container\">\n",
       "                        <div class=\"news-counter\">\n",
       "                            <span class=\"counter-label\">Volume Score</span>\n",
       "                            5 News\n",
       "                        </div>\n",
       "                        <div class=\"novelty-counter\">\n",
       "                            <span class=\"counter-label\">Novelty Score</span>\n",
       "                            <img src=\"assets/flame-icon.png\" alt=\"Flame Icon\" class=\"flame-icon\">\n",
       "                            Novel\n",
       "                        </div>\n",
       "                        <div class=\"impact-counter positive\">\n",
       "                            <span class=\"counter-label\">Price Impact</span>\n",
       "                            Positive\n",
       "                        </div>\n",
       "                        <div class=\"magnitude-counter high\">\n",
       "                            <span class=\"counter-label\">Intensity</span>\n",
       "                            <img src=\"assets/arrow_up.png\" alt=\"Intensity Arrow\" class=\"intensity-arrow\">\n",
       "                            High\n",
       "                        </div>\n",
       "                    </div>\n",
       "                    <h2 class=\"topic-title\">U.S. Military Moves Heighten Oil Supply Fears Amid Iran Tensions</h2>\n",
       "                    <p class=\"description\">The recent deployment of B-2 stealth bombers by the United States towards the Pacific, amid rising tensions between Israel and Iran, has significant implications for crude oil markets. Potential military action against Iran raises concerns about disruptions to oil supply, given Iran's status as a major oil producer. Analysts warn that threats to Iranian oil supply could lead to sharp increases in crude oil prices due to market reactions to supply risks. The U.S. military's involvement, particularly strikes against Iranian nuclear sites, has already caused notable spikes in oil prices, reflecting market anxiety over potential supply disruptions. However, as the situation evolves, prices have begun to stabilize, indicating that traders are assessing the likelihood of further military escalation against the actual impact on oil infrastructure. Despite military actions, reports suggest that Iran's nuclear capabilities remain largely intact, raising concerns about the future of its oil exports. The uncertainty surrounding U.S.-Iran relations and the potential for further military engagement could disrupt oil supply, affecting global prices. This dynamic underscores the interconnectedness of U.S. military actions and oil supply, highlighting how geopolitical instability drives market sentiment and pricing in the oil sector.</p>\n",
       "                </div>\n",
       "                \n",
       "                <div class=\"topic-section\">\n",
       "                    <div class=\"counter-container\">\n",
       "                        <div class=\"news-counter\">\n",
       "                            <span class=\"counter-label\">Volume Score</span>\n",
       "                            3 News\n",
       "                        </div>\n",
       "                        <div class=\"novelty-counter\">\n",
       "                            <span class=\"counter-label\">Novelty Score</span>\n",
       "                            <img src=\"assets/flame-icon.png\" alt=\"Flame Icon\" class=\"flame-icon\">\n",
       "                            Novel\n",
       "                        </div>\n",
       "                        <div class=\"impact-counter positive\">\n",
       "                            <span class=\"counter-label\">Price Impact</span>\n",
       "                            Positive\n",
       "                        </div>\n",
       "                        <div class=\"magnitude-counter high\">\n",
       "                            <span class=\"counter-label\">Intensity</span>\n",
       "                            <img src=\"assets/arrow_up.png\" alt=\"Intensity Arrow\" class=\"intensity-arrow\">\n",
       "                            High\n",
       "                        </div>\n",
       "                    </div>\n",
       "                    <h2 class=\"topic-title\">Venezuelan Oil Crisis Deepens as Cardon Refinery Shuts Down Amid Power Outages and Sanctions</h2>\n",
       "                    <p class=\"description\">Venezuelan oil production is currently facing severe challenges, highlighted by the recent shutdown of the Cardon refinery due to power outages. This crisis is compounded by years of underinvestment and mismanagement within the oil sector, as well as U.S. sanctions that restrict the import of essential spare parts. The Cardon refinery is crucial for processing heavy crude from the Orinoco Belt, and its operational difficulties underscore the vulnerability of Venezuela's oil industry, which remains a significant player in the global oil market.</p>\n",
       "                </div>\n",
       "                \n",
       "                <div class=\"topic-section\">\n",
       "                    <div class=\"counter-container\">\n",
       "                        <div class=\"news-counter\">\n",
       "                            <span class=\"counter-label\">Volume Score</span>\n",
       "                            1 News\n",
       "                        </div>\n",
       "                        <div class=\"novelty-counter\">\n",
       "                            <span class=\"counter-label\">Novelty Score</span>\n",
       "                            <img src=\"assets/flame-icon.png\" alt=\"Flame Icon\" class=\"flame-icon\">\n",
       "                            Moderate\n",
       "                        </div>\n",
       "                        <div class=\"impact-counter negative\">\n",
       "                            <span class=\"counter-label\">Price Impact</span>\n",
       "                            Negative\n",
       "                        </div>\n",
       "                        <div class=\"magnitude-counter high\">\n",
       "                            <span class=\"counter-label\">Intensity</span>\n",
       "                            <img src=\"assets/arrow_up.png\" alt=\"Intensity Arrow\" class=\"intensity-arrow\">\n",
       "                            High\n",
       "                        </div>\n",
       "                    </div>\n",
       "                    <h2 class=\"topic-title\">Rising Oil Prices Driven by Geopolitical Tensions Threaten Economic Growth</h2>\n",
       "                    <p class=\"description\">Historically, spikes in oil prices have been associated with negative economic outcomes, often driven by geopolitical events. The current rise in oil prices, influenced by military actions and supply concerns, is expected to create inflationary pressures and hinder economic growth. Analysts are closely observing these trends, as sustained high oil prices can significantly impact consumer behavior, investment decisions, and overall economic stability. Understanding the intricate relationship between oil prices and economic indicators is crucial for predicting future market conditions.</p>\n",
       "                </div>\n",
       "                \n",
       "                <div class=\"topic-section\">\n",
       "                    <div class=\"counter-container\">\n",
       "                        <div class=\"news-counter\">\n",
       "                            <span class=\"counter-label\">Volume Score</span>\n",
       "                            7 News\n",
       "                        </div>\n",
       "                        <div class=\"novelty-counter\">\n",
       "                            <span class=\"counter-label\">Novelty Score</span>\n",
       "                            <img src=\"assets/flame-icon.png\" alt=\"Flame Icon\" class=\"flame-icon\">\n",
       "                            Repeat\n",
       "                        </div>\n",
       "                        <div class=\"impact-counter positive\">\n",
       "                            <span class=\"counter-label\">Price Impact</span>\n",
       "                            Positive\n",
       "                        </div>\n",
       "                        <div class=\"magnitude-counter high\">\n",
       "                            <span class=\"counter-label\">Intensity</span>\n",
       "                            <img src=\"assets/arrow_up.png\" alt=\"Intensity Arrow\" class=\"intensity-arrow\">\n",
       "                            High\n",
       "                        </div>\n",
       "                    </div>\n",
       "                    <h2 class=\"topic-title\">Geopolitical Tensions Threaten Oil Supply in Strait of Hormuz, Pushing Brent Prices Toward \\$110</h2>\n",
       "                    <p class=\"description\">The Strait of Hormuz is a crucial maritime chokepoint for global oil supply, with around 20% of the world's oil passing through it, including over 50% of China's energy supplies and 90% of Iran's crude oil exports to China. Recent geopolitical tensions, particularly between Iran and Israel, have raised concerns about potential disruptions to oil flows, prompting warnings from analysts like Goldman Sachs that a significant reduction in oil supply could lead to Brent crude prices spiking to \\$110 per barrel. The market is currently reflecting a 'war premium' due to the heightened risk of supply disruptions, which could result in major inflationary shocks and stall global economic growth. Additionally, increased military tensions have led to rising freight rates for oil transport, as shipping companies demand higher premiums for navigating the area safely. The Joint Maritime Information Centre (JMIC) has reported an elevated threat risk for shipping in the region, further complicating the stability of oil supply routes. The U.S. military presence in the area adds another layer of complexity to the geopolitical dynamics, influencing Iran's actions and the overall security of this vital supply route.</p>\n",
       "                </div>\n",
       "                \n",
       "                <div class=\"topic-section\">\n",
       "                    <div class=\"counter-container\">\n",
       "                        <div class=\"news-counter\">\n",
       "                            <span class=\"counter-label\">Volume Score</span>\n",
       "                            7 News\n",
       "                        </div>\n",
       "                        <div class=\"novelty-counter\">\n",
       "                            <span class=\"counter-label\">Novelty Score</span>\n",
       "                            <img src=\"assets/flame-icon.png\" alt=\"Flame Icon\" class=\"flame-icon\">\n",
       "                            Repeat\n",
       "                        </div>\n",
       "                        <div class=\"impact-counter negative\">\n",
       "                            <span class=\"counter-label\">Price Impact</span>\n",
       "                            Negative\n",
       "                        </div>\n",
       "                        <div class=\"magnitude-counter high\">\n",
       "                            <span class=\"counter-label\">Intensity</span>\n",
       "                            <img src=\"assets/arrow_up.png\" alt=\"Intensity Arrow\" class=\"intensity-arrow\">\n",
       "                            High\n",
       "                        </div>\n",
       "                    </div>\n",
       "                    <h2 class=\"topic-title\">OPEC+ Boosts Oil Output by 411,000 Barrels Daily to Stabilize Prices Amid Iran-Israel Conflict</h2>\n",
       "                    <p class=\"description\">OPEC+ plays a crucial role in shaping global oil supply and pricing dynamics through its production strategies, particularly in response to geopolitical tensions and market demands. Recent decisions by the group, which includes major oil-producing nations like Saudi Arabia and Russia, to increase oil output—such as a rise of at least 411,000 barrels per day—reflect a strategic move to stabilize prices amidst uncertainties, particularly the ongoing conflict between Iran and Israel. Industry leaders, including Rosneft's CEO Igor Sechin, have emphasized the importance of these production increases to mitigate potential supply disruptions and maintain market stability. OPEC+'s ability to manage production levels is vital, as their actions can either stabilize prices or contribute to volatility, especially in light of rising global demand and fluctuating economic conditions. The dynamics within OPEC+, including compliance issues and the influence of non-OPEC members, further complicate the landscape, making their production strategies a key factor for market participants monitoring crude oil prices and supply stability.</p>\n",
       "                </div>\n",
       "                \n",
       "                <div class=\"topic-section\">\n",
       "                    <div class=\"counter-container\">\n",
       "                        <div class=\"news-counter\">\n",
       "                            <span class=\"counter-label\">Volume Score</span>\n",
       "                            7 News\n",
       "                        </div>\n",
       "                        <div class=\"novelty-counter\">\n",
       "                            <span class=\"counter-label\">Novelty Score</span>\n",
       "                            <img src=\"assets/flame-icon.png\" alt=\"Flame Icon\" class=\"flame-icon\">\n",
       "                            Repeat\n",
       "                        </div>\n",
       "                        <div class=\"impact-counter positive\">\n",
       "                            <span class=\"counter-label\">Price Impact</span>\n",
       "                            Positive\n",
       "                        </div>\n",
       "                        <div class=\"magnitude-counter high\">\n",
       "                            <span class=\"counter-label\">Intensity</span>\n",
       "                            <img src=\"assets/arrow_up.png\" alt=\"Intensity Arrow\" class=\"intensity-arrow\">\n",
       "                            High\n",
       "                        </div>\n",
       "                    </div>\n",
       "                    <h2 class=\"topic-title\">U.S. Crude Oil Exports Hit Record 8.6 Quads in 2024, Driven by Global Demand and Geopolitical Tensions</h2>\n",
       "                    <p class=\"description\">In 2024, U.S. crude oil exports reached a record high of 8.6 quads, comprising 28% of total U.S. energy exports, driven by global demand influenced by geopolitical tensions and OPEC+ decisions. This surge enhances the U.S.'s position in the global oil market, affecting domestic pricing and production strategies, particularly for companies like Diamondback Energy in the Permian Basin. The U.S. Energy Information Administration reported a nearly 40,000 bpd increase in refinery crude oil processing capacity, although potential declines loom due to refinery closures. Additionally, the U.S. Geological Survey identified nearly 30 billion barrels of untapped oil reserves, primarily in Alaska and New Mexico, which could reshape global market dynamics if developed. Despite a slowdown in production due to natural depletion, the U.S. remains the world's largest oil producer, with advancements in extraction technology bolstering output. This production capacity insulates the U.S. economy from Middle Eastern conflicts and allows for flexible responses to international price changes, thereby influencing global oil supply and pricing strategies. Overall, ongoing developments in U.S. oil production are critical for both domestic energy security and international market stability.</p>\n",
       "                </div>\n",
       "                \n",
       "            </div>\n",
       "        </div>\n",
       "    </div>\n",
       "</body>\n",
       "</html>"
      ],
      "text/plain": [
       "<IPython.core.display.HTML object>"
      ]
     },
     "metadata": {},
     "output_type": "display_data"
    },
    {
     "name": "stdout",
     "output_type": "stream",
     "text": [
      "\n",
      "\n",
      "\n"
     ]
    }
   ],
   "source": [
    "# Generate and display the HTML report for each date\n",
    "for report in prepared_reports:\n",
    "    html_content = generate_html_report(\n",
    "        report['date'],\n",
    "        report['day_in_review'],\n",
    "        report['topics'],\n",
    "        'Daily crude oil market update'  # Pass the main theme to dynamically generate the title\n",
    "    )\n",
    "    display(HTML(html_content))\n",
    "    print(\"\")\n",
    "    print(\"\")\n",
    "    print(\"\")"
   ]
  },
  {
   "cell_type": "code",
   "execution_count": null,
   "id": "4fc40128",
   "metadata": {},
   "outputs": [],
   "source": []
  }
 ],
 "metadata": {
  "colab": {
   "provenance": []
  },
  "kernelspec": {
   "display_name": "cookbook",
   "language": "python",
   "name": "python3"
  },
  "language_info": {
   "codemirror_mode": {
    "name": "ipython",
    "version": 3
   },
   "file_extension": ".py",
   "mimetype": "text/x-python",
   "name": "python",
   "nbconvert_exporter": "python",
   "pygments_lexer": "ipython3",
   "version": "3.13.5"
  }
 },
 "nbformat": 4,
 "nbformat_minor": 5
}
