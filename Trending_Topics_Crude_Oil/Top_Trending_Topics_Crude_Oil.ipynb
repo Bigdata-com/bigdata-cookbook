{
 "cells": [
  {
   "cell_type": "markdown",
   "id": "d525f4fa",
   "metadata": {},
   "source": [
    "# **Top Trending Topics for Crude Oil**\n",
    "\n",
    "This Jupyter notebook implements an **agentic workflow** based on the content retrieval from BigData API to **identify, verifiy, reindex, and summarize** the specialized news that are **trending topics** for the crude oil market.\n",
    "\n",
    "The workflow is structured as follows:\n",
    "\n",
    "**Step 1- Generation of the Lexicon**: Identify the specialized industry-specific jargon relevant to the crude oil market to ensure a high recall in the content retrieval.\n",
    "\n",
    "**Step 2- Content Retrieval Based on BigData**: Perform a keyword search on the news content with the Bigdata API to retrieve documents, splitting the search over daily timeframes and multi-threading the content search on the individual keywords for speed purpose.\n",
    "\n",
    "**Step 3- Topic Clustering and Selection**: Perform topic modelling using a large language model to verify and cluster the news. Then, the summarization ensures topic selection identifying the top trending news for crude oil, while deriving advanced analytics to quantify the trendiness (based on news volume), novelty (based on daily changes in summaries), impact and magnitude (based on the financial materiality on crude oil prices) of the trending topics.\n",
    "\n",
    "**Step 4- Customized Report Generation**: Customize the ranking system of the summarized topics based on their trendiness, novelty, and financial materiality on crude oil prices, and display a daily market update. For verification purpose, the reports are supported by the granular news and sources.\n",
    "\n",
    "**Output**\n",
    "\n",
    "1. **Daily Market Reports**: A detailed and visually appealing report summarizing the top trending topics for crude oil, with a customizable ranking system to reindex the news.\n",
    "2. **Actionable Dataframe**: A timestamped dataframe containing the granular news clustered into relevant topics, and the advanced analytics of trendiness, novelty, impact, and magnitude scores to be potentially used for backtesting purpose.\n",
    "\n",
    "**Requirements**\n",
    "\n",
    "- Credentials for the Bigdata API to perform keyword and document searches on news content.\n",
    "- Credentials for the OpenAI API used in the notebook, this could be substituted with any other LLM.\n",
    "- A `tools` folder in the same directory as this notebook, containing a Python file named `utils_reports.py` with all required functionalities.\n",
    "- A `requirements.txt` file listing all the necessary Python libraries and dependencies. We recommend installing these packages in a virtual environment."
   ]
  },
  {
   "cell_type": "markdown",
   "id": "a3ac350d",
   "metadata": {},
   "source": [
    "# Set-Up"
   ]
  },
  {
   "cell_type": "code",
   "execution_count": 1,
   "id": "7346a680-6158-4eee-acc8-7cc4f9e4140e",
   "metadata": {
    "id": "7346a680-6158-4eee-acc8-7cc4f9e4140e"
   },
   "outputs": [],
   "source": [
    "%load_ext autoreload\n",
    "%autoreload 2"
   ]
  },
  {
   "cell_type": "code",
   "execution_count": 2,
   "id": "a99ea983-f879-4b73-8d12-4ffd5b0d1247",
   "metadata": {
    "id": "a99ea983-f879-4b73-8d12-4ffd5b0d1247",
    "outputId": "47ee8bb9-5f56-4387-94c3-a19aad9d047f"
   },
   "outputs": [
    {
     "data": {
      "text/plain": [
       "True"
      ]
     },
     "execution_count": 2,
     "metadata": {},
     "output_type": "execute_result"
    }
   ],
   "source": [
    "import os\n",
    "from dotenv import load_dotenv\n",
    "\n",
    "load_dotenv(os.path.abspath(\"/home/abouchs/.python_env_var/.env\"))"
   ]
  },
  {
   "cell_type": "code",
   "execution_count": 3,
   "id": "9c8f0591-129a-4914-ad2c-22874063c8e7",
   "metadata": {
    "id": "9c8f0591-129a-4914-ad2c-22874063c8e7"
   },
   "outputs": [],
   "source": [
    "BIGDATA_USERNAME = os.getenv(\"BIGDATA_USERNAME\")\n",
    "BIGDATA_PASSWORD = os.getenv(\"BIGDATA_PASSWORD\")"
   ]
  },
  {
   "cell_type": "code",
   "execution_count": 4,
   "id": "00100898-131f-43e6-8ecb-b2e4edac8931",
   "metadata": {
    "id": "00100898-131f-43e6-8ecb-b2e4edac8931"
   },
   "outputs": [],
   "source": [
    "from bigdata_client import Bigdata\n",
    "bigdata_cred = Bigdata(BIGDATA_USERNAME, BIGDATA_PASSWORD)"
   ]
  },
  {
   "cell_type": "code",
   "execution_count": 5,
   "id": "6e3d1449-71c5-4d85-9027-3242f60bc3e4",
   "metadata": {
    "id": "6e3d1449-71c5-4d85-9027-3242f60bc3e4"
   },
   "outputs": [],
   "source": [
    "from src.lexicon_generator import LexiconGenerator\n",
    "from src.search_topics import search_by_keywords\n",
    "from src.topics_extractor import (process_all_reports,\n",
    "                                run_process_all_trending_topics,\n",
    "                                run_add_advanced_novelty_scores,\n",
    "                                add_market_impact_to_df,\n",
    "                                prepare_data_for_report,\n",
    "                                generate_html_report)\n",
    "from IPython.display import display\n",
    "from IPython.core.display import HTML"
   ]
  },
  {
   "cell_type": "code",
   "execution_count": 6,
   "id": "59e16188-5d86-4570-b43c-90ef427c3e8f",
   "metadata": {
    "id": "59e16188-5d86-4570-b43c-90ef427c3e8f"
   },
   "outputs": [],
   "source": [
    "output_dir = f\"//home/abouchs/shared/OutputData/abouchs/Bigdata_cookbook/trending_topics/\""
   ]
  },
  {
   "cell_type": "code",
   "execution_count": 7,
   "id": "fa2c6b28",
   "metadata": {},
   "outputs": [
    {
     "name": "stdout",
     "output_type": "stream",
     "text": [
      "✅ nest_asyncio applied\n"
     ]
    }
   ],
   "source": [
    "try:\n",
    "    import asyncio\n",
    "    asyncio.get_running_loop()\n",
    "    import nest_asyncio; nest_asyncio.apply()\n",
    "    print(\"✅ nest_asyncio applied\")\n",
    "except (RuntimeError, ImportError):\n",
    "    print(\"✅ nest_asyncio not needed\")"
   ]
  },
  {
   "cell_type": "markdown",
   "id": "bd340d97-b9b5-48d2-b41f-b27301652d61",
   "metadata": {
    "id": "bd340d97-b9b5-48d2-b41f-b27301652d61",
    "tags": []
   },
   "source": [
    "# Step 1- Generation of the Lexicon"
   ]
  },
  {
   "cell_type": "markdown",
   "id": "d0c60e14-191f-4e86-84f9-17b376f43a1b",
   "metadata": {
    "id": "d0c60e14-191f-4e86-84f9-17b376f43a1b"
   },
   "source": [
    "In this step, we identify the specialized industry-specific jargon relevant to the crude oil market to ensure a high recall in the content retrieval."
   ]
  },
  {
   "cell_type": "code",
   "execution_count": 8,
   "id": "0ff52d5b-3f4c-484b-9ef6-59c99f824f84",
   "metadata": {
    "id": "0ff52d5b-3f4c-484b-9ef6-59c99f824f84"
   },
   "outputs": [],
   "source": [
    "main_theme = \"Crude Oil\"\n",
    "system_prompt = (\n",
    "    f\"\"\"You are an expert tasked with generating a lexicon of the most important and relevant keywords specific to the given main theme and its related market.\n",
    "\n",
    "    Your goal is to compile a list of terms that are critical for understanding and analyzing the main theme's market. This lexicon should include only the most essential keywords, phrases, and abbreviations that are directly associated with trading, analysis, logistics, and industry reporting related to the main theme.\n",
    "\n",
    "    Guidelines:\n",
    "\n",
    "    1. **Focus on relevance:** Include only the most important and commonly used keywords that are uniquely tied to main theme and its market. These should reflect key concepts, market mechanisms, pricing benchmarks, logistical aspects, and industry-specific terminology.\n",
    "    2. **Avoid redundancy:** Do not repeat the word of the main theme or its components, such as \"Crude\" or \"Oil\" in multiple phrases. Include the main theme only as a standalone term, and focus on other specific terms without redundant repetition.\n",
    "    3. **Strict exclusion of generic terms:** Exclude any terms that are generic or broadly used in other markets, such as \"Arbitrage,\" \"Hedge,\" \"Liquidity,\" \"Spot Price,\" \"Futures Contract,\" \"Backwardation,\" or \"Contango,\" even if they have a specific meaning in the main theme market. Only include terms that are uniquely relevant to the main theme market and cannot be applied broadly.\n",
    "    4. **Include specific variations:** Where applicable, provide both the full form and common abbreviations as SEPARATE keywords (e.g., \"West Texas Intermediate\" and \"WTI\" or variations like \"Brent\" and \"Brent Crude\").\n",
    "    5. **Ensure clarity:** Each keyword should be concise, clear, and directly relevant to the main theme's market, avoiding any ambiguity.\n",
    "    6. **Select only the most critical:** There is no need to reach a specific number of keywords. Focus solely on the most crucial terms without padding the list. If fewer keywords meet the criteria, that is acceptable.\n",
    "\n",
    "    The output should be a lexicon of only the most critical and uniquely relevant keywords related to the main theme market, formatted as a JSON list.\n",
    "    \"\"\"\n",
    ")\n"
   ]
  },
  {
   "cell_type": "code",
   "execution_count": 9,
   "id": "cffc1631",
   "metadata": {},
   "outputs": [],
   "source": [
    "LexiconGenerator = LexiconGenerator(openai_key=os.getenv(\"OPENAI_API_KEY\"), model=\"gpt-4o\", seeds=[123, 123456, 123456789, 456789, 789])"
   ]
  },
  {
   "cell_type": "code",
   "execution_count": 10,
   "id": "b11cd886",
   "metadata": {},
   "outputs": [],
   "source": [
    "keywords_lex = LexiconGenerator.generate(theme=main_theme, system_prompt=system_prompt)"
   ]
  },
  {
   "cell_type": "markdown",
   "id": "a230635a-b3e9-468b-9681-ac06b453f20b",
   "metadata": {
    "id": "a230635a-b3e9-468b-9681-ac06b453f20b"
   },
   "source": [
    "# Step 2- Content Retrieval Based on Bigdata"
   ]
  },
  {
   "cell_type": "markdown",
   "id": "d439d1c4-865e-4d70-8fe9-5d2492f90541",
   "metadata": {
    "id": "d439d1c4-865e-4d70-8fe9-5d2492f90541"
   },
   "source": [
    "In this section, we perform a keyword search on the news content with the Bigdata API to retrieve documents, splitting the search over daily timeframes and multi-threading the content search on the individual keywords for speed purpose. The user can define the time range below to generate daily reports between the start and end dates."
   ]
  },
  {
   "cell_type": "code",
   "execution_count": 11,
   "id": "94e93f7f-c1fe-42ca-9d3b-cbe0b5c9768e",
   "metadata": {
    "id": "94e93f7f-c1fe-42ca-9d3b-cbe0b5c9768e"
   },
   "outputs": [],
   "source": [
    "start_query = '2025-06-21'\n",
    "end_query = '2025-06-28'"
   ]
  },
  {
   "cell_type": "code",
   "execution_count": 12,
   "id": "d5465768",
   "metadata": {},
   "outputs": [
    {
     "name": "stdout",
     "output_type": "stream",
     "text": [
      "About to run 840 queries\n",
      "Example Query: Keyword('Brent') over date range: AbsoluteDateRange('2025-06-21T00:00:00', '2025-06-21T23:59:59')\n"
     ]
    },
    {
     "name": "stderr",
     "output_type": "stream",
     "text": [
      "Querying Bigdata...: 100%|██████████| 840/840 [02:54<00:00,  4.81it/s]\n"
     ]
    }
   ],
   "source": [
    "results, daily_keyword_count = search_by_keywords(\n",
    "    keywords=keywords_lex,\n",
    "    start_date=start_query,\n",
    "    end_date=end_query,\n",
    "    freq='D',\n",
    "    document_limit=10)"
   ]
  },
  {
   "cell_type": "code",
   "execution_count": 13,
   "id": "13198aa7",
   "metadata": {},
   "outputs": [
    {
     "data": {
      "text/html": [
       "<div>\n",
       "<style scoped>\n",
       "    .dataframe tbody tr th:only-of-type {\n",
       "        vertical-align: middle;\n",
       "    }\n",
       "\n",
       "    .dataframe tbody tr th {\n",
       "        vertical-align: top;\n",
       "    }\n",
       "\n",
       "    .dataframe thead th {\n",
       "        text-align: right;\n",
       "    }\n",
       "</style>\n",
       "<table border=\"1\" class=\"dataframe\">\n",
       "  <thead>\n",
       "    <tr style=\"text-align: right;\">\n",
       "      <th></th>\n",
       "      <th>timestamp</th>\n",
       "      <th>rp_document_id</th>\n",
       "      <th>headline</th>\n",
       "      <th>chunk_number</th>\n",
       "      <th>sentence_id</th>\n",
       "      <th>source_id</th>\n",
       "      <th>source_name</th>\n",
       "      <th>text</th>\n",
       "      <th>keyword</th>\n",
       "      <th>date</th>\n",
       "    </tr>\n",
       "  </thead>\n",
       "  <tbody>\n",
       "    <tr>\n",
       "      <th>0</th>\n",
       "      <td>2025-06-21 00:00:00+00:00</td>\n",
       "      <td>0B4844B85EA092ED4AB50AB3534AB360</td>\n",
       "      <td>BW Energy: Update on Fixed Income Investor Mee...</td>\n",
       "      <td>3.0</td>\n",
       "      <td>0B4844B85EA092ED4AB50AB3534AB360-3</td>\n",
       "      <td>923B93</td>\n",
       "      <td>Financial Services Monitor Worldwide</td>\n",
       "      <td>BW Energy is a growth E&amp;P company with a diffe...</td>\n",
       "      <td>E&amp;P</td>\n",
       "      <td>2025-06-21</td>\n",
       "    </tr>\n",
       "    <tr>\n",
       "      <th>1</th>\n",
       "      <td>2025-06-21 00:00:00+00:00</td>\n",
       "      <td>10F391270D3AB34C66B069821928430F</td>\n",
       "      <td>2 suspects arrested, drugs seized following No...</td>\n",
       "      <td>2.0</td>\n",
       "      <td>10F391270D3AB34C66B069821928430F-2</td>\n",
       "      <td>39E760</td>\n",
       "      <td>Governance, Risk &amp; Compliance Monitor Worldwide</td>\n",
       "      <td>Investigators reportedly found 26 grams of cra...</td>\n",
       "      <td>Cracking</td>\n",
       "      <td>2025-06-21</td>\n",
       "    </tr>\n",
       "    <tr>\n",
       "      <th>2</th>\n",
       "      <td>2025-06-21 00:00:00+00:00</td>\n",
       "      <td>5D552639AE35AB037AB8D54E1BB8E210</td>\n",
       "      <td>India's Core Sector Growth Drops to a Nine-Mon...</td>\n",
       "      <td>2.0</td>\n",
       "      <td>5D552639AE35AB037AB8D54E1BB8E210-2</td>\n",
       "      <td>923B93</td>\n",
       "      <td>Financial Services Monitor Worldwide</td>\n",
       "      <td>The ICI measures the combined and individual p...</td>\n",
       "      <td>Refinery</td>\n",
       "      <td>2025-06-21</td>\n",
       "    </tr>\n",
       "    <tr>\n",
       "      <th>3</th>\n",
       "      <td>2025-06-21 00:00:00+00:00</td>\n",
       "      <td>5DB7156ACE3425F4F61B3BE3E882AF0D</td>\n",
       "      <td>Premium Alcohol Market Forecasts Report 2025-2...</td>\n",
       "      <td>3.0</td>\n",
       "      <td>5DB7156ACE3425F4F61B3BE3E882AF0D-3</td>\n",
       "      <td>923B93</td>\n",
       "      <td>Financial Services Monitor Worldwide</td>\n",
       "      <td>Market Trends Growing Disposable Income and Ur...</td>\n",
       "      <td>Energy Information Administration</td>\n",
       "      <td>2025-06-21</td>\n",
       "    </tr>\n",
       "    <tr>\n",
       "      <th>4</th>\n",
       "      <td>2025-06-21 00:00:00+00:00</td>\n",
       "      <td>96EC510A80FAD37155CD1543681E8CC1</td>\n",
       "      <td>Morning Briefing: June 21, 2025</td>\n",
       "      <td>11.0</td>\n",
       "      <td>96EC510A80FAD37155CD1543681E8CC1-11</td>\n",
       "      <td>CE1ADC</td>\n",
       "      <td>Anadolu Agency</td>\n",
       "      <td>China is the world's largest oil importer. In ...</td>\n",
       "      <td>Energy Information Administration</td>\n",
       "      <td>2025-06-21</td>\n",
       "    </tr>\n",
       "    <tr>\n",
       "      <th>...</th>\n",
       "      <td>...</td>\n",
       "      <td>...</td>\n",
       "      <td>...</td>\n",
       "      <td>...</td>\n",
       "      <td>...</td>\n",
       "      <td>...</td>\n",
       "      <td>...</td>\n",
       "      <td>...</td>\n",
       "      <td>...</td>\n",
       "      <td>...</td>\n",
       "    </tr>\n",
       "    <tr>\n",
       "      <th>11258</th>\n",
       "      <td>2025-06-28 23:39:31+00:00</td>\n",
       "      <td>0F75052C4F07615235AC9E79C4D05E44</td>\n",
       "      <td>Sharks SWING For The Upside With Their Day 2 P...</td>\n",
       "      <td>1.0</td>\n",
       "      <td>0F75052C4F07615235AC9E79C4D05E44-1</td>\n",
       "      <td>D1EEC6</td>\n",
       "      <td>KVUE News Online</td>\n",
       "      <td>The San Jose Sharks' 2025 NHL draft class has ...</td>\n",
       "      <td>Pipeline</td>\n",
       "      <td>2025-06-28</td>\n",
       "    </tr>\n",
       "    <tr>\n",
       "      <th>11259</th>\n",
       "      <td>2025-06-28 23:48:49+00:00</td>\n",
       "      <td>456DB9D74C8F0B01626EE845F8FF4CA6</td>\n",
       "      <td>Caught on camera: Car literally drives through...</td>\n",
       "      <td>2.0</td>\n",
       "      <td>456DB9D74C8F0B01626EE845F8FF4CA6-2</td>\n",
       "      <td>E54C73</td>\n",
       "      <td>ABC News</td>\n",
       "      <td>\"This is like a movie or something,\" Patel sai...</td>\n",
       "      <td>Barrel</td>\n",
       "      <td>2025-06-28</td>\n",
       "    </tr>\n",
       "    <tr>\n",
       "      <th>11260</th>\n",
       "      <td>2025-06-28 23:50:36+00:00</td>\n",
       "      <td>DF667772C27122819087C82C1D54C3DD</td>\n",
       "      <td>The Strategic Empire: Debt &amp; the Dollar</td>\n",
       "      <td>47.0</td>\n",
       "      <td>DF667772C27122819087C82C1D54C3DD-47</td>\n",
       "      <td>EC0C87</td>\n",
       "      <td>Michael Hudson</td>\n",
       "      <td>However, the condition for letting OPEC countr...</td>\n",
       "      <td>OPEC+</td>\n",
       "      <td>2025-06-28</td>\n",
       "    </tr>\n",
       "    <tr>\n",
       "      <th>11261</th>\n",
       "      <td>2025-06-28 23:50:36+00:00</td>\n",
       "      <td>DF667772C27122819087C82C1D54C3DD</td>\n",
       "      <td>The Strategic Empire: Debt &amp; the Dollar</td>\n",
       "      <td>55.0</td>\n",
       "      <td>DF667772C27122819087C82C1D54C3DD-55</td>\n",
       "      <td>EC0C87</td>\n",
       "      <td>Michael Hudson</td>\n",
       "      <td>Yes, someday the United States cannot get a fr...</td>\n",
       "      <td>OPEC+</td>\n",
       "      <td>2025-06-28</td>\n",
       "    </tr>\n",
       "    <tr>\n",
       "      <th>11262</th>\n",
       "      <td>2025-06-28 23:50:36+00:00</td>\n",
       "      <td>DF667772C27122819087C82C1D54C3DD</td>\n",
       "      <td>The Strategic Empire: Debt &amp; the Dollar</td>\n",
       "      <td>46.0</td>\n",
       "      <td>DF667772C27122819087C82C1D54C3DD-46</td>\n",
       "      <td>EC0C87</td>\n",
       "      <td>Michael Hudson</td>\n",
       "      <td>The United States is unwilling to annul Global...</td>\n",
       "      <td>OPEC</td>\n",
       "      <td>2025-06-28</td>\n",
       "    </tr>\n",
       "  </tbody>\n",
       "</table>\n",
       "<p>11263 rows × 10 columns</p>\n",
       "</div>"
      ],
      "text/plain": [
       "                      timestamp                    rp_document_id  \\\n",
       "0     2025-06-21 00:00:00+00:00  0B4844B85EA092ED4AB50AB3534AB360   \n",
       "1     2025-06-21 00:00:00+00:00  10F391270D3AB34C66B069821928430F   \n",
       "2     2025-06-21 00:00:00+00:00  5D552639AE35AB037AB8D54E1BB8E210   \n",
       "3     2025-06-21 00:00:00+00:00  5DB7156ACE3425F4F61B3BE3E882AF0D   \n",
       "4     2025-06-21 00:00:00+00:00  96EC510A80FAD37155CD1543681E8CC1   \n",
       "...                         ...                               ...   \n",
       "11258 2025-06-28 23:39:31+00:00  0F75052C4F07615235AC9E79C4D05E44   \n",
       "11259 2025-06-28 23:48:49+00:00  456DB9D74C8F0B01626EE845F8FF4CA6   \n",
       "11260 2025-06-28 23:50:36+00:00  DF667772C27122819087C82C1D54C3DD   \n",
       "11261 2025-06-28 23:50:36+00:00  DF667772C27122819087C82C1D54C3DD   \n",
       "11262 2025-06-28 23:50:36+00:00  DF667772C27122819087C82C1D54C3DD   \n",
       "\n",
       "                                                headline  chunk_number  \\\n",
       "0      BW Energy: Update on Fixed Income Investor Mee...           3.0   \n",
       "1      2 suspects arrested, drugs seized following No...           2.0   \n",
       "2      India's Core Sector Growth Drops to a Nine-Mon...           2.0   \n",
       "3      Premium Alcohol Market Forecasts Report 2025-2...           3.0   \n",
       "4                        Morning Briefing: June 21, 2025          11.0   \n",
       "...                                                  ...           ...   \n",
       "11258  Sharks SWING For The Upside With Their Day 2 P...           1.0   \n",
       "11259  Caught on camera: Car literally drives through...           2.0   \n",
       "11260            The Strategic Empire: Debt & the Dollar          47.0   \n",
       "11261            The Strategic Empire: Debt & the Dollar          55.0   \n",
       "11262            The Strategic Empire: Debt & the Dollar          46.0   \n",
       "\n",
       "                               sentence_id source_id  \\\n",
       "0       0B4844B85EA092ED4AB50AB3534AB360-3    923B93   \n",
       "1       10F391270D3AB34C66B069821928430F-2    39E760   \n",
       "2       5D552639AE35AB037AB8D54E1BB8E210-2    923B93   \n",
       "3       5DB7156ACE3425F4F61B3BE3E882AF0D-3    923B93   \n",
       "4      96EC510A80FAD37155CD1543681E8CC1-11    CE1ADC   \n",
       "...                                    ...       ...   \n",
       "11258   0F75052C4F07615235AC9E79C4D05E44-1    D1EEC6   \n",
       "11259   456DB9D74C8F0B01626EE845F8FF4CA6-2    E54C73   \n",
       "11260  DF667772C27122819087C82C1D54C3DD-47    EC0C87   \n",
       "11261  DF667772C27122819087C82C1D54C3DD-55    EC0C87   \n",
       "11262  DF667772C27122819087C82C1D54C3DD-46    EC0C87   \n",
       "\n",
       "                                           source_name  \\\n",
       "0                 Financial Services Monitor Worldwide   \n",
       "1      Governance, Risk & Compliance Monitor Worldwide   \n",
       "2                 Financial Services Monitor Worldwide   \n",
       "3                 Financial Services Monitor Worldwide   \n",
       "4                                       Anadolu Agency   \n",
       "...                                                ...   \n",
       "11258                                 KVUE News Online   \n",
       "11259                                         ABC News   \n",
       "11260                                   Michael Hudson   \n",
       "11261                                   Michael Hudson   \n",
       "11262                                   Michael Hudson   \n",
       "\n",
       "                                                    text  \\\n",
       "0      BW Energy is a growth E&P company with a diffe...   \n",
       "1      Investigators reportedly found 26 grams of cra...   \n",
       "2      The ICI measures the combined and individual p...   \n",
       "3      Market Trends Growing Disposable Income and Ur...   \n",
       "4      China is the world's largest oil importer. In ...   \n",
       "...                                                  ...   \n",
       "11258  The San Jose Sharks' 2025 NHL draft class has ...   \n",
       "11259  \"This is like a movie or something,\" Patel sai...   \n",
       "11260  However, the condition for letting OPEC countr...   \n",
       "11261  Yes, someday the United States cannot get a fr...   \n",
       "11262  The United States is unwilling to annul Global...   \n",
       "\n",
       "                                 keyword        date  \n",
       "0                                    E&P  2025-06-21  \n",
       "1                               Cracking  2025-06-21  \n",
       "2                               Refinery  2025-06-21  \n",
       "3      Energy Information Administration  2025-06-21  \n",
       "4      Energy Information Administration  2025-06-21  \n",
       "...                                  ...         ...  \n",
       "11258                           Pipeline  2025-06-28  \n",
       "11259                             Barrel  2025-06-28  \n",
       "11260                              OPEC+  2025-06-28  \n",
       "11261                              OPEC+  2025-06-28  \n",
       "11262                               OPEC  2025-06-28  \n",
       "\n",
       "[11263 rows x 10 columns]"
      ]
     },
     "execution_count": 13,
     "metadata": {},
     "output_type": "execute_result"
    }
   ],
   "source": [
    "results"
   ]
  },
  {
   "cell_type": "markdown",
   "id": "0fc44aa5-c056-4163-8dea-d204f8b1307b",
   "metadata": {
    "id": "0fc44aa5-c056-4163-8dea-d204f8b1307b"
   },
   "source": [
    "# Step 3- Topic Clustering and Selection"
   ]
  },
  {
   "cell_type": "markdown",
   "id": "8bcf7b34-71cd-4631-a220-754be8118aaa",
   "metadata": {
    "id": "8bcf7b34-71cd-4631-a220-754be8118aaa"
   },
   "source": [
    "In this step, we perform topic modelling using a large language model to verify and cluster the news. Then, the summarization ensures topic selection identifying the top trending news for crude oil, while deriving advanced analytics to quantify the trendiness (based on news volume), novelty (based on daily changes in summaries), impact and magnitude (based on the financial materiality on crude oil prices) of the trending topics."
   ]
  },
  {
   "cell_type": "markdown",
   "id": "0ef0fb0c-bc04-4024-b194-aa15b50b986f",
   "metadata": {
    "id": "0ef0fb0c-bc04-4024-b194-aa15b50b986f"
   },
   "source": [
    "Before performing the topic clustering, we apply a verification layer to remove the news that are not relative to the oil market"
   ]
  },
  {
   "cell_type": "code",
   "execution_count": 14,
   "id": "a42d4ffb",
   "metadata": {},
   "outputs": [],
   "source": [
    "model = \"gpt-4o-mini\" \n",
    "api_key = os.getenv(\"OPENAI_API_KEY\")"
   ]
  },
  {
   "cell_type": "code",
   "execution_count": 15,
   "id": "506b4878",
   "metadata": {},
   "outputs": [
    {
     "data": {
      "application/vnd.jupyter.widget-view+json": {
       "model_id": "e5f4468120bf42009a9c0dee16f1a373",
       "version_major": 2,
       "version_minor": 0
      },
      "text/plain": [
       "Filtering News:   0%|          | 0/11263 [00:00<?, ?it/s]"
      ]
     },
     "metadata": {},
     "output_type": "display_data"
    }
   ],
   "source": [
    "semaphore_size = 1000\n",
    "\n",
    "# Assuming unique_reports is your DataFrame\n",
    "filtered_reports = process_all_reports(results, model, api_key, main_theme, semaphore_size)"
   ]
  },
  {
   "cell_type": "markdown",
   "id": "e7d982ff-751c-42fc-a704-4cf576035e35",
   "metadata": {
    "id": "e7d982ff-751c-42fc-a704-4cf576035e35"
   },
   "source": [
    "In this cell, we leverage a LLM to perform topic modeling, identifying and clustering the key topics from the news reports."
   ]
  },
  {
   "cell_type": "code",
   "execution_count": 16,
   "id": "18728d0d",
   "metadata": {},
   "outputs": [
    {
     "data": {
      "text/html": [
       "<div>\n",
       "<style scoped>\n",
       "    .dataframe tbody tr th:only-of-type {\n",
       "        vertical-align: middle;\n",
       "    }\n",
       "\n",
       "    .dataframe tbody tr th {\n",
       "        vertical-align: top;\n",
       "    }\n",
       "\n",
       "    .dataframe thead th {\n",
       "        text-align: right;\n",
       "    }\n",
       "</style>\n",
       "<table border=\"1\" class=\"dataframe\">\n",
       "  <thead>\n",
       "    <tr style=\"text-align: right;\">\n",
       "      <th></th>\n",
       "      <th>timestamp</th>\n",
       "      <th>rp_document_id</th>\n",
       "      <th>headline</th>\n",
       "      <th>chunk_number</th>\n",
       "      <th>sentence_id</th>\n",
       "      <th>source_id</th>\n",
       "      <th>source_name</th>\n",
       "      <th>text</th>\n",
       "      <th>keyword</th>\n",
       "      <th>date</th>\n",
       "    </tr>\n",
       "  </thead>\n",
       "  <tbody>\n",
       "    <tr>\n",
       "      <th>0</th>\n",
       "      <td>2025-06-21 00:00:00+00:00</td>\n",
       "      <td>10F391270D3AB34C66B069821928430F</td>\n",
       "      <td>2 suspects arrested, drugs seized following No...</td>\n",
       "      <td>2.0</td>\n",
       "      <td>10F391270D3AB34C66B069821928430F-2</td>\n",
       "      <td>39E760</td>\n",
       "      <td>Governance, Risk &amp; Compliance Monitor Worldwide</td>\n",
       "      <td>Investigators reportedly found 26 grams of cra...</td>\n",
       "      <td>Cracking</td>\n",
       "      <td>2025-06-21</td>\n",
       "    </tr>\n",
       "    <tr>\n",
       "      <th>1</th>\n",
       "      <td>2025-06-21 00:00:00+00:00</td>\n",
       "      <td>EE3309C79EA552874F436912D2F6A67A</td>\n",
       "      <td>US Supreme Court sets rules for venue selectio...</td>\n",
       "      <td>3.0</td>\n",
       "      <td>EE3309C79EA552874F436912D2F6A67A-3</td>\n",
       "      <td>BC923D</td>\n",
       "      <td>Legal Monitor Worldwide</td>\n",
       "      <td>The EPA had previously argued that the CAAs na...</td>\n",
       "      <td>Oil Refinery</td>\n",
       "      <td>2025-06-21</td>\n",
       "    </tr>\n",
       "    <tr>\n",
       "      <th>2</th>\n",
       "      <td>2025-06-21 00:00:00+00:00</td>\n",
       "      <td>45A5868267C8A445F6B696C495AA8673</td>\n",
       "      <td>Aduro Clean Technologies Announces Closing of ...</td>\n",
       "      <td>7.0</td>\n",
       "      <td>45A5868267C8A445F6B696C495AA8673-7</td>\n",
       "      <td>D051D6</td>\n",
       "      <td>Global Data Point</td>\n",
       "      <td>About Aduro Clean Technologies\\nAduro Clean Te...</td>\n",
       "      <td>Heavy Crude</td>\n",
       "      <td>2025-06-21</td>\n",
       "    </tr>\n",
       "    <tr>\n",
       "      <th>3</th>\n",
       "      <td>2025-06-21 00:00:00+00:00</td>\n",
       "      <td>96EC510A80FAD37155CD1543681E8CC1</td>\n",
       "      <td>Morning Briefing: June 21, 2025</td>\n",
       "      <td>9.0</td>\n",
       "      <td>96EC510A80FAD37155CD1543681E8CC1-9</td>\n",
       "      <td>CE1ADC</td>\n",
       "      <td>Anadolu Agency</td>\n",
       "      <td>- Top European diplomats emphasized the urgenc...</td>\n",
       "      <td>Geopolitical Risk</td>\n",
       "      <td>2025-06-21</td>\n",
       "    </tr>\n",
       "    <tr>\n",
       "      <th>4</th>\n",
       "      <td>2025-06-21 00:00:00+00:00</td>\n",
       "      <td>86E659AE53391BE3F217C0EC3B031F97</td>\n",
       "      <td>Peter Dey Announces Retirement from Gran Tierr...</td>\n",
       "      <td>3.0</td>\n",
       "      <td>86E659AE53391BE3F217C0EC3B031F97-3</td>\n",
       "      <td>346656</td>\n",
       "      <td>Executive Appointments Worldwide</td>\n",
       "      <td>About Gran Tierra Energy Inc.\\nGran Tierra Ene...</td>\n",
       "      <td>Exploration and Production</td>\n",
       "      <td>2025-06-21</td>\n",
       "    </tr>\n",
       "    <tr>\n",
       "      <th>...</th>\n",
       "      <td>...</td>\n",
       "      <td>...</td>\n",
       "      <td>...</td>\n",
       "      <td>...</td>\n",
       "      <td>...</td>\n",
       "      <td>...</td>\n",
       "      <td>...</td>\n",
       "      <td>...</td>\n",
       "      <td>...</td>\n",
       "      <td>...</td>\n",
       "    </tr>\n",
       "    <tr>\n",
       "      <th>4897</th>\n",
       "      <td>2025-06-28 23:04:15+00:00</td>\n",
       "      <td>42DCCBB6928D19107FC1113CFA419E88</td>\n",
       "      <td>Semi-truck transporting 10,000 bottles of whis...</td>\n",
       "      <td>1.0</td>\n",
       "      <td>42DCCBB6928D19107FC1113CFA419E88-1</td>\n",
       "      <td>0C8ACA</td>\n",
       "      <td>New York Post (NYPost)</td>\n",
       "      <td>They avoided a major party foul.\\nA semi-truck...</td>\n",
       "      <td>Barrel</td>\n",
       "      <td>2025-06-28</td>\n",
       "    </tr>\n",
       "    <tr>\n",
       "      <th>4898</th>\n",
       "      <td>2025-06-28 23:14:43+00:00</td>\n",
       "      <td>96D9E1DFE1BB7A20395F38A085C20B78</td>\n",
       "      <td>Global Solar Container Power Generation System...</td>\n",
       "      <td>5.0</td>\n",
       "      <td>96D9E1DFE1BB7A20395F38A085C20B78-5</td>\n",
       "      <td>D00B10</td>\n",
       "      <td>MarketResearch.com (United States)</td>\n",
       "      <td>In terms of Japan, based on data from Fitch an...</td>\n",
       "      <td>Energy Information Administration</td>\n",
       "      <td>2025-06-28</td>\n",
       "    </tr>\n",
       "    <tr>\n",
       "      <th>4899</th>\n",
       "      <td>2025-06-28 23:33:44+00:00</td>\n",
       "      <td>4C596AE14BED3F44AB5D9442B44F1F5F</td>\n",
       "      <td>Better Dividend Stock: Kinder Morgan vs. Enter...</td>\n",
       "      <td>3.0</td>\n",
       "      <td>4C596AE14BED3F44AB5D9442B44F1F5F-3</td>\n",
       "      <td>648085</td>\n",
       "      <td>AOL.com</td>\n",
       "      <td>Essentially, these midstream players sit betwe...</td>\n",
       "      <td>Midstream</td>\n",
       "      <td>2025-06-28</td>\n",
       "    </tr>\n",
       "    <tr>\n",
       "      <th>4900</th>\n",
       "      <td>2025-06-28 23:37:13+00:00</td>\n",
       "      <td>99083749AA42E83A4352A4002BC9479C</td>\n",
       "      <td>3 days after Kullu flash flood, missing teen's...</td>\n",
       "      <td>2.0</td>\n",
       "      <td>99083749AA42E83A4352A4002BC9479C-2</td>\n",
       "      <td>80FC03</td>\n",
       "      <td>The Times Of India</td>\n",
       "      <td>They were swept away from a hydropower project...</td>\n",
       "      <td>Upstream</td>\n",
       "      <td>2025-06-28</td>\n",
       "    </tr>\n",
       "    <tr>\n",
       "      <th>4901</th>\n",
       "      <td>2025-06-28 23:48:49+00:00</td>\n",
       "      <td>456DB9D74C8F0B01626EE845F8FF4CA6</td>\n",
       "      <td>Caught on camera: Car literally drives through...</td>\n",
       "      <td>2.0</td>\n",
       "      <td>456DB9D74C8F0B01626EE845F8FF4CA6-2</td>\n",
       "      <td>E54C73</td>\n",
       "      <td>ABC News</td>\n",
       "      <td>\"This is like a movie or something,\" Patel sai...</td>\n",
       "      <td>Barrel</td>\n",
       "      <td>2025-06-28</td>\n",
       "    </tr>\n",
       "  </tbody>\n",
       "</table>\n",
       "<p>4902 rows × 10 columns</p>\n",
       "</div>"
      ],
      "text/plain": [
       "                     timestamp                    rp_document_id  \\\n",
       "0    2025-06-21 00:00:00+00:00  10F391270D3AB34C66B069821928430F   \n",
       "1    2025-06-21 00:00:00+00:00  EE3309C79EA552874F436912D2F6A67A   \n",
       "2    2025-06-21 00:00:00+00:00  45A5868267C8A445F6B696C495AA8673   \n",
       "3    2025-06-21 00:00:00+00:00  96EC510A80FAD37155CD1543681E8CC1   \n",
       "4    2025-06-21 00:00:00+00:00  86E659AE53391BE3F217C0EC3B031F97   \n",
       "...                        ...                               ...   \n",
       "4897 2025-06-28 23:04:15+00:00  42DCCBB6928D19107FC1113CFA419E88   \n",
       "4898 2025-06-28 23:14:43+00:00  96D9E1DFE1BB7A20395F38A085C20B78   \n",
       "4899 2025-06-28 23:33:44+00:00  4C596AE14BED3F44AB5D9442B44F1F5F   \n",
       "4900 2025-06-28 23:37:13+00:00  99083749AA42E83A4352A4002BC9479C   \n",
       "4901 2025-06-28 23:48:49+00:00  456DB9D74C8F0B01626EE845F8FF4CA6   \n",
       "\n",
       "                                               headline  chunk_number  \\\n",
       "0     2 suspects arrested, drugs seized following No...           2.0   \n",
       "1     US Supreme Court sets rules for venue selectio...           3.0   \n",
       "2     Aduro Clean Technologies Announces Closing of ...           7.0   \n",
       "3                       Morning Briefing: June 21, 2025           9.0   \n",
       "4     Peter Dey Announces Retirement from Gran Tierr...           3.0   \n",
       "...                                                 ...           ...   \n",
       "4897  Semi-truck transporting 10,000 bottles of whis...           1.0   \n",
       "4898  Global Solar Container Power Generation System...           5.0   \n",
       "4899  Better Dividend Stock: Kinder Morgan vs. Enter...           3.0   \n",
       "4900  3 days after Kullu flash flood, missing teen's...           2.0   \n",
       "4901  Caught on camera: Car literally drives through...           2.0   \n",
       "\n",
       "                             sentence_id source_id  \\\n",
       "0     10F391270D3AB34C66B069821928430F-2    39E760   \n",
       "1     EE3309C79EA552874F436912D2F6A67A-3    BC923D   \n",
       "2     45A5868267C8A445F6B696C495AA8673-7    D051D6   \n",
       "3     96EC510A80FAD37155CD1543681E8CC1-9    CE1ADC   \n",
       "4     86E659AE53391BE3F217C0EC3B031F97-3    346656   \n",
       "...                                  ...       ...   \n",
       "4897  42DCCBB6928D19107FC1113CFA419E88-1    0C8ACA   \n",
       "4898  96D9E1DFE1BB7A20395F38A085C20B78-5    D00B10   \n",
       "4899  4C596AE14BED3F44AB5D9442B44F1F5F-3    648085   \n",
       "4900  99083749AA42E83A4352A4002BC9479C-2    80FC03   \n",
       "4901  456DB9D74C8F0B01626EE845F8FF4CA6-2    E54C73   \n",
       "\n",
       "                                          source_name  \\\n",
       "0     Governance, Risk & Compliance Monitor Worldwide   \n",
       "1                             Legal Monitor Worldwide   \n",
       "2                                   Global Data Point   \n",
       "3                                      Anadolu Agency   \n",
       "4                    Executive Appointments Worldwide   \n",
       "...                                               ...   \n",
       "4897                           New York Post (NYPost)   \n",
       "4898               MarketResearch.com (United States)   \n",
       "4899                                          AOL.com   \n",
       "4900                               The Times Of India   \n",
       "4901                                         ABC News   \n",
       "\n",
       "                                                   text  \\\n",
       "0     Investigators reportedly found 26 grams of cra...   \n",
       "1     The EPA had previously argued that the CAAs na...   \n",
       "2     About Aduro Clean Technologies\\nAduro Clean Te...   \n",
       "3     - Top European diplomats emphasized the urgenc...   \n",
       "4     About Gran Tierra Energy Inc.\\nGran Tierra Ene...   \n",
       "...                                                 ...   \n",
       "4897  They avoided a major party foul.\\nA semi-truck...   \n",
       "4898  In terms of Japan, based on data from Fitch an...   \n",
       "4899  Essentially, these midstream players sit betwe...   \n",
       "4900  They were swept away from a hydropower project...   \n",
       "4901  \"This is like a movie or something,\" Patel sai...   \n",
       "\n",
       "                                keyword        date  \n",
       "0                              Cracking  2025-06-21  \n",
       "1                          Oil Refinery  2025-06-21  \n",
       "2                           Heavy Crude  2025-06-21  \n",
       "3                     Geopolitical Risk  2025-06-21  \n",
       "4            Exploration and Production  2025-06-21  \n",
       "...                                 ...         ...  \n",
       "4897                             Barrel  2025-06-28  \n",
       "4898  Energy Information Administration  2025-06-28  \n",
       "4899                          Midstream  2025-06-28  \n",
       "4900                           Upstream  2025-06-28  \n",
       "4901                             Barrel  2025-06-28  \n",
       "\n",
       "[4902 rows x 10 columns]"
      ]
     },
     "execution_count": 16,
     "metadata": {},
     "output_type": "execute_result"
    }
   ],
   "source": [
    "filtered_reports"
   ]
  },
  {
   "cell_type": "code",
   "execution_count": 18,
   "id": "a989a1aa-e758-489b-98a6-0ba259ea976c",
   "metadata": {
    "colab": {
     "referenced_widgets": [
      "7e9b9ce871154b5e80ce5b9020ff34f2"
     ]
    },
    "id": "a989a1aa-e758-489b-98a6-0ba259ea976c",
    "outputId": "4cac4b38-cb6a-4d59-b13a-50c26c176e2c"
   },
   "outputs": [
    {
     "data": {
      "application/vnd.jupyter.widget-view+json": {
       "model_id": "24e5294e4d824cb48858e31c22bcbcd1",
       "version_major": 2,
       "version_minor": 0
      },
      "text/plain": [
       "Extracting Topics for 2025-06-21:   0%|          | 0/20 [00:00<?, ?it/s]"
      ]
     },
     "metadata": {},
     "output_type": "display_data"
    },
    {
     "data": {
      "application/vnd.jupyter.widget-view+json": {
       "model_id": "af50a515a38b4ad8800835b50f0b0390",
       "version_major": 2,
       "version_minor": 0
      },
      "text/plain": [
       "Extracting Topics for 2025-06-22:   0%|          | 0/20 [00:00<?, ?it/s]"
      ]
     },
     "metadata": {},
     "output_type": "display_data"
    },
    {
     "data": {
      "application/vnd.jupyter.widget-view+json": {
       "model_id": "02a3efdeb60c4bc988314fa300563ac7",
       "version_major": 2,
       "version_minor": 0
      },
      "text/plain": [
       "Extracting Topics for 2025-06-23:   0%|          | 0/20 [00:00<?, ?it/s]"
      ]
     },
     "metadata": {},
     "output_type": "display_data"
    },
    {
     "data": {
      "application/vnd.jupyter.widget-view+json": {
       "model_id": "43db35346eb041fa9c12fba5b1cbe7e0",
       "version_major": 2,
       "version_minor": 0
      },
      "text/plain": [
       "Extracting Topics for 2025-06-24:   0%|          | 0/20 [00:00<?, ?it/s]"
      ]
     },
     "metadata": {},
     "output_type": "display_data"
    },
    {
     "data": {
      "application/vnd.jupyter.widget-view+json": {
       "model_id": "ac1057d7a1ac4356b8c66f6c8f017657",
       "version_major": 2,
       "version_minor": 0
      },
      "text/plain": [
       "Extracting Topics for 2025-06-25:   0%|          | 0/20 [00:00<?, ?it/s]"
      ]
     },
     "metadata": {},
     "output_type": "display_data"
    },
    {
     "data": {
      "application/vnd.jupyter.widget-view+json": {
       "model_id": "b20ecb5dfb8b4099a4cd71f933e72ce3",
       "version_major": 2,
       "version_minor": 0
      },
      "text/plain": [
       "Extracting Topics for 2025-06-26:   0%|          | 0/20 [00:00<?, ?it/s]"
      ]
     },
     "metadata": {},
     "output_type": "display_data"
    },
    {
     "data": {
      "application/vnd.jupyter.widget-view+json": {
       "model_id": "f01589ce03004e66a83f68ee3e308b0a",
       "version_major": 2,
       "version_minor": 0
      },
      "text/plain": [
       "Extracting Topics for 2025-06-27:   0%|          | 0/20 [00:00<?, ?it/s]"
      ]
     },
     "metadata": {},
     "output_type": "display_data"
    },
    {
     "data": {
      "application/vnd.jupyter.widget-view+json": {
       "model_id": "b895c1b5b79b4691af475d9e00f22ae6",
       "version_major": 2,
       "version_minor": 0
      },
      "text/plain": [
       "Extracting Topics for 2025-06-28:   0%|          | 0/20 [00:00<?, ?it/s]"
      ]
     },
     "metadata": {},
     "output_type": "display_data"
    },
    {
     "name": "stdout",
     "output_type": "stream",
     "text": [
      "Consolidating topics...\n"
     ]
    },
    {
     "name": "stderr",
     "output_type": "stream",
     "text": [
      "Consolidating topic batches: 100%|██████████| 10/10 [00:23<00:00,  2.39s/it]\n"
     ]
    },
    {
     "name": "stdout",
     "output_type": "stream",
     "text": [
      "Summarizing text for each topic...\n"
     ]
    },
    {
     "name": "stderr",
     "output_type": "stream",
     "text": [
      "Summarizing topics: 100%|██████████| 61/61 [00:05<00:00, 10.35it/s]\n",
      "Generating titles: 100%|██████████| 62/62 [00:08<00:00,  7.52it/s]\n"
     ]
    },
    {
     "name": "stdout",
     "output_type": "stream",
     "text": [
      "Generating Day in Review summaries...\n",
      "Adding one-line summaries to DataFrame...\n"
     ]
    },
    {
     "name": "stderr",
     "output_type": "stream",
     "text": [
      "Generating text summaries: 100%|██████████| 1713/1713 [00:42<00:00, 40.37it/s] \n"
     ]
    }
   ],
   "source": [
    "flattened_trending_topics_df = run_process_all_trending_topics(\n",
    "    unique_reports=filtered_reports,\n",
    "    model=model,\n",
    "    start_query=start_query,\n",
    "    end_query=end_query,\n",
    "    api_key=os.environ['OPENAI_API_KEY'],\n",
    "    main_theme = main_theme,\n",
    "    batches = 20\n",
    ")\n"
   ]
  },
  {
   "cell_type": "markdown",
   "id": "dc7f18a8-f5a2-4bf2-b713-e525197fad29",
   "metadata": {
    "id": "dc7f18a8-f5a2-4bf2-b713-e525197fad29"
   },
   "source": [
    "**Trendiness and Novelty Scores**: We derive analytics related to the trendiness of the topic based on the news volume, and the novelty of the topic based on the changes in daily summaries, evaluating the uniqueness and freshness of each topic."
   ]
  },
  {
   "cell_type": "code",
   "execution_count": 19,
   "id": "9344c4cf-847c-49c4-a5bc-23cf1b542369",
   "metadata": {
    "colab": {
     "referenced_widgets": [
      "d792421b0c964d3b83a252d78d82fdb2"
     ]
    },
    "id": "9344c4cf-847c-49c4-a5bc-23cf1b542369",
    "outputId": "890e1da7-8945-41f4-b64c-6350209a1a90"
   },
   "outputs": [
    {
     "data": {
      "application/vnd.jupyter.widget-view+json": {
       "model_id": "2eb39cbe72c84541a58ca9755d58df46",
       "version_major": 2,
       "version_minor": 0
      },
      "text/plain": [
       "Calculating Novelty Scores:   0%|          | 0/84 [00:00<?, ?it/s]"
      ]
     },
     "metadata": {},
     "output_type": "display_data"
    }
   ],
   "source": [
    "# Calculate trendiness and novelty scores, assessing the uniqueness and freshness of each topic\n",
    "flattened_trending_topics_df = run_add_advanced_novelty_scores(flattened_trending_topics_df, api_key = os.environ['OPENAI_API_KEY'], main_theme = main_theme)"
   ]
  },
  {
   "cell_type": "markdown",
   "id": "8dad5fdd-ec65-49ad-a706-2f125f730621",
   "metadata": {
    "id": "8dad5fdd-ec65-49ad-a706-2f125f730621"
   },
   "source": [
    "**Financial Materiality**: We derive analytics related to the impact (Positive, Negative) and magnitude (High, Medium, Low) of the topics, inferring their  market impact on crude oil prices. The inference is based on the price mechanisms involving supply and demand dynamics, geopolitical factors among others."
   ]
  },
  {
   "cell_type": "code",
   "execution_count": 20,
   "id": "a4ee2bfa-7bc4-4a38-a43f-dc3bc285a78a",
   "metadata": {
    "id": "a4ee2bfa-7bc4-4a38-a43f-dc3bc285a78a"
   },
   "outputs": [],
   "source": [
    "point_of_view = \"a crude oil trader, where price is influenced by supply-demand dynamics, geopolitical events, and market sentiment. \\\n",
    "As a trader, you focus on changes in production, inventories, and economic indicators from key markets.\"\n",
    "\n",
    "flattened_trending_topics_df = add_market_impact_to_df(flattened_trending_topics_df, api_key = os.environ['OPENAI_API_KEY'], main_theme = main_theme, point_of_view = point_of_view)"
   ]
  },
  {
   "cell_type": "markdown",
   "id": "1fc2eaff-20b6-472f-8cf2-57ea3b695d0d",
   "metadata": {
    "id": "1fc2eaff-20b6-472f-8cf2-57ea3b695d0d"
   },
   "source": [
    "We display the results of topic modeling and summarization. The **Topic** column represents the themes inferred through topic clustering using a LLM, which groups the news articles based on their content and underlying themes. The **Summary** provides a synthesized overview of all news articles within the same topic, offering a high-level view of the key messages for each cluster. The **Topic** is then rephrased into a concise form based on the summary. The **Text_Summary** provides a detailed summary of each individualchunk, capturing its core message."
   ]
  },
  {
   "cell_type": "code",
   "execution_count": 21,
   "id": "69b46fce-227e-4195-af43-e0f0dda964b2",
   "metadata": {
    "id": "69b46fce-227e-4195-af43-e0f0dda964b2",
    "outputId": "dca9d603-8e0c-4117-ead7-a7ec546a9492"
   },
   "outputs": [
    {
     "data": {
      "text/html": [
       "<div>\n",
       "<style scoped>\n",
       "    .dataframe tbody tr th:only-of-type {\n",
       "        vertical-align: middle;\n",
       "    }\n",
       "\n",
       "    .dataframe tbody tr th {\n",
       "        vertical-align: top;\n",
       "    }\n",
       "\n",
       "    .dataframe thead th {\n",
       "        text-align: right;\n",
       "    }\n",
       "</style>\n",
       "<table border=\"1\" class=\"dataframe\">\n",
       "  <thead>\n",
       "    <tr style=\"text-align: right;\">\n",
       "      <th></th>\n",
       "      <th>Date</th>\n",
       "      <th>Day_in_Review</th>\n",
       "      <th>Topic</th>\n",
       "      <th>Summary</th>\n",
       "      <th>Source</th>\n",
       "      <th>Headline</th>\n",
       "      <th>Text</th>\n",
       "      <th>Volume_Score</th>\n",
       "      <th>Text_Summary</th>\n",
       "      <th>Volume_Score</th>\n",
       "      <th>Novelty_Score</th>\n",
       "      <th>Impact_Score</th>\n",
       "      <th>Magnitude_Score</th>\n",
       "    </tr>\n",
       "  </thead>\n",
       "  <tbody>\n",
       "    <tr>\n",
       "      <th>0</th>\n",
       "      <td>2025-06-21</td>\n",
       "      <td>- **Israel-Iran Conflict**: Escalating tension...</td>\n",
       "      <td>Escalating Israel-Iran Conflict Drives 20% Sur...</td>\n",
       "      <td>The Israel-Iran conflict has led to a signific...</td>\n",
       "      <td>Business Standard via Web</td>\n",
       "      <td>India to face limited inflation impact from oi...</td>\n",
       "      <td>Brent crude prices rose 20 per cent in the las...</td>\n",
       "      <td>4</td>\n",
       "      <td>Escalating tensions between Israel and Iran ha...</td>\n",
       "      <td>4</td>\n",
       "      <td>New</td>\n",
       "      <td>Positive</td>\n",
       "      <td>High</td>\n",
       "    </tr>\n",
       "    <tr>\n",
       "      <th>13</th>\n",
       "      <td>2025-06-21</td>\n",
       "      <td>- **Israel-Iran Conflict**: Escalating tension...</td>\n",
       "      <td>US-Iran Conflict Threatens Oil Supply, Could D...</td>\n",
       "      <td>US involvement in the Middle East conflict, pa...</td>\n",
       "      <td>Yahoo! Finance</td>\n",
       "      <td>Major analysts predict oil prices if Strait of...</td>\n",
       "      <td>Citi estimates that if the conflict disrupts 3...</td>\n",
       "      <td>3</td>\n",
       "      <td>Citi warns that prolonged disruptions of 3 mil...</td>\n",
       "      <td>3</td>\n",
       "      <td>Old</td>\n",
       "      <td>Positive</td>\n",
       "      <td>High</td>\n",
       "    </tr>\n",
       "    <tr>\n",
       "      <th>12</th>\n",
       "      <td>2025-06-21</td>\n",
       "      <td>- **Israel-Iran Conflict**: Escalating tension...</td>\n",
       "      <td>OPEC+ Production Strategies Boost Crude Oil Pr...</td>\n",
       "      <td>Recent analyses of OPEC+ production decisions ...</td>\n",
       "      <td>ZAWYA via Web</td>\n",
       "      <td>Octa's oil outlook: Middle East tensions threa...</td>\n",
       "      <td>Overall, WTI crude price is now stuck in a bro...</td>\n",
       "      <td>2</td>\n",
       "      <td>WTI crude prices are fluctuating between $70 a...</td>\n",
       "      <td>2</td>\n",
       "      <td>New</td>\n",
       "      <td>Positive</td>\n",
       "      <td>High</td>\n",
       "    </tr>\n",
       "    <tr>\n",
       "      <th>11</th>\n",
       "      <td>2025-06-21</td>\n",
       "      <td>- **Israel-Iran Conflict**: Escalating tension...</td>\n",
       "      <td>OPEC+ Production Strategies Boost Crude Oil Pr...</td>\n",
       "      <td>Recent analyses of OPEC+ production decisions ...</td>\n",
       "      <td>Financial Services Monitor Worldwide</td>\n",
       "      <td>India's Core Sector Growth Drops to a Nine-Mon...</td>\n",
       "      <td>Rahul Agrawal, Senior Economist, ICRA, said, E...</td>\n",
       "      <td>2</td>\n",
       "      <td>Despite adverse weather impacting electricity ...</td>\n",
       "      <td>2</td>\n",
       "      <td>New</td>\n",
       "      <td>Positive</td>\n",
       "      <td>High</td>\n",
       "    </tr>\n",
       "    <tr>\n",
       "      <th>10</th>\n",
       "      <td>2025-06-21</td>\n",
       "      <td>- **Israel-Iran Conflict**: Escalating tension...</td>\n",
       "      <td>U.S. Economic Indicators and Iran's Geopolitic...</td>\n",
       "      <td>U.S. economic indicators play a significant ro...</td>\n",
       "      <td>Business Radio KDOW</td>\n",
       "      <td>Octa's oil outlook: Middle East tensions threa...</td>\n",
       "      <td>Iran itself, despite the existing sanctions on...</td>\n",
       "      <td>5</td>\n",
       "      <td>Iran's potential threats to close the Strait o...</td>\n",
       "      <td>5</td>\n",
       "      <td>Old</td>\n",
       "      <td>Positive</td>\n",
       "      <td>High</td>\n",
       "    </tr>\n",
       "  </tbody>\n",
       "</table>\n",
       "</div>"
      ],
      "text/plain": [
       "          Date                                      Day_in_Review  \\\n",
       "0   2025-06-21  - **Israel-Iran Conflict**: Escalating tension...   \n",
       "13  2025-06-21  - **Israel-Iran Conflict**: Escalating tension...   \n",
       "12  2025-06-21  - **Israel-Iran Conflict**: Escalating tension...   \n",
       "11  2025-06-21  - **Israel-Iran Conflict**: Escalating tension...   \n",
       "10  2025-06-21  - **Israel-Iran Conflict**: Escalating tension...   \n",
       "\n",
       "                                                Topic  \\\n",
       "0   Escalating Israel-Iran Conflict Drives 20% Sur...   \n",
       "13  US-Iran Conflict Threatens Oil Supply, Could D...   \n",
       "12  OPEC+ Production Strategies Boost Crude Oil Pr...   \n",
       "11  OPEC+ Production Strategies Boost Crude Oil Pr...   \n",
       "10  U.S. Economic Indicators and Iran's Geopolitic...   \n",
       "\n",
       "                                              Summary  \\\n",
       "0   The Israel-Iran conflict has led to a signific...   \n",
       "13  US involvement in the Middle East conflict, pa...   \n",
       "12  Recent analyses of OPEC+ production decisions ...   \n",
       "11  Recent analyses of OPEC+ production decisions ...   \n",
       "10  U.S. economic indicators play a significant ro...   \n",
       "\n",
       "                                  Source  \\\n",
       "0              Business Standard via Web   \n",
       "13                        Yahoo! Finance   \n",
       "12                         ZAWYA via Web   \n",
       "11  Financial Services Monitor Worldwide   \n",
       "10                   Business Radio KDOW   \n",
       "\n",
       "                                             Headline  \\\n",
       "0   India to face limited inflation impact from oi...   \n",
       "13  Major analysts predict oil prices if Strait of...   \n",
       "12  Octa's oil outlook: Middle East tensions threa...   \n",
       "11  India's Core Sector Growth Drops to a Nine-Mon...   \n",
       "10  Octa's oil outlook: Middle East tensions threa...   \n",
       "\n",
       "                                                 Text  Volume_Score  \\\n",
       "0   Brent crude prices rose 20 per cent in the las...             4   \n",
       "13  Citi estimates that if the conflict disrupts 3...             3   \n",
       "12  Overall, WTI crude price is now stuck in a bro...             2   \n",
       "11  Rahul Agrawal, Senior Economist, ICRA, said, E...             2   \n",
       "10  Iran itself, despite the existing sanctions on...             5   \n",
       "\n",
       "                                         Text_Summary  Volume_Score  \\\n",
       "0   Escalating tensions between Israel and Iran ha...             4   \n",
       "13  Citi warns that prolonged disruptions of 3 mil...             3   \n",
       "12  WTI crude prices are fluctuating between $70 a...             2   \n",
       "11  Despite adverse weather impacting electricity ...             2   \n",
       "10  Iran's potential threats to close the Strait o...             5   \n",
       "\n",
       "   Novelty_Score Impact_Score Magnitude_Score  \n",
       "0            New     Positive            High  \n",
       "13           Old     Positive            High  \n",
       "12           New     Positive            High  \n",
       "11           New     Positive            High  \n",
       "10           Old     Positive            High  "
      ]
     },
     "execution_count": 21,
     "metadata": {},
     "output_type": "execute_result"
    }
   ],
   "source": [
    "flattened_trending_topics_df.head(5)"
   ]
  },
  {
   "cell_type": "markdown",
   "id": "a6d5c43a-0d83-4621-8e5e-ad064d0b6190",
   "metadata": {
    "id": "a6d5c43a-0d83-4621-8e5e-ad064d0b6190"
   },
   "source": [
    "For verification purpose, this actionable timestamped dataframe contains the granular news clustered into relevant topics, and also the advanced analytics of trendiness, novelty, impact, and magnitude scores to be potentially used for backtesting."
   ]
  },
  {
   "cell_type": "markdown",
   "id": "e04f408a-7ba2-4157-b5cd-9e580ff4e12c",
   "metadata": {
    "id": "e04f408a-7ba2-4157-b5cd-9e580ff4e12c"
   },
   "source": [
    "# Step 4- Customized Report Generation"
   ]
  },
  {
   "cell_type": "markdown",
   "id": "acbc5f20-ec30-4669-99f1-5ff1c2eca389",
   "metadata": {
    "id": "acbc5f20-ec30-4669-99f1-5ff1c2eca389"
   },
   "source": [
    "In this step, we rank the topics, allowing the user to customize the ranking system to reindex the news, based on their trendiness, novelty, and financial materiality on crude oil prices. We finally display a daily market update, supported by the corresponding granular news and sources for verification purpose."
   ]
  },
  {
   "cell_type": "markdown",
   "id": "2088103e-9984-4951-96c8-f8723e8cfad8",
   "metadata": {
    "id": "2088103e-9984-4951-96c8-f8723e8cfad8"
   },
   "source": [
    "The user selects the date for the report summarizing the top trending topics, and customizes the ranking system to prioritize the topics based on volume (trendiness and media attention), novelty (based on the emergence of new daily news), impact direction (positive or negative), and magnitude (financial materiality). The ranking system prioritizes the criteria in the order specified by the user, allowing for a tailored focus on the most relevant aspects of the data."
   ]
  },
  {
   "cell_type": "markdown",
   "id": "5cbf4275-da44-4ead-972a-d16f00ea7c5c",
   "metadata": {
    "id": "5cbf4275-da44-4ead-972a-d16f00ea7c5c"
   },
   "source": [
    "The order in which the criteria are listed in user_selected_ranking determines their priority for ranking the topics within the report. The first criterion in the list has the highest priority, followed by the second, and then the third. The user can customize the ranking by choosing to prioritize impact direction (positive or negative), novelty, magnitude, or volume, and has the flexibility to select 1, 2, or all 3 criteria based on their specific needs."
   ]
  },
  {
   "cell_type": "code",
   "execution_count": 22,
   "id": "73ba70a9",
   "metadata": {},
   "outputs": [],
   "source": [
    "specific_date = '2025-06-23'  # Example date, can be modified as needed\n",
    "user_selected_ranking = ['novelty', 'volume', 'magnitude']  # User can modify this list to change the ranking order\n",
    "#impact_filter = 'positive_impact' #User can use the impact_filter to filter out the report"
   ]
  },
  {
   "cell_type": "code",
   "execution_count": 23,
   "id": "c851a6fa",
   "metadata": {},
   "outputs": [],
   "source": [
    "prepared_reports = prepare_data_for_report(flattened_trending_topics_df, user_selected_ranking, impact_filter = None, report_date = specific_date)"
   ]
  },
  {
   "cell_type": "code",
   "execution_count": 24,
   "id": "a9e22ce4-ee81-4a20-89cf-879bedcf878f",
   "metadata": {
    "id": "a9e22ce4-ee81-4a20-89cf-879bedcf878f",
    "outputId": "2c946716-debf-4847-86a2-538e58061ab7",
    "tags": []
   },
   "outputs": [
    {
     "data": {
      "text/html": [
       "<!DOCTYPE html>\n",
       "<html lang=\"en\">\n",
       "<head>\n",
       "    <meta charset=\"UTF-8\">\n",
       "    <title>Daily crude oil market update - 2025-06-23</title>\n",
       "    <style>\n",
       "        body {\n",
       "            font-family: Arial, sans-serif;\n",
       "            background-color: #121212;\n",
       "            color: #E0E0E0;\n",
       "            margin: 20px;\n",
       "            padding: 0;\n",
       "            line-height: 1.6;\n",
       "        }\n",
       "        h1, h2, h3 {\n",
       "            color: #0080BF; /* Darker blue color for headings */\n",
       "        }\n",
       "        .container {\n",
       "            max-width: 1200px;\n",
       "            margin: 0 auto;\n",
       "            padding: 20px;\n",
       "            background-color: #1E1E1E;\n",
       "            border-radius: 10px;\n",
       "            box-shadow: 0px 4px 8px rgba(0, 0, 0, 0.4);\n",
       "            position: relative;  /* For positioning the logo */\n",
       "        }\n",
       "        .title {\n",
       "            text-align: center;\n",
       "            font-size: 2em;\n",
       "            margin-bottom: 20px;\n",
       "            color: #00BFFF; /* Dynamic blue color for the title */\n",
       "            text-transform: uppercase;\n",
       "            letter-spacing: 2px;\n",
       "            white-space: nowrap; /* Prevent text wrapping */\n",
       "        }\n",
       "        .logo {\n",
       "            position: absolute;\n",
       "            top: 20px;\n",
       "            left: 20px; /* Positioned to the left */\n",
       "            width: 180px;  /* Adjust the size as needed */\n",
       "            height: auto;\n",
       "        }\n",
       "        .content {\n",
       "            display: flex;\n",
       "        }\n",
       "        .left-column {\n",
       "            flex: 1;\n",
       "            max-width: 300px;\n",
       "            margin-right: 20px;\n",
       "        }\n",
       "        .right-column {\n",
       "            flex: 3;\n",
       "        }\n",
       "        .separator {\n",
       "            width: 2px;\n",
       "            background-color: #00BFFF; /* Dynamic blue color for the separator */\n",
       "            margin-right: 20px;\n",
       "        }\n",
       "        .section-title {\n",
       "            font-size: 1.5em;\n",
       "            margin-bottom: 15px;\n",
       "            color: #0080BF; /* Darker blue color for section titles */\n",
       "            text-transform: uppercase;\n",
       "        }\n",
       "        .bullet-points {\n",
       "            list-style-type: disc;\n",
       "            margin-left: 20px;\n",
       "            color: #E0E0E0; /* White color for bullet points */\n",
       "        }\n",
       "        .topic-section {\n",
       "            margin-bottom: 40px;  /* Increased space between updates */\n",
       "            padding: 20px;\n",
       "            background-color: #2A2A2A;\n",
       "            border-radius: 10px;\n",
       "            box-shadow: 0px 4px 6px rgba(0, 0, 0, 0.3);\n",
       "            position: relative;  /* To position the counters */\n",
       "        }\n",
       "        .topic-title {\n",
       "            font-size: 1.7em;\n",
       "            padding-top: 40px; /* Increase space above the title */\n",
       "            color: #0080BF; /* Darker blue color for topic titles */\n",
       "            text-transform: uppercase;\n",
       "        }\n",
       "        .counter-container {\n",
       "            position: absolute;\n",
       "            top: 20px;\n",
       "            right: 20px;\n",
       "            display: flex;\n",
       "            align-items: center;\n",
       "            justify-content: flex-start; /* Align content to the left */\n",
       "            gap: 20px; /* Space between each counter */\n",
       "            margin-bottom: 60px; /* Increased space between the title and counters */\n",
       "        }\n",
       "        .news-counter, .novelty-counter, .impact-counter, .magnitude-counter {\n",
       "            background-color: #00BFFF; /* Dynamic blue color for counters */\n",
       "            color: #121212; /* Black text color for counters */\n",
       "            padding: 5px 10px;\n",
       "            border-radius: 15px;\n",
       "            font-weight: bold;\n",
       "            font-size: 1em;\n",
       "            box-shadow: 0px 2px 4px rgba(0, 0, 0, 0.2);\n",
       "            display: flex;\n",
       "            align-items: center;  /* Align text and icon vertically */\n",
       "        }\n",
       "        .novelty-counter {\n",
       "            background-color: transparent;\n",
       "            color: #FFA500;  /* Orange color for the flame icon and text */\n",
       "        }\n",
       "        .flame-icon {\n",
       "            vertical-align: middle;\n",
       "            margin-right: 5px;\n",
       "            width: 24px;  /* Adjusted width of the flame icon */\n",
       "            height: 24px; /* Adjusted height of the flame icon */\n",
       "        }\n",
       "        .impact-counter {\n",
       "            color: #121212; /* Black text color for impact */\n",
       "        }\n",
       "        .impact-counter.positive {\n",
       "            background-color: #4CAF50; /* Green for positive impact */\n",
       "        }\n",
       "        .impact-counter.negative {\n",
       "            background-color: #F44336; /* Red for negative impact */\n",
       "        }\n",
       "        .impact-counter.neutral {\n",
       "            background-color: transparent; /* Transparent for neutral impact */\n",
       "            color: #00BFFF; /* Dynamic blue for neutral impact text */\n",
       "        }\n",
       "        .magnitude-counter {\n",
       "            background-color: transparent; /* Transparent for the magnitude box */\n",
       "            color: #00BFFF; /* Dynamic blue for magnitude text */\n",
       "        }\n",
       "        .magnitude-counter.high {\n",
       "            color: #F44336; /* Red for high magnitude */\n",
       "        }\n",
       "        .magnitude-counter.medium {\n",
       "            color: #FFD700; /* Yellow for medium magnitude */\n",
       "        }\n",
       "        .magnitude-counter.low {\n",
       "            color: #FFFFFF; /* White for low magnitude */\n",
       "        }\n",
       "        .impact-icon, .intensity-arrow {\n",
       "            vertical-align: middle;\n",
       "            margin-right: 5px;\n",
       "            width: 24px;  /* Adjusted width of the icons */\n",
       "            height: 24px; /* Adjusted height of the icons */\n",
       "        }\n",
       "        .counter-label {\n",
       "            font-size: 0.8em;\n",
       "            color: #E0E0E0; /* White color for the counter labels */\n",
       "            margin-right: 5px;\n",
       "            text-transform: uppercase;\n",
       "            letter-spacing: 1px;\n",
       "        }\n",
       "        .description {\n",
       "            font-size: 1.1em;\n",
       "            margin-bottom: 15px;\n",
       "            color: #E0E0E0; /* White color for description */\n",
       "        }\n",
       "    </style>\n",
       "</head>\n",
       "<body>\n",
       "    <div class=\"container\">\n",
       "        <!-- Logo Section -->\n",
       "        <img src=\"assets/bigdata-logo-white.svg\" alt=\"Big Data Logo\" class=\"logo\">\n",
       "        \n",
       "        <!-- Title Section -->\n",
       "        <div class=\"title\">Daily crude oil market update - 2025-06-23</div>\n",
       "        \n",
       "        <!-- Content Section -->\n",
       "        <div class=\"content\">\n",
       "            <!-- Left Column -->\n",
       "            <div class=\"left-column\">\n",
       "                <h2 class=\"section-title\">The Day in Review</h2>\n",
       "                <ul class=\"bullet-points\">\n",
       "                    \n",
       "                    <li><b>Iraq's Water Crisis</b>: Severe water scarcity threatens regional stability, impacting agriculture and public health, potentially leading to socio-economic challenges that could affect oil production and supply.</li>\n",
       "                    \n",
       "                    <li><b>Iran's Strait of Hormuz Threats</b>: Iran's threats to close this critical oil transit route could disrupt approximately 20% of global oil supply, risking price increases and economic strain for major importing countries.</li>\n",
       "                    \n",
       "                    <li><b>Turkey's Urals Crude Imports</b>: Surge in imports driven by OPEC's production decisions, highlighting the influence of OPEC+ dynamics on crude oil prices and Turkey's import strategies amidst geopolitical tensions.</li>\n",
       "                    \n",
       "                </ul>\n",
       "            </div>\n",
       "\n",
       "            <!-- Separator -->\n",
       "            <div class=\"separator\"></div>\n",
       "\n",
       "            <!-- Right Column -->\n",
       "            <div class=\"right-column\">\n",
       "                \n",
       "                <div class=\"topic-section\">\n",
       "                    <div class=\"counter-container\">\n",
       "                        <div class=\"news-counter\">\n",
       "                            <span class=\"counter-label\">Volume Score</span>\n",
       "                            15 News\n",
       "                        </div>\n",
       "                        <div class=\"novelty-counter\">\n",
       "                            <span class=\"counter-label\">Novelty Score</span>\n",
       "                            <img src=\"assets/flame-icon.png\" alt=\"Flame Icon\" class=\"flame-icon\">\n",
       "                            Novel\n",
       "                        </div>\n",
       "                        <div class=\"impact-counter negative\">\n",
       "                            <span class=\"counter-label\">Price Impact</span>\n",
       "                            Negative\n",
       "                        </div>\n",
       "                        <div class=\"magnitude-counter high\">\n",
       "                            <span class=\"counter-label\">Intensity</span>\n",
       "                            <img src=\"assets/arrow_up.png\" alt=\"Intensity Arrow\" class=\"intensity-arrow\">\n",
       "                            High\n",
       "                        </div>\n",
       "                    </div>\n",
       "                    <h2 class=\"topic-title\">Iran's Strait of Hormuz Threats: A Geopolitical Gamble on Global Oil Security</h2>\n",
       "                    <p class=\"description\">The geopolitical tensions surrounding Iran's threats to close the Strait of Hormuz, a critical maritime corridor for global oil transport, highlight the intricate relationship between energy security and environmental regulations. This strait is vital for the transit of approximately 20% of the world's oil supply, making it essential for countries like Japan, India, and South Korea that heavily rely on oil imports from the Middle East. Disruptions in this route could lead to increased oil prices and economic strain, underscoring the fragility of global oil supply chains. While Iran's threats may be perceived as a strategic maneuver, they risk alienating key allies and jeopardizing its own economic interests, particularly with major markets like China. The situation illustrates the broader implications of geopolitical conflicts on crude oil markets and the urgent need for sustainable energy practices and regulations to mitigate the risks associated with such volatility.</p>\n",
       "                </div>\n",
       "                \n",
       "                <div class=\"topic-section\">\n",
       "                    <div class=\"counter-container\">\n",
       "                        <div class=\"news-counter\">\n",
       "                            <span class=\"counter-label\">Volume Score</span>\n",
       "                            3 News\n",
       "                        </div>\n",
       "                        <div class=\"novelty-counter\">\n",
       "                            <span class=\"counter-label\">Novelty Score</span>\n",
       "                            <img src=\"assets/flame-icon.png\" alt=\"Flame Icon\" class=\"flame-icon\">\n",
       "                            Moderate\n",
       "                        </div>\n",
       "                        <div class=\"impact-counter positive\">\n",
       "                            <span class=\"counter-label\">Price Impact</span>\n",
       "                            Positive\n",
       "                        </div>\n",
       "                        <div class=\"magnitude-counter medium\">\n",
       "                            <span class=\"counter-label\">Intensity</span>\n",
       "                            <img src=\"assets/arrow_mid.png\" alt=\"Intensity Arrow\" class=\"intensity-arrow\">\n",
       "                            Medium\n",
       "                        </div>\n",
       "                    </div>\n",
       "                    <h2 class=\"topic-title\">Turkey's Urals Crude Imports Surge Amid OPEC's Price Manipulation</h2>\n",
       "                    <p class=\"description\">Turkey's increased imports of Urals crude are influenced by the dynamics of the global oil market, particularly the decisions made by the Organization of the Petroleum Exporting Countries (OPEC). OPEC's production quotas significantly affect crude oil prices, with reductions typically leading to higher prices due to tightened supply. Conversely, increased production can lower prices, impacting Turkey's import strategies. The complexities of OPEC's influence are further compounded by geopolitical tensions and the involvement of non-member countries like Russia, which is part of the OPEC+ alliance. As Turkey navigates these market fluctuations, understanding OPEC's role and the broader geopolitical landscape is essential for predicting future trends in its crude oil imports.</p>\n",
       "                </div>\n",
       "                \n",
       "                <div class=\"topic-section\">\n",
       "                    <div class=\"counter-container\">\n",
       "                        <div class=\"news-counter\">\n",
       "                            <span class=\"counter-label\">Volume Score</span>\n",
       "                            3 News\n",
       "                        </div>\n",
       "                        <div class=\"novelty-counter\">\n",
       "                            <span class=\"counter-label\">Novelty Score</span>\n",
       "                            <img src=\"assets/flame-icon.png\" alt=\"Flame Icon\" class=\"flame-icon\">\n",
       "                            Repeat\n",
       "                        </div>\n",
       "                        <div class=\"impact-counter negative\">\n",
       "                            <span class=\"counter-label\">Price Impact</span>\n",
       "                            Negative\n",
       "                        </div>\n",
       "                        <div class=\"magnitude-counter high\">\n",
       "                            <span class=\"counter-label\">Intensity</span>\n",
       "                            <img src=\"assets/arrow_up.png\" alt=\"Intensity Arrow\" class=\"intensity-arrow\">\n",
       "                            High\n",
       "                        </div>\n",
       "                    </div>\n",
       "                    <h2 class=\"topic-title\">Iraq's Water Crisis: Upstream Dams and Climate Change Fuel Scarcity Threatening Stability</h2>\n",
       "                    <p class=\"description\">Water scarcity in Iraq has become a critical issue, exacerbated by a combination of climate change, mismanagement of water resources, and geopolitical tensions in the region. The country faces significant challenges due to reduced river flows from the Tigris and Euphrates, primarily caused by upstream dam constructions in neighboring countries like Turkey and Iran. This situation has led to severe impacts on agriculture, drinking water availability, and overall public health. Additionally, Iraq's water infrastructure is in dire need of repair and modernization, further complicating efforts to address the crisis. The government has been urged to implement sustainable water management practices and engage in diplomatic negotiations with neighboring countries to secure water rights and ensure equitable distribution. Without immediate action, the ongoing water scarcity threatens to destabilize the region and exacerbate existing socio-economic challenges.</p>\n",
       "                </div>\n",
       "                \n",
       "            </div>\n",
       "        </div>\n",
       "    </div>\n",
       "</body>\n",
       "</html>"
      ],
      "text/plain": [
       "<IPython.core.display.HTML object>"
      ]
     },
     "metadata": {},
     "output_type": "display_data"
    },
    {
     "name": "stdout",
     "output_type": "stream",
     "text": [
      "\n",
      "\n",
      "\n"
     ]
    }
   ],
   "source": [
    "# Generate and display the HTML report for each date\n",
    "for report in prepared_reports:\n",
    "    html_content = generate_html_report(\n",
    "        report['date'],\n",
    "        report['day_in_review'],\n",
    "        report['topics'],\n",
    "        'Daily crude oil market update'  # Pass the main theme to dynamically generate the title\n",
    "    )\n",
    "    display(HTML(html_content))\n",
    "    print(\"\")\n",
    "    print(\"\")\n",
    "    print(\"\")"
   ]
  },
  {
   "cell_type": "code",
   "execution_count": null,
   "id": "5c6f5779",
   "metadata": {},
   "outputs": [],
   "source": []
  }
 ],
 "metadata": {
  "colab": {
   "provenance": []
  },
  "kernelspec": {
   "display_name": "cookbook_legacy",
   "language": "python",
   "name": "python3"
  },
  "language_info": {
   "codemirror_mode": {
    "name": "ipython",
    "version": 3
   },
   "file_extension": ".py",
   "mimetype": "text/x-python",
   "name": "python",
   "nbconvert_exporter": "python",
   "pygments_lexer": "ipython3",
   "version": "3.9.12"
  }
 },
 "nbformat": 4,
 "nbformat_minor": 5
}
