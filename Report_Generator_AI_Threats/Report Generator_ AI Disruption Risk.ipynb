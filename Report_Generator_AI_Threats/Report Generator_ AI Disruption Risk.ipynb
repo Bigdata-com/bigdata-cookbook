{
 "cells": [
  {
   "cell_type": "markdown",
   "id": "887d99c0-8886-4d19-951d-054a56e563f3",
   "metadata": {
    "id": "887d99c0-8886-4d19-951d-054a56e563f3"
   },
   "source": [
    "# AI Disruption Risk Report Generator\n",
    "\n",
    "\n",
    "## Automated Analysis of AI Threats and Opportunities in Technology Companies\n"
   ]
  },
  {
   "cell_type": "markdown",
   "id": "66de6e5d-be38-4236-b944-4559b5fa4d0a",
   "metadata": {
    "id": "66de6e5d-be38-4236-b944-4559b5fa4d0a"
   },
   "source": [
    "## Why It Matters\n",
    "\n",
    "AI disruption requires identifying which companies will thrive versus those vulnerable to displacement, but evaluating AI positioning across scattered news, earnings calls, and filings is resource-intensive. Investment decisions need systematic analysis of both AI risks and strategic responses to identify winners and potential shorts.\n",
    "\n",
    "## What It Does\n",
    "\n",
    "The `GenerateReport` class in the bigdata-research-tools package systematically evaluates both AI disruption risks and proactive AI adoption across company watchlists using unstructured data from multiple sources. Built for portfolio managers and financial analysts, it transforms scattered AI-related information into quantifiable positioning intelligence and identifies investment opportunities based on AI readiness.\n",
    "\n",
    "## How It Works\n",
    "\n",
    "The Report Generator combines **semantic content retrieval**, **dual-theme analysis**, and **comparative scoring methodologies** to deliver:\n",
    "\n",
    "- **Risk-proactivity assessment** measuring both AI disruption vulnerability and strategic AI adoption initiatives\n",
    "- **Standardized scoring system** enabling cross-company comparison of AI positioning and competitive readiness\n",
    "- **Investment intelligence generation** revealing underlying narratives that shape each company's AI transformation journey\n",
    "- **Structured output for reporting** ranking companies by AI resilience and strategic positioning\n",
    "\n",
    "## A Real-World Use Case\n",
    "\n",
    "This cookbook demonstrates the complete workflow through analyzing AI disruption risks and proactive responses across a company watchlist, showing how the generator automatically quantifies AI positioning and identifies potential investment opportunities based on strategic AI readiness.\n"
   ]
  },
  {
   "cell_type": "markdown",
   "id": "47b9e19c-92be-4580-adca-b4071838669d",
   "metadata": {
    "id": "47b9e19c-92be-4580-adca-b4071838669d"
   },
   "source": [
    "## Setup and Imports"
   ]
  },
  {
   "cell_type": "markdown",
   "id": "bKPSWVUT5LBM",
   "metadata": {
    "id": "bKPSWVUT5LBM"
   },
   "source": [
    "## Async Compatibility Setup\n",
    "\n",
    "**Run this cell first** - Required for Google Colab, Jupyter Notebooks, and VS Code with Jupyter extension:\n",
    "\n",
    "### Why is this needed?\n",
    "\n",
    "Interactive environments (Colab, Jupyter) already have an asyncio event loop running. When bigdata-research-tools makes async API calls (like to OpenAI), you'll get this error without nest_asyncio:\n",
    "\n",
    "```\n",
    "RuntimeError: asyncio.run() cannot be called from a running event loop\n",
    "```\n",
    "\n",
    "The `nest_asyncio.apply()` command patches this to allow nested event loops.\n",
    "\n",
    "💡 **Tip**: If you're unsure which environment you're in, just run the cell below - it won't hurt in any environment!"
   ]
  },
  {
   "cell_type": "code",
   "execution_count": 3,
   "id": "ce4e0013",
   "metadata": {
    "executionInfo": {
     "elapsed": 3,
     "status": "ok",
     "timestamp": 1752236528642,
     "user": {
      "displayName": "Francesco Ricigliano",
      "userId": "07139234200501924124"
     },
     "user_tz": -120
    },
    "id": "ce4e0013"
   },
   "outputs": [],
   "source": [
    "import datetime\n",
    "start = datetime.datetime.now()"
   ]
  },
  {
   "cell_type": "code",
   "execution_count": 4,
   "id": "cFpeCceJ5KXO",
   "metadata": {
    "colab": {
     "base_uri": "https://localhost:8080/"
    },
    "executionInfo": {
     "elapsed": 58,
     "status": "ok",
     "timestamp": 1752236528701,
     "user": {
      "displayName": "Francesco Ricigliano",
      "userId": "07139234200501924124"
     },
     "user_tz": -120
    },
    "id": "cFpeCceJ5KXO",
    "outputId": "e54a2bae-c934-4b3a-a849-f925fb997046"
   },
   "outputs": [
    {
     "name": "stdout",
     "output_type": "stream",
     "text": [
      "✅ nest_asyncio applied\n"
     ]
    }
   ],
   "source": [
    "try:\n",
    "    import asyncio\n",
    "    asyncio.get_running_loop()\n",
    "    import nest_asyncio; nest_asyncio.apply()\n",
    "    print(\"✅ nest_asyncio applied\")\n",
    "except (RuntimeError, ImportError):\n",
    "    print(\"✅ nest_asyncio not needed or not available\")"
   ]
  },
  {
   "cell_type": "markdown",
   "id": "3MzrfFXv5pRd",
   "metadata": {
    "id": "3MzrfFXv5pRd"
   },
   "source": [
    "## Environment Setup \n",
    "\n",
    "The following cell configures the necessary path for the analysis"
   ]
  },
  {
   "cell_type": "code",
   "execution_count": 5,
   "id": "fCJNtnsWV_kl",
   "metadata": {
    "colab": {
     "base_uri": "https://localhost:8080/"
    },
    "executionInfo": {
     "elapsed": 21978,
     "status": "ok",
     "timestamp": 1752236550677,
     "user": {
      "displayName": "Francesco Ricigliano",
      "userId": "07139234200501924124"
     },
     "user_tz": -120
    },
    "id": "fCJNtnsWV_kl",
    "outputId": "451ce6ad-da6e-47b2-fe36-0aee154a16df"
   },
   "outputs": [
    {
     "name": "stdout",
     "output_type": "stream",
     "text": [
      "✅ Local environment setup complete\n"
     ]
    }
   ],
   "source": [
    "import os\n",
    "import sys\n",
    "\n",
    "\n",
    "current_dir = os.getcwd()\n",
    "if current_dir not in sys.path:\n",
    "    sys.path.append(current_dir)\n",
    "print(f\"✅ Local environment setup complete\")"
   ]
  },
  {
   "cell_type": "markdown",
   "id": "e2344cbd",
   "metadata": {
    "id": "e2344cbd"
   },
   "source": [
    "## Import Required Libraries\n",
    "\n",
    "Import the core libraries needed for AI disruption analysis, including the custom report generation classes and data processing tools.\n"
   ]
  },
  {
   "cell_type": "code",
   "execution_count": 6,
   "id": "2e29e3f0-0ad3-47f3-b575-131b502fc250",
   "metadata": {
    "executionInfo": {
     "elapsed": 8498,
     "status": "ok",
     "timestamp": 1752236559177,
     "user": {
      "displayName": "Francesco Ricigliano",
      "userId": "07139234200501924124"
     },
     "user_tz": -120
    },
    "id": "2e29e3f0-0ad3-47f3-b575-131b502fc250"
   },
   "outputs": [],
   "source": [
    "from src.report_generator import GenerateReport\n",
    "from src.summary.summary import SummarizerCompany\n",
    "from src.tool import create_styled_table, plot_company_scores, plot_company_scores_log_log, generate_html_report_v4, display_report\n",
    "\n",
    "\n",
    "from bigdata_research_tools.search.screener_search import search_by_companies\n",
    "from bigdata_research_tools.labeler.screener_labeler import ScreenerLabeler\n",
    "from bigdata_research_tools.excel import ExcelManager\n",
    "from bigdata_client.models.search import DocumentType\n",
    "from bigdata_client import Bigdata\n",
    "\n",
    "import matplotlib.pyplot as plt\n",
    "import numpy as np\n",
    "from datetime import datetime\n",
    "import pandas as pd\n",
    "from IPython.display import display, HTML"
   ]
  },
  {
   "cell_type": "markdown",
   "id": "a4c942b6-ff3b-44df-a701-1bcc06c47d14",
   "metadata": {
    "id": "a4c942b6-ff3b-44df-a701-1bcc06c47d14"
   },
   "source": [
    "## Configure Output Directories\n",
    "\n",
    "Set up the directory structure where analysis results and reports will be saved.    "
   ]
  },
  {
   "cell_type": "code",
   "execution_count": 7,
   "id": "8ded394f-0062-4623-9c9a-6be71c5763d8",
   "metadata": {
    "executionInfo": {
     "elapsed": 15,
     "status": "ok",
     "timestamp": 1752236559194,
     "user": {
      "displayName": "Francesco Ricigliano",
      "userId": "07139234200501924124"
     },
     "user_tz": -120
    },
    "id": "8ded394f-0062-4623-9c9a-6be71c5763d8"
   },
   "outputs": [],
   "source": [
    "# Define output file paths for our report\n",
    "output_dir = f\"{current_dir}/output\"\n",
    "os.makedirs(output_dir, exist_ok=True)\n",
    "\n",
    "export_path = f\"{output_dir}/ai_disruption_report.xlsx\""
   ]
  },
  {
   "cell_type": "markdown",
   "id": "2f269649-abf4-414d-989a-1254770981b5",
   "metadata": {
    "id": "2f269649-abf4-414d-989a-1254770981b5"
   },
   "source": [
    "## Load Credentials"
   ]
  },
  {
   "cell_type": "code",
   "execution_count": 8,
   "id": "nkal6MUpmXX_",
   "metadata": {
    "executionInfo": {
     "elapsed": 1095,
     "status": "ok",
     "timestamp": 1752236560290,
     "user": {
      "displayName": "Francesco Ricigliano",
      "userId": "07139234200501924124"
     },
     "user_tz": -120
    },
    "id": "nkal6MUpmXX_"
   },
   "outputs": [
    {
     "name": "stdout",
     "output_type": "stream",
     "text": [
      "✅ Credentials loaded from .env file\n"
     ]
    }
   ],
   "source": [
    "\n",
    "from dotenv import load_dotenv\n",
    "from pathlib import Path\n",
    "\n",
    "script_dir = Path(__file__).parent if '__file__' in globals() else Path.cwd()\n",
    "load_dotenv(script_dir / '.env')\n",
    "\n",
    "BIGDATA_USERNAME = os.getenv('BIGDATA_USERNAME')\n",
    "BIGDATA_PASSWORD = os.getenv('BIGDATA_PASSWORD')\n",
    "OPENAI_API_KEY = os.getenv('OPENAI_API_KEY')\n",
    "\n",
    "if not all([BIGDATA_USERNAME, BIGDATA_PASSWORD, OPENAI_API_KEY]):\n",
    "    print(\"❌ Missing required environment variables\")\n",
    "    raise ValueError(\"Missing required environment variables. Check your .env file.\")\n",
    "else:\n",
    "    print(\"✅ Credentials loaded from .env file\")"
   ]
  },
  {
   "cell_type": "markdown",
   "id": "6cYDQpqSm648",
   "metadata": {
    "id": "6cYDQpqSm648"
   },
   "source": [
    "## Connecting to Bigdata\n",
    "\n",
    "Create a Bigdata object with your credentials."
   ]
  },
  {
   "cell_type": "code",
   "execution_count": 9,
   "id": "mq1WSV5outGA",
   "metadata": {
    "executionInfo": {
     "elapsed": 755,
     "status": "ok",
     "timestamp": 1752236561048,
     "user": {
      "displayName": "Francesco Ricigliano",
      "userId": "07139234200501924124"
     },
     "user_tz": -120
    },
    "id": "mq1WSV5outGA"
   },
   "outputs": [],
   "source": [
    "bigdata = Bigdata(BIGDATA_USERNAME, BIGDATA_PASSWORD)"
   ]
  },
  {
   "cell_type": "markdown",
   "id": "f31b9c59-2560-4b9d-9e7c-77a5906f1352",
   "metadata": {
    "id": "f31b9c59-2560-4b9d-9e7c-77a5906f1352"
   },
   "source": [
    "## Defining the Report Parameters\n",
    "\n",
    "### Fixed Parameters\n",
    "-  **Keywords** (``keywords``): Keywords used for improving retrieval\n",
    "-  **Main Theme** (``main_theme_risk``): The central concept to explore\n",
    "-  **Main Theme Proactivity** (``main_theme_proactivity``): Proactive measures and strategies companies take to address the main theme risk\n",
    "- **List of sentences about risk themes** (``list_sentences_risks``): Sentences used to improve the retrieval regarding the main theme\n",
    "- **List of sentences about risk proactivity themes** (``list_sentences_proactivity``): Sentences used to improve the retrieval regarding the proactivity against the main theme\n",
    "- **Bigdata** (``bigdata``): Bigdata connection\n",
    "\n",
    "\n",
    "\n",
    "### Customizable Parameters\n",
    "-  **Watchlist** (``my_watchlist_id``): The set of companies to analyze. This is the ID of your watchlist in https://app.bigdata.com/watchlists\n",
    "-  **Model Selection** (``llm_model``): The LLM model used to label search result document chunks and generate summaries\n",
    "-  **Frequency** (``freq``): The frequency of the date ranges to search over.\n",
    "   Supported values:\n",
    "\n",
    "   -  `Y`: Yearly intervals.\n",
    "   -  `M`: Monthly intervals.\n",
    "   -  `W`: Weekly intervals.\n",
    "   -  `D`: Daily intervals. Defaults to `M`.\n",
    "\n",
    "- **Time Period** (``start_date`` and ``end_date``): The date range over which to run the analysis\n",
    "\n",
    "-  **Fiscal Year** (``fiscal_year``): If the document type is transcripts or\n",
    "   filings, fiscal year needs to be specified\n",
    "\n",
    "-  **Focus** (``focus``): Specify a focus within the main theme\n",
    "\n",
    "-  **Document Limit** (``document_limit_news``, ``document_limit_filings``, ``document_limit_transcripts``): The maximum number of documents to\n",
    "   return per query to Bigdata API for each category of documents\n",
    "\n",
    "-  **Batch Size** (``batch_size``): The number of entities to include in a\n",
    "   single batched query"
   ]
  },
  {
   "cell_type": "code",
   "execution_count": 10,
   "id": "OuNjP7-UvGqs",
   "metadata": {
    "executionInfo": {
     "elapsed": 3,
     "status": "ok",
     "timestamp": 1752236561055,
     "user": {
      "displayName": "Francesco Ricigliano",
      "userId": "07139234200501924124"
     },
     "user_tz": -120
    },
    "id": "OuNjP7-UvGqs"
   },
   "outputs": [],
   "source": [
    "# ===== Fixed Parameters =====\n",
    "\n",
    "# Keywords for filtering content\n",
    "keywords = ['AI']\n",
    "\n",
    "# Risk Theme\n",
    "main_theme_risk = 'Risks or concerns related to AI disruption'\n",
    "\n",
    "# Proactivity Theme\n",
    "main_theme_proactivity = 'Integrating GenAI into products or forming partnerships to improve GenAI offerings'\n",
    "\n",
    "# Sentences expressing risk-related narratives\n",
    "list_sentences_risks = [\n",
    "    \"Companies face substantial risks from AI-driven market disruptions today.\",\n",
    "    \"AI advancements threaten traditional business models and competitive advantages.\",\n",
    "    \"Disruption by AI can lead to loss of market share rapidly.\",\n",
    "    \"Existing workflows may become obsolete due to AI innovations.\",\n",
    "    \"Companies risk being outpaced by agile AI-focused competitors.\"\n",
    "]\n",
    "\n",
    "# Sentences expressing proactivity-related narratives\n",
    "list_sentences_proactivity = [\n",
    "    \"Companies actively incorporate GenAI to enhance product offerings and features.\",\n",
    "    \"Partnerships aim to improve GenAI solutions in competitive markets.\",\n",
    "    \"Proactive firms leverage GenAI technology to boost customer engagement strategies.\",\n",
    "    \"Organizations collaborate to advance GenAI capabilities and applications effectively.\",\n",
    "    \"Firms invest in GenAI partnerships to innovate their service delivery.\"\n",
    "]"
   ]
  },
  {
   "cell_type": "code",
   "execution_count": 11,
   "id": "c5d7c158-60dd-49c7-b1ed-cc4dc63adf7c",
   "metadata": {
    "executionInfo": {
     "elapsed": 486,
     "status": "ok",
     "timestamp": 1752236561545,
     "user": {
      "displayName": "Francesco Ricigliano",
      "userId": "07139234200501924124"
     },
     "user_tz": -120
    },
    "id": "c5d7c158-60dd-49c7-b1ed-cc4dc63adf7c"
   },
   "outputs": [],
   "source": [
    "# ===== Customizable Parameters =====\n",
    "\n",
    "# Company Universe (from Watchlist)\n",
    "my_watchlist_id = \"37fe5403-9688-4313-9775-9fd9770ca6e2\" #insert your watchlist\n",
    "watchlist = bigdata.watchlists.get(my_watchlist_id)\n",
    "companies = bigdata.knowledge_graph.get_entities(watchlist.items)\n",
    "company_names = [company.name for company in companies]\n",
    "\n",
    "# LLM Specification\n",
    "llm_model = \"openai::gpt-4o-mini\"\n",
    "\n",
    "# Search Frequency\n",
    "search_frequency='M'\n",
    "\n",
    "# Specify Time Range\n",
    "start_date=\"2025-01-01\"\n",
    "end_date=\"2025-04-20\"\n",
    "\n",
    "# Fiscal Year\n",
    "fiscal_year = 2025\n",
    "\n",
    "# Document Limits\n",
    "document_limit_news=10\n",
    "document_limit_filings=5\n",
    "document_limit_transcripts=5\n",
    "\n",
    "# Others\n",
    "batch_size=1"
   ]
  },
  {
   "cell_type": "markdown",
   "id": "vO3W_VRuIfCs",
   "metadata": {
    "id": "vO3W_VRuIfCs"
   },
   "source": [
    "## Generate Report\n",
    "\n"
   ]
  },
  {
   "cell_type": "markdown",
   "id": "TCIl_y_JoEjj",
   "metadata": {
    "id": "TCIl_y_JoEjj"
   },
   "source": [
    "We’re now initializing the ``GenerateReport`` class, and in the next section of the cookbook, we’ll walk through each step it takes to build the report.\n",
    "\n",
    "But hey, if you'd rather **skip the step-by-step and jump straight to the result**, just run the cell below and then [click here](#scrollTo=-nXf6XC1tIMO) and you are good to go!🚀 Just remember follow the brief instructions to run ``generate_report()`` !\n",
    "\n"
   ]
  },
  {
   "cell_type": "code",
   "execution_count": 12,
   "id": "sgkhr_afZHQl",
   "metadata": {
    "executionInfo": {
     "elapsed": 7,
     "status": "ok",
     "timestamp": 1752236561553,
     "user": {
      "displayName": "Francesco Ricigliano",
      "userId": "07139234200501924124"
     },
     "user_tz": -120
    },
    "id": "sgkhr_afZHQl"
   },
   "outputs": [],
   "source": [
    "report_generator = GenerateReport(\n",
    "        watchlist_id=my_watchlist_id,\n",
    "        keywords=['AI'],\n",
    "        main_theme_risk='Risks or concerns related to AI disruption',\n",
    "        main_theme_proactivity='Integrating GenAI into products or forming partnerships to improve GenAI offerings',\n",
    "        list_sentences_risks=list_sentences_risks,\n",
    "        list_sentences_proactivity=list_sentences_proactivity,\n",
    "        llm_model= llm_model,\n",
    "        api_key=OPENAI_API_KEY,\n",
    "        start_date=start_date,\n",
    "        end_date=end_date,\n",
    "        fiscal_year=fiscal_year,\n",
    "        search_frequency=search_frequency,\n",
    "        document_limit_news=document_limit_news,\n",
    "        document_limit_filings=document_limit_filings,\n",
    "        document_limit_transcripts=document_limit_transcripts,\n",
    "        batch_size=batch_size,\n",
    "        bigdata=bigdata\n",
    ")"
   ]
  },
  {
   "cell_type": "markdown",
   "id": "VlgdNiGhtCLF",
   "metadata": {
    "id": "VlgdNiGhtCLF"
   },
   "source": [
    "## Workflow step by step\n",
    "\n"
   ]
  },
  {
   "cell_type": "markdown",
   "id": "4d813d6a-113e-4559-b249-1cc5563d4622",
   "metadata": {
    "id": "4d813d6a-113e-4559-b249-1cc5563d4622"
   },
   "source": [
    "### Retrieve Content\n",
    "\n",
    "You can leverage the Bigdata API to run a search on company news, filings and transcripts.\n"
   ]
  },
  {
   "cell_type": "code",
   "execution_count": 13,
   "id": "0e2af804-fbd0-4698-90fc-49ec469a822e",
   "metadata": {
    "colab": {
     "base_uri": "https://localhost:8080/"
    },
    "executionInfo": {
     "elapsed": 362007,
     "status": "ok",
     "timestamp": 1752232119844,
     "user": {
      "displayName": "Francesco Ricigliano",
      "userId": "07139234200501924124"
     },
     "user_tz": -120
    },
    "id": "0e2af804-fbd0-4698-90fc-49ec469a822e",
    "outputId": "f22564de-72f5-43de-938c-93042e70bfb8"
   },
   "outputs": [
    {
     "name": "stderr",
     "output_type": "stream",
     "text": [
      "Querying Bigdata...: 100%|██████████| 240/240 [00:56<00:00,  4.25it/s]\n",
      "Processing news results...: 100%|██████████| 2381/2381 [00:00<00:00, 18545.36it/s]\n",
      "Querying Bigdata...: 100%|██████████| 240/240 [00:55<00:00,  4.29it/s]\n",
      "Error in batch ['E44D28', '2667D0', '6602D1', '129F91', 'CEC128', '490456', '240587', 'CE679F', '4HRS13', '5Y1CUD', '1BC945', '29AE6B', 'FD891C', '498A73', '39692D', '71BCAA', '90F6EE', '335F91', '3BA7E5', '30371F', '5422B7', 'B514A1', '1F99E1', 'D98AC2', '2BC6B1', '6C78CE', '1C3BEB', '5554B2', 'F997BD', '441343', 'B4D1AB', 'I87C5U', 'E21FD5', '57E3C8', '2F382C', '6B0DC5', '7230DF', '1F26DA', 'C74288', 'CF9B6E', '85DA04', '3D27C2', 'WMG5LW', '4C9815', 'D82158', 'C70510', '228C67', 'DF61D2', 'FB0726', '699377']\n",
      "requests.exceptions.HTTPError: 542 Server Error:  for url: https://api.bigdata.com/cqs/by-ids\n",
      "Backend response: [VespaCodeErrorEntry(code=8, summary='Error in search reply.'), VespaCodeErrorEntry(code=12, summary='Timed out')].\n",
      "Retrying...\n",
      "Processing news results...: 100%|██████████| 2292/2292 [00:00<00:00, 18427.35it/s]\n",
      "Querying Bigdata...: 100%|██████████| 240/240 [00:47<00:00,  5.08it/s]\n",
      "Processing filings results...: 100%|██████████| 39/39 [00:00<00:00, 2198.36it/s]\n",
      "Querying Bigdata...: 100%|██████████| 240/240 [00:45<00:00,  5.32it/s]\n",
      "Processing filings results...: 100%|██████████| 25/25 [00:00<00:00, 8393.31it/s]\n",
      "Querying Bigdata...: 100%|██████████| 240/240 [00:44<00:00,  5.36it/s]\n",
      "Processing transcripts results...: 100%|██████████| 63/63 [00:00<00:00, 24030.66it/s]\n",
      "Querying Bigdata...: 100%|██████████| 240/240 [00:44<00:00,  5.34it/s]\n",
      "Processing transcripts results...: 100%|██████████| 34/34 [00:00<00:00, 21287.71it/s]\n"
     ]
    }
   ],
   "source": [
    "# Initialize empty lists to collect dataframes\n",
    "df_risk_list = []\n",
    "df_proactivity_list = []\n",
    "\n",
    "# Define the document types and limits\n",
    "doc_configs = [\n",
    "   (DocumentType.NEWS, document_limit_news, None),\n",
    "   (DocumentType.FILINGS, document_limit_filings, fiscal_year),\n",
    "   (DocumentType.TRANSCRIPTS, document_limit_transcripts, fiscal_year)\n",
    "]\n",
    "\n",
    "# Iterate through each document type configuration\n",
    "for doc_type, doc_limit, year in doc_configs:\n",
    "   if doc_limit > 0:\n",
    "       # Search for semantic risk sentences\n",
    "       df_sentences_semantic_risk_search = search_by_companies(\n",
    "           companies=companies,\n",
    "           keywords=keywords,\n",
    "           sentences=list_sentences_risks,\n",
    "           fiscal_year=year,\n",
    "           start_date=start_date,\n",
    "           end_date=end_date,\n",
    "           scope=doc_type,\n",
    "           freq=search_frequency,\n",
    "           document_limit=doc_limit,\n",
    "           batch_size=batch_size\n",
    "       )\n",
    "       df_risk_list.append(df_sentences_semantic_risk_search)\n",
    "\n",
    "       # Search for semantic proactivity sentences\n",
    "       df_sentences_semantic_proactivity_search = search_by_companies(\n",
    "           companies=companies,\n",
    "           keywords=keywords,\n",
    "           sentences=list_sentences_proactivity,\n",
    "           fiscal_year=year,\n",
    "           start_date=start_date,\n",
    "           end_date=end_date,\n",
    "           scope=doc_type,\n",
    "           freq=search_frequency,\n",
    "           document_limit=doc_limit,\n",
    "           batch_size=batch_size\n",
    "       )\n",
    "       df_proactivity_list.append(df_sentences_semantic_proactivity_search)\n",
    "\n",
    "# Combine all risk dataframes into a single dataset\n",
    "df_sentences_semantic_risk = pd.concat(df_risk_list, ignore_index=True)\n",
    "\n",
    "# Combine all proactivity dataframes into a single dataset\n",
    "df_sentences_semantic_proactivity = pd.concat(df_proactivity_list, ignore_index=True)"
   ]
  },
  {
   "cell_type": "code",
   "execution_count": 14,
   "id": "GpFWsrQBLtzm",
   "metadata": {
    "colab": {
     "base_uri": "https://localhost:8080/",
     "height": 459
    },
    "executionInfo": {
     "elapsed": 533,
     "status": "ok",
     "timestamp": 1752232132517,
     "user": {
      "displayName": "Francesco Ricigliano",
      "userId": "07139234200501924124"
     },
     "user_tz": -120
    },
    "id": "GpFWsrQBLtzm",
    "outputId": "369e0206-9075-4a26-8608-6a5481448a94"
   },
   "outputs": [
    {
     "data": {
      "text/html": [
       "<div>\n",
       "<style scoped>\n",
       "    .dataframe tbody tr th:only-of-type {\n",
       "        vertical-align: middle;\n",
       "    }\n",
       "\n",
       "    .dataframe tbody tr th {\n",
       "        vertical-align: top;\n",
       "    }\n",
       "\n",
       "    .dataframe thead th {\n",
       "        text-align: right;\n",
       "    }\n",
       "</style>\n",
       "<table border=\"1\" class=\"dataframe\">\n",
       "  <thead>\n",
       "    <tr style=\"text-align: right;\">\n",
       "      <th></th>\n",
       "      <th>timestamp_utc</th>\n",
       "      <th>document_id</th>\n",
       "      <th>sentence_id</th>\n",
       "      <th>headline</th>\n",
       "      <th>entity_id</th>\n",
       "      <th>document_type</th>\n",
       "      <th>is_reporting_entity</th>\n",
       "      <th>entity_name</th>\n",
       "      <th>entity_sector</th>\n",
       "      <th>entity_industry</th>\n",
       "      <th>entity_country</th>\n",
       "      <th>entity_ticker</th>\n",
       "      <th>text</th>\n",
       "      <th>other_entities</th>\n",
       "      <th>entities</th>\n",
       "      <th>masked_text</th>\n",
       "      <th>other_entities_map</th>\n",
       "    </tr>\n",
       "  </thead>\n",
       "  <tbody>\n",
       "    <tr>\n",
       "      <th>0</th>\n",
       "      <td>2025-01-01 17:17:25+00:00</td>\n",
       "      <td>1EE0BC9F88AB407368395D3EC5A080F2</td>\n",
       "      <td>1EE0BC9F88AB407368395D3EC5A080F2-12</td>\n",
       "      <td>Should You Buy This Artificial Intelligence (A...</td>\n",
       "      <td>365B30</td>\n",
       "      <td>news</td>\n",
       "      <td>False</td>\n",
       "      <td>C3.ai Inc.</td>\n",
       "      <td>Technology</td>\n",
       "      <td>Application Software</td>\n",
       "      <td>United States</td>\n",
       "      <td>AI</td>\n",
       "      <td>BBAI Revenue (TTM) data by YCharts All things ...</td>\n",
       "      <td>YCharts Inc., Palantir Technologies Inc., BigB...</td>\n",
       "      <td>[{'key': 'WE7TH5', 'name': 'YCharts Inc.', 'ti...</td>\n",
       "      <td>BBAI Revenue (TTM) data by Other Company_3 All...</td>\n",
       "      <td>[(1, Palantir Technologies Inc.), (2, BigBear....</td>\n",
       "    </tr>\n",
       "    <tr>\n",
       "      <th>1</th>\n",
       "      <td>2025-01-01 17:17:25+00:00</td>\n",
       "      <td>1EE0BC9F88AB407368395D3EC5A080F2</td>\n",
       "      <td>1EE0BC9F88AB407368395D3EC5A080F2-12</td>\n",
       "      <td>Should You Buy This Artificial Intelligence (A...</td>\n",
       "      <td>F1C69A</td>\n",
       "      <td>news</td>\n",
       "      <td>False</td>\n",
       "      <td>Palantir Technologies Inc.</td>\n",
       "      <td>Technology</td>\n",
       "      <td>Data Processing &amp; Outsourced Services</td>\n",
       "      <td>United States</td>\n",
       "      <td>PLTR</td>\n",
       "      <td>BBAI Revenue (TTM) data by YCharts All things ...</td>\n",
       "      <td>YCharts Inc., C3.ai Inc., BigBear.ai Holdings ...</td>\n",
       "      <td>[{'key': 'WE7TH5', 'name': 'YCharts Inc.', 'ti...</td>\n",
       "      <td>BBAI Revenue (TTM) data by Other Company_3 All...</td>\n",
       "      <td>[(4, C3.ai Inc.), (2, BigBear.ai Holdings Inc....</td>\n",
       "    </tr>\n",
       "    <tr>\n",
       "      <th>2</th>\n",
       "      <td>2025-01-01 17:17:25+00:00</td>\n",
       "      <td>1EE0BC9F88AB407368395D3EC5A080F2</td>\n",
       "      <td>1EE0BC9F88AB407368395D3EC5A080F2-7</td>\n",
       "      <td>Should You Buy This Artificial Intelligence (A...</td>\n",
       "      <td>F1C69A</td>\n",
       "      <td>news</td>\n",
       "      <td>False</td>\n",
       "      <td>Palantir Technologies Inc.</td>\n",
       "      <td>Technology</td>\n",
       "      <td>Data Processing &amp; Outsourced Services</td>\n",
       "      <td>United States</td>\n",
       "      <td>PLTR</td>\n",
       "      <td>Here's how BigBear.ai compares to its core com...</td>\n",
       "      <td>BigBear.ai Holdings Inc., BigBear.ai Holdings ...</td>\n",
       "      <td>[{'key': '9ED735', 'name': 'BigBear.ai Holding...</td>\n",
       "      <td>Here's how Other Company_2 compares to its cor...</td>\n",
       "      <td>[(2, BigBear.ai Holdings Inc.), (2, BigBear.ai...</td>\n",
       "    </tr>\n",
       "  </tbody>\n",
       "</table>\n",
       "</div>"
      ],
      "text/plain": [
       "              timestamp_utc                       document_id  \\\n",
       "0 2025-01-01 17:17:25+00:00  1EE0BC9F88AB407368395D3EC5A080F2   \n",
       "1 2025-01-01 17:17:25+00:00  1EE0BC9F88AB407368395D3EC5A080F2   \n",
       "2 2025-01-01 17:17:25+00:00  1EE0BC9F88AB407368395D3EC5A080F2   \n",
       "\n",
       "                           sentence_id  \\\n",
       "0  1EE0BC9F88AB407368395D3EC5A080F2-12   \n",
       "1  1EE0BC9F88AB407368395D3EC5A080F2-12   \n",
       "2   1EE0BC9F88AB407368395D3EC5A080F2-7   \n",
       "\n",
       "                                            headline entity_id document_type  \\\n",
       "0  Should You Buy This Artificial Intelligence (A...    365B30          news   \n",
       "1  Should You Buy This Artificial Intelligence (A...    F1C69A          news   \n",
       "2  Should You Buy This Artificial Intelligence (A...    F1C69A          news   \n",
       "\n",
       "   is_reporting_entity                 entity_name entity_sector  \\\n",
       "0                False                  C3.ai Inc.    Technology   \n",
       "1                False  Palantir Technologies Inc.    Technology   \n",
       "2                False  Palantir Technologies Inc.    Technology   \n",
       "\n",
       "                         entity_industry entity_country entity_ticker  \\\n",
       "0                   Application Software  United States            AI   \n",
       "1  Data Processing & Outsourced Services  United States          PLTR   \n",
       "2  Data Processing & Outsourced Services  United States          PLTR   \n",
       "\n",
       "                                                text  \\\n",
       "0  BBAI Revenue (TTM) data by YCharts All things ...   \n",
       "1  BBAI Revenue (TTM) data by YCharts All things ...   \n",
       "2  Here's how BigBear.ai compares to its core com...   \n",
       "\n",
       "                                      other_entities  \\\n",
       "0  YCharts Inc., Palantir Technologies Inc., BigB...   \n",
       "1  YCharts Inc., C3.ai Inc., BigBear.ai Holdings ...   \n",
       "2  BigBear.ai Holdings Inc., BigBear.ai Holdings ...   \n",
       "\n",
       "                                            entities  \\\n",
       "0  [{'key': 'WE7TH5', 'name': 'YCharts Inc.', 'ti...   \n",
       "1  [{'key': 'WE7TH5', 'name': 'YCharts Inc.', 'ti...   \n",
       "2  [{'key': '9ED735', 'name': 'BigBear.ai Holding...   \n",
       "\n",
       "                                         masked_text  \\\n",
       "0  BBAI Revenue (TTM) data by Other Company_3 All...   \n",
       "1  BBAI Revenue (TTM) data by Other Company_3 All...   \n",
       "2  Here's how Other Company_2 compares to its cor...   \n",
       "\n",
       "                                  other_entities_map  \n",
       "0  [(1, Palantir Technologies Inc.), (2, BigBear....  \n",
       "1  [(4, C3.ai Inc.), (2, BigBear.ai Holdings Inc....  \n",
       "2  [(2, BigBear.ai Holdings Inc.), (2, BigBear.ai...  "
      ]
     },
     "execution_count": 14,
     "metadata": {},
     "output_type": "execute_result"
    }
   ],
   "source": [
    "df_sentences_semantic_risk.head(3)"
   ]
  },
  {
   "cell_type": "code",
   "execution_count": 15,
   "id": "BcOB76Wffonj",
   "metadata": {
    "colab": {
     "base_uri": "https://localhost:8080/",
     "height": 424
    },
    "executionInfo": {
     "elapsed": 48,
     "status": "ok",
     "timestamp": 1752232132568,
     "user": {
      "displayName": "Francesco Ricigliano",
      "userId": "07139234200501924124"
     },
     "user_tz": -120
    },
    "id": "BcOB76Wffonj",
    "outputId": "b663fab4-c3f3-4cad-bdd5-7d0588eec09c"
   },
   "outputs": [
    {
     "data": {
      "text/html": [
       "<div>\n",
       "<style scoped>\n",
       "    .dataframe tbody tr th:only-of-type {\n",
       "        vertical-align: middle;\n",
       "    }\n",
       "\n",
       "    .dataframe tbody tr th {\n",
       "        vertical-align: top;\n",
       "    }\n",
       "\n",
       "    .dataframe thead th {\n",
       "        text-align: right;\n",
       "    }\n",
       "</style>\n",
       "<table border=\"1\" class=\"dataframe\">\n",
       "  <thead>\n",
       "    <tr style=\"text-align: right;\">\n",
       "      <th></th>\n",
       "      <th>timestamp_utc</th>\n",
       "      <th>document_id</th>\n",
       "      <th>sentence_id</th>\n",
       "      <th>headline</th>\n",
       "      <th>entity_id</th>\n",
       "      <th>document_type</th>\n",
       "      <th>is_reporting_entity</th>\n",
       "      <th>entity_name</th>\n",
       "      <th>entity_sector</th>\n",
       "      <th>entity_industry</th>\n",
       "      <th>entity_country</th>\n",
       "      <th>entity_ticker</th>\n",
       "      <th>text</th>\n",
       "      <th>other_entities</th>\n",
       "      <th>entities</th>\n",
       "      <th>masked_text</th>\n",
       "      <th>other_entities_map</th>\n",
       "    </tr>\n",
       "  </thead>\n",
       "  <tbody>\n",
       "    <tr>\n",
       "      <th>0</th>\n",
       "      <td>2025-01-01 09:15:43+00:00</td>\n",
       "      <td>17C9BCDB3DECE17E11EAEA8B3E91F7C3</td>\n",
       "      <td>17C9BCDB3DECE17E11EAEA8B3E91F7C3-5</td>\n",
       "      <td>Nvidia, Google and the Hardware Revolution Beh...</td>\n",
       "      <td>F1C69A</td>\n",
       "      <td>news</td>\n",
       "      <td>False</td>\n",
       "      <td>Palantir Technologies Inc.</td>\n",
       "      <td>Technology</td>\n",
       "      <td>Data Processing &amp; Outsourced Services</td>\n",
       "      <td>United States</td>\n",
       "      <td>PLTR</td>\n",
       "      <td>AI Moves From Lab to Market The AI wave reache...</td>\n",
       "      <td>Anduril Industries Inc.</td>\n",
       "      <td>[{'key': 'F1C69A', 'name': 'Palantir Technolog...</td>\n",
       "      <td>AI Moves From Lab to Market The AI wave reache...</td>\n",
       "      <td>[(1, Anduril Industries Inc.)]</td>\n",
       "    </tr>\n",
       "    <tr>\n",
       "      <th>1</th>\n",
       "      <td>2025-01-02 14:10:01+00:00</td>\n",
       "      <td>8D3ADE495C8B8C7DC5A85EE8CD19B427</td>\n",
       "      <td>8D3ADE495C8B8C7DC5A85EE8CD19B427-1</td>\n",
       "      <td>SoundHound AI and Lucid Motors Bring In-Vehicl...</td>\n",
       "      <td>D957DE</td>\n",
       "      <td>news</td>\n",
       "      <td>False</td>\n",
       "      <td>SoundHound AI Inc.</td>\n",
       "      <td>Technology</td>\n",
       "      <td>Software</td>\n",
       "      <td>United States</td>\n",
       "      <td>SOUN</td>\n",
       "      <td>SoundHound AI, Inc. (NASDAQ: SOUN), a global l...</td>\n",
       "      <td>Lucid Motors Inc., Lucid Motors Inc., Lucid Mo...</td>\n",
       "      <td>[{'key': '516EF4', 'name': 'Lucid Motors Inc.'...</td>\n",
       "      <td>Target Company, a global leader in voice artif...</td>\n",
       "      <td>[(2, Lucid Motors Inc.), (2, Lucid Motors Inc....</td>\n",
       "    </tr>\n",
       "    <tr>\n",
       "      <th>2</th>\n",
       "      <td>2025-01-02 14:27:52+00:00</td>\n",
       "      <td>BED9F5F034165982A29D0D22A6FF39B1</td>\n",
       "      <td>BED9F5F034165982A29D0D22A6FF39B1-6</td>\n",
       "      <td>'Hey Lucid': SoundHound AI Powers Next-Gen Voi...</td>\n",
       "      <td>D957DE</td>\n",
       "      <td>news</td>\n",
       "      <td>False</td>\n",
       "      <td>SoundHound AI Inc.</td>\n",
       "      <td>Technology</td>\n",
       "      <td>Software</td>\n",
       "      <td>United States</td>\n",
       "      <td>SOUN</td>\n",
       "      <td>\"In combination with Lucid's frequent over-the...</td>\n",
       "      <td>Lucid Group Inc., Lucid Group Inc., Lucid Grou...</td>\n",
       "      <td>[{'key': 'BD3834', 'name': 'Lucid Group Inc.',...</td>\n",
       "      <td>\"In combination with Other Company_3's frequen...</td>\n",
       "      <td>[(3, Lucid Group Inc.), (3, Lucid Group Inc.),...</td>\n",
       "    </tr>\n",
       "  </tbody>\n",
       "</table>\n",
       "</div>"
      ],
      "text/plain": [
       "              timestamp_utc                       document_id  \\\n",
       "0 2025-01-01 09:15:43+00:00  17C9BCDB3DECE17E11EAEA8B3E91F7C3   \n",
       "1 2025-01-02 14:10:01+00:00  8D3ADE495C8B8C7DC5A85EE8CD19B427   \n",
       "2 2025-01-02 14:27:52+00:00  BED9F5F034165982A29D0D22A6FF39B1   \n",
       "\n",
       "                          sentence_id  \\\n",
       "0  17C9BCDB3DECE17E11EAEA8B3E91F7C3-5   \n",
       "1  8D3ADE495C8B8C7DC5A85EE8CD19B427-1   \n",
       "2  BED9F5F034165982A29D0D22A6FF39B1-6   \n",
       "\n",
       "                                            headline entity_id document_type  \\\n",
       "0  Nvidia, Google and the Hardware Revolution Beh...    F1C69A          news   \n",
       "1  SoundHound AI and Lucid Motors Bring In-Vehicl...    D957DE          news   \n",
       "2  'Hey Lucid': SoundHound AI Powers Next-Gen Voi...    D957DE          news   \n",
       "\n",
       "   is_reporting_entity                 entity_name entity_sector  \\\n",
       "0                False  Palantir Technologies Inc.    Technology   \n",
       "1                False          SoundHound AI Inc.    Technology   \n",
       "2                False          SoundHound AI Inc.    Technology   \n",
       "\n",
       "                         entity_industry entity_country entity_ticker  \\\n",
       "0  Data Processing & Outsourced Services  United States          PLTR   \n",
       "1                               Software  United States          SOUN   \n",
       "2                               Software  United States          SOUN   \n",
       "\n",
       "                                                text  \\\n",
       "0  AI Moves From Lab to Market The AI wave reache...   \n",
       "1  SoundHound AI, Inc. (NASDAQ: SOUN), a global l...   \n",
       "2  \"In combination with Lucid's frequent over-the...   \n",
       "\n",
       "                                      other_entities  \\\n",
       "0                            Anduril Industries Inc.   \n",
       "1  Lucid Motors Inc., Lucid Motors Inc., Lucid Mo...   \n",
       "2  Lucid Group Inc., Lucid Group Inc., Lucid Grou...   \n",
       "\n",
       "                                            entities  \\\n",
       "0  [{'key': 'F1C69A', 'name': 'Palantir Technolog...   \n",
       "1  [{'key': '516EF4', 'name': 'Lucid Motors Inc.'...   \n",
       "2  [{'key': 'BD3834', 'name': 'Lucid Group Inc.',...   \n",
       "\n",
       "                                         masked_text  \\\n",
       "0  AI Moves From Lab to Market The AI wave reache...   \n",
       "1  Target Company, a global leader in voice artif...   \n",
       "2  \"In combination with Other Company_3's frequen...   \n",
       "\n",
       "                                  other_entities_map  \n",
       "0                     [(1, Anduril Industries Inc.)]  \n",
       "1  [(2, Lucid Motors Inc.), (2, Lucid Motors Inc....  \n",
       "2  [(3, Lucid Group Inc.), (3, Lucid Group Inc.),...  "
      ]
     },
     "execution_count": 15,
     "metadata": {},
     "output_type": "execute_result"
    }
   ],
   "source": [
    "df_sentences_semantic_proactivity.head(3)"
   ]
  },
  {
   "cell_type": "markdown",
   "id": "2b52648d-f0e7-48e3-9a58-64728399db44",
   "metadata": {
    "id": "2b52648d-f0e7-48e3-9a58-64728399db44"
   },
   "source": [
    "### Label the Results\n",
    "\n",
    "Use an LLM to analyze each document chunk and determine its relevance to the main theme. Any document chunks which aren't explicitly linked to AI Disruption Risk will be filtered out.\n"
   ]
  },
  {
   "cell_type": "code",
   "execution_count": 16,
   "id": "c8503096-ad53-48e6-ab4b-9cad266b0cfc",
   "metadata": {
    "colab": {
     "base_uri": "https://localhost:8080/"
    },
    "executionInfo": {
     "elapsed": 298734,
     "status": "ok",
     "timestamp": 1752232432223,
     "user": {
      "displayName": "Francesco Ricigliano",
      "userId": "07139234200501924124"
     },
     "user_tz": -120
    },
    "id": "c8503096-ad53-48e6-ab4b-9cad266b0cfc",
    "outputId": "29e7bfd3-cc10-4a94-921a-ce42d131be2b"
   },
   "outputs": [
    {
     "name": "stderr",
     "output_type": "stream",
     "text": [
      "Querying OpenAI...: 100%|██████████| 4119/4119 [03:33<00:00, 19.28it/s]\n",
      "Querying OpenAI...: 100%|██████████| 2328/2328 [03:00<00:00, 12.88it/s]\n"
     ]
    }
   ],
   "source": [
    "labeler = ScreenerLabeler(llm_model=llm_model)\n",
    "\n",
    "df_risk_labels = labeler.get_labels(\n",
    "                main_theme=main_theme_risk,\n",
    "                labels=['risk'],\n",
    "                texts=df_sentences_semantic_risk[\"masked_text\"].tolist()\n",
    "            )\n",
    "\n",
    "# Merge the datasets\n",
    "df_risk_labeled = pd.merge(df_sentences_semantic_risk, df_risk_labels, left_index=True, right_index=True)\n",
    "\n",
    "df_proactivity_labels = labeler.get_labels(\n",
    "                main_theme=main_theme_proactivity,\n",
    "                labels=['proactivity'],\n",
    "                texts=df_sentences_semantic_proactivity[\"masked_text\"].tolist()\n",
    "            )\n",
    "\n",
    "# Merge the datasets\n",
    "df_proactivity_labeled = pd.merge(df_sentences_semantic_proactivity, df_proactivity_labels, left_index=True, right_index=True)\n",
    "\n",
    "\n",
    "# Process the results\n",
    "df_risk_labeled_relevant = df_risk_labeled.loc[~df_risk_labeled.label.isin(['', 'unassigned', 'unclear'])].copy()\n",
    "df_proactivity_labeled_relevant = df_proactivity_labeled.loc[~df_proactivity_labeled.label.isin(['', 'unassigned', 'unclear'])].copy()"
   ]
  },
  {
   "cell_type": "markdown",
   "id": "6820969b",
   "metadata": {
    "id": "6820969b"
   },
   "source": [
    "### Document Distribution Visualization\n",
    "\n",
    "You can visualize the tables showing the count of different document types for each company in the given universe. This helps you understand the distribution and availability of information across different sources for each entity.\n"
   ]
  },
  {
   "cell_type": "code",
   "execution_count": 17,
   "id": "-CQWekHcFF37",
   "metadata": {
    "colab": {
     "base_uri": "https://localhost:8080/",
     "height": 807
    },
    "executionInfo": {
     "elapsed": 632,
     "status": "ok",
     "timestamp": 1752232432857,
     "user": {
      "displayName": "Francesco Ricigliano",
      "userId": "07139234200501924124"
     },
     "user_tz": -120
    },
    "id": "-CQWekHcFF37",
    "outputId": "5b7e6cea-c7a8-4504-a8eb-3b1401c15ffc"
   },
   "outputs": [
    {
     "data": {
      "image/png": "[encoded data removed]",
      "text/plain": [
       "<Figure size 1200x800 with 1 Axes>"
      ]
     },
     "metadata": {},
     "output_type": "display_data"
    }
   ],
   "source": [
    "create_styled_table(df_risk_labeled_relevant, title='Relevant Document Count for AI Disruption Risk by Company and Document Type', companies_list = company_names)"
   ]
  },
  {
   "cell_type": "code",
   "execution_count": 18,
   "id": "2iQtwYb69ZQS",
   "metadata": {
    "colab": {
     "base_uri": "https://localhost:8080/",
     "height": 807
    },
    "executionInfo": {
     "elapsed": 174,
     "status": "ok",
     "timestamp": 1752232433033,
     "user": {
      "displayName": "Francesco Ricigliano",
      "userId": "07139234200501924124"
     },
     "user_tz": -120
    },
    "id": "2iQtwYb69ZQS",
    "outputId": "4402c335-2c0e-445d-a2e4-8e1c105f7b85"
   },
   "outputs": [
    {
     "data": {
      "image/png": "[encoded data removed]",
      "text/plain": [
       "<Figure size 1200x800 with 1 Axes>"
      ]
     },
     "metadata": {},
     "output_type": "display_data"
    }
   ],
   "source": [
    "create_styled_table(df_proactivity_labeled_relevant, title='Relevant Document Count for AI Proactivity by Company and Document Type', companies_list = company_names)"
   ]
  },
  {
   "cell_type": "markdown",
   "id": "3RlvBBGbi45t",
   "metadata": {
    "id": "3RlvBBGbi45t"
   },
   "source": [
    "### Summarizer\n",
    "\n",
    "The following code is used to create a summary for each company using the information from the retrieved documents.\n",
    "\n"
   ]
  },
  {
   "cell_type": "code",
   "execution_count": 19,
   "id": "KJ2M_-ZC9XW_",
   "metadata": {
    "executionInfo": {
     "elapsed": 1525,
     "status": "ok",
     "timestamp": 1752232434560,
     "user": {
      "displayName": "Francesco Ricigliano",
      "userId": "07139234200501924124"
     },
     "user_tz": -120
    },
    "id": "KJ2M_-ZC9XW_"
   },
   "outputs": [],
   "source": [
    "summarizer_company = SummarizerCompany(\n",
    "    model=llm_model.split('::')[1],\n",
    "    api_key=OPENAI_API_KEY,\n",
    "    logger= GenerateReport.logger,\n",
    "    verbose=True\n",
    ")"
   ]
  },
  {
   "cell_type": "code",
   "execution_count": 20,
   "id": "oXPjSph9-Whr",
   "metadata": {
    "colab": {
     "base_uri": "https://localhost:8080/"
    },
    "executionInfo": {
     "elapsed": 15263,
     "status": "ok",
     "timestamp": 1752232449825,
     "user": {
      "displayName": "Francesco Ricigliano",
      "userId": "07139234200501924124"
     },
     "user_tz": -120
    },
    "id": "oXPjSph9-Whr",
    "outputId": "79132d30-bd41-4588-dedf-86f070a35e6a"
   },
   "outputs": [
    {
     "name": "stderr",
     "output_type": "stream",
     "text": [
      "2025-07-14 14:42:30,362 - INFO - Preparing topics from the labeled DataFrame\n",
      "2025-07-14 14:42:30,364 - INFO - Starting processing for 12 tasks...\n",
      "2025-07-14 14:42:40,404 - INFO - Preparing topics from the labeled DataFrame\n",
      "2025-07-14 14:42:40,408 - INFO - Starting processing for 12 tasks...\n"
     ]
    }
   ],
   "source": [
    "df_risk_by_company = asyncio.run(\n",
    "            summarizer_company.process_by_company(\n",
    "                df_labeled=df_risk_labeled_relevant,\n",
    "                list_entities=companies,\n",
    "                theme=main_theme_risk,\n",
    "                focus='risk'\n",
    "            ))\n",
    "\n",
    "df_proactivity_by_company = asyncio.run(\n",
    "            summarizer_company.process_by_company(\n",
    "                df_labeled=df_proactivity_labeled_relevant,\n",
    "                list_entities=companies,\n",
    "                theme=main_theme_proactivity,\n",
    "                focus=''\n",
    "            )\n",
    "        )"
   ]
  },
  {
   "cell_type": "markdown",
   "id": "c-V15NUbXzAC",
   "metadata": {
    "id": "c-V15NUbXzAC"
   },
   "source": [
    "### Getting the Scores\n",
    "\n"
   ]
  },
  {
   "cell_type": "markdown",
   "id": "VQKoMMR6Xjf2",
   "metadata": {
    "id": "VQKoMMR6Xjf2"
   },
   "source": [
    "Processing the datasets and computing the **AI Disruption Risk Score** and **AI Proactivity Score**.\n",
    "\n"
   ]
  },
  {
   "cell_type": "code",
   "execution_count": 21,
   "id": "iKKB8XyqXi3u",
   "metadata": {
    "executionInfo": {
     "elapsed": 4,
     "status": "ok",
     "timestamp": 1752232449825,
     "user": {
      "displayName": "Francesco Ricigliano",
      "userId": "07139234200501924124"
     },
     "user_tz": -120
    },
    "id": "iKKB8XyqXi3u"
   },
   "outputs": [],
   "source": [
    "dfr = df_risk_by_company[['entity_id', 'entity_name', 'topic_summary', 'n_documents']].copy()\n",
    "dfr = dfr.rename(columns={'topic_summary': 'risk_summary', 'n_documents': 'n_documents_risk'})\n",
    "dfp = df_proactivity_by_company[['entity_id', 'entity_name', 'topic_summary', 'n_documents']].copy()\n",
    "dfp = dfp.rename(columns={'topic_summary': 'proactivity_summary', 'n_documents': 'n_documents_proactivity'})\n",
    "df_by_company = dfr.merge(dfp, on=['entity_id', 'entity_name'], how='outer')\n",
    "\n",
    "df_by_company['n_documents_risk'] = df_by_company['n_documents_risk'].fillna(0)\n",
    "df_by_company['n_documents_proactivity'] = df_by_company['n_documents_proactivity'].fillna(0)\n",
    "df_by_company['ai_disruption_risk_score'] = df_by_company['n_documents_risk']/df_by_company['n_documents_risk'].mean()\n",
    "df_by_company['ai_proactivity_score'] = df_by_company['n_documents_proactivity']/df_by_company['n_documents_proactivity'].mean()\n",
    "df_by_company['ai_proactivity_minus_disruption_risk_score'] = df_by_company['ai_proactivity_score'] - df_by_company['ai_disruption_risk_score']"
   ]
  },
  {
   "cell_type": "markdown",
   "id": "c2256e1a",
   "metadata": {
    "id": "c2256e1a"
   },
   "source": [
    "### Final Dataset\n",
    "\n",
    "The final dataset for the report is generated by processing and merging the risk and proactivity datasets."
   ]
  },
  {
   "cell_type": "code",
   "execution_count": 22,
   "id": "9KWmxMnz9XUh",
   "metadata": {
    "executionInfo": {
     "elapsed": 90,
     "status": "ok",
     "timestamp": 1752232449914,
     "user": {
      "displayName": "Francesco Ricigliano",
      "userId": "07139234200501924124"
     },
     "user_tz": -120
    },
    "id": "9KWmxMnz9XUh"
   },
   "outputs": [],
   "source": [
    "df_quotes_risk = GenerateReport.aggregate_verbatim(df_risk_labeled_relevant, 'risk')\n",
    "df_by_company = pd.merge(df_by_company, df_quotes_risk, how='left', on='entity_name')\n",
    "df_quotes_proactivity = GenerateReport.aggregate_verbatim(df_proactivity_labeled_relevant, 'proactivity')\n",
    "df_report = pd.merge(df_by_company, df_quotes_proactivity, how='left', on='entity_name')"
   ]
  },
  {
   "cell_type": "code",
   "execution_count": 23,
   "id": "dWL-nH_y_0it",
   "metadata": {
    "colab": {
     "base_uri": "https://localhost:8080/",
     "height": 574
    },
    "executionInfo": {
     "elapsed": 561,
     "status": "ok",
     "timestamp": 1752232450436,
     "user": {
      "displayName": "Francesco Ricigliano",
      "userId": "07139234200501924124"
     },
     "user_tz": -120
    },
    "id": "dWL-nH_y_0it",
    "outputId": "f75dd025-f2de-4716-b3b2-19d072028022"
   },
   "outputs": [
    {
     "data": {
      "text/html": [
       "<div>\n",
       "<style scoped>\n",
       "    .dataframe tbody tr th:only-of-type {\n",
       "        vertical-align: middle;\n",
       "    }\n",
       "\n",
       "    .dataframe tbody tr th {\n",
       "        vertical-align: top;\n",
       "    }\n",
       "\n",
       "    .dataframe thead th {\n",
       "        text-align: right;\n",
       "    }\n",
       "</style>\n",
       "<table border=\"1\" class=\"dataframe\">\n",
       "  <thead>\n",
       "    <tr style=\"text-align: right;\">\n",
       "      <th></th>\n",
       "      <th>entity_id</th>\n",
       "      <th>entity_name</th>\n",
       "      <th>risk_summary</th>\n",
       "      <th>n_documents_risk</th>\n",
       "      <th>proactivity_summary</th>\n",
       "      <th>n_documents_proactivity</th>\n",
       "      <th>ai_disruption_risk_score</th>\n",
       "      <th>ai_proactivity_score</th>\n",
       "      <th>ai_proactivity_minus_disruption_risk_score</th>\n",
       "      <th>document_ids_risk</th>\n",
       "      <th>quotes_risk</th>\n",
       "      <th>document_ids_proactivity</th>\n",
       "      <th>quotes_proactivity</th>\n",
       "    </tr>\n",
       "  </thead>\n",
       "  <tbody>\n",
       "    <tr>\n",
       "      <th>0</th>\n",
       "      <td>09DE1F</td>\n",
       "      <td>Broadcom Inc.</td>\n",
       "      <td>Broadcom Inc. faces significant risks related ...</td>\n",
       "      <td>20</td>\n",
       "      <td>Broadcom Inc. is strategically enhancing its p...</td>\n",
       "      <td>14</td>\n",
       "      <td>0.567376</td>\n",
       "      <td>0.378378</td>\n",
       "      <td>-0.188998</td>\n",
       "      <td>04455531162DD3652AD9B32A76189C53 \\n\\n 04455531...</td>\n",
       "      <td>--- Quote Start ---\\n\\n Headline: Broadcom's S...</td>\n",
       "      <td>BD832690FA171DF227E4A0F662158C54 \\n\\n 855E90E5...</td>\n",
       "      <td>--- Quote Start ---\\n\\n Headline: NVIDIA Faces...</td>\n",
       "    </tr>\n",
       "    <tr>\n",
       "      <th>1</th>\n",
       "      <td>12E454</td>\n",
       "      <td>Meta Platforms Inc.</td>\n",
       "      <td>Meta Platforms Inc. faces significant risks re...</td>\n",
       "      <td>36</td>\n",
       "      <td>Meta Platforms Inc. has made significant strid...</td>\n",
       "      <td>16</td>\n",
       "      <td>1.021277</td>\n",
       "      <td>0.432432</td>\n",
       "      <td>-0.588844</td>\n",
       "      <td>D94DAB37058831C01598A174B4D30B70 \\n\\n 5FFCC23F...</td>\n",
       "      <td>--- Quote Start ---\\n\\n Headline: The fight fo...</td>\n",
       "      <td>89A4AFE40DEDA67E41B7246FF2558EF6 \\n\\n 89A4AFE4...</td>\n",
       "      <td>--- Quote Start ---\\n\\n Headline: Meta Joins D...</td>\n",
       "    </tr>\n",
       "    <tr>\n",
       "      <th>2</th>\n",
       "      <td>228D42</td>\n",
       "      <td>Microsoft Corp.</td>\n",
       "      <td>Microsoft Corp. faces significant risks relate...</td>\n",
       "      <td>81</td>\n",
       "      <td>Microsoft Corp. is actively integrating Genera...</td>\n",
       "      <td>58</td>\n",
       "      <td>2.297872</td>\n",
       "      <td>1.567568</td>\n",
       "      <td>-0.730305</td>\n",
       "      <td>D94DAB37058831C01598A174B4D30B70 \\n\\n 5FFCC23F...</td>\n",
       "      <td>--- Quote Start ---\\n\\n Headline: The fight fo...</td>\n",
       "      <td>49B9C32D0CAA052A05F1BA79CEBB2111 \\n\\n 90BAF917...</td>\n",
       "      <td>--- Quote Start ---\\n\\n Headline: DEWA Unveils...</td>\n",
       "    </tr>\n",
       "    <tr>\n",
       "      <th>3</th>\n",
       "      <td>365B30</td>\n",
       "      <td>C3.ai Inc.</td>\n",
       "      <td>C3.ai Inc. faces significant risks related to ...</td>\n",
       "      <td>14</td>\n",
       "      <td>C3.ai Inc. has significantly expanded its part...</td>\n",
       "      <td>34</td>\n",
       "      <td>0.397163</td>\n",
       "      <td>0.918919</td>\n",
       "      <td>0.521756</td>\n",
       "      <td>B6A07741D845537A8AA601BF52D6C534 \\n\\n 0965E23E...</td>\n",
       "      <td>--- Quote Start ---\\n\\n Headline: C3 AI and Mc...</td>\n",
       "      <td>70DAE658564E11E8917C59087E5ED6CD \\n\\n CCE8EF98...</td>\n",
       "      <td>--- Quote Start ---\\n\\n Headline: C3.ai CEO Th...</td>\n",
       "    </tr>\n",
       "    <tr>\n",
       "      <th>4</th>\n",
       "      <td>4A6F00</td>\n",
       "      <td>Alphabet Inc.</td>\n",
       "      <td>Alphabet Inc. faces significant risks related ...</td>\n",
       "      <td>41</td>\n",
       "      <td>Alphabet Inc. is actively enhancing its Genera...</td>\n",
       "      <td>53</td>\n",
       "      <td>1.163121</td>\n",
       "      <td>1.432432</td>\n",
       "      <td>0.269312</td>\n",
       "      <td>D94DAB37058831C01598A174B4D30B70 \\n\\n D94DAB37...</td>\n",
       "      <td>--- Quote Start ---\\n\\n Headline: The fight fo...</td>\n",
       "      <td>A5FA90201F429133D2CD75577519FD9D \\n\\n 34B21F63...</td>\n",
       "      <td>--- Quote Start ---\\n\\n Headline: EPAM Expands...</td>\n",
       "    </tr>\n",
       "  </tbody>\n",
       "</table>\n",
       "</div>"
      ],
      "text/plain": [
       "  entity_id          entity_name  \\\n",
       "0    09DE1F        Broadcom Inc.   \n",
       "1    12E454  Meta Platforms Inc.   \n",
       "2    228D42      Microsoft Corp.   \n",
       "3    365B30           C3.ai Inc.   \n",
       "4    4A6F00        Alphabet Inc.   \n",
       "\n",
       "                                        risk_summary  n_documents_risk  \\\n",
       "0  Broadcom Inc. faces significant risks related ...                20   \n",
       "1  Meta Platforms Inc. faces significant risks re...                36   \n",
       "2  Microsoft Corp. faces significant risks relate...                81   \n",
       "3  C3.ai Inc. faces significant risks related to ...                14   \n",
       "4  Alphabet Inc. faces significant risks related ...                41   \n",
       "\n",
       "                                 proactivity_summary  n_documents_proactivity  \\\n",
       "0  Broadcom Inc. is strategically enhancing its p...                       14   \n",
       "1  Meta Platforms Inc. has made significant strid...                       16   \n",
       "2  Microsoft Corp. is actively integrating Genera...                       58   \n",
       "3  C3.ai Inc. has significantly expanded its part...                       34   \n",
       "4  Alphabet Inc. is actively enhancing its Genera...                       53   \n",
       "\n",
       "   ai_disruption_risk_score  ai_proactivity_score  \\\n",
       "0                  0.567376              0.378378   \n",
       "1                  1.021277              0.432432   \n",
       "2                  2.297872              1.567568   \n",
       "3                  0.397163              0.918919   \n",
       "4                  1.163121              1.432432   \n",
       "\n",
       "   ai_proactivity_minus_disruption_risk_score  \\\n",
       "0                                   -0.188998   \n",
       "1                                   -0.588844   \n",
       "2                                   -0.730305   \n",
       "3                                    0.521756   \n",
       "4                                    0.269312   \n",
       "\n",
       "                                   document_ids_risk  \\\n",
       "0  04455531162DD3652AD9B32A76189C53 \\n\\n 04455531...   \n",
       "1  D94DAB37058831C01598A174B4D30B70 \\n\\n 5FFCC23F...   \n",
       "2  D94DAB37058831C01598A174B4D30B70 \\n\\n 5FFCC23F...   \n",
       "3  B6A07741D845537A8AA601BF52D6C534 \\n\\n 0965E23E...   \n",
       "4  D94DAB37058831C01598A174B4D30B70 \\n\\n D94DAB37...   \n",
       "\n",
       "                                         quotes_risk  \\\n",
       "0  --- Quote Start ---\\n\\n Headline: Broadcom's S...   \n",
       "1  --- Quote Start ---\\n\\n Headline: The fight fo...   \n",
       "2  --- Quote Start ---\\n\\n Headline: The fight fo...   \n",
       "3  --- Quote Start ---\\n\\n Headline: C3 AI and Mc...   \n",
       "4  --- Quote Start ---\\n\\n Headline: The fight fo...   \n",
       "\n",
       "                            document_ids_proactivity  \\\n",
       "0  BD832690FA171DF227E4A0F662158C54 \\n\\n 855E90E5...   \n",
       "1  89A4AFE40DEDA67E41B7246FF2558EF6 \\n\\n 89A4AFE4...   \n",
       "2  49B9C32D0CAA052A05F1BA79CEBB2111 \\n\\n 90BAF917...   \n",
       "3  70DAE658564E11E8917C59087E5ED6CD \\n\\n CCE8EF98...   \n",
       "4  A5FA90201F429133D2CD75577519FD9D \\n\\n 34B21F63...   \n",
       "\n",
       "                                  quotes_proactivity  \n",
       "0  --- Quote Start ---\\n\\n Headline: NVIDIA Faces...  \n",
       "1  --- Quote Start ---\\n\\n Headline: Meta Joins D...  \n",
       "2  --- Quote Start ---\\n\\n Headline: DEWA Unveils...  \n",
       "3  --- Quote Start ---\\n\\n Headline: C3.ai CEO Th...  \n",
       "4  --- Quote Start ---\\n\\n Headline: EPAM Expands...  "
      ]
     },
     "execution_count": 23,
     "metadata": {},
     "output_type": "execute_result"
    }
   ],
   "source": [
    "df_report.head()"
   ]
  },
  {
   "cell_type": "markdown",
   "id": "-nXf6XC1tIMO",
   "metadata": {
    "id": "-nXf6XC1tIMO"
   },
   "source": [
    "## Direct method"
   ]
  },
  {
   "cell_type": "markdown",
   "id": "PQwSsYxomXuM",
   "metadata": {
    "id": "PQwSsYxomXuM"
   },
   "source": [
    "\n",
    "\n",
    "Once the class `GenerateReport` is initialized you can just run the method `generate_report()` to get the final output and then you can run the functions to visualize the results and to generate the report.\n",
    "\n",
    "For practical reasons you can also choose to import and/or export the intermediate outputs to/from a specific directory:\n",
    "\n",
    "\n",
    "\n",
    "*   **import_from_path**: File path from where the intermediate outputs will be loaded\n",
    "*   **export_to_path**: File path where the intermediate outputs will be saved\n",
    "\n",
    "\n",
    "\n",
    "\n",
    "To run the direct method uncomment the variable `DIRECT_METHOD`\n",
    "\n",
    "To export the intermediate results / final outputs uncomment the variable `EXPORT_RESULTS`"
   ]
  },
  {
   "cell_type": "code",
   "execution_count": 24,
   "id": "F_BnthUaZENg",
   "metadata": {
    "colab": {
     "base_uri": "https://localhost:8080/"
    },
    "executionInfo": {
     "elapsed": 492464,
     "status": "ok",
     "timestamp": 1752237054014,
     "user": {
      "displayName": "Francesco Ricigliano",
      "userId": "07139234200501924124"
     },
     "user_tz": -120
    },
    "id": "F_BnthUaZENg",
    "outputId": "81917010-511b-4728-d080-1a544f430bf1"
   },
   "outputs": [],
   "source": [
    "# Uncomment the flag DIRECT_METHOD to run the workflow\n",
    "#DIRECT_METHOD_FLAG = True\n",
    "#EXPORT_RESULTS_FLAG = True\n",
    "\n",
    "if 'DIRECT_METHOD_FLAG' in globals() and DIRECT_METHOD_FLAG:\n",
    "  if 'EXPORT_RESULTS_FLAG' in globals() and EXPORT_RESULTS_FLAG:\n",
    "    report = report_generator.generate_report(import_from_path=output_dir, export_to_path=output_dir)\n",
    "  else:\n",
    "    report = report_generator.generate_report()\n",
    "  df_report = report.report_by_company\n",
    "  df_report.head(5)"
   ]
  },
  {
   "cell_type": "markdown",
   "id": "HNtAn0VKMbVi",
   "metadata": {
    "id": "HNtAn0VKMbVi"
   },
   "source": [
    "## Results Visualization\n"
   ]
  },
  {
   "cell_type": "markdown",
   "id": "AGSD_tZeaGyo",
   "metadata": {
    "id": "AGSD_tZeaGyo"
   },
   "source": [
    "This is to visualize the values for each of the companies"
   ]
  },
  {
   "cell_type": "code",
   "execution_count": 25,
   "id": "f2f77fLMkMIK",
   "metadata": {
    "colab": {
     "base_uri": "https://localhost:8080/",
     "height": 718
    },
    "executionInfo": {
     "elapsed": 289,
     "status": "ok",
     "timestamp": 1752239616081,
     "user": {
      "displayName": "Francesco Ricigliano",
      "userId": "07139234200501924124"
     },
     "user_tz": -120
    },
    "id": "f2f77fLMkMIK",
    "outputId": "60fbb7fc-c5af-491e-e289-002eeaa3c010"
   },
   "outputs": [
    {
     "data": {
      "image/png": "[encoded data removed]",
      "text/plain": [
       "<Figure size 1000x800 with 1 Axes>"
      ]
     },
     "metadata": {},
     "output_type": "display_data"
    }
   ],
   "source": [
    "plot_company_scores(df_report, 'ai_disruption_risk_score', 'ai_proactivity_score', 'AI Narrative Signals')"
   ]
  },
  {
   "cell_type": "code",
   "execution_count": 26,
   "id": "HezNHNyTkOkr",
   "metadata": {
    "colab": {
     "base_uri": "https://localhost:8080/",
     "height": 718
    },
    "executionInfo": {
     "elapsed": 109,
     "status": "ok",
     "timestamp": 1752239618070,
     "user": {
      "displayName": "Francesco Ricigliano",
      "userId": "07139234200501924124"
     },
     "user_tz": -120
    },
    "id": "HezNHNyTkOkr",
    "outputId": "0f322e3f-32b9-4658-d893-27bf1e885b08"
   },
   "outputs": [
    {
     "data": {
      "image/png": "[encoded data removed]",
      "text/plain": [
       "<Figure size 1000x800 with 1 Axes>"
      ]
     },
     "metadata": {},
     "output_type": "display_data"
    }
   ],
   "source": [
    "plot_company_scores_log_log(df_report, 'ai_disruption_risk_score', 'ai_proactivity_score', 'AI Narrative Signals')"
   ]
  },
  {
   "cell_type": "markdown",
   "id": "rsNV3WXfQtDs",
   "metadata": {
    "id": "rsNV3WXfQtDs"
   },
   "source": [
    "## Generate Final Report\n",
    "\n",
    "The final report will be saved as a html file in the folder `export_path`"
   ]
  },
  {
   "cell_type": "code",
   "execution_count": 27,
   "id": "O35lKKyVlohF",
   "metadata": {
    "colab": {
     "base_uri": "https://localhost:8080/",
     "height": 1000
    },
    "executionInfo": {
     "elapsed": 1380,
     "status": "ok",
     "timestamp": 1752239621262,
     "user": {
      "displayName": "Francesco Ricigliano",
      "userId": "07139234200501924124"
     },
     "user_tz": -120
    },
    "id": "O35lKKyVlohF",
    "outputId": "493f1472-c230-4835-f472-27936b431ece"
   },
   "outputs": [
    {
     "data": {
      "text/html": [
       "\n",
       "    <!DOCTYPE html>\n",
       "    <html lang=\"en\">\n",
       "    <head>\n",
       "        <meta charset=\"UTF-8\">\n",
       "        <meta name=\"viewport\" content=\"width=device-width, initial-scale=1.0\">\n",
       "        <title>AI Disruption Risk and Proactive Responses</title>\n",
       "        <style>\n",
       "            .report-container {\n",
       "                font-family: Arial, sans-serif;\n",
       "                padding: 30px;\n",
       "                background-color: #ffffff;\n",
       "                color: #333;\n",
       "            }\n",
       "            .report-container h1 {\n",
       "                color: #003A70;\n",
       "                font-size: 24px;\n",
       "                margin-bottom: 5px;\n",
       "                font-weight: 700;\n",
       "                text-align: center;\n",
       "            }\n",
       "            .report-date {\n",
       "                font-size: 16px;\n",
       "                color: #555;\n",
       "                margin-bottom: 20px;\n",
       "                text-align: center;\n",
       "            }\n",
       "            .report-section-box {\n",
       "                border: 1px solid #003A70;\n",
       "                padding: 15px;\n",
       "                margin: 25px 0;\n",
       "                border-radius: 8px;\n",
       "                background: #FAFBFC;\n",
       "            }\n",
       "            .report-section-title {\n",
       "                font-size: 22px;\n",
       "                color: #003A70;\n",
       "                margin: 0 0 15px 0;\n",
       "                text-align: left;\n",
       "            }\n",
       "            .report-entity {\n",
       "                border: 2px solid #003A70;\n",
       "                margin: 15px 0;\n",
       "                padding: 20px;\n",
       "                border-radius: 8px;\n",
       "                background: #F7F9FC;\n",
       "            }\n",
       "            .report-score-box {\n",
       "                border: 1px solid #B0B0B0;\n",
       "                padding: 10px;\n",
       "                margin: 10px 0;\n",
       "                background: #FFFFFF;\n",
       "                border-radius: 5px;\n",
       "            }\n",
       "            .score-row {\n",
       "                display: flex;\n",
       "                gap: 10px;\n",
       "                flex-wrap: wrap;\n",
       "            }\n",
       "            .score-row p {\n",
       "                margin: 5px 0;\n",
       "                font-size: 14px;\n",
       "                color: #333;\n",
       "            }\n",
       "            .entity-subheader {\n",
       "                font-size: 16px;\n",
       "                font-weight: bold;\n",
       "                color: grey;\n",
       "                margin-top: -5px;\n",
       "                margin-bottom: 20px;\n",
       "            }\n",
       "            .report-flex-container {\n",
       "                display: flex;\n",
       "                flex-wrap: wrap;\n",
       "                gap: 15px;\n",
       "                justify-content: space-between;\n",
       "            }\n",
       "            .report-criterion-box {\n",
       "                flex: 1;\n",
       "                min-width: 200px;\n",
       "                padding: 15px;\n",
       "                border: 1px solid #B0B0B0;\n",
       "                border-radius: 5px;\n",
       "                background: #FFFFFF;\n",
       "            }\n",
       "            .report-criterion-box h4 {\n",
       "                margin-top: 0;\n",
       "                color: #003A70;\n",
       "            }\n",
       "            h3 {\n",
       "                margin-bottom: 5px;\n",
       "                font-size: 20px;\n",
       "                color: #003A70;\n",
       "            }\n",
       "        </style>\n",
       "    </head>\n",
       "    <body>\n",
       "        <div class=\"report-container\">\n",
       "            <h1>AI Disruption Risk and Proactive Responses</h1>\n",
       "            <div class=\"report-date\">July 14, 2025</div>\n",
       "\n",
       "            \n",
       "        <div class=\"report-section-box\">\n",
       "            <p class=\"report-section-title\">Score Definitions</p>\n",
       "            <p><strong>AI Disruption Risk Score</strong>: The number of unique documents related to the risk of GenAI disruption, normalized by the average number of risk documents retrieved across the entire watchlist.</p><p><strong>AI Proactivity Score</strong>: The number of unique documents related to the proactive adoption of GenAI, normalized by the average number of proactivity documents retrieved across the entire watchlist.</p><p><strong>AI Proactivity Minus Disruption Risk Score</strong>: The difference between the AI Proactivity Score and the AI Disruption Risk Score. A higher score indicates a stronger company response relative to the identified risks.</p>\n",
       "        </div>\n",
       "    \n",
       "\n",
       "            <div class=\"report-section-box\">\n",
       "                <p class=\"report-section-title\">Top 5 Companies for AI Proactivity Minus Disruption Risk Score</p>\n",
       "                <div class='report-entity'><h3>Palantir Technologies Inc.</h3>\n",
       "                <div class=\"report-score-box\">\n",
       "                    <div class=\"score-row\">\n",
       "                        <p><strong>AI Proactivity Minus Disruption Risk Score:</strong> 0.90</p>\n",
       "                    </div>\n",
       "                    <div class=\"score-row\">\n",
       "                    <p>\n",
       "                        <strong>AI Disruption Risk Score:</strong> 0.34 /\n",
       "                        <strong>Nb Documents Risk:</strong> 12\n",
       "                    </p>\n",
       "                </div>\n",
       "                <div class=\"score-row\">\n",
       "                    <p>\n",
       "                        <strong>AI Proactivity Score:</strong> 1.24 /\n",
       "                        <strong>Nb Documents Proactivity:</strong> 46\n",
       "                    </p>\n",
       "                    </div>\n",
       "                </div>\n",
       "            \n",
       "                <div class=\"report-flex-container\">\n",
       "                    <div class=\"report-criterion-box\">\n",
       "                        <h4>AI Disruption Risk</h4>\n",
       "                        <p>Palantir Technologies Inc. faces significant risks related to AI disruption, particularly from increasing competition and potential pricing pressures as AI model costs decline. The company's reliance on government contracts exposes it to vulnerabilities from policy changes and defense spending cuts, which could impact its revenue stability. Additionally, the rapid advancement of AI technology raises concerns about Palantir's competitive edge being eroded by larger tech players with more diversified offerings. The high valuation of Palantir's stock also poses a risk, as any downturn in AI excitement could lead to substantial losses for investors.</p>\n",
       "                    </div>\n",
       "                    <div class=\"report-criterion-box\">\n",
       "                        <h4>AI Proactivity</h4>\n",
       "                        <p>Palantir Technologies Inc. has significantly advanced its AI capabilities through various strategic partnerships, including collaborations with EllisDon, Anthropic, and Databricks, aimed at enhancing operational efficiencies and expanding market reach. Notably, the partnership with SAUR focuses on transforming contract management using Palantir's Generative AI, while the joint venture with TWG Global targets the financial services sector. Additionally, Palantir's integration of AI into its offerings has driven substantial revenue growth, with a reported $1.8 billion in contracts and a 73% increase in its U.S. commercial customer base. These initiatives underscore Palantir's commitment to leveraging AI to enhance its product offerings and solidify its position in both government and commercial markets.</p>\n",
       "                    </div>\n",
       "                </div>\n",
       "            </div><div class='report-entity'><h3>Advanced Micro Devices Inc.</h3>\n",
       "                <div class=\"report-score-box\">\n",
       "                    <div class=\"score-row\">\n",
       "                        <p><strong>AI Proactivity Minus Disruption Risk Score:</strong> 0.76</p>\n",
       "                    </div>\n",
       "                    <div class=\"score-row\">\n",
       "                    <p>\n",
       "                        <strong>AI Disruption Risk Score:</strong> 0.45 /\n",
       "                        <strong>Nb Documents Risk:</strong> 16\n",
       "                    </p>\n",
       "                </div>\n",
       "                <div class=\"score-row\">\n",
       "                    <p>\n",
       "                        <strong>AI Proactivity Score:</strong> 1.22 /\n",
       "                        <strong>Nb Documents Proactivity:</strong> 45\n",
       "                    </p>\n",
       "                    </div>\n",
       "                </div>\n",
       "            \n",
       "                <div class=\"report-flex-container\">\n",
       "                    <div class=\"report-criterion-box\">\n",
       "                        <h4>AI Disruption Risk</h4>\n",
       "                        <p>Advanced Micro Devices Inc. (AMD) faces significant risks related to AI disruption, including a decline in market share due to competition from Nvidia and emerging custom AI chip solutions from Broadcom and Marvell. The company's heavy investment in AI has led to operational and financial risks, particularly if AI spending becomes inconsistent or if its products encounter performance issues. Additionally, AMD's recent revenue misses in the AI chip segment and a forecasted 7% decline in data center sales raise concerns about its growth prospects. Furthermore, potential trade policy impacts, such as tariffs on semiconductor imports, could further strain AMD's margins and operational stability.</p>\n",
       "                    </div>\n",
       "                    <div class=\"report-criterion-box\">\n",
       "                        <h4>AI Proactivity</h4>\n",
       "                        <p>Advanced Micro Devices Inc. (AMD) has made significant strides in integrating Generative AI (GenAI) into its product offerings and forming strategic partnerships to enhance its AI capabilities. Notably, AMD's collaboration with Absci, which includes a $20 million investment, aims to accelerate AI-driven drug discovery, leveraging AMD's high-performance computing solutions. Additionally, partnerships with companies like Dell and Lenovo to integrate Ryzen AI PRO processors into commercial devices and PCs further showcase AMD's commitment to enhancing AI functionalities. Furthermore, AMD's acquisition of ZT Systems is set to strengthen its AI infrastructure, enabling faster deployment of AI solutions across various sectors.</p>\n",
       "                    </div>\n",
       "                </div>\n",
       "            </div><div class='report-entity'><h3>Adobe Inc.</h3>\n",
       "                <div class=\"report-score-box\">\n",
       "                    <div class=\"score-row\">\n",
       "                        <p><strong>AI Proactivity Minus Disruption Risk Score:</strong> 0.67</p>\n",
       "                    </div>\n",
       "                    <div class=\"score-row\">\n",
       "                    <p>\n",
       "                        <strong>AI Disruption Risk Score:</strong> 0.60 /\n",
       "                        <strong>Nb Documents Risk:</strong> 21\n",
       "                    </p>\n",
       "                </div>\n",
       "                <div class=\"score-row\">\n",
       "                    <p>\n",
       "                        <strong>AI Proactivity Score:</strong> 1.27 /\n",
       "                        <strong>Nb Documents Proactivity:</strong> 47\n",
       "                    </p>\n",
       "                    </div>\n",
       "                </div>\n",
       "            \n",
       "                <div class=\"report-flex-container\">\n",
       "                    <div class=\"report-criterion-box\">\n",
       "                        <h4>AI Disruption Risk</h4>\n",
       "                        <p>Adobe Inc. faces significant risks related to AI disruption, particularly in monetizing its AI innovations like Firefly, which has led to concerns about revenue growth and pricing power. The company is also challenged by intense competition from established players like Microsoft and Salesforce, which may limit its market share and pricing strategies. Additionally, regulatory risks associated with AI compliance could impose costly changes and affect Adobe's ability to innovate and monetize its offerings effectively. Overall, the rapid evolution of AI technologies and the need for strategic adaptation pose ongoing threats to Adobe's business operations.</p>\n",
       "                    </div>\n",
       "                    <div class=\"report-criterion-box\">\n",
       "                        <h4>AI Proactivity</h4>\n",
       "                        <p>Adobe Inc. is significantly enhancing its product offerings through the integration of generative AI (GenAI) technologies, particularly with its Firefly suite, which has been embedded across its Creative, Document, and Experience Clouds. Partnerships with companies like IBM and Publicis Groupe are expected to streamline content production and improve personalization in marketing campaigns, while the introduction of AI-driven tools like the Acrobat AI Assistant and Firefly Video Model aims to boost user productivity and engagement. The company's strategic focus on AI is anticipated to drive revenue growth, with projections indicating that its AI-related business could double by the end of fiscal 2025. Overall, Adobe's commitment to GenAI is positioning it as a leader in the digital experience and creative software markets.</p>\n",
       "                    </div>\n",
       "                </div>\n",
       "            </div><div class='report-entity'><h3>C3.ai Inc.</h3>\n",
       "                <div class=\"report-score-box\">\n",
       "                    <div class=\"score-row\">\n",
       "                        <p><strong>AI Proactivity Minus Disruption Risk Score:</strong> 0.52</p>\n",
       "                    </div>\n",
       "                    <div class=\"score-row\">\n",
       "                    <p>\n",
       "                        <strong>AI Disruption Risk Score:</strong> 0.40 /\n",
       "                        <strong>Nb Documents Risk:</strong> 14\n",
       "                    </p>\n",
       "                </div>\n",
       "                <div class=\"score-row\">\n",
       "                    <p>\n",
       "                        <strong>AI Proactivity Score:</strong> 0.92 /\n",
       "                        <strong>Nb Documents Proactivity:</strong> 34\n",
       "                    </p>\n",
       "                    </div>\n",
       "                </div>\n",
       "            \n",
       "                <div class=\"report-flex-container\">\n",
       "                    <div class=\"report-criterion-box\">\n",
       "                        <h4>AI Disruption Risk</h4>\n",
       "                        <p>C3.ai Inc. faces significant risks related to AI disruption, including intense competition in the enterprise AI sector, which may hinder its market share and growth potential. The company is also vulnerable to cybersecurity threats, with potential security incidents leading to reputational harm, regulatory investigations, and financial losses. Additionally, evolving regulations surrounding AI and data privacy could impose compliance costs and operational challenges, further complicating its business landscape. Lastly, the reliance on open-source software and third-party services introduces additional risks, as any vulnerabilities or failures in these areas could adversely affect C3.ai's software performance and customer trust.</p>\n",
       "                    </div>\n",
       "                    <div class=\"report-criterion-box\">\n",
       "                        <h4>AI Proactivity</h4>\n",
       "                        <p>C3.ai Inc. has significantly expanded its partnerships with major companies like Microsoft, AWS, and McKinsey, enhancing its capabilities in delivering Enterprise AI solutions across various industries. The collaboration with Microsoft has led to a 460% increase in agreements closed across nine industries, while the partnership with AWS focuses on advanced enterprise AI solutions, improving global reach and execution speed. Additionally, C3.ai's alliance with PwC aims to integrate AI-powered solutions with advisory services, targeting sectors such as banking and manufacturing. These strategic partnerships are expected to drive revenue growth, with projections of 22% to 28% for the current year, despite some concerns regarding profitability and market performance.</p>\n",
       "                    </div>\n",
       "                </div>\n",
       "            </div><div class='report-entity'><h3>SoundHound AI Inc.</h3>\n",
       "                <div class=\"report-score-box\">\n",
       "                    <div class=\"score-row\">\n",
       "                        <p><strong>AI Proactivity Minus Disruption Risk Score:</strong> 0.44</p>\n",
       "                    </div>\n",
       "                    <div class=\"score-row\">\n",
       "                    <p>\n",
       "                        <strong>AI Disruption Risk Score:</strong> 0.34 /\n",
       "                        <strong>Nb Documents Risk:</strong> 12\n",
       "                    </p>\n",
       "                </div>\n",
       "                <div class=\"score-row\">\n",
       "                    <p>\n",
       "                        <strong>AI Proactivity Score:</strong> 0.78 /\n",
       "                        <strong>Nb Documents Proactivity:</strong> 29\n",
       "                    </p>\n",
       "                    </div>\n",
       "                </div>\n",
       "            \n",
       "                <div class=\"report-flex-container\">\n",
       "                    <div class=\"report-criterion-box\">\n",
       "                        <h4>AI Disruption Risk</h4>\n",
       "                        <p>SoundHound AI Inc. faces significant risks related to AI disruption, primarily stemming from intense competition in the voice AI market, where larger rivals like Apple, Google, and Microsoft possess greater financial resources. The company's stock has been volatile, experiencing a 23.1% drop following Nvidia's decision to sell its entire stake, raising concerns about SoundHound's future growth. Additionally, the emergence of new competitors, such as the Chinese AI firm DeepSeek, poses a threat to SoundHound's market position, as investors worry about U.S. technology being outpaced. Overall, the combination of competitive pressures, reliance on institutional support, and market sentiment creates a precarious environment for SoundHound AI's operations.</p>\n",
       "                    </div>\n",
       "                    <div class=\"report-criterion-box\">\n",
       "                        <h4>AI Proactivity</h4>\n",
       "                        <p>SoundHound AI, Inc. has made significant strides in integrating Generative AI into its products through partnerships, notably with Lucid Motors and Rekor Systems. The collaboration with Lucid has led to the launch of the Lucid Assistant, a voice-controlled system that enhances the in-vehicle experience using SoundHound's Chat AI platform. Additionally, the partnership with Rekor aims to revolutionize emergency vehicle technology by integrating voice AI for hands-free operation of critical systems, initially focusing on police vehicles with plans for expansion. These strategic integrations and partnerships are expected to strengthen SoundHound's position in the AI-driven voice technology market and enhance its offerings across various industries.</p>\n",
       "                    </div>\n",
       "                </div>\n",
       "            </div>\n",
       "            </div>\n",
       "        </div>\n",
       "    </body>\n",
       "    </html>\n",
       "    "
      ],
      "text/plain": [
       "<IPython.core.display.HTML object>"
      ]
     },
     "metadata": {},
     "output_type": "display_data"
    }
   ],
   "source": [
    "display_report(df_report=df_report, score='ai_proactivity_minus_disruption_risk_score', top='top', nb_entities=5, export_to_path=output_dir+'/report_ai_disruption_top_5.html')"
   ]
  },
  {
   "cell_type": "markdown",
   "id": "baacfb9f-c055-45a9-a8c2-7d6983b1aa54",
   "metadata": {
    "id": "baacfb9f-c055-45a9-a8c2-7d6983b1aa54"
   },
   "source": [
    "## Export the Results\n",
    "\n",
    "Export the data as Excel files for further analysis or to share with the team."
   ]
  },
  {
   "cell_type": "code",
   "execution_count": null,
   "id": "TlsNVze-7xq8",
   "metadata": {
    "colab": {
     "base_uri": "https://localhost:8080/"
    },
    "executionInfo": {
     "elapsed": 588,
     "status": "ok",
     "timestamp": 1752232674927,
     "user": {
      "displayName": "Francesco Ricigliano",
      "userId": "07139234200501924124"
     },
     "user_tz": -120
    },
    "id": "TlsNVze-7xq8",
    "outputId": "a9af0d25-20fe-473d-fb6a-8d09a65993bd"
   },
   "outputs": [],
   "source": [
    "try:\n",
    "    # Create the Excel manager\n",
    "    excel_manager = ExcelManager()\n",
    "\n",
    "    # Define the dataframes and their sheet configurations\n",
    "    df_args = [\n",
    "        (df_report, \"Report AI Disruption Risk\", (2, 3))\n",
    "    ]\n",
    "\n",
    "    # Save the workbook\n",
    "    excel_manager.save_workbook(df_args, export_path)\n",
    "\n",
    "except Exception as e:\n",
    "    print(f\"Warning while exporting to excel: {e}\")"
   ]
  },
  {
   "cell_type": "code",
   "execution_count": 29,
   "id": "Vf4O2iZqqY-l",
   "metadata": {
    "colab": {
     "base_uri": "https://localhost:8080/"
    },
    "executionInfo": {
     "elapsed": 11,
     "status": "ok",
     "timestamp": 1752232676302,
     "user": {
      "displayName": "Francesco Ricigliano",
      "userId": "07139234200501924124"
     },
     "user_tz": -120
    },
    "id": "Vf4O2iZqqY-l",
    "outputId": "d06c4cc9-9a22-4d25-fe75-47e2b1a64d5b"
   },
   "outputs": [
    {
     "name": "stdout",
     "output_type": "stream",
     "text": [
      "Runtime: 0:14:38.602982\n"
     ]
    }
   ],
   "source": [
    "print(\"Runtime:\", datetime.now() - start)"
   ]
  }
 ],
 "metadata": {
  "colab": {
   "provenance": [
    {
     "file_id": "1-RWDhnlrw6EqAvOFyJUWexNE3RM-RkLL",
     "timestamp": 1749119216177
    }
   ]
  },
  "kernelspec": {
   "display_name": "pricing_power",
   "language": "python",
   "name": "python3"
  },
  "language_info": {
   "codemirror_mode": {
    "name": "ipython",
    "version": 3
   },
   "file_extension": ".py",
   "mimetype": "text/x-python",
   "name": "python",
   "nbconvert_exporter": "python",
   "pygments_lexer": "ipython3",
   "version": "3.11.13"
  }
 },
 "nbformat": 4,
 "nbformat_minor": 5
}
